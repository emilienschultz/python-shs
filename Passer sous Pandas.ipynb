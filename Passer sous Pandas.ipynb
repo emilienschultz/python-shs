{
 "cells": [
  {
   "cell_type": "markdown",
   "metadata": {},
   "source": [
    "# Pandas, une librairie \"structurante\"\n",
    "__Durée : 1h__"
   ]
  },
  {
   "cell_type": "markdown",
   "metadata": {},
   "source": [
    "## Pourquoi utiliser Pandas\n",
    " * Construit sur les librairies de la stack Scipy\n",
    " * Manipulation \"facile\" de tableaux : un \"Excel\" en Python"
   ]
  },
  {
   "cell_type": "code",
   "execution_count": 9,
   "metadata": {},
   "outputs": [],
   "source": [
    "import pandas as pd"
   ]
  },
  {
   "cell_type": "code",
   "execution_count": 45,
   "metadata": {},
   "outputs": [
    {
     "data": {
      "text/plain": [
       "False"
      ]
     },
     "execution_count": 45,
     "metadata": {},
     "output_type": "execute_result"
    }
   ],
   "source": [
    "[\"un\",\"deux\",\"trois\"] == \"un\""
   ]
  },
  {
   "cell_type": "code",
   "execution_count": 43,
   "metadata": {},
   "outputs": [],
   "source": [
    "serie = pd.Series([\"un\",1,\"trois\",\"quatre\",\"cinq\"])"
   ]
  },
  {
   "cell_type": "code",
   "execution_count": 46,
   "metadata": {},
   "outputs": [
    {
     "data": {
      "text/plain": [
       "0     True\n",
       "1    False\n",
       "2    False\n",
       "3    False\n",
       "4    False\n",
       "dtype: bool"
      ]
     },
     "execution_count": 46,
     "metadata": {},
     "output_type": "execute_result"
    }
   ],
   "source": [
    "serie == \"un\""
   ]
  },
  {
   "cell_type": "code",
   "execution_count": 47,
   "metadata": {},
   "outputs": [],
   "source": [
    "age = pd.Series([4,78,67,43,32,43,10,10,10])"
   ]
  },
  {
   "cell_type": "code",
   "execution_count": 48,
   "metadata": {},
   "outputs": [
    {
     "data": {
      "text/plain": [
       "array([ 4, 78, 67, 43, 32, 10])"
      ]
     },
     "execution_count": 48,
     "metadata": {},
     "output_type": "execute_result"
    }
   ],
   "source": [
    "age.unique()"
   ]
  },
  {
   "cell_type": "code",
   "execution_count": 49,
   "metadata": {},
   "outputs": [
    {
     "data": {
      "text/plain": [
       "10    3\n",
       "43    2\n",
       "78    1\n",
       "4     1\n",
       "67    1\n",
       "32    1\n",
       "dtype: int64"
      ]
     },
     "execution_count": 49,
     "metadata": {},
     "output_type": "execute_result"
    }
   ],
   "source": [
    "age.value_counts()"
   ]
  },
  {
   "cell_type": "code",
   "execution_count": 67,
   "metadata": {},
   "outputs": [],
   "source": [
    "df = pd.DataFrame()"
   ]
  },
  {
   "cell_type": "code",
   "execution_count": 59,
   "metadata": {},
   "outputs": [
    {
     "data": {
      "text/plain": [
       "pandas.core.frame.DataFrame"
      ]
     },
     "execution_count": 59,
     "metadata": {},
     "output_type": "execute_result"
    }
   ],
   "source": [
    "type(df)"
   ]
  },
  {
   "cell_type": "code",
   "execution_count": 68,
   "metadata": {},
   "outputs": [],
   "source": [
    "df[\"Age\"] = [1,2,3,4,5,19]"
   ]
  },
  {
   "cell_type": "code",
   "execution_count": 69,
   "metadata": {},
   "outputs": [],
   "source": [
    "df[\"Ville\"] = [\"Paris\",\"Marseille\",\"Strasourg\",\"Nantes\",\"Toulouse\",None]"
   ]
  },
  {
   "cell_type": "code",
   "execution_count": 73,
   "metadata": {},
   "outputs": [
    {
     "data": {
      "text/html": [
       "<div>\n",
       "<style scoped>\n",
       "    .dataframe tbody tr th:only-of-type {\n",
       "        vertical-align: middle;\n",
       "    }\n",
       "\n",
       "    .dataframe tbody tr th {\n",
       "        vertical-align: top;\n",
       "    }\n",
       "\n",
       "    .dataframe thead th {\n",
       "        text-align: right;\n",
       "    }\n",
       "</style>\n",
       "<table border=\"1\" class=\"dataframe\">\n",
       "  <thead>\n",
       "    <tr style=\"text-align: right;\">\n",
       "      <th></th>\n",
       "      <th>Age</th>\n",
       "      <th>Ville</th>\n",
       "    </tr>\n",
       "  </thead>\n",
       "  <tbody>\n",
       "    <tr>\n",
       "      <th>0</th>\n",
       "      <td>1</td>\n",
       "      <td>Paris</td>\n",
       "    </tr>\n",
       "    <tr>\n",
       "      <th>1</th>\n",
       "      <td>2</td>\n",
       "      <td>Marseille</td>\n",
       "    </tr>\n",
       "    <tr>\n",
       "      <th>2</th>\n",
       "      <td>3</td>\n",
       "      <td>Strasourg</td>\n",
       "    </tr>\n",
       "    <tr>\n",
       "      <th>3</th>\n",
       "      <td>4</td>\n",
       "      <td>Nantes</td>\n",
       "    </tr>\n",
       "    <tr>\n",
       "      <th>4</th>\n",
       "      <td>5</td>\n",
       "      <td>Toulouse</td>\n",
       "    </tr>\n",
       "    <tr>\n",
       "      <th>5</th>\n",
       "      <td>19</td>\n",
       "      <td>None</td>\n",
       "    </tr>\n",
       "  </tbody>\n",
       "</table>\n",
       "</div>"
      ],
      "text/plain": [
       "   Age      Ville\n",
       "0    1      Paris\n",
       "1    2  Marseille\n",
       "2    3  Strasourg\n",
       "3    4     Nantes\n",
       "4    5   Toulouse\n",
       "5   19       None"
      ]
     },
     "execution_count": 73,
     "metadata": {},
     "output_type": "execute_result"
    }
   ],
   "source": [
    "df"
   ]
  },
  {
   "cell_type": "code",
   "execution_count": 64,
   "metadata": {},
   "outputs": [
    {
     "data": {
      "text/plain": [
       "Age              3\n",
       "Ville    Strasourg\n",
       "Name: 2, dtype: object"
      ]
     },
     "execution_count": 64,
     "metadata": {},
     "output_type": "execute_result"
    }
   ],
   "source": [
    "df.iloc[2]"
   ]
  },
  {
   "cell_type": "code",
   "execution_count": 65,
   "metadata": {},
   "outputs": [
    {
     "data": {
      "text/html": [
       "<div>\n",
       "<style scoped>\n",
       "    .dataframe tbody tr th:only-of-type {\n",
       "        vertical-align: middle;\n",
       "    }\n",
       "\n",
       "    .dataframe tbody tr th {\n",
       "        vertical-align: top;\n",
       "    }\n",
       "\n",
       "    .dataframe thead th {\n",
       "        text-align: right;\n",
       "    }\n",
       "</style>\n",
       "<table border=\"1\" class=\"dataframe\">\n",
       "  <thead>\n",
       "    <tr style=\"text-align: right;\">\n",
       "      <th></th>\n",
       "      <th>Age</th>\n",
       "      <th>Ville</th>\n",
       "    </tr>\n",
       "  </thead>\n",
       "  <tbody>\n",
       "    <tr>\n",
       "      <th>2</th>\n",
       "      <td>3</td>\n",
       "      <td>Strasourg</td>\n",
       "    </tr>\n",
       "    <tr>\n",
       "      <th>3</th>\n",
       "      <td>4</td>\n",
       "      <td>Nantes</td>\n",
       "    </tr>\n",
       "  </tbody>\n",
       "</table>\n",
       "</div>"
      ],
      "text/plain": [
       "   Age      Ville\n",
       "2    3  Strasourg\n",
       "3    4     Nantes"
      ]
     },
     "execution_count": 65,
     "metadata": {},
     "output_type": "execute_result"
    }
   ],
   "source": [
    "df.iloc[2:4]"
   ]
  },
  {
   "cell_type": "code",
   "execution_count": 80,
   "metadata": {},
   "outputs": [
    {
     "data": {
      "text/html": [
       "<div>\n",
       "<style scoped>\n",
       "    .dataframe tbody tr th:only-of-type {\n",
       "        vertical-align: middle;\n",
       "    }\n",
       "\n",
       "    .dataframe tbody tr th {\n",
       "        vertical-align: top;\n",
       "    }\n",
       "\n",
       "    .dataframe thead th {\n",
       "        text-align: right;\n",
       "    }\n",
       "</style>\n",
       "<table border=\"1\" class=\"dataframe\">\n",
       "  <thead>\n",
       "    <tr style=\"text-align: right;\">\n",
       "      <th></th>\n",
       "      <th>Age</th>\n",
       "      <th>Ville</th>\n",
       "    </tr>\n",
       "  </thead>\n",
       "  <tbody>\n",
       "    <tr>\n",
       "      <th>3</th>\n",
       "      <td>4</td>\n",
       "      <td>Nantes</td>\n",
       "    </tr>\n",
       "    <tr>\n",
       "      <th>4</th>\n",
       "      <td>5</td>\n",
       "      <td>Toulouse</td>\n",
       "    </tr>\n",
       "    <tr>\n",
       "      <th>5</th>\n",
       "      <td>19</td>\n",
       "      <td>None</td>\n",
       "    </tr>\n",
       "  </tbody>\n",
       "</table>\n",
       "</div>"
      ],
      "text/plain": [
       "   Age     Ville\n",
       "3    4    Nantes\n",
       "4    5  Toulouse\n",
       "5   19      None"
      ]
     },
     "execution_count": 80,
     "metadata": {},
     "output_type": "execute_result"
    }
   ],
   "source": [
    "df.iloc[-3:]"
   ]
  },
  {
   "cell_type": "code",
   "execution_count": 77,
   "metadata": {},
   "outputs": [
    {
     "data": {
      "text/html": [
       "<div>\n",
       "<style scoped>\n",
       "    .dataframe tbody tr th:only-of-type {\n",
       "        vertical-align: middle;\n",
       "    }\n",
       "\n",
       "    .dataframe tbody tr th {\n",
       "        vertical-align: top;\n",
       "    }\n",
       "\n",
       "    .dataframe thead th {\n",
       "        text-align: right;\n",
       "    }\n",
       "</style>\n",
       "<table border=\"1\" class=\"dataframe\">\n",
       "  <thead>\n",
       "    <tr style=\"text-align: right;\">\n",
       "      <th></th>\n",
       "      <th>Age</th>\n",
       "      <th>Ville</th>\n",
       "    </tr>\n",
       "  </thead>\n",
       "  <tbody>\n",
       "    <tr>\n",
       "      <th>5</th>\n",
       "      <td>19</td>\n",
       "      <td>None</td>\n",
       "    </tr>\n",
       "  </tbody>\n",
       "</table>\n",
       "</div>"
      ],
      "text/plain": [
       "   Age Ville\n",
       "5   19  None"
      ]
     },
     "execution_count": 77,
     "metadata": {},
     "output_type": "execute_result"
    }
   ],
   "source": [
    "df[pd.isnull(df[\"Ville\"])]"
   ]
  },
  {
   "cell_type": "code",
   "execution_count": 78,
   "metadata": {},
   "outputs": [
    {
     "data": {
      "text/html": [
       "<div>\n",
       "<style scoped>\n",
       "    .dataframe tbody tr th:only-of-type {\n",
       "        vertical-align: middle;\n",
       "    }\n",
       "\n",
       "    .dataframe tbody tr th {\n",
       "        vertical-align: top;\n",
       "    }\n",
       "\n",
       "    .dataframe thead th {\n",
       "        text-align: right;\n",
       "    }\n",
       "</style>\n",
       "<table border=\"1\" class=\"dataframe\">\n",
       "  <thead>\n",
       "    <tr style=\"text-align: right;\">\n",
       "      <th></th>\n",
       "      <th>Age</th>\n",
       "      <th>Ville</th>\n",
       "    </tr>\n",
       "  </thead>\n",
       "  <tbody>\n",
       "    <tr>\n",
       "      <th>3</th>\n",
       "      <td>4</td>\n",
       "      <td>Nantes</td>\n",
       "    </tr>\n",
       "  </tbody>\n",
       "</table>\n",
       "</div>"
      ],
      "text/plain": [
       "   Age   Ville\n",
       "3    4  Nantes"
      ]
     },
     "execution_count": 78,
     "metadata": {},
     "output_type": "execute_result"
    }
   ],
   "source": [
    "df[df[\"Age\"]==4]"
   ]
  },
  {
   "cell_type": "code",
   "execution_count": 79,
   "metadata": {},
   "outputs": [
    {
     "data": {
      "text/html": [
       "<div>\n",
       "<style scoped>\n",
       "    .dataframe tbody tr th:only-of-type {\n",
       "        vertical-align: middle;\n",
       "    }\n",
       "\n",
       "    .dataframe tbody tr th {\n",
       "        vertical-align: top;\n",
       "    }\n",
       "\n",
       "    .dataframe thead th {\n",
       "        text-align: right;\n",
       "    }\n",
       "</style>\n",
       "<table border=\"1\" class=\"dataframe\">\n",
       "  <thead>\n",
       "    <tr style=\"text-align: right;\">\n",
       "      <th></th>\n",
       "      <th>Age</th>\n",
       "      <th>Ville</th>\n",
       "    </tr>\n",
       "  </thead>\n",
       "  <tbody>\n",
       "  </tbody>\n",
       "</table>\n",
       "</div>"
      ],
      "text/plain": [
       "Empty DataFrame\n",
       "Columns: [Age, Ville]\n",
       "Index: []"
      ]
     },
     "execution_count": 79,
     "metadata": {},
     "output_type": "execute_result"
    }
   ],
   "source": [
    "df[(df[\"Age\"]==4) & pd.isnull(df[\"Ville\"])]"
   ]
  },
  {
   "cell_type": "code",
   "execution_count": 84,
   "metadata": {},
   "outputs": [
    {
     "data": {
      "text/html": [
       "<div>\n",
       "<style scoped>\n",
       "    .dataframe tbody tr th:only-of-type {\n",
       "        vertical-align: middle;\n",
       "    }\n",
       "\n",
       "    .dataframe tbody tr th {\n",
       "        vertical-align: top;\n",
       "    }\n",
       "\n",
       "    .dataframe thead th {\n",
       "        text-align: right;\n",
       "    }\n",
       "</style>\n",
       "<table border=\"1\" class=\"dataframe\">\n",
       "  <thead>\n",
       "    <tr style=\"text-align: right;\">\n",
       "      <th></th>\n",
       "      <th>0</th>\n",
       "      <th>1</th>\n",
       "      <th>2</th>\n",
       "    </tr>\n",
       "  </thead>\n",
       "  <tbody>\n",
       "    <tr>\n",
       "      <th>lettres</th>\n",
       "      <td>un</td>\n",
       "      <td>deux</td>\n",
       "      <td>trois</td>\n",
       "    </tr>\n",
       "    <tr>\n",
       "      <th>chiffres</th>\n",
       "      <td>1</td>\n",
       "      <td>2</td>\n",
       "      <td>3</td>\n",
       "    </tr>\n",
       "  </tbody>\n",
       "</table>\n",
       "</div>"
      ],
      "text/plain": [
       "           0     1      2\n",
       "lettres   un  deux  trois\n",
       "chiffres   1     2      3"
      ]
     },
     "execution_count": 84,
     "metadata": {},
     "output_type": "execute_result"
    }
   ],
   "source": [
    "pd.DataFrame([[\"un\",1],[\"deux\",2],[\"trois\",3]],columns=[\"lettres\",\"chiffres\"]).T"
   ]
  },
  {
   "cell_type": "code",
   "execution_count": 85,
   "metadata": {},
   "outputs": [
    {
     "data": {
      "text/html": [
       "<div>\n",
       "<style scoped>\n",
       "    .dataframe tbody tr th:only-of-type {\n",
       "        vertical-align: middle;\n",
       "    }\n",
       "\n",
       "    .dataframe tbody tr th {\n",
       "        vertical-align: top;\n",
       "    }\n",
       "\n",
       "    .dataframe thead th {\n",
       "        text-align: right;\n",
       "    }\n",
       "</style>\n",
       "<table border=\"1\" class=\"dataframe\">\n",
       "  <thead>\n",
       "    <tr style=\"text-align: right;\">\n",
       "      <th></th>\n",
       "      <th>Age</th>\n",
       "      <th>Ville</th>\n",
       "    </tr>\n",
       "  </thead>\n",
       "  <tbody>\n",
       "    <tr>\n",
       "      <th>0</th>\n",
       "      <td>1</td>\n",
       "      <td>Paris</td>\n",
       "    </tr>\n",
       "    <tr>\n",
       "      <th>1</th>\n",
       "      <td>2</td>\n",
       "      <td>Marseille</td>\n",
       "    </tr>\n",
       "    <tr>\n",
       "      <th>2</th>\n",
       "      <td>3</td>\n",
       "      <td>Strasourg</td>\n",
       "    </tr>\n",
       "    <tr>\n",
       "      <th>3</th>\n",
       "      <td>4</td>\n",
       "      <td>Nantes</td>\n",
       "    </tr>\n",
       "    <tr>\n",
       "      <th>4</th>\n",
       "      <td>5</td>\n",
       "      <td>Toulouse</td>\n",
       "    </tr>\n",
       "    <tr>\n",
       "      <th>5</th>\n",
       "      <td>19</td>\n",
       "      <td>None</td>\n",
       "    </tr>\n",
       "  </tbody>\n",
       "</table>\n",
       "</div>"
      ],
      "text/plain": [
       "   Age      Ville\n",
       "0    1      Paris\n",
       "1    2  Marseille\n",
       "2    3  Strasourg\n",
       "3    4     Nantes\n",
       "4    5   Toulouse\n",
       "5   19       None"
      ]
     },
     "execution_count": 85,
     "metadata": {},
     "output_type": "execute_result"
    }
   ],
   "source": [
    "df"
   ]
  },
  {
   "cell_type": "code",
   "execution_count": 89,
   "metadata": {},
   "outputs": [
    {
     "name": "stdout",
     "output_type": "stream",
     "text": [
      "Age          1\n",
      "Ville    Paris\n",
      "Name: 0, dtype: object\n",
      "Age              2\n",
      "Ville    Marseille\n",
      "Name: 1, dtype: object\n",
      "Age              3\n",
      "Ville    Strasourg\n",
      "Name: 2, dtype: object\n",
      "Age           4\n",
      "Ville    Nantes\n",
      "Name: 3, dtype: object\n",
      "Age             5\n",
      "Ville    Toulouse\n",
      "Name: 4, dtype: object\n",
      "Age        19\n",
      "Ville    None\n",
      "Name: 5, dtype: object\n"
     ]
    }
   ],
   "source": [
    "for index,contenu in df.iterrows():\n",
    "    print(contenu)"
   ]
  },
  {
   "cell_type": "code",
   "execution_count": 90,
   "metadata": {},
   "outputs": [],
   "source": [
    "def codage_age(age):\n",
    "    if age<18:\n",
    "        return \"mineur.e\"\n",
    "    else:\n",
    "        return \"majeur.e\""
   ]
  },
  {
   "cell_type": "code",
   "execution_count": 94,
   "metadata": {},
   "outputs": [],
   "source": [
    "df[\"Age-reco\"] = df[\"Age\"].apply(codage_age)"
   ]
  },
  {
   "cell_type": "code",
   "execution_count": 95,
   "metadata": {},
   "outputs": [
    {
     "data": {
      "text/html": [
       "<div>\n",
       "<style scoped>\n",
       "    .dataframe tbody tr th:only-of-type {\n",
       "        vertical-align: middle;\n",
       "    }\n",
       "\n",
       "    .dataframe tbody tr th {\n",
       "        vertical-align: top;\n",
       "    }\n",
       "\n",
       "    .dataframe thead th {\n",
       "        text-align: right;\n",
       "    }\n",
       "</style>\n",
       "<table border=\"1\" class=\"dataframe\">\n",
       "  <thead>\n",
       "    <tr style=\"text-align: right;\">\n",
       "      <th></th>\n",
       "      <th>Age</th>\n",
       "      <th>Ville</th>\n",
       "      <th>Age-reco</th>\n",
       "    </tr>\n",
       "  </thead>\n",
       "  <tbody>\n",
       "    <tr>\n",
       "      <th>0</th>\n",
       "      <td>1</td>\n",
       "      <td>Paris</td>\n",
       "      <td>mineur.e</td>\n",
       "    </tr>\n",
       "    <tr>\n",
       "      <th>1</th>\n",
       "      <td>2</td>\n",
       "      <td>Marseille</td>\n",
       "      <td>mineur.e</td>\n",
       "    </tr>\n",
       "    <tr>\n",
       "      <th>2</th>\n",
       "      <td>3</td>\n",
       "      <td>Strasourg</td>\n",
       "      <td>mineur.e</td>\n",
       "    </tr>\n",
       "    <tr>\n",
       "      <th>3</th>\n",
       "      <td>4</td>\n",
       "      <td>Nantes</td>\n",
       "      <td>mineur.e</td>\n",
       "    </tr>\n",
       "    <tr>\n",
       "      <th>4</th>\n",
       "      <td>5</td>\n",
       "      <td>Toulouse</td>\n",
       "      <td>mineur.e</td>\n",
       "    </tr>\n",
       "    <tr>\n",
       "      <th>5</th>\n",
       "      <td>19</td>\n",
       "      <td>None</td>\n",
       "      <td>majeur.e</td>\n",
       "    </tr>\n",
       "  </tbody>\n",
       "</table>\n",
       "</div>"
      ],
      "text/plain": [
       "   Age      Ville  Age-reco\n",
       "0    1      Paris  mineur.e\n",
       "1    2  Marseille  mineur.e\n",
       "2    3  Strasourg  mineur.e\n",
       "3    4     Nantes  mineur.e\n",
       "4    5   Toulouse  mineur.e\n",
       "5   19       None  majeur.e"
      ]
     },
     "execution_count": 95,
     "metadata": {},
     "output_type": "execute_result"
    }
   ],
   "source": [
    "df"
   ]
  },
  {
   "cell_type": "code",
   "execution_count": 97,
   "metadata": {},
   "outputs": [
    {
     "data": {
      "text/html": [
       "<div>\n",
       "<style scoped>\n",
       "    .dataframe tbody tr th:only-of-type {\n",
       "        vertical-align: middle;\n",
       "    }\n",
       "\n",
       "    .dataframe tbody tr th {\n",
       "        vertical-align: top;\n",
       "    }\n",
       "\n",
       "    .dataframe thead th {\n",
       "        text-align: right;\n",
       "    }\n",
       "</style>\n",
       "<table border=\"1\" class=\"dataframe\">\n",
       "  <thead>\n",
       "    <tr style=\"text-align: right;\">\n",
       "      <th></th>\n",
       "      <th>Age</th>\n",
       "      <th>Ville</th>\n",
       "      <th>Age-reco</th>\n",
       "    </tr>\n",
       "  </thead>\n",
       "  <tbody>\n",
       "    <tr>\n",
       "      <th>5</th>\n",
       "      <td>19</td>\n",
       "      <td>None</td>\n",
       "      <td>majeur.e</td>\n",
       "    </tr>\n",
       "  </tbody>\n",
       "</table>\n",
       "</div>"
      ],
      "text/plain": [
       "   Age Ville  Age-reco\n",
       "5   19  None  majeur.e"
      ]
     },
     "execution_count": 97,
     "metadata": {},
     "output_type": "execute_result"
    }
   ],
   "source": [
    "df[df[\"Age-reco\"]==\"majeur.e\"]"
   ]
  },
  {
   "cell_type": "code",
   "execution_count": 98,
   "metadata": {},
   "outputs": [
    {
     "data": {
      "text/plain": [
       "mineur.e    5\n",
       "majeur.e    1\n",
       "Name: Age-reco, dtype: int64"
      ]
     },
     "execution_count": 98,
     "metadata": {},
     "output_type": "execute_result"
    }
   ],
   "source": [
    "df[\"Age-reco\"].value_counts()"
   ]
  },
  {
   "cell_type": "markdown",
   "metadata": {},
   "source": [
    "## Bases de Pandas\n",
    "* Le format DataSerie\n",
    " * Créer une DataSerie avec les dates\n",
    " * Ajouter/supprimer un élément\n",
    "* Le format DataFrame\n",
    " * Créer une nouvelle série avec les titres\n",
    " * Créer un DataFrame avec les deux ensembles\n",
    " * Ajouter une colonne\n",
    " * Sélectionner un élément particulier\n",
    " * Faire un masque de sélection\n",
    " * Faire une boucle sur le tableau"
   ]
  },
  {
   "cell_type": "markdown",
   "metadata": {},
   "source": [
    "## Travailler sur un Dataframe"
   ]
  },
  {
   "cell_type": "markdown",
   "metadata": {},
   "source": [
    "* Charger un fichier excel\n",
    " * Charger la base de données complètes base.xlsx\n",
    " * Joindre la série des dates recodées\n",
    " * Apprendre à recoder des colonnes\n",
    " * Grouper les données"
   ]
  },
  {
   "cell_type": "code",
   "execution_count": 103,
   "metadata": {},
   "outputs": [],
   "source": [
    "corpus = pd.read_excel(\"./Données/base.xlsx\")"
   ]
  },
  {
   "cell_type": "code",
   "execution_count": 115,
   "metadata": {},
   "outputs": [],
   "source": [
    "def compter_nombre_mots(texte):\n",
    "    texte = texte.replace(\"'\",' ') # il y a des apostrophes à gérer\n",
    "    texte = texte.replace(\"  \",\" \") # il y a de temps en temps deux espaces à la suite\n",
    "    mots = texte.split(\" \")\n",
    "    return len(mots)"
   ]
  },
  {
   "cell_type": "code",
   "execution_count": 117,
   "metadata": {},
   "outputs": [],
   "source": [
    "corpus[\"Nombre de mots v2\"] = corpus[\"Contenu\"].apply(compter_nombre_mots)"
   ]
  },
  {
   "cell_type": "code",
   "execution_count": 118,
   "metadata": {},
   "outputs": [
    {
     "data": {
      "text/html": [
       "<div>\n",
       "<style scoped>\n",
       "    .dataframe tbody tr th:only-of-type {\n",
       "        vertical-align: middle;\n",
       "    }\n",
       "\n",
       "    .dataframe tbody tr th {\n",
       "        vertical-align: top;\n",
       "    }\n",
       "\n",
       "    .dataframe thead th {\n",
       "        text-align: right;\n",
       "    }\n",
       "</style>\n",
       "<table border=\"1\" class=\"dataframe\">\n",
       "  <thead>\n",
       "    <tr style=\"text-align: right;\">\n",
       "      <th></th>\n",
       "      <th>Date</th>\n",
       "      <th>Titre</th>\n",
       "      <th>Journal</th>\n",
       "      <th>Contenu</th>\n",
       "      <th>Nombre de mots</th>\n",
       "      <th>Nombre de mots v2</th>\n",
       "    </tr>\n",
       "  </thead>\n",
       "  <tbody>\n",
       "    <tr>\n",
       "      <th>0</th>\n",
       "      <td>Science &amp; Médecine,  mercredi 23 mai 2018 246...</td>\n",
       "      <td>Homéopathie Une réglementation à haute diluti...</td>\n",
       "      <td>Le Monde</td>\n",
       "      <td>(Lyon; correspondant); - Quand on lui parle ...</td>\n",
       "      <td>2546</td>\n",
       "      <td>2679</td>\n",
       "    </tr>\n",
       "    <tr>\n",
       "      <th>1</th>\n",
       "      <td>Science &amp; Médecine,  mercredi 28 novembre 201...</td>\n",
       "      <td>Nofakemed, symptôme d'un malaise médical Nofa...</td>\n",
       "      <td>Le Monde</td>\n",
       "      <td>Les médecines complémentaires et en particul...</td>\n",
       "      <td>2446</td>\n",
       "      <td>2545</td>\n",
       "    </tr>\n",
       "    <tr>\n",
       "      <th>2</th>\n",
       "      <td>France,  vendredi 7 septembre 2018 692 mots, ...</td>\n",
       "      <td>Homéopathie : les doyens des facultés de méde...</td>\n",
       "      <td>Le Monde</td>\n",
       "      <td>Le président de la conférence des doyens des...</td>\n",
       "      <td>710</td>\n",
       "      <td>748</td>\n",
       "    </tr>\n",
       "    <tr>\n",
       "      <th>3</th>\n",
       "      <td>France,  vendredi 31 août 2018 402 mots, p. 11</td>\n",
       "      <td>Homéopathie : entre médecins, la guerre au gr...</td>\n",
       "      <td>Le Monde</td>\n",
       "      <td>à Londres - L'homéopathie est en Angleterre ...</td>\n",
       "      <td>404</td>\n",
       "      <td>431</td>\n",
       "    </tr>\n",
       "    <tr>\n",
       "      <th>4</th>\n",
       "      <td>France,  vendredi 31 août 2018 1203 mots, p. 11</td>\n",
       "      <td>Homéopathie : entre médecins, la guerre au gr...</td>\n",
       "      <td>Le Monde</td>\n",
       "      <td>Céline Berthié, 36 ans, est médecin générali...</td>\n",
       "      <td>1264</td>\n",
       "      <td>1323</td>\n",
       "    </tr>\n",
       "    <tr>\n",
       "      <th>5</th>\n",
       "      <td>Science &amp; Médecine,  mercredi 4 avril 2018 14...</td>\n",
       "      <td>Les médecines alternatives doivent-elles être...</td>\n",
       "      <td>Le Monde</td>\n",
       "      <td>Une nouvelle fois, les médecines dites alter...</td>\n",
       "      <td>1468</td>\n",
       "      <td>1560</td>\n",
       "    </tr>\n",
       "    <tr>\n",
       "      <th>6</th>\n",
       "      <td>France,  vendredi 31 août 2018 572 mots, p. 11</td>\n",
       "      <td>Homéopathie : entre médecins, la guerre au gr...</td>\n",
       "      <td>Le Monde</td>\n",
       "      <td>Avant la fin de février 2019, la Haute Autor...</td>\n",
       "      <td>579</td>\n",
       "      <td>600</td>\n",
       "    </tr>\n",
       "    <tr>\n",
       "      <th>7</th>\n",
       "      <td>Science &amp; Médecine,  mercredi 28 novembre 201...</td>\n",
       "      <td>Nofakemed, symptôme d'un malaise médical En e...</td>\n",
       "      <td>Le Monde</td>\n",
       "      <td>Dans le collimateur du mouvement des Fakemed...</td>\n",
       "      <td>547</td>\n",
       "      <td>577</td>\n",
       "    </tr>\n",
       "    <tr>\n",
       "      <th>8</th>\n",
       "      <td>Science &amp; Médecine,  mercredi 23 mai 2018 596...</td>\n",
       "      <td>HoméopathieUne réglementation à haute dilutio...</td>\n",
       "      <td>Le Monde</td>\n",
       "      <td>L'Académie nationale de médecine est elle au...</td>\n",
       "      <td>625</td>\n",
       "      <td>658</td>\n",
       "    </tr>\n",
       "    <tr>\n",
       "      <th>9</th>\n",
       "      <td>Idées,  samedi 27 octobre 2018 794 mots, p. I...</td>\n",
       "      <td>Tribune Homéopathie, efficace placebo</td>\n",
       "      <td>Le Monde</td>\n",
       "      <td>Faut-il rembourser l'homéopathie? Débat seco...</td>\n",
       "      <td>809</td>\n",
       "      <td>861</td>\n",
       "    </tr>\n",
       "    <tr>\n",
       "      <th>10</th>\n",
       "      <td>Science &amp; Médecine,  mercredi 23 mai 2018 573...</td>\n",
       "      <td>HoméopathieUne réglementation à haute dilutio...</td>\n",
       "      <td>Le Monde</td>\n",
       "      <td>A ce jour, le seul ministre de la santé à av...</td>\n",
       "      <td>606</td>\n",
       "      <td>639</td>\n",
       "    </tr>\n",
       "    <tr>\n",
       "      <th>11</th>\n",
       "      <td>Science &amp; Médecine,  mercredi 9 janvier 2019 ...</td>\n",
       "      <td>TélescopeMédecine L'homéopathie n'est « pas p...</td>\n",
       "      <td>Le Monde</td>\n",
       "      <td>« Il est clairement et solidement démontré q...</td>\n",
       "      <td>127</td>\n",
       "      <td>135</td>\n",
       "    </tr>\n",
       "    <tr>\n",
       "      <th>12</th>\n",
       "      <td>France,  mardi 4 septembre 2018 126 mots, p. 7</td>\n",
       "      <td>SANTÉ La faculté de médecine de Lille suspend...</td>\n",
       "      <td>Le Monde</td>\n",
       "      <td>La faculté de médecine de Lille a annoncé, d...</td>\n",
       "      <td>121</td>\n",
       "      <td>124</td>\n",
       "    </tr>\n",
       "    <tr>\n",
       "      <th>13</th>\n",
       "      <td>Science &amp; Médecine,  mercredi 26 décembre 201...</td>\n",
       "      <td>2018 en images</td>\n",
       "      <td>Le Monde</td>\n",
       "      <td>Père indigne de bébés nés sous Crispr Le bio...</td>\n",
       "      <td>2922</td>\n",
       "      <td>3089</td>\n",
       "    </tr>\n",
       "    <tr>\n",
       "      <th>14</th>\n",
       "      <td>Science &amp; Médecine,  mardi 25 décembre 2018 1...</td>\n",
       "      <td>L'homéopathie renversée par Les #Nofakemeds?</td>\n",
       "      <td>Le Monde</td>\n",
       "      <td>L'homéopathie est-elle à un tournant de son ...</td>\n",
       "      <td>151</td>\n",
       "      <td>152</td>\n",
       "    </tr>\n",
       "    <tr>\n",
       "      <th>15</th>\n",
       "      <td>Spécial,  mardi 25 septembre 2018 231 mots, p...</td>\n",
       "      <td>Un week-end et plus de 40 rencontres pour se ...</td>\n",
       "      <td>Le Monde</td>\n",
       "      <td>Le retour fracassant du débat sur les vertus...</td>\n",
       "      <td>229</td>\n",
       "      <td>233</td>\n",
       "    </tr>\n",
       "    <tr>\n",
       "      <th>16</th>\n",
       "      <td>France,  samedi 25 août 2018 103 mots, p. 10</td>\n",
       "      <td>Santé Remboursement de l'homéopathie : répons...</td>\n",
       "      <td>Le Monde</td>\n",
       "      <td>Le ministère de la santé a saisi la Haute Au...</td>\n",
       "      <td>101</td>\n",
       "      <td>106</td>\n",
       "    </tr>\n",
       "    <tr>\n",
       "      <th>17</th>\n",
       "      <td>Science &amp; Médecine,  mercredi 23 mai 2018 142...</td>\n",
       "      <td>HOMÉOPATHIE UNE RÉGLEMENTATION À HAUTE DILUTI...</td>\n",
       "      <td>Le Monde</td>\n",
       "      <td>Sur le marché de l'homéopathie, qui représen...</td>\n",
       "      <td>136</td>\n",
       "      <td>140</td>\n",
       "    </tr>\n",
       "    <tr>\n",
       "      <th>18</th>\n",
       "      <td>A la Une,  mercredi 23 mai 2018 44 mots, p. 1</td>\n",
       "      <td>Science &amp; médecine Bataille contre le rembour...</td>\n",
       "      <td>Le Monde</td>\n",
       "      <td>Près de 2 400 médecins appellent à ne plus r...</td>\n",
       "      <td>46</td>\n",
       "      <td>43</td>\n",
       "    </tr>\n",
       "    <tr>\n",
       "      <th>19</th>\n",
       "      <td>Idées,  samedi 29 septembre 2018 993 mots, p....</td>\n",
       "      <td>Les labos contre l'homéopathie</td>\n",
       "      <td>Le Monde</td>\n",
       "      <td>Et si on commençait par se débarrasser de to...</td>\n",
       "      <td>1029</td>\n",
       "      <td>1088</td>\n",
       "    </tr>\n",
       "    <tr>\n",
       "      <th>20</th>\n",
       "      <td>A la Une,  vendredi 31 août 2018 109 mots, p. 1</td>\n",
       "      <td>Santé L'homéopathie sème la discorde entre mé...</td>\n",
       "      <td>Le Monde</td>\n",
       "      <td>Le conflit virulent mais larvé entre profess...</td>\n",
       "      <td>108</td>\n",
       "      <td>111</td>\n",
       "    </tr>\n",
       "    <tr>\n",
       "      <th>21</th>\n",
       "      <td>Science &amp; Médecine,  mercredi 28 novembre 201...</td>\n",
       "      <td>Alexandre Klein : « Il y a des enjeux corpora...</td>\n",
       "      <td>Le Monde</td>\n",
       "      <td>Docteur en philosophie et histoire des scien...</td>\n",
       "      <td>890</td>\n",
       "      <td>937</td>\n",
       "    </tr>\n",
       "    <tr>\n",
       "      <th>22</th>\n",
       "      <td>Idées,  samedi 30 septembre 2017 428 mots, p....</td>\n",
       "      <td>Confesser le pape François sur le divan</td>\n",
       "      <td>Le Monde</td>\n",
       "      <td>Dans ses entretiens avec ­Dominique Wolton, ...</td>\n",
       "      <td>447</td>\n",
       "      <td>468</td>\n",
       "    </tr>\n",
       "    <tr>\n",
       "      <th>23</th>\n",
       "      <td>L'Époque,  lundi 9 octobre 2017 762 mots, p. ...</td>\n",
       "      <td>Enquête « Si c'est naturel, c'est nécessairem...</td>\n",
       "      <td>Le Monde</td>\n",
       "      <td>Premier week-end d'octobre. Les pavillons au...</td>\n",
       "      <td>813</td>\n",
       "      <td>857</td>\n",
       "    </tr>\n",
       "    <tr>\n",
       "      <th>24</th>\n",
       "      <td>Spécial,  mercredi 13 décembre 2017 371 mots,...</td>\n",
       "      <td>Notre sélection de champagnes Pascal Agrapart...</td>\n",
       "      <td>Le Monde</td>\n",
       "      <td>A Avize, village classé grand cru de la côte...</td>\n",
       "      <td>379</td>\n",
       "      <td>387</td>\n",
       "    </tr>\n",
       "    <tr>\n",
       "      <th>25</th>\n",
       "      <td>Science &amp; Médecine,  mercredi 29 novembre 201...</td>\n",
       "      <td>Cancer : des freins à l'accès aux immunothéra...</td>\n",
       "      <td>Le Monde</td>\n",
       "      <td>Innovation dans le domaine du cancer du poum...</td>\n",
       "      <td>1083</td>\n",
       "      <td>1118</td>\n",
       "    </tr>\n",
       "    <tr>\n",
       "      <th>26</th>\n",
       "      <td>Le Monde des Livres,  vendredi 13 avril 2018 ...</td>\n",
       "      <td>Critiques Essais Overdose de neurosciences co...</td>\n",
       "      <td>Le Monde</td>\n",
       "      <td>Sociologue, directeur de ­recherches au CNRS...</td>\n",
       "      <td>568</td>\n",
       "      <td>595</td>\n",
       "    </tr>\n",
       "    <tr>\n",
       "      <th>27</th>\n",
       "      <td>Idées,  samedi 29 septembre 2018 8 mots, p. I...</td>\n",
       "      <td>4 tribune</td>\n",
       "      <td>Le Monde</td>\n",
       "      <td>La croisade des laboratoires contre l'homéop...</td>\n",
       "      <td>10</td>\n",
       "      <td>9</td>\n",
       "    </tr>\n",
       "    <tr>\n",
       "      <th>28</th>\n",
       "      <td>Spécial,  jeudi 21 juin 2018 360 mots, p. SPA2</td>\n",
       "      <td>Des terroirs biodynamiques</td>\n",
       "      <td>Le Monde</td>\n",
       "      <td>C'est en traitant ses vignes avec un insecti...</td>\n",
       "      <td>379</td>\n",
       "      <td>386</td>\n",
       "    </tr>\n",
       "    <tr>\n",
       "      <th>29</th>\n",
       "      <td>Idées,  samedi 27 octobre 2018 8 mots, p. IDH1</td>\n",
       "      <td>4 tribune</td>\n",
       "      <td>Le Monde</td>\n",
       "      <td>L'homéopathie, l'effet placebo et la solidar...</td>\n",
       "      <td>10</td>\n",
       "      <td>10</td>\n",
       "    </tr>\n",
       "    <tr>\n",
       "      <th>30</th>\n",
       "      <td>Science &amp; Médecine,  mercredi 16 janvier 2019...</td>\n",
       "      <td>Jean-Gérard Bloch, pionnier de la méditation ...</td>\n",
       "      <td>Le Monde</td>\n",
       "      <td>Connaître la nature humaine. » Telle était l...</td>\n",
       "      <td>1321</td>\n",
       "      <td>1377</td>\n",
       "    </tr>\n",
       "    <tr>\n",
       "      <th>31</th>\n",
       "      <td>France,  vendredi 28 septembre 2018 1603 mots...</td>\n",
       "      <td>Portrait Agnès Buzyn prête à donner de la voi...</td>\n",
       "      <td>Le Monde</td>\n",
       "      <td>Je suis très énervée! » Mains croisées devan...</td>\n",
       "      <td>1599</td>\n",
       "      <td>1684</td>\n",
       "    </tr>\n",
       "    <tr>\n",
       "      <th>32</th>\n",
       "      <td>Agenda,  mardi 15 janvier 2019 30 mots, p. 21</td>\n",
       "      <td>France 5</td>\n",
       "      <td>Le Monde</td>\n",
       "      <td>20.50 Enquête de santé   Homéopathie, bientô...</td>\n",
       "      <td>38</td>\n",
       "      <td>34</td>\n",
       "    </tr>\n",
       "    <tr>\n",
       "      <th>33</th>\n",
       "      <td>Spécial,  mardi 25 septembre 2018 761 mots, p...</td>\n",
       "      <td>Le Monde Festival Saison 5</td>\n",
       "      <td>Le Monde</td>\n",
       "      <td>LES LIEUX DU FESTIVAL   Opéra Bastille, plac...</td>\n",
       "      <td>886</td>\n",
       "      <td>851</td>\n",
       "    </tr>\n",
       "    <tr>\n",
       "      <th>34</th>\n",
       "      <td>Supplément Télévision,  mardi 15 janvier 2019...</td>\n",
       "      <td>Votre soirée télé mardi 15 janvier</td>\n",
       "      <td>Le Monde</td>\n",
       "      <td>TF1 21.00 S.W.A.T.   Série. Avec Shemar Moor...</td>\n",
       "      <td>243</td>\n",
       "      <td>214</td>\n",
       "    </tr>\n",
       "    <tr>\n",
       "      <th>35</th>\n",
       "      <td>L'Époque,  lundi 8 mai 2017 487 mots, p. EPH8</td>\n",
       "      <td>Objets trouvés Pour qui sonne la notification</td>\n",
       "      <td>Le Monde</td>\n",
       "      <td>Une drôle de symphonie dans la poche. Un bip...</td>\n",
       "      <td>510</td>\n",
       "      <td>531</td>\n",
       "    </tr>\n",
       "    <tr>\n",
       "      <th>36</th>\n",
       "      <td>Éco &amp; Entreprise,  lundi 4 septembre 2017 125...</td>\n",
       "      <td>Reportage La vache à cash des nationalistes h...</td>\n",
       "      <td>Le Monde</td>\n",
       "      <td>Ladwa (Haryana) - envoyé spécial - Anand Kum...</td>\n",
       "      <td>1229</td>\n",
       "      <td>1278</td>\n",
       "    </tr>\n",
       "    <tr>\n",
       "      <th>37</th>\n",
       "      <td>Horizons,  vendredi 8 mars 2019 1858 mots, p....</td>\n",
       "      <td>Le viager empoisonné La cours d'assises des A...</td>\n",
       "      <td>Le Monde</td>\n",
       "      <td>Nice envoyée spéciale - Olivier Cappelaere a...</td>\n",
       "      <td>1934</td>\n",
       "      <td>2047</td>\n",
       "    </tr>\n",
       "  </tbody>\n",
       "</table>\n",
       "</div>"
      ],
      "text/plain": [
       "                                                 Date  \\\n",
       "0    Science & Médecine,  mercredi 23 mai 2018 246...   \n",
       "1    Science & Médecine,  mercredi 28 novembre 201...   \n",
       "2    France,  vendredi 7 septembre 2018 692 mots, ...   \n",
       "3     France,  vendredi 31 août 2018 402 mots, p. 11    \n",
       "4    France,  vendredi 31 août 2018 1203 mots, p. 11    \n",
       "5    Science & Médecine,  mercredi 4 avril 2018 14...   \n",
       "6     France,  vendredi 31 août 2018 572 mots, p. 11    \n",
       "7    Science & Médecine,  mercredi 28 novembre 201...   \n",
       "8    Science & Médecine,  mercredi 23 mai 2018 596...   \n",
       "9    Idées,  samedi 27 octobre 2018 794 mots, p. I...   \n",
       "10   Science & Médecine,  mercredi 23 mai 2018 573...   \n",
       "11   Science & Médecine,  mercredi 9 janvier 2019 ...   \n",
       "12    France,  mardi 4 septembre 2018 126 mots, p. 7    \n",
       "13   Science & Médecine,  mercredi 26 décembre 201...   \n",
       "14   Science & Médecine,  mardi 25 décembre 2018 1...   \n",
       "15   Spécial,  mardi 25 septembre 2018 231 mots, p...   \n",
       "16      France,  samedi 25 août 2018 103 mots, p. 10    \n",
       "17   Science & Médecine,  mercredi 23 mai 2018 142...   \n",
       "18     A la Une,  mercredi 23 mai 2018 44 mots, p. 1    \n",
       "19   Idées,  samedi 29 septembre 2018 993 mots, p....   \n",
       "20   A la Une,  vendredi 31 août 2018 109 mots, p. 1    \n",
       "21   Science & Médecine,  mercredi 28 novembre 201...   \n",
       "22   Idées,  samedi 30 septembre 2017 428 mots, p....   \n",
       "23   L'Époque,  lundi 9 octobre 2017 762 mots, p. ...   \n",
       "24   Spécial,  mercredi 13 décembre 2017 371 mots,...   \n",
       "25   Science & Médecine,  mercredi 29 novembre 201...   \n",
       "26   Le Monde des Livres,  vendredi 13 avril 2018 ...   \n",
       "27   Idées,  samedi 29 septembre 2018 8 mots, p. I...   \n",
       "28    Spécial,  jeudi 21 juin 2018 360 mots, p. SPA2    \n",
       "29    Idées,  samedi 27 octobre 2018 8 mots, p. IDH1    \n",
       "30   Science & Médecine,  mercredi 16 janvier 2019...   \n",
       "31   France,  vendredi 28 septembre 2018 1603 mots...   \n",
       "32     Agenda,  mardi 15 janvier 2019 30 mots, p. 21    \n",
       "33   Spécial,  mardi 25 septembre 2018 761 mots, p...   \n",
       "34   Supplément Télévision,  mardi 15 janvier 2019...   \n",
       "35     L'Époque,  lundi 8 mai 2017 487 mots, p. EPH8    \n",
       "36   Éco & Entreprise,  lundi 4 septembre 2017 125...   \n",
       "37   Horizons,  vendredi 8 mars 2019 1858 mots, p....   \n",
       "\n",
       "                                                Titre       Journal  \\\n",
       "0    Homéopathie Une réglementation à haute diluti...   Le Monde      \n",
       "1    Nofakemed, symptôme d'un malaise médical Nofa...   Le Monde      \n",
       "2    Homéopathie : les doyens des facultés de méde...   Le Monde      \n",
       "3    Homéopathie : entre médecins, la guerre au gr...   Le Monde      \n",
       "4    Homéopathie : entre médecins, la guerre au gr...   Le Monde      \n",
       "5    Les médecines alternatives doivent-elles être...   Le Monde      \n",
       "6    Homéopathie : entre médecins, la guerre au gr...   Le Monde      \n",
       "7    Nofakemed, symptôme d'un malaise médical En e...   Le Monde      \n",
       "8    HoméopathieUne réglementation à haute dilutio...   Le Monde      \n",
       "9              Tribune Homéopathie, efficace placebo    Le Monde      \n",
       "10   HoméopathieUne réglementation à haute dilutio...   Le Monde      \n",
       "11   TélescopeMédecine L'homéopathie n'est « pas p...   Le Monde      \n",
       "12   SANTÉ La faculté de médecine de Lille suspend...   Le Monde      \n",
       "13                                    2018 en images    Le Monde      \n",
       "14      L'homéopathie renversée par Les #Nofakemeds?    Le Monde      \n",
       "15   Un week-end et plus de 40 rencontres pour se ...   Le Monde      \n",
       "16   Santé Remboursement de l'homéopathie : répons...   Le Monde      \n",
       "17   HOMÉOPATHIE UNE RÉGLEMENTATION À HAUTE DILUTI...   Le Monde      \n",
       "18   Science & médecine Bataille contre le rembour...   Le Monde      \n",
       "19                    Les labos contre l'homéopathie    Le Monde      \n",
       "20   Santé L'homéopathie sème la discorde entre mé...   Le Monde      \n",
       "21   Alexandre Klein : « Il y a des enjeux corpora...   Le Monde      \n",
       "22           Confesser le pape François sur le divan    Le Monde      \n",
       "23   Enquête « Si c'est naturel, c'est nécessairem...   Le Monde      \n",
       "24   Notre sélection de champagnes Pascal Agrapart...   Le Monde      \n",
       "25   Cancer : des freins à l'accès aux immunothéra...   Le Monde      \n",
       "26   Critiques Essais Overdose de neurosciences co...   Le Monde      \n",
       "27                                         4 tribune    Le Monde      \n",
       "28                        Des terroirs biodynamiques    Le Monde      \n",
       "29                                         4 tribune    Le Monde      \n",
       "30   Jean-Gérard Bloch, pionnier de la méditation ...   Le Monde      \n",
       "31   Portrait Agnès Buzyn prête à donner de la voi...   Le Monde      \n",
       "32                                          France 5    Le Monde      \n",
       "33                        Le Monde Festival Saison 5    Le Monde      \n",
       "34                Votre soirée télé mardi 15 janvier    Le Monde      \n",
       "35     Objets trouvés Pour qui sonne la notification    Le Monde      \n",
       "36   Reportage La vache à cash des nationalistes h...   Le Monde      \n",
       "37   Le viager empoisonné La cours d'assises des A...   Le Monde      \n",
       "\n",
       "                                              Contenu  Nombre de mots  \\\n",
       "0     (Lyon; correspondant); - Quand on lui parle ...            2546   \n",
       "1     Les médecines complémentaires et en particul...            2446   \n",
       "2     Le président de la conférence des doyens des...             710   \n",
       "3     à Londres - L'homéopathie est en Angleterre ...             404   \n",
       "4     Céline Berthié, 36 ans, est médecin générali...            1264   \n",
       "5     Une nouvelle fois, les médecines dites alter...            1468   \n",
       "6     Avant la fin de février 2019, la Haute Autor...             579   \n",
       "7     Dans le collimateur du mouvement des Fakemed...             547   \n",
       "8     L'Académie nationale de médecine est elle au...             625   \n",
       "9     Faut-il rembourser l'homéopathie? Débat seco...             809   \n",
       "10    A ce jour, le seul ministre de la santé à av...             606   \n",
       "11    « Il est clairement et solidement démontré q...             127   \n",
       "12    La faculté de médecine de Lille a annoncé, d...             121   \n",
       "13    Père indigne de bébés nés sous Crispr Le bio...            2922   \n",
       "14    L'homéopathie est-elle à un tournant de son ...             151   \n",
       "15    Le retour fracassant du débat sur les vertus...             229   \n",
       "16    Le ministère de la santé a saisi la Haute Au...             101   \n",
       "17    Sur le marché de l'homéopathie, qui représen...             136   \n",
       "18    Près de 2 400 médecins appellent à ne plus r...              46   \n",
       "19    Et si on commençait par se débarrasser de to...            1029   \n",
       "20    Le conflit virulent mais larvé entre profess...             108   \n",
       "21    Docteur en philosophie et histoire des scien...             890   \n",
       "22    Dans ses entretiens avec ­Dominique Wolton, ...             447   \n",
       "23    Premier week-end d'octobre. Les pavillons au...             813   \n",
       "24    A Avize, village classé grand cru de la côte...             379   \n",
       "25    Innovation dans le domaine du cancer du poum...            1083   \n",
       "26    Sociologue, directeur de ­recherches au CNRS...             568   \n",
       "27    La croisade des laboratoires contre l'homéop...              10   \n",
       "28    C'est en traitant ses vignes avec un insecti...             379   \n",
       "29    L'homéopathie, l'effet placebo et la solidar...              10   \n",
       "30    Connaître la nature humaine. » Telle était l...            1321   \n",
       "31    Je suis très énervée! » Mains croisées devan...            1599   \n",
       "32    20.50 Enquête de santé   Homéopathie, bientô...              38   \n",
       "33    LES LIEUX DU FESTIVAL   Opéra Bastille, plac...             886   \n",
       "34    TF1 21.00 S.W.A.T.   Série. Avec Shemar Moor...             243   \n",
       "35    Une drôle de symphonie dans la poche. Un bip...             510   \n",
       "36    Ladwa (Haryana) - envoyé spécial - Anand Kum...            1229   \n",
       "37    Nice envoyée spéciale - Olivier Cappelaere a...            1934   \n",
       "\n",
       "    Nombre de mots v2  \n",
       "0                2679  \n",
       "1                2545  \n",
       "2                 748  \n",
       "3                 431  \n",
       "4                1323  \n",
       "5                1560  \n",
       "6                 600  \n",
       "7                 577  \n",
       "8                 658  \n",
       "9                 861  \n",
       "10                639  \n",
       "11                135  \n",
       "12                124  \n",
       "13               3089  \n",
       "14                152  \n",
       "15                233  \n",
       "16                106  \n",
       "17                140  \n",
       "18                 43  \n",
       "19               1088  \n",
       "20                111  \n",
       "21                937  \n",
       "22                468  \n",
       "23                857  \n",
       "24                387  \n",
       "25               1118  \n",
       "26                595  \n",
       "27                  9  \n",
       "28                386  \n",
       "29                 10  \n",
       "30               1377  \n",
       "31               1684  \n",
       "32                 34  \n",
       "33                851  \n",
       "34                214  \n",
       "35                531  \n",
       "36               1278  \n",
       "37               2047  "
      ]
     },
     "execution_count": 118,
     "metadata": {},
     "output_type": "execute_result"
    }
   ],
   "source": [
    "corpus"
   ]
  },
  {
   "cell_type": "markdown",
   "metadata": {},
   "source": [
    "### Les mots \"signifiants\" :\n",
    " * homéopath..\n",
    " * alterna...\n",
    " * allopath..\n",
    " * nofakemed\n",
    " * remboursement"
   ]
  },
  {
   "cell_type": "code",
   "execution_count": 122,
   "metadata": {},
   "outputs": [],
   "source": [
    "def frequence_homeo(texte):\n",
    "    mot = \"homeopath\"\n",
    "    \n",
    "    #règles de nettoyage du texte\n",
    "    texte = texte.replace(\"é\",\"e\") #virer les accents\n",
    "    texte = texte.lower() #mettre en minuscule\n",
    "    \n",
    "    #calcul des fréquences\n",
    "    frequence = len(texte.split(mot))-1\n",
    "    return frequence"
   ]
  },
  {
   "cell_type": "markdown",
   "metadata": {},
   "source": [
    "Fonction qui vire les accents"
   ]
  },
  {
   "cell_type": "code",
   "execution_count": 121,
   "metadata": {},
   "outputs": [
    {
     "data": {
      "text/plain": [
       "2"
      ]
     },
     "execution_count": 121,
     "metadata": {},
     "output_type": "execute_result"
    }
   ],
   "source": [
    "frequence_homeo(\"il y avait un homéopathe caché derrière le rideau homéopathique\")"
   ]
  },
  {
   "cell_type": "code",
   "execution_count": 125,
   "metadata": {},
   "outputs": [],
   "source": [
    "corpus[\"freq-homeo\"] = corpus[\"Contenu\"].apply(frequence_homeo)"
   ]
  },
  {
   "cell_type": "code",
   "execution_count": 126,
   "metadata": {},
   "outputs": [
    {
     "data": {
      "text/html": [
       "<div>\n",
       "<style scoped>\n",
       "    .dataframe tbody tr th:only-of-type {\n",
       "        vertical-align: middle;\n",
       "    }\n",
       "\n",
       "    .dataframe tbody tr th {\n",
       "        vertical-align: top;\n",
       "    }\n",
       "\n",
       "    .dataframe thead th {\n",
       "        text-align: right;\n",
       "    }\n",
       "</style>\n",
       "<table border=\"1\" class=\"dataframe\">\n",
       "  <thead>\n",
       "    <tr style=\"text-align: right;\">\n",
       "      <th></th>\n",
       "      <th>Date</th>\n",
       "      <th>Titre</th>\n",
       "      <th>Journal</th>\n",
       "      <th>Contenu</th>\n",
       "      <th>Nombre de mots</th>\n",
       "      <th>Nombre de mots v2</th>\n",
       "      <th>freq-homeo</th>\n",
       "    </tr>\n",
       "  </thead>\n",
       "  <tbody>\n",
       "    <tr>\n",
       "      <th>0</th>\n",
       "      <td>Science &amp; Médecine,  mercredi 23 mai 2018 246...</td>\n",
       "      <td>Homéopathie Une réglementation à haute diluti...</td>\n",
       "      <td>Le Monde</td>\n",
       "      <td>(Lyon; correspondant); - Quand on lui parle ...</td>\n",
       "      <td>2546</td>\n",
       "      <td>2679</td>\n",
       "      <td>43</td>\n",
       "    </tr>\n",
       "    <tr>\n",
       "      <th>1</th>\n",
       "      <td>Science &amp; Médecine,  mercredi 28 novembre 201...</td>\n",
       "      <td>Nofakemed, symptôme d'un malaise médical Nofa...</td>\n",
       "      <td>Le Monde</td>\n",
       "      <td>Les médecines complémentaires et en particul...</td>\n",
       "      <td>2446</td>\n",
       "      <td>2545</td>\n",
       "      <td>17</td>\n",
       "    </tr>\n",
       "    <tr>\n",
       "      <th>2</th>\n",
       "      <td>France,  vendredi 7 septembre 2018 692 mots, ...</td>\n",
       "      <td>Homéopathie : les doyens des facultés de méde...</td>\n",
       "      <td>Le Monde</td>\n",
       "      <td>Le président de la conférence des doyens des...</td>\n",
       "      <td>710</td>\n",
       "      <td>748</td>\n",
       "      <td>15</td>\n",
       "    </tr>\n",
       "    <tr>\n",
       "      <th>3</th>\n",
       "      <td>France,  vendredi 31 août 2018 402 mots, p. 11</td>\n",
       "      <td>Homéopathie : entre médecins, la guerre au gr...</td>\n",
       "      <td>Le Monde</td>\n",
       "      <td>à Londres - L'homéopathie est en Angleterre ...</td>\n",
       "      <td>404</td>\n",
       "      <td>431</td>\n",
       "      <td>12</td>\n",
       "    </tr>\n",
       "    <tr>\n",
       "      <th>4</th>\n",
       "      <td>France,  vendredi 31 août 2018 1203 mots, p. 11</td>\n",
       "      <td>Homéopathie : entre médecins, la guerre au gr...</td>\n",
       "      <td>Le Monde</td>\n",
       "      <td>Céline Berthié, 36 ans, est médecin générali...</td>\n",
       "      <td>1264</td>\n",
       "      <td>1323</td>\n",
       "      <td>16</td>\n",
       "    </tr>\n",
       "  </tbody>\n",
       "</table>\n",
       "</div>"
      ],
      "text/plain": [
       "                                                Date  \\\n",
       "0   Science & Médecine,  mercredi 23 mai 2018 246...   \n",
       "1   Science & Médecine,  mercredi 28 novembre 201...   \n",
       "2   France,  vendredi 7 septembre 2018 692 mots, ...   \n",
       "3    France,  vendredi 31 août 2018 402 mots, p. 11    \n",
       "4   France,  vendredi 31 août 2018 1203 mots, p. 11    \n",
       "\n",
       "                                               Titre       Journal  \\\n",
       "0   Homéopathie Une réglementation à haute diluti...   Le Monde      \n",
       "1   Nofakemed, symptôme d'un malaise médical Nofa...   Le Monde      \n",
       "2   Homéopathie : les doyens des facultés de méde...   Le Monde      \n",
       "3   Homéopathie : entre médecins, la guerre au gr...   Le Monde      \n",
       "4   Homéopathie : entre médecins, la guerre au gr...   Le Monde      \n",
       "\n",
       "                                             Contenu  Nombre de mots  \\\n",
       "0    (Lyon; correspondant); - Quand on lui parle ...            2546   \n",
       "1    Les médecines complémentaires et en particul...            2446   \n",
       "2    Le président de la conférence des doyens des...             710   \n",
       "3    à Londres - L'homéopathie est en Angleterre ...             404   \n",
       "4    Céline Berthié, 36 ans, est médecin générali...            1264   \n",
       "\n",
       "   Nombre de mots v2  freq-homeo  \n",
       "0               2679          43  \n",
       "1               2545          17  \n",
       "2                748          15  \n",
       "3                431          12  \n",
       "4               1323          16  "
      ]
     },
     "execution_count": 126,
     "metadata": {},
     "output_type": "execute_result"
    }
   ],
   "source": [
    "corpus[0:5]"
   ]
  },
  {
   "cell_type": "code",
   "execution_count": 129,
   "metadata": {},
   "outputs": [],
   "source": [
    "def freq_mot(texte,mot):\n",
    "    #règles de nettoyage du texte\n",
    "    texte = texte.replace(\"é\",\"e\") #virer les accents\n",
    "    texte = texte.lower() #mettre en minuscule\n",
    "    \n",
    "    #calcul des fréquences\n",
    "    frequence = len(texte.split(mot))-1\n",
    "    return frequence"
   ]
  },
  {
   "cell_type": "code",
   "execution_count": 132,
   "metadata": {},
   "outputs": [],
   "source": [
    "corpus[\"freq-homeo\"] = corpus[\"Contenu\"].apply(lambda contenu : freq_mot(contenu,\"homeopath\"))\n",
    "corpus[\"freq-alterna\"] = corpus[\"Contenu\"].apply(lambda contenu : freq_mot(contenu,\"alterna\"))\n",
    "corpus[\"freq-allopath\"] = corpus[\"Contenu\"].apply(lambda contenu : freq_mot(contenu,\"allopath\"))\n",
    "corpus[\"freq-nofakemed\"] = corpus[\"Contenu\"].apply(lambda contenu : freq_mot(contenu,\"nofakemed\"))"
   ]
  },
  {
   "cell_type": "code",
   "execution_count": 135,
   "metadata": {},
   "outputs": [
    {
     "data": {
      "text/html": [
       "<div>\n",
       "<style scoped>\n",
       "    .dataframe tbody tr th:only-of-type {\n",
       "        vertical-align: middle;\n",
       "    }\n",
       "\n",
       "    .dataframe tbody tr th {\n",
       "        vertical-align: top;\n",
       "    }\n",
       "\n",
       "    .dataframe thead th {\n",
       "        text-align: right;\n",
       "    }\n",
       "</style>\n",
       "<table border=\"1\" class=\"dataframe\">\n",
       "  <thead>\n",
       "    <tr style=\"text-align: right;\">\n",
       "      <th></th>\n",
       "      <th>Date</th>\n",
       "      <th>Titre</th>\n",
       "      <th>Journal</th>\n",
       "      <th>Contenu</th>\n",
       "      <th>Nombre de mots</th>\n",
       "      <th>Nombre de mots v2</th>\n",
       "      <th>freq-homeo</th>\n",
       "      <th>freq-alterna</th>\n",
       "      <th>freq-allopath</th>\n",
       "      <th>freq-nofakemed</th>\n",
       "    </tr>\n",
       "  </thead>\n",
       "  <tbody>\n",
       "    <tr>\n",
       "      <th>0</th>\n",
       "      <td>Science &amp; Médecine,  mercredi 23 mai 2018 246...</td>\n",
       "      <td>Homéopathie Une réglementation à haute diluti...</td>\n",
       "      <td>Le Monde</td>\n",
       "      <td>(Lyon; correspondant); - Quand on lui parle ...</td>\n",
       "      <td>2546</td>\n",
       "      <td>2679</td>\n",
       "      <td>43</td>\n",
       "      <td>2</td>\n",
       "      <td>2</td>\n",
       "      <td>0</td>\n",
       "    </tr>\n",
       "    <tr>\n",
       "      <th>1</th>\n",
       "      <td>Science &amp; Médecine,  mercredi 28 novembre 201...</td>\n",
       "      <td>Nofakemed, symptôme d'un malaise médical Nofa...</td>\n",
       "      <td>Le Monde</td>\n",
       "      <td>Les médecines complémentaires et en particul...</td>\n",
       "      <td>2446</td>\n",
       "      <td>2545</td>\n",
       "      <td>17</td>\n",
       "      <td>3</td>\n",
       "      <td>0</td>\n",
       "      <td>6</td>\n",
       "    </tr>\n",
       "  </tbody>\n",
       "</table>\n",
       "</div>"
      ],
      "text/plain": [
       "                                                Date  \\\n",
       "0   Science & Médecine,  mercredi 23 mai 2018 246...   \n",
       "1   Science & Médecine,  mercredi 28 novembre 201...   \n",
       "\n",
       "                                               Titre       Journal  \\\n",
       "0   Homéopathie Une réglementation à haute diluti...   Le Monde      \n",
       "1   Nofakemed, symptôme d'un malaise médical Nofa...   Le Monde      \n",
       "\n",
       "                                             Contenu  Nombre de mots  \\\n",
       "0    (Lyon; correspondant); - Quand on lui parle ...            2546   \n",
       "1    Les médecines complémentaires et en particul...            2446   \n",
       "\n",
       "   Nombre de mots v2  freq-homeo  freq-alterna  freq-allopath  freq-nofakemed  \n",
       "0               2679          43             2              2               0  \n",
       "1               2545          17             3              0               6  "
      ]
     },
     "execution_count": 135,
     "metadata": {},
     "output_type": "execute_result"
    }
   ],
   "source": [
    "corpus[0:2]"
   ]
  },
  {
   "cell_type": "code",
   "execution_count": null,
   "metadata": {},
   "outputs": [],
   "source": [
    "!pip install openpyxl"
   ]
  },
  {
   "cell_type": "code",
   "execution_count": 134,
   "metadata": {},
   "outputs": [],
   "source": [
    "corpus.to_excel(\"corpus.xlsx\")"
   ]
  },
  {
   "cell_type": "markdown",
   "metadata": {},
   "source": [
    "##  Ajouter des données\n",
    " * Nombre de mots par texte\n",
    " * Que faire des données manquantes ?\n",
    " * Faire une fonction pour calculer la fréquence d'un mot\n",
    " * Calculer la fréquence de certains mots dans les textes (4 ou 5 jugés pertinents)\n",
    " * Sauvegarder le corpus"
   ]
  }
 ],
 "metadata": {
  "kernelspec": {
   "display_name": "Python 3",
   "language": "python",
   "name": "python3"
  },
  "language_info": {
   "codemirror_mode": {
    "name": "ipython",
    "version": 3
   },
   "file_extension": ".py",
   "mimetype": "text/x-python",
   "name": "python",
   "nbconvert_exporter": "python",
   "pygments_lexer": "ipython3",
   "version": "3.5.6"
  }
 },
 "nbformat": 4,
 "nbformat_minor": 2
}
