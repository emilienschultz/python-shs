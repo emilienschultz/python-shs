{
 "cells": [
  {
   "cell_type": "markdown",
   "metadata": {},
   "source": [
    "# Se familiariser à Python dans un notebook Jupyter\n",
    "\n",
    "__Duée : 1h30__\n",
    "\n",
    "Ma sythaxe python n'est pas forcément la meilleure et vous avez des niveaux très différents : essayons d'avancer ensemble :)\n",
    "\n",
    "Un point important : savoir chercher de l'aide."
   ]
  },
  {
   "cell_type": "markdown",
   "metadata": {},
   "source": [
    "## Quelques mots sur le Notebook Jupyter\n",
    "\n",
    "* Pourquoi ?\n",
    "* Ecrire du code dans une cellule\n",
    "* Exécuter du code\n",
    "* Persistence de l'environnement\n",
    "* Accéder à l'aide des fonctions et à l'auto-complétion\n",
    "* Les autres raccourcis\n",
    "* Et puis du $\\int_{-\\infty}^{+\\infty}Late.dx$"
   ]
  },
  {
   "cell_type": "markdown",
   "metadata": {},
   "source": [
    "Rajouter un exemple de widget ?"
   ]
  },
  {
   "cell_type": "markdown",
   "metadata": {},
   "source": [
    "# Guide de survie en Python"
   ]
  },
  {
   "cell_type": "markdown",
   "metadata": {},
   "source": [
    "### Les variables et les types\n",
    "* Définir une variable\n",
    "* Afficher une variable\n",
    "* Les types d'objet\n",
    "  * Int\n",
    "  * Float\n",
    "  * String\n",
    "   * Le problème de l'encodage\n",
    "  * List / Tuples\n",
    "\n",
    "   * Sélectionner une partie de la liste\n",
    "   * ajouter/supprimer\n",
    "  * Dictionnary\n",
    "* Convertir les types\n",
    "* Lire les messages d'erreur\n",
    "* Commenter un code\n",
    "* Manipuler des variables : ajouter, opérations mathématiques, comparer...\n",
    "\n",
    "\n",
    "Exercice : \n",
    "* Construire une liste avec la date des articles\n",
    "* Construire une liste avec le titre des articles"
   ]
  },
  {
   "cell_type": "markdown",
   "metadata": {},
   "source": [
    "### Structure d'un programme\n",
    "* Exemple de la condition if\n",
    "* L'indendation\n",
    "* Boucle : le cas de for\n",
    " * continue, break\n",
    "* C'est quoi une fonction ?\n",
    "* Définir une fonction\n",
    " * Pourquoi ?\n",
    " * def\n",
    " * environnement local des variables\n",
    " * retourner des valeurs\n",
    " * Les librairies : plein de fonctions déjà faites (ex. math)\n",
    " * Petit point sur le nom des variables, dir(__builtins__)\n",
    "* Liste comprehension : un usage rapide des fonctions\n",
    "* Pourquoi je ne vais pas traiter des classes\n",
    "\n",
    "Exercice : \n",
    "* Construire une fonction qui calcule le nombre de mots dans les titres (indice : regarder la méthode split() des chaînes de caractère)"
   ]
  },
  {
   "cell_type": "markdown",
   "metadata": {},
   "source": [
    "### Ouvrir et ferme des fichiers\n",
    "\n",
    "* lister les fichiers présents dans un répertoire sur l'ordinateur (librairie os)\n",
    "* ouvrir un fichier (notion d'itérateur/pointeur)\n",
    "* charger des éléments du fichier\n",
    "* écrire dans un fichier\n",
    "\n",
    "Exercice :\n",
    "* Construire le tableau des articles pour pouvoir les traiter"
   ]
  },
  {
   "cell_type": "markdown",
   "metadata": {},
   "source": [
    "### Une fonction bien utile : les expressions régulières\n",
    "\n",
    "Idée : extraire des formes de données particulières dans un texte\n",
    "https://docs.python.org/2/library/re.html"
   ]
  },
  {
   "cell_type": "code",
   "execution_count": 2,
   "metadata": {},
   "outputs": [],
   "source": [
    "import regex as re"
   ]
  },
  {
   "cell_type": "code",
   "execution_count": 3,
   "metadata": {},
   "outputs": [],
   "source": [
    "texte = \"Il est né en 1967 dans un petit village\""
   ]
  },
  {
   "cell_type": "code",
   "execution_count": 12,
   "metadata": {},
   "outputs": [],
   "source": [
    "x=re.search(\"[0-9]{4}\",texte)\n",
    "x.group()"
   ]
  },
  {
   "cell_type": "markdown",
   "metadata": {},
   "source": [
    "## Exercice de fin\n",
    "\n",
    "Proposer une fonction pour extraire les dates"
   ]
  }
 ],
 "metadata": {
  "kernelspec": {
   "display_name": "Python 3",
   "language": "python",
   "name": "python3"
  },
  "language_info": {
   "codemirror_mode": {
    "name": "ipython",
    "version": 3
   },
   "file_extension": ".py",
   "mimetype": "text/x-python",
   "name": "python",
   "nbconvert_exporter": "python",
   "pygments_lexer": "ipython3",
   "version": "3.5.6"
  }
 },
 "nbformat": 4,
 "nbformat_minor": 2
}
