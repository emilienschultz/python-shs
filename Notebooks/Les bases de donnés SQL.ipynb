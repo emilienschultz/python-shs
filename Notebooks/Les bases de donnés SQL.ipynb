{
 "cells": [
  {
   "cell_type": "markdown",
   "metadata": {},
   "source": [
    "## Un peu de théorie\n",
    "\n",
    "SQL (sigle de Structured Query Language, en français langage de requête structurée) est un langage informatique normalisé servant à exploiter des bases de données relationnelles. La partie langage de manipulation des données de SQL permet de rechercher, d'ajouter, de modifier ou de supprimer des données dans les bases de données relationnelles. "
   ]
  },
  {
   "cell_type": "markdown",
   "metadata": {},
   "source": [
    "## Les commandes SQL"
   ]
  },
  {
   "cell_type": "markdown",
   "metadata": {},
   "source": [
    "La formation Software Carpentry : http://swcarpentry.github.io/sql-novice-survey/\n",
    "\n",
    "Un résumé des commandes : http://www.sqltutorial.org/wp-content/uploads/2016/04/SQL-cheat-sheet.pdf"
   ]
  },
  {
   "cell_type": "markdown",
   "metadata": {},
   "source": [
    "## Manipuler du SQL en Python\n",
    "\n",
    "Une librairie intégrée sqlite3"
   ]
  },
  {
   "cell_type": "markdown",
   "metadata": {},
   "source": [
    "Créer une nouvelle base"
   ]
  },
  {
   "cell_type": "code",
   "execution_count": 34,
   "metadata": {},
   "outputs": [],
   "source": [
    "import sqlite3\n",
    "conn = sqlite3.connect('exemple.db')"
   ]
  },
  {
   "cell_type": "markdown",
   "metadata": {},
   "source": [
    "Créer une table"
   ]
  },
  {
   "cell_type": "code",
   "execution_count": 59,
   "metadata": {},
   "outputs": [
    {
     "ename": "OperationalError",
     "evalue": "table VOL already exists",
     "output_type": "error",
     "traceback": [
      "\u001b[0;31m---------------------------------------------------------------------------\u001b[0m",
      "\u001b[0;31mOperationalError\u001b[0m                          Traceback (most recent call last)",
      "\u001b[0;32m<ipython-input-59-fd50360402c2>\u001b[0m in \u001b[0;36m<module>\u001b[0;34m()\u001b[0m\n\u001b[1;32m      2\u001b[0m c.execute('''CREATE TABLE VOL (ID INTEGER PRIMARY KEY, \n\u001b[1;32m      3\u001b[0m             \u001b[0mHEURE_DEPART\u001b[0m \u001b[0mDOUBLE\u001b[0m\u001b[0;34m,\u001b[0m \u001b[0mVILLE_DEPART\u001b[0m \u001b[0mTEXT\u001b[0m\u001b[0;34m,\u001b[0m\u001b[0;34m\u001b[0m\u001b[0m\n\u001b[0;32m----> 4\u001b[0;31m             HEURE_ARRIVEE DOUBLE, VILLE_ARRIVEE TEXT);''')\n\u001b[0m\u001b[1;32m      5\u001b[0m \u001b[0mc\u001b[0m\u001b[0;34m.\u001b[0m\u001b[0mclose\u001b[0m\u001b[0;34m(\u001b[0m\u001b[0;34m)\u001b[0m\u001b[0;34m\u001b[0m\u001b[0m\n",
      "\u001b[0;31mOperationalError\u001b[0m: table VOL already exists"
     ]
    }
   ],
   "source": [
    "c = conn.cursor()\n",
    "c.execute('''CREATE TABLE VOL (ID INTEGER PRIMARY KEY, \n",
    "            HEURE_DEPART DOUBLE, VILLE_DEPART TEXT, \n",
    "            HEURE_ARRIVEE DOUBLE, VILLE_ARRIVEE TEXT);''')\n",
    "c.close()"
   ]
  },
  {
   "cell_type": "markdown",
   "metadata": {},
   "source": [
    "Supprimer une table"
   ]
  },
  {
   "cell_type": "code",
   "execution_count": 57,
   "metadata": {},
   "outputs": [],
   "source": [
    "c = conn.cursor()\n",
    "conn.execute(\"DROP TABLE VOL;\")\n",
    "c.close()"
   ]
  },
  {
   "cell_type": "code",
   "execution_count": 53,
   "metadata": {},
   "outputs": [],
   "source": [
    "import datetime"
   ]
  },
  {
   "cell_type": "markdown",
   "metadata": {},
   "source": [
    "Insérer une information"
   ]
  },
  {
   "cell_type": "code",
   "execution_count": 65,
   "metadata": {},
   "outputs": [],
   "source": [
    "c = conn.cursor()\n",
    "conn.execute(\"INSERT INTO VOL(ID,HEURE_DEPART,VILLE_DEPART,HEURE_ARRIVEE,VILLE_ARRIVEE) VALUES (1235,32753276732,'PARIS',3232232323,'LYON');\")\n",
    "c.close()"
   ]
  },
  {
   "cell_type": "markdown",
   "metadata": {},
   "source": [
    "Récupérer une information"
   ]
  },
  {
   "cell_type": "code",
   "execution_count": 66,
   "metadata": {},
   "outputs": [],
   "source": [
    "c = conn.cursor()\n",
    "r = conn.execute(\"SELECT (IMMATRICULATION,VILLE_ATTACHE) FROM AVION INNER JOIN VOL ON VOL.AVION WHERE COUNT() > 15;\")\n",
    "c.close() "
   ]
  },
  {
   "cell_type": "code",
   "execution_count": 67,
   "metadata": {},
   "outputs": [
    {
     "name": "stdout",
     "output_type": "stream",
     "text": [
      "(1234, 32753276732.0, 'PARIS', 3232232323.0, 'LYON')\n",
      "(1235, 32753276732.0, 'PARIS', 3232232323.0, 'LYON')\n"
     ]
    }
   ],
   "source": [
    "for row in r.fetchall():\n",
    "    print(row)"
   ]
  },
  {
   "cell_type": "markdown",
   "metadata": {},
   "source": [
    "Récupérer les informations sur les tables créées"
   ]
  },
  {
   "cell_type": "code",
   "execution_count": 51,
   "metadata": {},
   "outputs": [
    {
     "name": "stdout",
     "output_type": "stream",
     "text": [
      "('table', 'sqlite_sequence', 'sqlite_sequence', 3, 'CREATE TABLE sqlite_sequence(name,seq)')\n"
     ]
    }
   ],
   "source": [
    "c = conn.cursor()\n",
    "table = c.execute(\"select * from SQLite_master where type=\\\"table\\\"\")\n",
    "\n",
    "for i in table.fetchall():\n",
    "    print(i)"
   ]
  }
 ],
 "metadata": {
  "kernelspec": {
   "display_name": "Python 3",
   "language": "python",
   "name": "python3"
  },
  "language_info": {
   "codemirror_mode": {
    "name": "ipython",
    "version": 3
   },
   "file_extension": ".py",
   "mimetype": "text/x-python",
   "name": "python",
   "nbconvert_exporter": "python",
   "pygments_lexer": "ipython3",
   "version": "3.5.6"
  }
 },
 "nbformat": 4,
 "nbformat_minor": 2
}
