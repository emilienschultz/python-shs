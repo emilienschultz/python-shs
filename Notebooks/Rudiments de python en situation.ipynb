{
 "cells": [
  {
   "cell_type": "markdown",
   "metadata": {},
   "source": [
    "# Se familiariser à Python dans un notebook Jupyter\n",
    "\n",
    "__Duée : 1h30__\n",
    "\n",
    "Ma sythaxe python n'est pas forcément la meilleure et vous avez des niveaux très différents : essayons d'avancer ensemble et aidez-vous les uns les autres :)\n",
    "\n",
    "Pour commencer : savoir chercher de l'aide. Documentation & moteurs de recherche"
   ]
  },
  {
   "cell_type": "markdown",
   "metadata": {},
   "source": [
    "## Quelques mots sur le Notebook Jupyter\n",
    "\n",
    "* Pourquoi ?\n",
    "* Ecrire du code dans une cellule\n",
    "* Exécuter du code\n",
    "* Persistence de l'environnement, c'est quoi une variable\n",
    "* Accéder à l'aide des fonctions et à l'auto-complétion\n",
    "* Les autres raccourcis\n",
    "* Et puis du $\\int_{-\\infty}^{+\\infty}Late.dx$\n",
    "* Et puis ..."
   ]
  },
  {
   "cell_type": "code",
   "execution_count": 59,
   "metadata": {},
   "outputs": [],
   "source": [
    "import ipywidgets as widgets\n",
    "a = widgets.IntSlider()"
   ]
  },
  {
   "cell_type": "code",
   "execution_count": 43,
   "metadata": {},
   "outputs": [
    {
     "data": {
      "application/vnd.jupyter.widget-view+json": {
       "model_id": "85a52a49f71b419c8ec33fa1c2283500",
       "version_major": 2,
       "version_minor": 0
      },
      "text/plain": [
       "IntSlider(value=0)"
      ]
     },
     "metadata": {},
     "output_type": "display_data"
    }
   ],
   "source": [
    "a"
   ]
  },
  {
   "cell_type": "code",
   "execution_count": 46,
   "metadata": {},
   "outputs": [
    {
     "data": {
      "text/plain": [
       "65"
      ]
     },
     "execution_count": 46,
     "metadata": {},
     "output_type": "execute_result"
    }
   ],
   "source": [
    "a.value"
   ]
  },
  {
   "cell_type": "markdown",
   "metadata": {},
   "source": [
    "## En dehors de Jupyter\n",
    "\n",
    "Python c'est un langage de programmation : on peut faire des scripts, les appelers sur des serveurs, etc"
   ]
  },
  {
   "cell_type": "markdown",
   "metadata": {},
   "source": [
    "# Guide de survie en Python\n",
    "\n",
    "Python est un langage de programmation : tout est possible, par contre il faut trouver comment le faire.\n",
    "- il y a une syntaxe de base\n",
    "- il y a des fonctions directement disponible\n",
    "- il y a des librairies spécialisées qui regroupent des fonctions "
   ]
  },
  {
   "cell_type": "code",
   "execution_count": 47,
   "metadata": {},
   "outputs": [],
   "source": [
    "un = 1"
   ]
  },
  {
   "cell_type": "code",
   "execution_count": 58,
   "metadata": {},
   "outputs": [],
   "source": [
    "un = 2"
   ]
  },
  {
   "cell_type": "code",
   "execution_count": 60,
   "metadata": {},
   "outputs": [
    {
     "data": {
      "text/plain": [
       "2"
      ]
     },
     "execution_count": 60,
     "metadata": {},
     "output_type": "execute_result"
    }
   ],
   "source": [
    "un"
   ]
  },
  {
   "cell_type": "code",
   "execution_count": 61,
   "metadata": {},
   "outputs": [],
   "source": [
    "autre_variable = 2"
   ]
  },
  {
   "cell_type": "code",
   "execution_count": 64,
   "metadata": {},
   "outputs": [],
   "source": [
    "un = 1"
   ]
  },
  {
   "cell_type": "code",
   "execution_count": 67,
   "metadata": {},
   "outputs": [],
   "source": [
    "autre_variable = un"
   ]
  },
  {
   "cell_type": "code",
   "execution_count": 69,
   "metadata": {},
   "outputs": [],
   "source": [
    "autre_variable = 1.5"
   ]
  },
  {
   "cell_type": "code",
   "execution_count": 72,
   "metadata": {},
   "outputs": [
    {
     "data": {
      "text/plain": [
       "False"
      ]
     },
     "execution_count": 72,
     "metadata": {},
     "output_type": "execute_result"
    }
   ],
   "source": [
    "type(un) == float"
   ]
  },
  {
   "cell_type": "code",
   "execution_count": 73,
   "metadata": {},
   "outputs": [],
   "source": [
    "verite = True"
   ]
  },
  {
   "cell_type": "code",
   "execution_count": 75,
   "metadata": {},
   "outputs": [
    {
     "data": {
      "text/plain": [
       "bool"
      ]
     },
     "execution_count": 75,
     "metadata": {},
     "output_type": "execute_result"
    }
   ],
   "source": [
    "type(verite)"
   ]
  },
  {
   "cell_type": "code",
   "execution_count": 84,
   "metadata": {},
   "outputs": [],
   "source": [
    "chaine = \"ceci est une chaine d'caractères\""
   ]
  },
  {
   "cell_type": "code",
   "execution_count": 87,
   "metadata": {},
   "outputs": [],
   "source": [
    "chaine = 'ceci est une chaine d\\'caractères'"
   ]
  },
  {
   "cell_type": "code",
   "execution_count": 88,
   "metadata": {},
   "outputs": [
    {
     "data": {
      "text/plain": [
       "\"ceci est une chaine d'caractères\""
      ]
     },
     "execution_count": 88,
     "metadata": {},
     "output_type": "execute_result"
    }
   ],
   "source": [
    "chaine"
   ]
  },
  {
   "cell_type": "code",
   "execution_count": 98,
   "metadata": {},
   "outputs": [],
   "source": [
    "tableau = [\"zéro\",\"un\",2,\"trois\"]"
   ]
  },
  {
   "cell_type": "code",
   "execution_count": 99,
   "metadata": {},
   "outputs": [],
   "source": [
    "tableau[2] = \"deux\""
   ]
  },
  {
   "cell_type": "code",
   "execution_count": 104,
   "metadata": {},
   "outputs": [],
   "source": [
    "?tableau"
   ]
  },
  {
   "cell_type": "code",
   "execution_count": 105,
   "metadata": {},
   "outputs": [],
   "source": [
    "tableau.remove(\"quatre\")"
   ]
  },
  {
   "cell_type": "code",
   "execution_count": 108,
   "metadata": {},
   "outputs": [],
   "source": [
    "un_tuple = (\"un\",\"deux\",\"trois\")"
   ]
  },
  {
   "cell_type": "code",
   "execution_count": 110,
   "metadata": {},
   "outputs": [],
   "source": [
    "dictionnaire = {\"un\":1,\"deux\":2,\"trois\":3}"
   ]
  },
  {
   "cell_type": "code",
   "execution_count": 116,
   "metadata": {},
   "outputs": [],
   "source": [
    "dictionnaire[\"quatre\"] = 4"
   ]
  },
  {
   "cell_type": "code",
   "execution_count": 119,
   "metadata": {},
   "outputs": [
    {
     "data": {
      "text/plain": [
       "dict_keys(['quatre', 'deux', 'un', 'trois'])"
      ]
     },
     "execution_count": 119,
     "metadata": {},
     "output_type": "execute_result"
    }
   ],
   "source": [
    "dictionnaire.keys()"
   ]
  },
  {
   "cell_type": "code",
   "execution_count": 127,
   "metadata": {},
   "outputs": [
    {
     "ename": "TypeError",
     "evalue": "type str doesn't define __round__ method",
     "output_type": "error",
     "traceback": [
      "\u001b[0;31m---------------------------------------------------------------------------\u001b[0m",
      "\u001b[0;31mTypeError\u001b[0m                                 Traceback (most recent call last)",
      "\u001b[0;32m<ipython-input-127-d528d08b61b9>\u001b[0m in \u001b[0;36m<module>\u001b[0;34m()\u001b[0m\n\u001b[0;32m----> 1\u001b[0;31m \u001b[0mround\u001b[0m\u001b[0;34m(\u001b[0m\u001b[0;34m\"1.199\"\u001b[0m\u001b[0;34m)\u001b[0m\u001b[0;34m\u001b[0m\u001b[0m\n\u001b[0m",
      "\u001b[0;31mTypeError\u001b[0m: type str doesn't define __round__ method"
     ]
    }
   ],
   "source": [
    "round(\"1.199\")"
   ]
  },
  {
   "cell_type": "code",
   "execution_count": 129,
   "metadata": {},
   "outputs": [],
   "source": [
    "?round"
   ]
  },
  {
   "cell_type": "markdown",
   "metadata": {},
   "source": [
    "### Les variables et les types\n",
    "* En python, tout est un objet (une instance de classe)\n",
    "* Définir une variable : une référence à un objet\n",
    "* Afficher une variable\n",
    "* Les types d'objet\n",
    "  * Int\n",
    "  * Float\n",
    "  * String\n",
    "   * Le problème de l'encodage\n",
    "  * List / Tuples\n",
    "\n",
    "   * Sélectionner une partie de la liste\n",
    "   * ajouter/supprimer\n",
    "  * Dictionnary\n",
    "* Convertir les types\n",
    "* Lire les messages d'erreur\n",
    "* Commenter un code\n",
    "* Manipuler des variables : ajouter, opérations mathématiques, comparer...\n",
    "\n",
    "\n",
    "Exercice : \n",
    "* Construire une liste avec la date des articles\n",
    "* Construire une liste avec le titre des articles"
   ]
  },
  {
   "cell_type": "code",
   "execution_count": 152,
   "metadata": {},
   "outputs": [],
   "source": [
    "age = 19"
   ]
  },
  {
   "cell_type": "code",
   "execution_count": 154,
   "metadata": {
    "scrolled": true
   },
   "outputs": [
    {
     "name": "stdout",
     "output_type": "stream",
     "text": [
      "majeur.e\n"
     ]
    }
   ],
   "source": [
    "if age < 18:\n",
    "    print(\"mineur.e\")\n",
    "else:\n",
    "    print(\"majeur.e\")"
   ]
  },
  {
   "cell_type": "code",
   "execution_count": 171,
   "metadata": {},
   "outputs": [],
   "source": []
  },
  {
   "cell_type": "code",
   "execution_count": 178,
   "metadata": {},
   "outputs": [],
   "source": [
    "# Variables\n",
    "ages = list(range(0,60))\n",
    "ages_recode = []\n",
    "\n",
    "#Recodage\n",
    "for i in ages:\n",
    "    if i>=18:\n",
    "        ages_recode.append(i)"
   ]
  },
  {
   "cell_type": "code",
   "execution_count": 191,
   "metadata": {},
   "outputs": [],
   "source": [
    "def recodage_age(nom_pas_encore_utilise):\n",
    "    if type(nom_pas_encore_utilise) != int:\n",
    "        return \"Problème\"\n",
    "    if nom_pas_encore_utilise<19:\n",
    "        return \"mineur.e\"\n",
    "    else:\n",
    "        return \"majeur.e\""
   ]
  },
  {
   "cell_type": "code",
   "execution_count": 217,
   "metadata": {},
   "outputs": [],
   "source": [
    "def recodage_age(age):\n",
    "    retour = None\n",
    "    if type(age) != int:\n",
    "        return \"Problème\"\n",
    "    if age<19:\n",
    "        retour = \"mineur.e\"\n",
    "    else:\n",
    "        retour = \"majeur.e\"\n",
    "    return [age,retour]"
   ]
  },
  {
   "cell_type": "code",
   "execution_count": 196,
   "metadata": {},
   "outputs": [
    {
     "data": {
      "text/plain": [
       "[20, 'majeur.e']"
      ]
     },
     "execution_count": 196,
     "metadata": {},
     "output_type": "execute_result"
    }
   ],
   "source": [
    "recodage_age(20)"
   ]
  },
  {
   "cell_type": "code",
   "execution_count": 190,
   "metadata": {},
   "outputs": [
    {
     "data": {
      "text/plain": [
       "'Problème'"
      ]
     },
     "execution_count": 190,
     "metadata": {},
     "output_type": "execute_result"
    }
   ],
   "source": [
    "recodage_age(\"vingt\")"
   ]
  },
  {
   "cell_type": "code",
   "execution_count": 197,
   "metadata": {},
   "outputs": [],
   "source": [
    "import math"
   ]
  },
  {
   "cell_type": "code",
   "execution_count": 201,
   "metadata": {},
   "outputs": [
    {
     "data": {
      "text/plain": [
       "['ArithmeticError',\n",
       " 'AssertionError',\n",
       " 'AttributeError',\n",
       " 'BaseException',\n",
       " 'BlockingIOError',\n",
       " 'BrokenPipeError',\n",
       " 'BufferError',\n",
       " 'BytesWarning',\n",
       " 'ChildProcessError',\n",
       " 'ConnectionAbortedError',\n",
       " 'ConnectionError',\n",
       " 'ConnectionRefusedError',\n",
       " 'ConnectionResetError',\n",
       " 'DeprecationWarning',\n",
       " 'EOFError',\n",
       " 'Ellipsis',\n",
       " 'EnvironmentError',\n",
       " 'Exception',\n",
       " 'False',\n",
       " 'FileExistsError',\n",
       " 'FileNotFoundError',\n",
       " 'FloatingPointError',\n",
       " 'FutureWarning',\n",
       " 'GeneratorExit',\n",
       " 'IOError',\n",
       " 'ImportError',\n",
       " 'ImportWarning',\n",
       " 'IndentationError',\n",
       " 'IndexError',\n",
       " 'InterruptedError',\n",
       " 'IsADirectoryError',\n",
       " 'KeyError',\n",
       " 'KeyboardInterrupt',\n",
       " 'LookupError',\n",
       " 'MemoryError',\n",
       " 'NameError',\n",
       " 'None',\n",
       " 'NotADirectoryError',\n",
       " 'NotImplemented',\n",
       " 'NotImplementedError',\n",
       " 'OSError',\n",
       " 'OverflowError',\n",
       " 'PendingDeprecationWarning',\n",
       " 'PermissionError',\n",
       " 'ProcessLookupError',\n",
       " 'RecursionError',\n",
       " 'ReferenceError',\n",
       " 'ResourceWarning',\n",
       " 'RuntimeError',\n",
       " 'RuntimeWarning',\n",
       " 'StopAsyncIteration',\n",
       " 'StopIteration',\n",
       " 'SyntaxError',\n",
       " 'SyntaxWarning',\n",
       " 'SystemError',\n",
       " 'SystemExit',\n",
       " 'TabError',\n",
       " 'TimeoutError',\n",
       " 'True',\n",
       " 'TypeError',\n",
       " 'UnboundLocalError',\n",
       " 'UnicodeDecodeError',\n",
       " 'UnicodeEncodeError',\n",
       " 'UnicodeError',\n",
       " 'UnicodeTranslateError',\n",
       " 'UnicodeWarning',\n",
       " 'UserWarning',\n",
       " 'ValueError',\n",
       " 'Warning',\n",
       " 'ZeroDivisionError',\n",
       " '__IPYTHON__',\n",
       " '__build_class__',\n",
       " '__debug__',\n",
       " '__doc__',\n",
       " '__import__',\n",
       " '__loader__',\n",
       " '__name__',\n",
       " '__package__',\n",
       " '__spec__',\n",
       " 'abs',\n",
       " 'all',\n",
       " 'any',\n",
       " 'ascii',\n",
       " 'bin',\n",
       " 'bool',\n",
       " 'bytearray',\n",
       " 'bytes',\n",
       " 'callable',\n",
       " 'chr',\n",
       " 'classmethod',\n",
       " 'compile',\n",
       " 'complex',\n",
       " 'copyright',\n",
       " 'credits',\n",
       " 'delattr',\n",
       " 'dict',\n",
       " 'dir',\n",
       " 'display',\n",
       " 'divmod',\n",
       " 'enumerate',\n",
       " 'eval',\n",
       " 'exec',\n",
       " 'filter',\n",
       " 'float',\n",
       " 'format',\n",
       " 'frozenset',\n",
       " 'get_ipython',\n",
       " 'getattr',\n",
       " 'globals',\n",
       " 'hasattr',\n",
       " 'hash',\n",
       " 'help',\n",
       " 'hex',\n",
       " 'id',\n",
       " 'input',\n",
       " 'int',\n",
       " 'isinstance',\n",
       " 'issubclass',\n",
       " 'iter',\n",
       " 'len',\n",
       " 'license',\n",
       " 'list',\n",
       " 'locals',\n",
       " 'map',\n",
       " 'max',\n",
       " 'memoryview',\n",
       " 'min',\n",
       " 'next',\n",
       " 'object',\n",
       " 'oct',\n",
       " 'open',\n",
       " 'ord',\n",
       " 'pow',\n",
       " 'print',\n",
       " 'property',\n",
       " 'range',\n",
       " 'repr',\n",
       " 'reversed',\n",
       " 'round',\n",
       " 'set',\n",
       " 'setattr',\n",
       " 'slice',\n",
       " 'sorted',\n",
       " 'staticmethod',\n",
       " 'str',\n",
       " 'sum',\n",
       " 'super',\n",
       " 'tuple',\n",
       " 'type',\n",
       " 'vars',\n",
       " 'zip']"
      ]
     },
     "execution_count": 201,
     "metadata": {},
     "output_type": "execute_result"
    }
   ],
   "source": [
    "dir(__builtins__)"
   ]
  },
  {
   "cell_type": "markdown",
   "metadata": {},
   "source": [
    "### Structure d'un programme\n",
    "* Exemple de la condition if\n",
    "* L'indendation\n",
    "* Boucle : le cas de for\n",
    " * continue, break\n",
    "* C'est quoi une fonction ?\n",
    "* Définir une fonction\n",
    " * Pourquoi ?\n",
    " * def\n",
    " * environnement local des variables\n",
    " * retourner des valeurs\n",
    " * Les librairies : plein de fonctions déjà faites (ex. math)\n",
    " * Petit point sur le nom des variables, dir(__builtins__)\n",
    "* Liste comprehension : un usage rapide des fonctions\n",
    "* Pourquoi je ne vais pas traiter des classes\n",
    "\n",
    "Exercice : \n",
    "* Construire une fonction qui calcule le nombre de mots dans les titres (indice : regarder la méthode split() des chaînes de caractère)"
   ]
  },
  {
   "cell_type": "code",
   "execution_count": null,
   "metadata": {},
   "outputs": [],
   "source": [
    "dates = [\"mercredi 23 mai 2018\",\"...\"]"
   ]
  },
  {
   "cell_type": "code",
   "execution_count": 134,
   "metadata": {},
   "outputs": [],
   "source": [
    "import pandas as pd\n",
    "d = pd.read_excel(\"Données/base.xlsx\")\n",
    "d"
   ]
  },
  {
   "cell_type": "code",
   "execution_count": 205,
   "metadata": {},
   "outputs": [
    {
     "data": {
      "text/plain": [
       "['chaine', 'de', 'caractère']"
      ]
     },
     "execution_count": 205,
     "metadata": {},
     "output_type": "execute_result"
    }
   ],
   "source": [
    "\"chaine de caractère\".split(\" \")"
   ]
  },
  {
   "cell_type": "code",
   "execution_count": 209,
   "metadata": {},
   "outputs": [],
   "source": [
    "def compter_mots(titre):\n",
    "    return len(titre.split(\" \"))\n",
    "\n",
    "def compter_mots(titre):\n",
    "    decoupe = titre.split(\" \") #découper en mots\n",
    "    nombre_mots = len(decoupe) #compter le nombre de mots\n",
    "    return nombre_mots #retourner le nombre de mots"
   ]
  },
  {
   "cell_type": "code",
   "execution_count": 210,
   "metadata": {},
   "outputs": [
    {
     "data": {
      "text/plain": [
       "5"
      ]
     },
     "execution_count": 210,
     "metadata": {},
     "output_type": "execute_result"
    }
   ],
   "source": [
    "compter_mots(\"chaine de caractère plus long\")"
   ]
  },
  {
   "cell_type": "code",
   "execution_count": 212,
   "metadata": {},
   "outputs": [],
   "source": [
    "liste_nombre_mots = []\n",
    "for t in titres:\n",
    "    liste_nombre_mots.append(compter_mots(t))"
   ]
  },
  {
   "cell_type": "code",
   "execution_count": 216,
   "metadata": {},
   "outputs": [],
   "source": [
    "liste_nombre_mots = [compter_mots(t) for t in titres]"
   ]
  },
  {
   "cell_type": "code",
   "execution_count": 213,
   "metadata": {},
   "outputs": [
    {
     "data": {
      "text/plain": [
       "[51,\n",
       " 51,\n",
       " 32,\n",
       " 21,\n",
       " 27,\n",
       " 34,\n",
       " 33,\n",
       " 11,\n",
       " 13,\n",
       " 6,\n",
       " 12,\n",
       " 12,\n",
       " 13,\n",
       " 5,\n",
       " 7,\n",
       " 24,\n",
       " 13,\n",
       " 16,\n",
       " 11,\n",
       " 6,\n",
       " 9,\n",
       " 16,\n",
       " 9,\n",
       " 19,\n",
       " 10,\n",
       " 55,\n",
       " 27,\n",
       " 4,\n",
       " 5,\n",
       " 4,\n",
       " 34,\n",
       " 43,\n",
       " 4,\n",
       " 7,\n",
       " 8,\n",
       " 9,\n",
       " 50,\n",
       " 39]"
      ]
     },
     "execution_count": 213,
     "metadata": {},
     "output_type": "execute_result"
    }
   ],
   "source": [
    "liste_nombre_mots"
   ]
  },
  {
   "cell_type": "code",
   "execution_count": 332,
   "metadata": {},
   "outputs": [
    {
     "name": "stdout",
     "output_type": "stream",
     "text": [
      "/home/emilien\n"
     ]
    }
   ],
   "source": [
    "cd "
   ]
  },
  {
   "cell_type": "code",
   "execution_count": 333,
   "metadata": {},
   "outputs": [
    {
     "name": "stdout",
     "output_type": "stream",
     "text": [
      "/home/emilien/Dropbox/Formation Python/python-shs/Données\n"
     ]
    }
   ],
   "source": [
    "cd \"./Dropbox/Formation Python/python-shs/Données\""
   ]
  },
  {
   "cell_type": "code",
   "execution_count": 336,
   "metadata": {
    "scrolled": true
   },
   "outputs": [
    {
     "name": "stdout",
     "output_type": "stream",
     "text": [
      "/home/emilien/Dropbox/Formation Python/python-shs/Données/Données\n"
     ]
    }
   ],
   "source": [
    "cd \"./Données\""
   ]
  },
  {
   "cell_type": "code",
   "execution_count": 351,
   "metadata": {},
   "outputs": [],
   "source": [
    "for i in os.listdir():\n",
    "    f = open(i,\"r\")\n",
    "    f.read()"
   ]
  },
  {
   "cell_type": "code",
   "execution_count": null,
   "metadata": {},
   "outputs": [],
   "source": []
  },
  {
   "cell_type": "code",
   "execution_count": 350,
   "metadata": {},
   "outputs": [],
   "source": [
    "rm .nouveau_fichier.txt.kate-swp"
   ]
  },
  {
   "cell_type": "code",
   "execution_count": null,
   "metadata": {},
   "outputs": [],
   "source": [
    "<module 'regex' from '/home/emilien/.conda/envs/p35/lib/python3.5/site-packages/regex.py'>"
   ]
  },
  {
   "cell_type": "code",
   "execution_count": null,
   "metadata": {},
   "outputs": [],
   "source": [
    "{'PATH': '/home/emilien/.conda/envs/p35/bin:/home/emilien/.conda/envs/p35/bin:/home/emilien/anaconda3/bin:/usr/local/sbin:/usr/local/bin:/usr/sbin:/usr/bin:/sbin:/bin:/usr/games:/usr/local/games:/snap/bin', 'XDG_SEAT': 'seat0', 'LS_COLORS': 'rs=0:di=01;34:ln=01;36:mh=00:pi=40;33:so=01;35:do=01;35:bd=40;33;01:cd=40;33;01:or=40;31;01:mi=00:su=37;41:sg=30;43:ca=30;41:tw=30;42:ow=34;42:st=37;44:ex=01;32:*.tar=01;31:*.tgz=01;31:*.arc=01;31:*.arj=01;31:*.taz=01;31:*.lha=01;31:*.lz4=01;31:*.lzh=01;31:*.lzma=01;31:*.tlz=01;31:*.txz=01;31:*.tzo=01;31:*.t7z=01;31:*.zip=01;31:*.z=01;31:*.Z=01;31:*.dz=01;31:*.gz=01;31:*.lrz=01;31:*.lz=01;31:*.lzo=01;31:*.xz=01;31:*.zst=01;31:*.tzst=01;31:*.bz2=01;31:*.bz=01;31:*.tbz=01;31:*.tbz2=01;31:*.tz=01;31:*.deb=01;31:*.rpm=01;31:*.jar=01;31:*.war=01;31:*.ear=01;31:*.sar=01;31:*.rar=01;31:*.alz=01;31:*.ace=01;31:*.zoo=01;31:*.cpio=01;31:*.7z=01;31:*.rz=01;31:*.cab=01;31:*.wim=01;31:*.swm=01;31:*.dwm=01;31:*.esd=01;31:*.jpg=01;35:*.jpeg=01;35:*.mjpg=01;35:*.mjpeg=01;35:*.gif=01;35:*.bmp=01;35:*.pbm=01;35:*.pgm=01;35:*.ppm=01;35:*.tga=01;35:*.xbm=01;35:*.xpm=01;35:*.tif=01;35:*.tiff=01;35:*.png=01;35:*.svg=01;35:*.svgz=01;35:*.mng=01;35:*.pcx=01;35:*.mov=01;35:*.mpg=01;35:*.mpeg=01;35:*.m2v=01;35:*.mkv=01;35:*.webm=01;35:*.ogm=01;35:*.mp4=01;35:*.m4v=01;35:*.mp4v=01;35:*.vob=01;35:*.qt=01;35:*.nuv=01;35:*.wmv=01;35:*.asf=01;35:*.rm=01;35:*.rmvb=01;35:*.flc=01;35:*.avi=01;35:*.fli=01;35:*.flv=01;35:*.gl=01;35:*.dl=01;35:*.xcf=01;35:*.xwd=01;35:*.yuv=01;35:*.cgm=01;35:*.emf=01;35:*.ogv=01;35:*.ogx=01;35:*.aac=00;36:*.au=00;36:*.flac=00;36:*.m4a=00;36:*.mid=00;36:*.midi=00;36:*.mka=00;36:*.mp3=00;36:*.mpc=00;36:*.ogg=00;36:*.ra=00;36:*.wav=00;36:*.oga=00;36:*.opus=00;36:*.spx=00;36:*.xspf=00;36:', 'XAUTHORITY': '/tmp/xauth-1000-_0', 'CONDA_PROMPT_MODIFIER': '(p35) ', 'QT_ACCESSIBILITY': '1', 'HOME': '/home/emilien', 'SSH_AGENT_PID': '2657', 'LC_TELEPHONE': 'fr_FR.UTF-8', 'GS_LIB': '/home/emilien/.fonts', 'LC_ADDRESS': 'fr_FR.UTF-8', 'LC_TIME': 'fr_FR.UTF-8', 'LC_NAME': 'fr_FR.UTF-8', 'LANG': 'en_US.UTF-8', 'DESKTOP_SESSION': 'plasma', 'PAM_KWALLET5_LOGIN': '/run/user/1000/kwallet5.socket', 'PAGER': 'cat', 'DISPLAY': ':0', 'CPL_ZIP_ENCODING': 'UTF-8', 'SHELL': '/bin/bash', 'CONDA_PREFIX': '/home/emilien/.conda/envs/p35', 'LESSCLOSE': '/usr/bin/lesspipe %s %s', 'KDE_FULL_SESSION': 'true', 'LESSOPEN': '| /usr/bin/lesspipe %s', 'XDG_RUNTIME_DIR': '/run/user/1000', 'XCURSOR_THEME': 'breeze_cursors', 'XDG_SEAT_PATH': '/org/freedesktop/DisplayManager/Seat0', 'GIT_PAGER': 'cat', 'KDE_SESSION_UID': '1000', 'SESSION_MANAGER': 'local/emilien-ThinkPad-T480:@/tmp/.ICE-unix/2722,unix/emilien-ThinkPad-T480:/tmp/.ICE-unix/2722', 'SHLVL': '1', 'LC_MEASUREMENT': 'fr_FR.UTF-8', 'GPG_AGENT_INFO': '/run/user/1000/gnupg/S.gpg-agent:0:1', 'QT_AUTO_SCREEN_SCALE_FACTOR': '0', 'XDG_DATA_DIRS': '/usr/share/plasma:/usr/local/share:/usr/share:/var/lib/snapd/desktop', 'LC_IDENTIFICATION': 'fr_FR.UTF-8', 'GDAL_DATA': '/home/emilien/.conda/envs/p35/share/gdal', 'KDE_SESSION_VERSION': '5', 'XDG_SESSION_CLASS': 'user', 'XDG_SESSION_PATH': '/org/freedesktop/DisplayManager/Session1', 'DBUS_SESSION_BUS_ADDRESS': 'unix:path=/run/user/1000/bus', 'LOGNAME': 'emilien', 'KONSOLE_DBUS_SESSION': '/Sessions/2', 'PROJ_LIB': '/home/emilien/.conda/envs/p35/share/proj', 'LC_MONETARY': 'fr_FR.UTF-8', 'XDG_SESSION_TYPE': 'x11', 'XDG_CURRENT_DESKTOP': 'KDE', 'COLORFGBG': '15;0', 'COLORTERM': 'truecolor', 'LANGUAGE': '', 'SHELL_SESSION_ID': '01b648db786340ef983b49909997b2b8', 'CONDA_PREFIX_1': '/home/emilien/anaconda3', 'SSH_AUTH_SOCK': '/tmp/ssh-4GNf0vHK4vot/agent.2509', 'LC_PAPER': 'fr_FR.UTF-8', 'TERM': 'xterm-color', '_': '/home/emilien/.conda/envs/p35/bin/jupyter', 'XDG_CONFIG_DIRS': '/etc/xdg/xdg-plasma:/etc/xdg:/usr/share/kubuntu-default-settings/kf5-settings', 'JPY_PARENT_PID': '5143', 'WINDOWID': '50331655', 'USER': 'emilien', 'PWD': '/home/emilien', 'DEFAULTS_PATH': '/usr/share/gconf/plasma.default.path', 'GTK_RC_FILES': '/etc/gtk/gtkrc:/home/emilien/.gtkrc:/home/emilien/.config/gtkrc', 'CONDA_DEFAULT_ENV': 'p35', 'CONDA_EXE': '/home/emilien/anaconda3/bin/conda', 'XDG_SESSION_ID': '3', 'PROFILEHOME': '', 'MANDATORY_PATH': '/usr/share/gconf/plasma.mandatory.path', 'CONDA_PYTHON_EXE': '/home/emilien/anaconda3/bin/python', 'XDG_SESSION_DESKTOP': 'KDE', 'CLICOLOR': '1', 'CONDA_SHLVL': '2', 'KONSOLE_DBUS_SERVICE': ':1.29', 'MPLBACKEND': 'module://ipykernel.pylab.backend_inline', 'KONSOLE_PROFILE_NAME': 'Default', 'XDG_VTNR': '1', 'GTK2_RC_FILES': '/etc/gtk-2.0/gtkrc:/home/emilien/.gtkrc-2.0:/home/emilien/.config/gtkrc-2.0', '_CONDA_SET_PROJ_LIB': 'PROJ_LIB', 'LC_NUMERIC': 'fr_FR.UTF-8'}"
   ]
  },
  {
   "cell_type": "code",
   "execution_count": null,
   "metadata": {},
   "outputs": [],
   "source": []
  },
  {
   "cell_type": "code",
   "execution_count": null,
   "metadata": {},
   "outputs": [],
   "source": []
  },
  {
   "cell_type": "code",
   "execution_count": null,
   "metadata": {},
   "outputs": [],
   "source": []
  },
  {
   "cell_type": "code",
   "execution_count": 220,
   "metadata": {},
   "outputs": [
    {
     "name": "stdout",
     "output_type": "stream",
     "text": [
      "/home/emilien/Dropbox/Formation Python\n"
     ]
    }
   ],
   "source": [
    "cd \"./Dropbox/Formation Python\""
   ]
  },
  {
   "cell_type": "code",
   "execution_count": 222,
   "metadata": {},
   "outputs": [
    {
     "name": "stdout",
     "output_type": "stream",
     "text": [
      "Déroulé  Inscrits  \u001b[0m\u001b[01;34mLivres\u001b[0m/  \u001b[01;34mpython-shs\u001b[0m/  Ressources  \u001b[01;34msopy\u001b[0m/\r\n"
     ]
    }
   ],
   "source": [
    "%ls"
   ]
  },
  {
   "cell_type": "code",
   "execution_count": 223,
   "metadata": {},
   "outputs": [
    {
     "name": "stdout",
     "output_type": "stream",
     "text": [
      "/home/emilien/Dropbox/Formation Python/python-shs\n"
     ]
    }
   ],
   "source": [
    "cd \"python-shs/\""
   ]
  },
  {
   "cell_type": "code",
   "execution_count": 227,
   "metadata": {},
   "outputs": [
    {
     "name": "stdout",
     "output_type": "stream",
     "text": [
      "/home/emilien/Dropbox/Formation Python/python-shs/Données/Données\n"
     ]
    }
   ],
   "source": [
    "cd \"Données/\""
   ]
  },
  {
   "cell_type": "code",
   "execution_count": 228,
   "metadata": {},
   "outputs": [
    {
     "name": "stdout",
     "output_type": "stream",
     "text": [
      "'0- Homéopathie Une réglementatio.txt'\r\n",
      "'10- HoméopathieUne réglementation.txt'\r\n",
      "\"11- TélescopeMédecine L'homéopath.txt\"\r\n",
      "'12- SANTÉ La faculté de médecine .txt'\r\n",
      "'13- 2018 en images .txt'\r\n",
      "\"14- L'homéopathie renversée par L.txt\"\r\n",
      "'15- Un week-end et plus de 40 ren.txt'\r\n",
      "\"16- Santé Remboursement de l'homé.txt\"\r\n",
      "'17- HOMÉOPATHIE UNE RÉGLEMENTATIO.txt'\r\n",
      "'18- Science & médecine Bataille c.txt'\r\n",
      "\"19- Les labos contre l'homéopathi.txt\"\r\n",
      "\"1- Nofakemed, symptôme d'un mala.txt\"\r\n",
      "\"20- Santé L'homéopathie sème la d.txt\"\r\n",
      "'21- Alexandre Klein : « Il y a de.txt'\r\n",
      "'22- Confesser le pape François su.txt'\r\n",
      "\"23- Enquête « Si c'est naturel, c.txt\"\r\n",
      "'24- Notre sélection de champagnes.txt'\r\n",
      "\"25- Cancer : des freins à l'accès.txt\"\r\n",
      "'26- Critiques Essais Overdose de .txt'\r\n",
      "'27- 4 tribune .txt'\r\n",
      "'28- Des terroirs biodynamiques .txt'\r\n",
      "'29- 4 tribune .txt'\r\n",
      "'2- Homéopathie : les doyens des .txt'\r\n",
      "'30- Jean-Gérard Bloch, pionnier d.txt'\r\n",
      "'31- Portrait Agnès Buzyn prête à .txt'\r\n",
      "'32- France 5 .txt'\r\n",
      "'33- Le Monde Festival Saison 5 .txt'\r\n",
      "'34- Votre soirée télé mardi 15 ja.txt'\r\n",
      "'35- Objets trouvés Pour qui sonne.txt'\r\n",
      "'36- Reportage La vache à cash des.txt'\r\n",
      "'37- Le viager empoisonné La cours.txt'\r\n",
      "'3- Homéopathie : entre médecins,.txt'\r\n",
      "'4- Homéopathie : entre médecins,.txt'\r\n",
      "'5- Les médecines alternatives do.txt'\r\n",
      "'6- Homéopathie : entre médecins,.txt'\r\n",
      "\"7- Nofakemed, symptôme d'un mala.txt\"\r\n",
      "'8- HoméopathieUne réglementation.txt'\r\n",
      "'9- Tribune Homéopathie, efficace.txt'\r\n"
     ]
    }
   ],
   "source": [
    "%ls"
   ]
  },
  {
   "cell_type": "code",
   "execution_count": 247,
   "metadata": {},
   "outputs": [
    {
     "name": "stdout",
     "output_type": "stream",
     "text": [
      "base.xlsx    Europresse-1.HTML        export-marseille201903.csv\r\n",
      "\u001b[0m\u001b[01;34mDonnées\u001b[0m/     Europresse-2.HTML\r\n",
      "\u001b[01;31mDonnées.zip\u001b[0m  Europresse-lemonde.HTML\r\n"
     ]
    }
   ],
   "source": [
    "%ls"
   ]
  },
  {
   "cell_type": "code",
   "execution_count": 248,
   "metadata": {
    "scrolled": true
   },
   "outputs": [
    {
     "name": "stdout",
     "output_type": "stream",
     "text": [
      "/home/emilien/Dropbox/Formation Python/python-shs/Données/Données\n"
     ]
    }
   ],
   "source": [
    "cd \"Données\""
   ]
  },
  {
   "cell_type": "code",
   "execution_count": 268,
   "metadata": {},
   "outputs": [],
   "source": [
    "import os\n",
    "\n",
    "tous_articles = []\n",
    "\n",
    "for fichier in os.listdir()[0:21]:\n",
    "    f = open(fichier,\"r\")\n",
    "    contenu = f.read()\n",
    "    tous_articles.append(contenu)\n",
    "\n",
    "\n"
   ]
  },
  {
   "cell_type": "code",
   "execution_count": 261,
   "metadata": {},
   "outputs": [
    {
     "data": {
      "text/plain": [
       "[\" Cancer : des freins à l'accès aux immunothérapies Médecine | Alors que le laboratoire MSD a obtenu l'autorisation de mettre sur le marché un anticorps qui sera utilisé en première ligne contre un cancer du poumon, un Livre blanc qu'il a financé dénonce les obstacles qui retardent la distribution de ces traitements coûteux \\n\\n Science & Médecine,  mercredi 29 novembre 2017 1090 mots, p. SCH2 \\n\\n Le Monde   \\n\\n  Innovation dans le domaine du cancer du poumon, le traitement d'immunothérapie Keytruda (pembrolizumab, MSD) va être disponible pour les patients français en première ligne de traitement. Le laboratoire MSD, filiale de l'américain Merck, a annoncé mardi 28 novembre avoir trouvé un accord sur le prix de cette molécule. Au terme de plusieurs mois de discussions, le tarif fixé, remboursé par l'Assurance-maladie, est d'environ 6 000 euros par mois et par patient - le prix de l'innovation, justifient les laboratoires. Bien plus élevés qu'un traitement « standard » de chimiothérapie, ces montants sont souvent pointés du doigt.   Cette nouvelle arme thérapeutique s'inscrit dans une nouvelle génération de médicaments visant à renforcer le système immunitaire pour qu'il se défende mieux et parvienne à tuer les \\xadcellules cancéreuses. Le Keytruda a montré une amélioration de survie de trois à quatre ans pour les « cancers bronchiques non à petites cellules métastatiques » et dont les tumeurs expriment fortement (à plus de 50 %) le biomarqueur PDL1, soit environ 20 % des 45 000 patients touchés chaque année par le cancer du poumon en France. Ce qui représente de 6 000 à 8 000 patients. « Les résultats sont spectaculaires », se félicite le pneumologue Christos Chouaid (CHI de Créteil), impliqué dans les essais cliniques. « Le taux de survie est plus que doublé avec le pembrolizumab, comparativement à la chimiothérapie, avec une meilleure tolérance », se réjouit le docteur Nassima Mimoun, directrice oncologie de MSD. « Enjeu de taille » Cette molécule avait déjà reçu une autorisation de mise sur le marché (AMM) fin 2014 pour le \\xadmélanome et, en deuxième ligne, pour certains cancers du poumon. Elle a obtenu l'AMM européenne pour cette extension d'indication, en première ligne, en janvier, mais était depuis dans une sorte de « zone grise . Il a fallu attendre près d'un an pour que le prix soit fixé. Des délais trop longs que dénoncent les experts.   En effet, « l'ensemble des patients éligibles doit pouvoir bénéficier de ces traitements », a estimé le docteur Aurélien Marabelle, directeur du programme d'immunothérapie à l'Institut Gustave-Roussy (IGR), à Villejuif, et membre du Cercle de réflexion en immuno-oncologie (CRIO), lors d'une conférence de presse, mercredi 22 novembre, présentant un Livre blanc. « La France doit accélérer les processus réglementaires pour la mise à disposition de ces nouveaux traitements », juge le professeur Jean-Yves Blay, directeur général du Centre de lutte contre le cancer Léon-Bérard, à Lyon, dans la préface de l'ouvrage - dont il faut souligner qu'il a été conçu avec le soutien de MSD France.   « L'enjeu est de taille, puisque ces médicaments en immunothérapie bousculent la vision du cancer » (385 000 nouveaux cas diagnostiqués en 2015), explique le docteur Marabelle. Plus faciles à administrer, ces traitements améliorent la survie et ont moins d'effets indésirables, mais ceux-ci peuvent être très sévères. Il y aurait dans le monde plus de 1 000 essais cliniques d'immunothérapies en cours, une grande part portant sur des combinaisons de médicaments déjà disponibles. « C'est 50 % des traitements à l'IGR », précise le docteur Marabelle. Un bémol toutefois : parfois présentés comme des médicaments miracles, ils ne sont \\xadefficaces que chez 10 % à 40 % des patients, selon les tumeurs et les essais cliniques.   Le Livre blanc avance des propositions pour faire face aux enjeux (médicaux, organisationnels, économiques...). L'un des plus sensibles est le financement. A ce jour, au moins une vingtaine de médicaments ont obtenu l'AMM mais ne sont pas pris en charge par la « liste en sus » qui confère habituellement une certaine souplesse de financement. En d'autres termes, soit l'hôpital paie - et se met en déficit -, soit il ne peut proposer le traitement. Une réponse qui dépend de chaque centre. « Les lenteurs et les contraintes sur les contrôles des prix se font au détriment de l'innovation, alors qu'on ne se pose pas la question sur le remboursement de vieux traitements dont l'efficacité n'est pas établie avec les critères désormais \\xadexigés ou sur l'homéopathie, par exemple », s'insurge Jean-Yves Blay, spécialiste des sarcomes. De même, dès lors qu'un médicament a obtenu une AMM pour une indication, il ne peut plus avoir d'autorisation temporaire d'utilisation (ATU) pour une nouvelle indication. Il doit donc reprendre le circuit « normal » d'AMM puis de \\xaddemande de remboursement et de prix.   Concrètement, les médicaments doivent être évalués par la Haute Autorité de santé, puis le \\xadComité économique des produits de santé (CEPS) fixe le prix, souvent très élevé. Cette procédure peut durer des mois. Avant même leur commercialisation, ces médicaments présentent un \\xadenjeu parfois vital pour les patients, à travers les essais cliniques consacrés à leur évaluation.   Etre dans le bon circuit Or la réglementation et les longs délais administratifs sont des freins pour accéder aux essais cliniques, notent les auteurs du Livre blanc. En témoignent des lettres types de refus reçues quasiment tous les jours par les oncologues. « Les délais des essais cliniques pénalisent la France, constate le professeur Blay, cela nous préoccupe beaucoup. » L'accès dépend du centre dont relève le patient et du « réseau » du soignant. « Il faut être au bon \\xadmoment dans le bon circuit », résume le professeur Chouaid. Ce qui engendre des inégalités d'accès aux soins et une perte de chance pour certains.   Les instances chargées d'évaluer et d'autoriser les essais cliniques sont débordées et manquent de moyens. Un frein déjà pointé par Les Entreprises du médicament (LEEM) dans un rapport de février. Alors que la France était particulièrement dynamique en cancérologie, « si ces freins réglementaires se prolongeaient, ça rendrait la France moins attractive », estime Nassima Mimoun.   Les représentants des malades s'impatientent eux aussi. L'Association française des malades du myélome multiple a dénoncé, vendredi 25 novembre, des « blocages inacceptables » pour cinq médicaments d'immunothérapie, qui ont obtenu les AMM en Europe, fin 2015, mais ne sont toujours pas disponibles en France. Autre demande, l'association Imagine for Margo se bat pour que la recherche, trop axée, selon elle, sur les traitements des cancers des adultes, se développe en faveur des enfants. Elle déplore des inégalités dans l'accès aux \\xadessais cliniques pour les cancers des enfants par manque d'informations, explique Patricia Blanc, présidente de cette association.   Les auteurs du Livre blanc souhaitent interpeller les pouvoirs publics, notamment la \\xadministre de la santé, Agnès Buzyn, qui connaît très bien le dossier.  \",\n",
       " \" Notre sélection de champagnes Pascal Agrapart Monsieur terroir \\n\\n Spécial,  mercredi 13 décembre 2017 371 mots, p. SPA20 \\n\\n Le Monde   \\n\\n  A Avize, village classé grand cru de la côte des Blancs, la concurrence est rude. Mais Pascal \\xadAgrapart, 55 ans, aidé de sa femme Nathalie et \\xaddorénavant de son fils Ambroise, creuse son sillon - il le fit un temps au cul de sa \\xadjument Vénus, aujourd'hui disparue mais qui donne son nom à une belle cuvée 100 % chardonnay. Pascal fait ses vins en pensant d'abord à mettre en valeur les terroirs. Il le peut; 80 % de ses 12 hectares sont en grands crus (à Avize, Cramant, Oger et Oiry), et hormis 5 % en pinot noir, tout est en chardonnay.   Amoureux de ses terres, le vigneron les respecte. « Ne pas agresser le sol, c'est éviter les désherbants. Une terre pérenne a besoin d'oxygène, de vie microbienne, de nutriments », égrène Pascal \\xadAgrapart. Alors, il griffe les sols en surface pour éviter l'enherbement qui concurrencerait la \\xadvigne, il les traite mécaniquement, et il use de\\xad \\xadcuivre et de soufre plutôt que de chimie. \\xadDisons-le, il est bio comme M. Jourdain fait de la prose, mais ne souhaite pas de certification. « Je ne veux pas m'interdire l'utilisation d'une molécule de synthèse si les conditions climatiques l'im\\xadposent. Pourfaire du vin, il faut du raisin, argumente-t-il. Moi, je me soigne avec l'homéopathie, je mise sur le préventif, mais si j'avais un truc grave, un cancer, je prendrais le traitement adéquat. » Chardonnay souverain En 1982, Pascal Agrapart reprend les rênes du \\xaddomaine (quatre générations) et sort sa première cuvée en 1985. Depuis, le vigneron, regard clair et sourire conquérant, propose chaque année quelque 100 000 bouteilles - attention, tout est vendu sur allocation. Pascal décline sa passion pour les terroirs, leurs typicités, en sept cuvées, où le chardonnay est souverain. Outre les cuvées « 7 crus » ou « Terroirs », avouons un coup de coeur pour la « Complantée », chardonnay et \\xadpinot noir assemblés avec les anciens petit \\xadmeslier, arbanne ou encore pinot blanc, \\xadcomplexe à souhait (3 500 flacons, 42 euros) ou encore la « Minéral » 2011, un blanc de blancs \\xadextra-brut, magnifique de tension et de précision (56 euros). Et, dans quelques semaines, les amateurs de beaux raisins pourront goûter le millésime 2008, une splendeur (150 euros).  \",\n",
       " \" France 5 \\n\\n Agenda,  mardi 15 janvier 2019 30 mots, p. 21 \\n\\n Le Monde   \\n\\n  20.50 Enquête de santé   Homéopathie, bientôt la fin?   Magazine présenté par Marina Carrère d'Encausse   et Philippe Charlier. 22.35 C dans l'air   Magazine présenté par Caroline Roux.  \",\n",
       " \" Objets trouvés Pour qui sonne la notification \\n\\n L'Époque,  lundi 8 mai 2017 487 mots, p. EPH8 \\n\\n Le Monde   \\n\\n  Une drôle de symphonie dans la poche. Un bip, deux dings, un trio de notes, un croassement. Des vibrations tour à tour paresseuses, saccadées, affolées. Le smartphone a une vie propre, il se \\xadsignale à nous comme un enfant nous \\xadtirerait par la manche. Sauf que ce qu'il a à dire ne porte pas sur une troisième part de gâteau. Il nous livre, en vrac, des informations sur l'état du monde, nos rendez-vous de la journée, les jeux auxquels on pourrait jouer, les réseaux sociaux pleins de nouvelles polémiques à découvrir. Ce sont les notifications.   Il y a les discrètes : un chiffre qui augmente au-dessus d'une icône, pour \\xadsignaler les messages non lus. Certains effacent frénétiquement leurs mails pour rester à zéro, écopant sans fin leur barque numérique percée de mille trous. D'autres laissent filer jusqu'à des nombres vertigineux, comme le compteur de la dette publique américaine installé dans une rue de New York. Il y a les factuelles : « Lou Reed est mort. » « Votre compte présente un solde débiteur de 387 euros. » Parfois, on les a programmées soi-même : « 19 heures : pain/oranges à jus/homéopathie/RV dentiste . Ce fatras laisse un sentiment d'aplanissement des hiérarchies, comme si Lou Reed était rayé de la liste de courses en même temps que les oranges. Au journal, une mélodie en canon retentit dans les étages à chaque alerte du Monde.fr, suscitant régulièrement le même débat : « Pourquoi je l'ai reçue après toi? » Ma chouchoute reste l'alerte BBC News, dont la sonnerie me donne l'impression d'être catapultée sur un plateau télé en breaking news.   Dernière catégorie, les racoleuses : « 14,07 km parcourus et 826 calories brûlées cette semaine, Clara! Chaussez vos baskets et continuez sur votre lancée! » « La fée des dents a une surprise succulente pour toi, Clara! Viens vite jouer. » Là, un mécanisme insidieux est à l'oeuvre. Ces messages sont tellement exaspérants que l'on finit par se dire que le meilleur moyen de leur rabattre le caquet, c'est de leur obéir. Les notifications, c'est une inversion du rapport homme-objet : ce n'est plus l'homme qui sollicite l'objet mais l'objet qui sollicite l'homme, du fond du sac. Nous ne sommes pas pour autant des victimes impuissantes de la technologie tyrannique. Il suffit de les éteindre pour reprendre la main.   Je ne crois pas non plus que ces notifications nous rendent incapables de faire la part des choses, de « prioriser », comme on dit avec élégance dans le monde du travail. Il y a celles qu'on oublie aussitôt, bribes d'informations périssables comme un vieux journal papier. Et il y a celles que l'on n'oubliera jamais. Un message à l'aube, un matin de mai 2011 : « DSK arrêté à New York pour viol. » Un écran couvert d'alertes en sortant de la piscine, un midi de congé maternité : « Fusillade à Charlie Hebdo, plusieurs morts. » Dimanche 7 mai, à 20 heures, l'histoire de France carillonnera encore dans nos poches.  \",\n",
       " \" Nofakemed, symptôme d'un malaise médical En europe, différentes politiques \\n\\n Science & Médecine,  mercredi 28 novembre 2018 519 mots, p. SCH5 \\n\\n Le Monde   \\n\\n  Dans le collimateur du mouvement des Fakemed en France, les médecines complémentaires, et en particulier l'homéopathie, sont aussi sur la sellette ailleurs en Europe. C'est un rapport sévère du Conseil scientifique des académies des sciences européennes (Easac), publié en septembre 2017, qui a poussé plusieurs pays à \\xadrevoir leur politique en la matière. « Il n'y a aucune preuve solide de l'efficacité des produits homéopathiques pour quelque maladie que ce soit, même s'il y a parfois un effet placebo », jugeait l'Easac, ajoutant que « l'homéopathie peut être nocive en dissuadant le patient de solliciter un traitement médical approprié .   Le 14 novembre, le gouvernement espagnol a annoncé un plan d'action contre les pratiques qualifiées de « pseudo-thérapies », dont l'homéopathie et l'acupuncture. Objectif de ce plan, présenté par le ministère de la santé et celui de la science, de l'innovation et de l'enseignement supérieur et rapporté par l'AFP : « éviter les effets nocifs potentiels » de ces approches « lorsqu'elles sont utilisées de manière alternative ou complémentaire à des traitements » fondés, eux, « sur des preuves et la rigueur scientifique . Modification de la loi espagnole L'Espagne souhaite éliminer ces pratiques des centres de soins publics et privés et s'assurer que tous les soins soient prodigués par des professionnels reconnus. Les fabricants de produits homéopathiques doivent désormais demander un agrément. Sur plus de 2 000 dossiers constitués, les laboratoires n'ont finalement choisi d'en soumettre que douze aux tests pour la qualification en médicament, note le correspondant du Figaro. Sont également prévues « des mesures pour éviter l'enseignement des pseudo-sciences dans les universités espagnoles », en développant des alliances avec les doyens, les recteurs ou encore les régions espagnoles pour ne pas décerner des diplômes liés à ces activités. Ces dernières années, plusieurs universités ont déjà supprimé leurs enseignements de l'homéopathie.   Madrid veut par ailleurs modifier la loi pour « combattre la publicité mensongère » entourant ces « pseudo-thérapies » sur Internet et les réseaux sociaux.   « Il est essentiel que la société soit au fait de la connaissance scientifique pour pouvoir prendre de meilleures décisions personnelles et collectives », a souligné le ministre des sciences Pedro Duque sur Twitter. Les médias espagnols s'étaient fait récemment l'écho de personnes décédées après avoir tenté de traiter de sévères pathologies avec des médecines alternatives comme la naturopathie.   En Angleterre, l'homéopathie n'est plus financée par les services de santé publics depuis novembre 2017. L'Irlande du Nord et le Pays de Galles ont également arrêté de prendre en charge les granules, l'Ecosse demeurant la seule exception au Royaume-Uni. Cette médecine était déjà marginale en Angleterre : seulement 400 médecins du National Health Service en prescrivaient, sur un total de 33 000. Et la facture n'était guère élevée : en 2016, ces produits n'ont coûté aux services publics que l'équivalent de 100 000 euros.   Pour l'instant, outre dans l'Hexagone, l'homéopathie est populaire en Allemagne (ou le marché pesait 600 millions d'euros en 2016), en Autriche et en Roumanie. Les laboratoires Boiron regardent désormais vers l'Inde, où ils ont ouvert une filiale en 2016. Avec plus de 200 000 médecins homéopathes, c'est l'un des premiers pays au monde pour le développement de l'homéopathie, souligne le laboratoire français.  \",\n",
       " \" Santé Remboursement de l'homéopathie : réponses attendues d'ici à fin février \\n\\n France,  samedi 25 août 2018 103 mots, p. 10 \\n\\n Le Monde   \\n\\n  Le ministère de la santé a saisi la Haute Autorité de santé (HAS) pour évaluer \\xadl'efficacité de l'homéopathie et le bien-fondé de son remboursement et attend son avis d'ici fin février 2019. Cet avis devra prendre en compte « leur efficacité et leurs effets indésirables, leur place dans la stratégie thérapeutique » et « l'intérêt pour la santé pu\\xadblique de ces produits », précise la lettre de saisine, datée du 1er août, et obtenue par l'AFP. Certains médicaments sont remboursés à hauteur de 30 % par l'Assurance maladie, bien que leur efficacité n'ait pas été évaluée scientifiquement.  \",\n",
       " \" Le Monde Festival Saison 5 \\n\\n Spécial,  mardi 25 septembre 2018 761 mots, p. SPA2 \\n\\n Le Monde   \\n\\n  LES LIEUX DU FESTIVAL   Opéra Bastille, place de la Bastille, Paris 12e   Palais Garnier, place de l'Opéra, Paris 9e   Théâtre des Bouffes du Nord, 37 bis, boulevard de la Chapelle, Paris 10e Cinéma Gaumont Opéra (côté Capucines), 2, boulevard des Capucines, Paris 9e   Uniquement sur réservation en ligne : Lemonde.fr/festival   Vendredi 5 octobre   OUVERTURE   Cinéma : « Une affaire de famille », film de Kore-eda (avant-première), 20 heures, cinéma Gaumont Opéra. En présence du réalisateur.   Samedi 6 octobre   RENCONTRES-DÉBATS   Le big data va-t-il tuer le hasard des rencontres? De 10 heures à 11 h 30, Opéra Bastille (amphithéâtre).   Conversation avec François Jullien De 10 heures à 11 heures, Théâtre des Bouffes du Nord.   Conversation avec Pierre de Villiers De 10 heures à 11 heures, Palais Garnier (grand foyer).   L'amour foot De 10 heures à 11 h 30, Opéra Bastille (studio).   Peut-on aimer l'entreprise, peut-on aimer le capitalisme (et comment)?   De 11 h 30 à 13 heures, Palais Garnier (grand foyer).   Donner l'envie d'apprendre, un jeu d'enfant? De 12 heures à 13 h 30, Opéra Bastille (amphithéâtre).   Vaccination, homéopathie... : existe-t-il une vérité scientifique? De 12 heures à 13 heures, Opéra Bastille (studio).   A quoi sert un musée? De 12 heures à 13 h 30, Théâtre des Bouffes du Nord.   Comment informer sous la présidence d'Emmanuel Macron? De 13 h 30 à 15 heures, Palais Garnier (grand foyer).   Islande, une passion française De 14 heures à 15 h 30, Opéra Bastille (studio).   Les technologies doivent-elles faire le bien? De 14 heures à 15 h 30, Opéra Bastille (amphithéâtre).   La tribu Guédiguian De 14 heures à 15 h 30, Théâtre des Bouffes du Nord.   Conversation avec Mario Vargas Llosa De 15 h 30 à 16 h 30, Palais Garnier (grand foyer).   Conversation avec Juliette Armanet De 16 heures à 17 heures, Théâtre des Bouffes du Nord.   Clitoris, le grand tabou De 16 heures à 17 h 30, Opéra Bastille (studio).   Faux procès : la disparition   De 16 h 30 à 18 heures, Opéra Bastille (amphithéâtre).   Chanter n'est pas jouer   De 17 heures à 18 heures, Palais Garnier (grand foyer).   Déshabillez-les! La mode racontée par ceux qui la font   De 17 h 30 à 19 heures, Théâtre des Bouffes du Nord.   ET AUSSI...   « Un amour impossible », film de Catherine Corsini (avant-première), 17 heures, cinéma Gaumont Opéra. En présence de la réalisatrice et de l'actrice Virginie Efira.   Nuit de l'amour et des idées De 22 heures jusqu'au lendemain, 6 heures, Théâtre des Bouffes du Nord.   Dimanche 7 octobre   Conversation avec Roberto Saviano De 10 heures à 11 heures, Opéra Bastille (amphithéâtre).   Goût du chef, goût du public De 10 heures à 11 h 30, Théâtre des Bouffes du Nord.   La rencontre des corps. Une histoire du sexe De 10 heures à 11 h 30, Palais Garnier (grand foyer).   Intelligence artificielle et \\xadémotions : un amour de robot? De 10 heures à 11 h 30, Opéra Bastille (studio).   Imaginer le futur immeuble du « Monde » De 11 h 30 à 13 heures, Opéra Bastille (amphithéâtre).   Aimer, travailler, bien vivre \\xadjusqu'à pas d'âge De 12 heures à 13 h 30, Opéra Bastille (studio).   Aux origines de #metoo De 12 heures à 13 h 30, Palais Garnier (grand foyer).   Le cinéma à l'épreuve de la chair De 12 h 30 à 14 heures, Théâtre des Bouffes du Nord.   Pour l'amour de ma Terre De 13 h 30 à 15 heures, Opéra Bastille (amphithéâtre).   L'économie peut-elle faire le bien commun? De 14 heures à 15 heures, Opéra Bastille (studio).   S'aimer comme des bêtes De 14 heures à 15 h 30, Palais Garnier (grand foyer).   D'Océanerosemarie à Océan, l'histoire d'un homme épuisé d'être une femme De 14 h 30 à 15 h 30, Théâtre des Bouffes du Nord.   L'islam doit-il faire sa révolution sexuelle? De 15 h 30 à 17 heures, Opéra Bastille (amphithéâtre).   Pourquoi aimons-nous les chefs? De 15 h 30 à 17 heures, Opéra Bastille (studio).   Y a-t-il une vie après la politique? De 16 heures à 18 h 30, Palais Garnier (grand foyer).   Conversation avec Charline Vanhoenacker   De 16 heures à 17 heures, Théâtre des Bouffes du Nord.   Conversation avec Chimamanda Ngozi Adichie De 17 h 30 à 18 h 30, Opéra Bastille (amphithéâtre).   Faire danser le public De 10 heures à 13 heures, Palais Garnier (grande salle).   Rachid Benzine lit, avec Lina El Arabi, ses « Lettres à Nour », un spectacle sur la radicalisation islamiste des jeunes. Suivi d'un débat. A partir de 19 heures, Théâtre des Bouffes du Nord.   « En liberté! »,film de Pierre Salvadori, 20 heures, Gaumont Opéra. En présence de l'équipe du film.   AU PROGRAMME  \",\n",
       " \" Critiques Essais Overdose de neurosciences cognitives et comportementales Alain Ehrenberg corrèle l'engouement pour la mythologie cérébrale à l'individualisme contemporain, sans parvenir à étayer sa thèse \\n\\n Le Monde des Livres,  vendredi 13 avril 2018 585 mots, p. LIV7 \\n\\n Le Monde   \\n\\n  Sociologue, directeur de \\xadrecherches au CNRS, Alain Ehrenberg étudie dans ce nouveau livre les raisons pour lesquelles les neurosciences cognitives et comportementales (NSCC) suscitent un tel engouement qu'elles ont supplanté la psychanalyse et la psychiatrie dans l'approche des maladies de l'âme et des comportements humains normaux, depuis \\xadl'observation des enfants scolarisés jusqu'à celle des adultes en bonne santé.   L'affirmation d'une efficacité thérapeutique quantifiée par des évaluations ne suffit pas, selon lui, à expliquer cette fascination qui a conduit de nombreux \\xadchercheurs à ajouter le préfixe « neuro » à leur discipline : neuro-économie, neuro-histoire, neuro-psychologie, neuro-ceci ou cela. Tout se passe comme si l'on ne pouvait plus penser la condition humaine sans une référence obligée à une plasticité cérébrale censée expliquer à elle seule nos \\xadmanières de vivre, de boire, de manger, de faire l'amour, de réussir ou d'échouer. Plus besoin de parler, il suffirait de regarder des flux synaptiques pour connaître le « potentiel caché » de chaque \\xadindividu. Tel serait, selon l'auteur, le programme de cette « tribu » NSCC : étendre son pouvoir bien au-delà du domaine de la science et du traitement des pathologies. Catéchisme neuronal A travers une enquête menée avec les instruments d'une sociologie non encore neuronale, Alain Ehrenberg relate les modalités d'implantation de ce nouveau \\xadrécit, né dans les universités de la Côte ouest des Etats-Unis et qui a envahi nos sociétés depuis une trentaine d'années. Cette lame de fond, qu'il considère comme le principal « baromètre » de l'individualisme contemporain, serait liée à la transformation de la subjectivité, paradigme des angoisses infantiles et généalogiques.   Plus besoin de savoir qui l'on est ni d'où l'on vient, il suffirait, pour vivre bien, d'obéir à des exercices visant à évacuer de soi les souffrances, les désirs, les souvenirs, afin d'accéder à une sagesse cérébralement correcte, centrée sur la compétence et la performance. Mais pour cela, note curieusement Alain Ehrenberg, de même que les cas choisis par Freud ont pu, parce qu'ils confirmaient ses hypothèses, assurer la domination de la psychanalyse, les NSCC doivent encore découvrir les \\xadpatients dont les « cerveaux pourraient incarner [leurs] ambitions . Mais comment trouver un sujet dont l'histoire se résumerait à celle de ses neurones? Difficile...   En achevant La Mécanique des passions, on est pris de vertige. On imagine qu'un jour on parlera de neuro-management, neuro-politique ou neuro-journalisme, et qu'on installera partout des scanners afin de mesurer en \\xaddirect la mécanique passionnelle de tous les cerveaux humains. \\xadCependant, on continue de se \\xaddemander pourquoi l'auteur suppose que ce catéchisme neuronal, dont il souligne qu'il est en passe de réduire à néant les composantes sociales, psychiques et historiques de la subjectivité humaine, serait le reflet de l'individualisme contemporain.   Ehrenberg ne parvient jamais à le démontrer, parce que, chose étrange pour un sociologue, son enquête ne s'intéresse pas aux pratiques réelles des individus. L'engouement pour cette mythologie cérébrale est incontestable dans le champ des savoirs, où les résultats objectifs des sciences du cerveau suffisent à expliquer leur position prépondérante. Mais ce n'est pas une croyance aussi universellement partagée qu'il semble le penser. En témoigne le fait que les individus contemporains des milliers de patients ne se tournent pas, pour assurer leur bien-être, vers les NSCC, mais vers les médecines ou les thérapies \\xadalternatives (homéopathie, kinésiologie, etc.), répondant ainsi, spontanément, aux excès du scientisme par le recours à \\xadl'obscurantisme.  \",\n",
       " \" Alexandre Klein : « Il y a des enjeux corporatistes dans ce mouvement » \\n\\n Science & Médecine,  mercredi 28 novembre 2018 879 mots, p. SCH4 \\n\\n Le Monde   \\n\\n  Docteur en philosophie et histoire des sciences, Alexandre Klein est chercheur postdoctoral au département des sciences historiques de l'université Laval (Québec). Ses travaux portent sur l'histoire de la médecine contemporaine, de la psychologie et de la psychiatrie.   Le mouvement #nofakemed est très virulent contre les \\xadmédecines complémentaires. Y a-t-il des antécédents dans l'histoire de la médecine? Depuis la Révolution française, à chaque fois que le corps médical a voulu s'affirmer et s'unifier, il s'est trouvé des ennemis qu'il a appelés « charlatans » pour mieux se définir en opposition. A une époque, ce furent les guérisseurs, à d'autres les sages-femmes ou les officiers de santé... Le travail d'exclusion des autres soignants a été particulièrement actif au XIXe siècle, lorsque la médecine a oeuvré pour \\xadacquérir le monopole de la santé. Mais au XXe siècle, un mouvement inverse s'est opéré. Progressivement, la population a pris conscience que la santé, ce n'était pas seulement la médecine. D'ailleurs, en 1946, l'Organisation mondiale de la santé (OMS) l'a définie plus seulement comme l'absence de maladie mais comme un état de complet bien-être physique, mental et social. Dans le même temps, les médecins, qui s'étaient donné pour mission de guérir, ont vu se multiplier les maladies chroniques, qu'il ne s'agissait plus de guérir mais seulement de gérer. Ils ont alors choisi de déléguer, pour conserver leur coeur de métier, par exemple en créant des associations pour apprendre aux patients à prendre soin d'eux-mêmes. La \\xadremise en question du monopole médical sur la santé s'est ensuite accentuée avec le développement d'un marché du bien-être, devenu de plus en plus important.   La création de ce mouvement « anticharlatans » ne vous a donc pas surpris? Non, mais ce qui m'a frappé dans leur première action, une tribune publiée en mars dans Le Figaro, c'est son propos quelque peu \\xaddésorganisé, pour ne pas dire brouillon. On comprenait que ses auteurs visaient l'homéopathie, mais ils le faisaient en mettant dans le même sac toutes les médecines complémentaires, sans aucune nuance ni distinction.   On ne peut pas mettre l'acupuncture et l'homéopathie au même niveau, ni même considérer l'ostéopathie, qui est une discipline enseignée et reconnue dans des pays comme le Canada ou l'Ecosse, simplement comme une pratique charlatanesque. Bien sûr, il est légitime de revendiquer des pratiques fondées sur des données probantes, mais l'idée même d'exclusion me pose question. Il y a des enjeux corporatistes dans ce mouvement, et d'ailleurs, au fond, leur tribune était surtout adressée à l'ordre des médecins.   L'autre élément qui m'a interpellé c'est que beaucoup des signataires du texte sont des généralistes, apparemment jeunes. Ce n'est pas étonnant dans la mesure où ce sont eux qui subissent le plus la crise identitaire de la médecine française. Avec des conditions de travail qui se dégradent et des \\xadpatients plus informés, plus exigeants, parfois plus vindicatifs, les médecins sont souvent déboussolés. Ayant de moins en moins de temps à accorder à leurs malades, ils ne peuvent plus prendre réellement soin (au sens du care) d'eux. Contrairement aux homéopathes, acupuncteurs ou ostéopathes qui, eux, offrent du temps d'écoute et de soins individualisé. Pour moi, ce mouvement est donc aussi, et peut-être avant tout, un symptôme du mal-être croissant de certains médecins.   N'est-ce pas une volonté de rationaliser la médecine? En apparence peut-être, mais le mouvement de rationalisation des pratiques médicales existe déjà depuis longtemps et passe aujourd'hui par d'autres canaux, comme par exemple ceux de l'evidence based medicine (« médecine fondée sur les preuves »). J'aurais d'ailleurs pensé que les jeunes praticiens se plaignent au contraire du peu de marge de manoeuvre que leur laissent les guides de bonne pratique, entièrement fondés sur les preuves. Revendiquer plus de scientificité est, me semble-t-il, l'arbre qui cache la forêt; peut-être un cri pour dénoncer autre chose. Dans le monde entier, si le processus de rationalisation est toujours en cours, on va aussi vers une plus grande complémentarité, plus d'interdisciplinarité entre les soignants. Je le vois au \\xadCanada ou aux Etats-Unis, où les médecines complémentaires sont davantage intégrées à l'hôpital. Mais la médecine française reste rigide sur ces questions. Il y a au fond quelque chose de très traditionnel, voire traditionaliste, dans l'action #nofakemed.   Leur mode de communication, beaucoup par les réseaux \\xadsociaux, est lui très moderne. Avec des propos très tranchés, du bashing... En effet, mais on peut faire le parallèle avec les revues médicales de différents bords politiques qui ont été créées au XIXe siècle et les débats, parfois virulentes, qui en ont émergé. Ce qui est frappant ici, c'est que, outre les observateurs extérieurs comme les journalistes ou les historiens qui suivent le hashtag sur Twitter, les #nofakemed sont surtout des professionnels qui s'interpellent entre eux. Et comme sur le sujet des vaccins, par exemple, on constate que c'est une bataille rangée entre les pro et les anti, sans réelle place pour la discussion. Or, comme le remarquait déjà la philosophe Isabelle Stengers, qui a travaillé sur les relations entre médecins et charlatans, quand les positions sont trop opposées, trop tranchées pour établir un \\xadvéritable dialogue, c'est probablement que la question est mal posée et qu'il faut aller voir ailleurs. D'où l'idée de souligner le malaise et la crise identitaire de la médecine française qui sont, selon moi, au coeur de ce mouvement.  \",\n",
       " ' Nofakemed, symptôme d\\'un malaise médical Nofakemed Leur croisade contre l\\'homéopathie Née d\\'un mouvement informel sur les réseaux sociaux, une tribune de professionnels de santé publiée au printemps dans « Le Figaro » pourrait faire vaciller l\\'homéopathie. Enquête sur une colère qui traduit aussi une certaine crise du magistère médical \\n\\n Science & Médecine,  mercredi 28 novembre 2018 2366 mots, p. SCH1 \\n\\n Le Monde   \\n\\n  Les médecines complémentaires et en particulier l\\'homéopathie sont-elles à un tournant de leur histoire en France? Saisie cet été par le ministère de la santé sur le sujet des produits homéopathiques, la Haute Autorité de santé (HAS) devrait rendre son verdict d\\'ici à la fin février 2019 sur le bien-fondé de leur remboursement, actuellement pour certains d\\'entre eux à hauteur de 30 %. Parallèlement, plusieurs universités, comme celle de Lille ou d\\'Angers, ont décidé, en septembre, de suspendre leurs diplômes universitaires d\\'homéopathie. La situation est inédite. Jusqu\\'ici, malgré moult offensives d\\'une partie du corps médical pointant l\\'absence de preuves d\\'efficacité des granules et le statut dérogatoire de leur mise sur le marché, le soufflé était toujours retombé. Un seul ministre de la santé (Jean-François Mattei, en 2003) avait touché au remboursement de ces traitements très populaires, faisant passer la prise en charge de 65 % à 35 %. Le branle-bas de combat actuel est venu de « L\\'appel de 124 professionnels de la santé contre les \"médecines alternatives\" », une tribune publiée dans Le Figaro le 19 mars. Parmi eux, aucun soignant médiatique, certains apparaissent même sous leur pseudo Twitter. Mais le texte, un peu brouillon et au \\xadvitriol, va mettre le feu aux poudres. Il est désormais signé par plus de 3 300 personnes, dont un tiers de médecins.   Dans la foulée s\\'est constituée une association : le Collectif Fakemed. Très présents sur les réseaux \\xadsociaux, dont Twitter, ses membres se sont donné pour objectif de promouvoir « la médecine, les soins et les thérapeutiques fondés sur les preuves scientifiques » et de lutter activement contre les pratiques de soins « non scientifiques, déviantes, délétères, aliénantes ou sectaires .   De l\\'autre côté, la résistance s\\'est aussi organisée. Jugeant les propos de la tribune peu confraternels, deux syndicats d\\'homéopathes ont déjà porté plainte contre soixante de ses signataires devant le Conseil de l\\'ordre des médecins, pour non-confraternité, principalement. En octobre, le Collectif \\xadSafemed, constitué de « patients et professionnels de santé pour une médecine intégrative », a vu le jour. Et trois industriels du secteur (Boiron, Weleda et Lehning) ont financé un sondage, selon lequel les trois quarts de Français sont opposés à un déremboursement. « On ne va pas lâcher », promet-on chez Boiron, avançant que le désengagement de l\\'Assurance-maladie coûterait plus de 1 000 emplois. Un quart des généralistes prescrivent de l\\'homéopathie, un Français sur deux en utilise, assure Valérie Poinsot, directrice générale déléguée du laboratoire.   Mais qui sont donc ces militants qui ont déjà \\xadcontraint les autorités sanitaires à se plonger dans le dossier homéopathie et ne comptent pas s\\'arrêter là? Et que dit ce mouvement du malaise des professionnels de santé?   Ce samedi 6 octobre, une cinquantaine de personnes est réunie à Paris, dans les locaux de la \\xadrevue Prescrire, pour la première assemblée générale consécutive à la création de l\\'association \\xadCollectif Fakemed, qui compte environ 150 membres. L\\'assemblée est plutôt jeune.   Tout est parti quelques mois plus tôt, en février, d\\'un échange de Tweet, dont ceux du dieu grec de la médecine, Asclépios. Derrière ce profil : Jérémy Descoux, un cardiologue qui anime une chaîne d\\'histoire de la médecine sur Youtube. Un brin énervé contre le « charlatanisme médical », il \\xaddemande « qu\\'on arrête de financer avec de l\\'argent public tout ce qui a trait à ce genre de pratiques ... L\\'idée d\\'une tribune germe entre une dizaine de soignants qui ne se connaissent pas. Soline Roy, journaliste santé au Figaro, remarque ces échanges et leur propose d\\'accueillir leur texte.   Durant un mois et demi, débats et tractations auront lieu sur des messageries privées comme Discord, ou des salons virtuels de discussion, de nombreux membres étant fans de jeux vidéo. Ils choisissent d\\'être 124 signataires, privilégiant les médecins. Après la publication dans Le Figaro, ils créent un site et, dans la foulée, les hashtags \\xad#fakemed, no#fakemed et #nofakemed.   Les réseaux sociaux s\\'enflamment, avec des propos parfois véhéments et peu amènes, de part et d\\'autre. Mais, pour beaucoup, si la tribune n\\'avait pas eu ce ton, elle n\\'aurait pas été remarquée. Pour exemple, le texte signé par des centaines de scientifiques sur le climat n\\'avait pas eu un tel écho.   Evaluation scientifique de l\\'homéopathie Dans les médias, la ministre de la santé, Agnès Buzyn, souligne d\\'abord l\\'attachement des Français à l\\'homéopathie, qui a « probablement un \\xadeffet placebo », mais « ne fait pas de mal . Elle \\xadinfléchit quelque peu ses propos fin mai en se \\xaddéclarant en faveur d\\'une évaluation scientifique de l\\'homéopathie. « Si elle est utile, elle restera remboursée. Si elle est inutile, elle arrêtera de l\\'être. » Explosive, la question du remboursement de l\\'homéopathie est relancée. Pour mémoire, l\\'Assurance-maladie a remboursé 129,6 millions d\\'euros en 2017 pour ces produits, soit 0,65 % du budget médicaments.   Paradoxalement, les plaintes du syndicat des homéopathes, que nombre des signataires de la tribune affichent sur les réseaux sociaux, vont contribuer à pérenniser le mouvement. Mis en cause par la tribune, le Conseil national de \\xadl\\'ordre des médecins ne souhaite plus s\\'exprimer pour l\\'instant, ne voulant pas mettre de l\\'huile sur le feu.   Pourquoi ont-ils signé la tribune? Le jour de l\\'AG, nombreux sont ceux qui expliquent leur décision par un ras-le-bol. Généralistes, spécialistes, kinés ou encore dentistes... Débutants dans le métier ou installés depuis des années, ils racontent tous un peu les mêmes histoires. « Ce qui nous a fédérés est d\\'être confrontés quotidiennement à des choses \\xaddéfiant le bon sens », résume Maxime Bacquet. Pour cet interne en pédiatrie, le choc est venu lors d\\'un stage aux urgences d\\'un hôpital, avec le cas dramatique d\\'un enfant suivi depuis des mois par un étiopathe, puis un naturopathe, alors que le \\xadtableau clinique évoquait une lésion de la moelle épinière. Marqué par cette expérience, dans \\xadlaquelle leretard de diagnostic a été une perte de chance pour l\\'enfant, le jeune médecin estime crucial que « le public soit informé . Il cite ainsi une étude américaine parue dans JAMA Oncology selon laquelle le recours aux médecines « alternatives » par les patients atteints de cancer double le risque de décès, en raison du refus de la chimiothérapie ou de la radiothérapie.   « Cela fait longtemps que je suis confrontée à titre personnel à des pratiques déviantes, et cela augmente », explique aussi Pascale Mathieu, présidente du Conseil national de l\\'ordre des kinésithérapeutes (CNOK), 124e signataire de la tribune, qui exerce dans le Sud-Ouest. « Il s\\'est produit une fracture avec la crise du Mediator, qui a entraîné une défiance envers les médicaments et les vaccins... Beaucoup de choses se sont mélangées », analyse la kiné, à la tête de l\\'ordre depuis des années pour lutter contre ce qu\\'elle appelle des dérives thérapeutiques, et qui se sent de plus en plus désarmée.   Céline Berthié, jeune généraliste en Gironde, a décidé elle aussi de signer la tribune. La convocation qu\\'elle a reçue devant l\\'ordre des médecins à la suite d\\'un dépôt de plainte du Syndicat national des médecins homéopathes français a fait naître chez elle « un vrai sentiment d\\'injustice » qui l\\'a motivée à poursuivre le combat : « On a accordé trop de crédits à ces médecines alternatives. Il ne faut pas leurrer les gens. Il y a beaucoup de symptômes qui ne peuvent se guérir. »   « Certes, il y a beaucoup de choses à remettre en cause dans les pratiques conventionnelles mais les pseudo-médecines surfent sur cette méfiance, \\xadanalyse Laurent Brindel, généraliste en Corrèze et trésorier de l\\'association.   Un tel mouvement est cependant loin d\\'être une première, selon le sociologue Henri Bergeron, chercheur au centre de sociologie des organisations (Sciences Po). « La médecine conventionnelle a souvent eu à se bagarrer contre d\\'autres formes de médecine pour garantir sa crédibilité, quand bien même elle ne pouvait pas prouver sa supériorité », souligne-t-il. Ainsi de l\\'Association médicale américaine, créée aux Etats-Unis en 1847 et qui s\\'est arrogé le monopole de la médecine alors qu\\'il n\\'y avait guère de résultats.   « Ce qui pourrait être plus inédit, avec les Nofakemed [dénomination couramment utilisée sur les réseaux sociaux pour désigner le collectif], c\\'est qu\\'il s\\'agisse d\\'une sorte de mouvement social spontané, venant de professionnels \"citoyens\" », pointe le sociologue, qui souhaite faire travailler son équipe sur le sujet.   Si ce groupe est assez disparate, certains adhèrent déjà à des syndicats, ou d\\'autres instances professionnelles. Le syndicat de médecins UFML-S partage un certain nombre de convictions des Nofakemed. Sa trésorière, Lamia Slitine, a d\\'ailleurs signé la tribune. Son président, Jérôme Marty, n\\'est, lui, pas signataire, mais est aussi \\xadopposé au remboursement de l\\'homéopathie. En février, ce syndicat avait publié une carte des \\xadendroits « où ne pas s\\'installer », pour dénoncer les maisons de santé qui accueillent des praticiens non médecins comme des énergéticiens ou des réflexologues. « Les médecins généralistes en ont assez d\\'avoir à côté d\\'eux des praticiens dont les méthodes ne sont pas validées et qui touchent le double voire le triple du prix de leur consultation », justifie le docteur Marty.   Jean-Louis Bensoussan, vice-président d\\'un autre syndicat médical, MG France, est plus réservé sur le discours desNofakemed. « Ce serait un mauvais signal que de dérembourser aujourd\\'hui l\\'homéopathie. Attendons les résultats des études scientifiques », conseille-t-il. Surpris par le ton « très véhément » de la tribune, il a aussi demandé aux quelques adhérents signataires de se montrer attentifs aux éventuelles récupérations.   Quid des liens d\\'intérêt? Par ailleurs, une vingtaine des signataires de la tribune sont membres du Collège national des généralistes enseignants (CNGE), principale société scientifique de médecine générale en France. « Nous sommes d\\'accord sur le fond, mais n\\'avons pas signé institutionnellement la tribune, car ce n\\'est pas le rôle du CNGE et nous n\\'en partagions pas la forme », précise son président, Vincent Renard.   Quid de leurs liens d\\'intérêt avec l\\'industrie pharmaceutique, alors que certains les accusent sur les réseaux sociaux d\\'être les suppôts de Big Pharma? « Notre action n\\'est en aucune manière dirigée ou dictée par l\\'industrie pharmaceutique », répond Jérémy Descoux. Pour prévenir les critiques, ceux qui se présentent au bureau du collectif doivent mentionner leurs liens d\\'intérêt.   La sociologue Cécile Méadel, spécialiste des technologies de communication et des communautés sur Internet, s\\'interroge, elle, sur la représentativité de ce mouvement et son ampleur. Parmi les 3 300 personnes qui ont signé la tribune, on ne dénombre qu\\'un millier de médecins sur les 226 000 praticiens exerçant en France.Et « il n\\'y a qu\\'une femme au sein du conseil d\\'administration de l\\'association, qui compte onze membres, alors que la profession médicale est majoritairement féminine », souligne-t-elle.   Quant à leur activité sur les réseaux sociaux, mesurée par le hashtag #fakemed, elle est actuellement de 400 à 500 posts par semaine, dont deux tiers sont des « retweets », selon l\\'outil de traçage Keyhole. Au total, une centaine de profils Twitter utilisent cette mention. Des scores non négligeables, mais relativement modestes à l\\'échelle du réseau social. « Le hashtag #balancetonporc, par exemple, a représenté 90 000 Tweet originaux, et 500 000 retweets, là on peut parler d\\'un véritable débat social », indique Cécile Méadel.   Reste que la virulence de leurs attaques sur les \\xadréseaux sociaux, parfois nominatives, interpelle, tout comme leur propension à s\\'ériger en juge des médias et des journalistes. Une agressivité qui, pour certains, témoigne d\\'un malaise de la profession. « Il faut lire ce mouvement dans le contexte actuel, paradoxal, de la médecine, souligne le sociologue Henri Bergeron. Jamais elle n\\'a été aussi performante, ni aussi contestée. Aujourd\\'hui, il y a des \\xadattentes extrêmement fortes vis-à-vis de l\\'Etat en matière de sécurité sanitaire. Et, à chaque crise, la responsabilité de telle ou telle agence gouvernementale est pointée, ce qui effrite la confiance du public. » La place croissante des « patients experts », qui marque la fin de la médecine paternaliste, \\xadparticipe aussi à cet effritement de la confiance. Chacun peut surfer sur Internet ou les réseaux \\xadsociaux pour s\\'informer avant de consulter.   « Ce mouvement, comme l\\'affaire du Levothyrox, dit quelque chose de la perte de capacité des instances traditionnelles de régulation à dire le juste et le vrai, poursuit Henri Bergeron, qui a été membre de la mission Information et médicament créée après la \"crise du Levothyrox\". Il faut que les autorités de l\\'Etat reconstruisent un \"tiers de confiance\" sur ces questions. »   « La position des Nofakemed est intéressante comme point de départ, mais leur discours est un peu péremptoire. Il serait opportun de transformer leurs questionnements en réel champ de recherche », propose le professeur Grégoire Moutel, directeur de l\\'espace de réflexion éthique de Normandie, par ailleurs président du comité de déontologie du LEEM (Les entreprises du médicament), même s\\'il ne s\\'exprime pas à ce titre. « Les patients qui se mettraient en danger à travers l\\'usage de l\\'homéopathie sont sans doute des cas minoritaires, poursuit-il. Le plus souvent, il s\\'agit de situations sans enjeux vitaux. Cela renvoie au sujet de l\\'autonomie des personnes, et la vraie question est donc celle de la bonne information », insiste-t-il.   Pour plusieurs spécialistes, il faudrait s\\'interroger sur la complémentarité et l\\'articulation entre les médecines plutôt que les opposer. « L\\'un des grands problèmes avec les médicaments est leurs mésusages, en particulier une surconsommation, souligne Grégoire Moutel. Si des individus ressentent un bien-être à prendre des médicaments dont l\\'efficacité est débattue mais sans danger, pourquoi pas? Il vaut mieux que cela reste dans le champ médical, plutôt que de dériver vers des pratiques sectaires ou des formes de charlatanisme moderne. » Une crainte confirmée par les données de la Mission interministérielle de vigilance et de lutte contre les dérives sectaires (Miviludes). Les signalements dans le domaine de la santé, un millier en 2017, ont doublé en dix ans, s\\'inquiète Serge Blisko, son président. Mais aucune dérive sectaire n\\'a été recensée dans l\\'homéopathie.   La philosophe Isabelle Stengers, auteure avec \\xadTobie Nathan de Médecins et sorciers (éditions La Découverte, 1995), regrette elle aussi cette opposition entre les praticiens : « La médecine basée sur les preuves contribue à mettre à la poubelle ce qu\\'elle nomme avec dérision \"effet placebo\". Son rêve est de guérir des corps en mettant entre parenthèses ce qui les anime. Elle est en guerre contre les arts de guérir, dont fait partie l\\'homéopathie. »   Le mouvement Nofakemed permettra-t-il d\\'ouvrir un débat constructif? Le verdict sur les granules de la discorde sera rendu en février.  ',\n",
       " ' Des terroirs biodynamiques \\n\\n Spécial,  jeudi 21 juin 2018 360 mots, p. SPA2 \\n\\n Le Monde   \\n\\n  C\\'est en traitant ses vignes avec un insecticide chimique sur les conseils d\\'un technicien agricole, dans le but d\\'éradiquer des petites araignées rouges qui s\\'attaquaient aux feuilles, qu\\'Eugène Meyer s\\'est retrouvé pris de tremblements le jour même du traitement. Lui, qui soignait naturellement, a vite compris. La fin des années 1960 vivait le débarquement de la chimie dans l\\'agriculture. Son médecin, qui le traitait par l\\'homéopathie, lui a mis dans la main le  Guide pratique de la méthode bio-dynamique en agriculture  (Triades, rééd. 1973), de Harald Kabisch, un disciple de Rudolf Steiner. Ce dernier, philosophe et scientifique d\\'origine autrichienne, est considéré comme le créateur de la biodynamie au début du XXe siècle, un mode d\\'agriculture s\\'attachant à la santé de la terre, en respectant les rythmes, notamment cosmiques, les liens entre animaux, végétaux et terres... En 1969 donc, Eugène Meyer fut le premier à introduire cette méthode en Alsace.  \" Je me souviens que, quand j\\'étais en formation au lycée agricole, au début des années 1980, on se moquait de moi. Quand on te dit \"ce que fait ton père, c\\'est des conneries\", tu te poses des questions \",  raconte son fils François, à la tête du domaine, à Blienschwiller (Bas-Rhin).   Calendrier lunaireMais il a suivi les voies paternelles. Et nombre de vignerons après lui. Bien installée en Allemagne, en Suisse où vécut Rudolf Steiner, la biodynamie continue de séduire. Selon Michel Rousseaux, président de l\\'Association pour l\\'agriculture biodynamique d\\'Alsace et de Lorraine, la progression est importante. La viticulture bio représente 16 % du total alsacien, soit 295 exploitations. Et aux vingt-cinq viticulteurs certifiés Demeter, il faut en ajouter une centaine qui suivraient les voies biodynamiques, mais sans certification, selon François Meyer.   La biodynamie a aussi ses détracteurs qui en moquent les théories et les pratiques. Ainsi, les viticulteurs et agriculteurs qui s\\'en réclament se calent sur les cycles lunaires et les positions des planètes qui influent sur la croissance des plantes. Les cycles déterminent des jours pour chaque activité à la vigne et dans le chai : jours feuilles, jours fruits, jours fleurs et jours racines.  \" Scientifiquement, on ne peut rien prouver. Mais ça fonctionne \" , conclut François Meyer.   Rémi barroux  ',\n",
       " \" Portrait Agnès Buzyn prête à donner de la voix En plus des plans santé et pauvreté, la très technique ministre de la santé devra défendre, dans les mois à venir, l'ouverture de la PMA aux femmes célibataires et aux couples lesbiens \\n\\n France,  vendredi 28 septembre 2018 1603 mots, p. 11 \\n\\n Le Monde   \\n\\n  Je suis très énervée! » Mains croisées devant elle, dos droit sous sa veste de tailleur blanche, Agnès Buzyn fronce les sourcils. Assise à sa table de travail, dans son vaste bureau de l'avenue Duquesne, à Paris, la ministre des solidarités et de la santé ne digère pas les critiques dont a fait l'objet le plan de lutte contre la pauvreté présenté le 13 septembre. « Trop de mauvaise foi et de pos\\xadtures », gronde l'hématologue de 55 ans. « Les mêmes disent en privé que c'est bien et l'inverse quand ils sont en public. C'est très difficile pour moi », confie-t-elle au Monde, désarmante de sincérité. Agnès Buzyn n'en a pourtant pas fini avec le combat politique. Après la stratégie de lutte contre la pauvreté et le plan santé deux chantiers lourds repoussés à plusieurs reprises et dévoilés ces dernières semaines au côté d'Emmanuel Macron , la ministre venue de la société civile défend depuis mardi 25 septembre, avec son collègue du budget, Gérald Darmanin, le projet de loi de financement de la Sécurité sociale (PLFSS) pour 2019, « exact reflet des transformations engagées » selon elle.   Ce rendez-vous, la novice en \\xadpolitique dit l'aborder le mors aux dents. Fini de se laisser caricaturer en bourgeoise lisse et bien élevée. « Je me rends compte que bien faire ne suffit pas, qu'il faut aussi avoir une voix qui porte, sans tomber dans la caricature de politique politicienne, souligne cette admiratrice de Winston Churchill, les yeux bleus soudain plus durs. Maintenant que les réformes sont là, j'ai des choses à porter, vous \\xadallez m'entendre! Je vais être plus punchy. Je vais \\xadattaquer, moi aussi! »   Manque de chance ou d'expérience, sa première mise en pratique lui a valu une volée de bois vert. Répondant, le 18 septembre dans l'Hémicycle aux reproches de Jean-Hugues Ratenon, député (La France insoumise) de La Réunion, Agnès Buzyn, d'habitude mesurée, s'emballe et l'accusede ne pas vouloir résoudre la pauvreté « car vous en vivez! Vous vous en nourrissez! » Problème, l'intéressé bénéficiait lui-même du revenu de solidarité active (RSA) avant d'être élu. Contrite, la ministre lui a envoyé un mot manuscrit expliquant que sa réponse traduisait « un propos politique mais nullement une attaque personnelle .   « Spontanéité » Agnès Buzyn est, il est vrai, une habituée des impairs. En juillet, elle avait annoncé le report du plan pauvreté pour cause de Coupe du monde de football. Pas très politiquement correct. « Le président a décidé de le reporter au moment où je m'exprimais », justifie-t-elle. Quelques jours plus tôt, elle avait également tenté d'excuser l'expression « pognon de \\xaddingue » utilisée par Emmanuel \\xadMacron pour désigner les aides sociales. « C'était une conversation privée autour d'un discours », avait-elle défendu, oubliant que la vidéo avait été volontairement mise en ligne par l'Elysée.   Elle refuse pour autant de parler de « couac » et préfère évoquer sa « spontanéité . « Sinon, c'est comme ça qu'on arrive à de la langue de bois. Je suis souvent surprise de voir comment ça s'emballe sur un mot. Au début, je le vivais très mal. Maintenant, je sais que ça n'a qu'un temps. » Un de ses lapsus lui vaut tout de même d'être nommée pour le prix de l'humour \\xadpolitique. En mars, à l'Assemblée nationale, elle avait lancé : « Monsieur le président, mesdames et messieurs les retraités... », avant d'éclater de rire.   Fille d'un rescapé d'Auschwitz, lui-même chirurgien orthopédiste, l'ancienne élève de la chic Ecole alsacienne, à Paris, est devenue une spécialiste reconnue de la greffe de moelle osseuse avant de diriger trois institutions sanitaires de renom. Un parcours qui lui a facilité la tâche pour retisser des liens très distendus avec les médecins sous le précédent mandat.   « C'est peut-être la première fois qu'on a une ministre médecin qui n'oublie pas qu'elle est médecin une fois qu'elle est ministre », se félicite Patrick Bouet, président du Conseil national de l'ordre des médecins. Un ancien député socialiste regrette, lui, qu'Agnès Buzyn se définisse « avant tout comme un médecin et non comme la ministre des patients, c'est un choix . Reste qu'en multipliant depuis un an les constats alarmants sur un hôpital public à bout de souffle, elle a pesé dans le choix d'une vaste réforme du système de santé qui n'était pas dans le programme d'Emmanuel Macron. Elle dit par ailleurs avoir convaincu le chef de l'Etat de la nécessité de s'attaquer au chantier de la dépendance.   A son arrivée au ministère, la nouvelle locataire raconte avoir été surprise par la violence du monde politique. « Je suis d'un caractère réservé. Je ne cherche pas à prendre la lumière personnellement, affirme-t-elle. Mais en politique, on est obligé d'affronter les projecteurs, de faire un travail sur soi. L'action ne suffit pas, il faut hurler sur les toits. » Lors de ses premières interviews, elle n'hésitait pas à mettre en avant sa proximité avec Simone Veil, qui fut huit ans sa belle-mère, décrivant volontiers sa nomination comme « un passage de relais .   Ceux qui la connaissent décrivent une bosseuse empathique, humaniste. Une femme déterminée « de pouvoir » diront certains qui a le service public chevillé au corps. « C'est une belle âme, juge Jean-Paul Delevoye, haut commissaire chargé de la réforme des retraites. Elle est sincère, elle a de l'audace et la capacité de dire les choses pour faire bouger le système. Elle n'est pas là pour gérer un passé mais construire un futur. »   Combats personnels Au début du quinquennat, de nombreux élus de la majorité \\xadespéraient la voir incarner la « jambe gauche » du gouvernement, face aux ministres venus de la droite comme Gérald Darmanin ou Bruno Le Maire. « On a besoin d'elle », disaient-ils alors que les mesures en faveur des plus aisés se multipliaient. Mais Agnès Buzyn a refusé l'obstacle. « Elle n'a pas fait le choix de se mettre dans une case, même si cette case pouvait être utile au gouvernement », reconnaît le député (LRM) du Val-d'Oise Aurélien Taché. « J'incarne parfaitement le bien-être social, je n'ai jamais rien fait d'autre dans ma vie », répond l'intéressée.   Ce n'est pourtant pas elle qui a présenté les plans pauvreté et santé mais Emmanuel Macron. La ministre se charge du service après-vente. « C'est une chance pour un ministre d'avoir des po\\xadlitiques que le président souhaite assumer, estime Agnès Buzyn. Il se met en danger. Il donne un élan. » Tant pis si cela implique de rester dans l'ombre.   Pour autant, cette technicienne a déjà quelques mesures à faire valoir : elle a rendu onze vaccins obligatoires, obtenu la hausse progressive du prix du paquet de cigarettes à 10 euros, le déremboursement de quatre médicaments anti-Alzheimer jugés inefficaces et ouvert la porte à celui de l'homéopathie... Sur l'alcool, qui figure parmi ses combats personnels en tant qu'ancienne \\xadprésidente de l'Institut du cancer, elle a en revanche été désavouée par le président de la République en \\xaddébut d'année. Depuis, elle fait profil bas sur le sujet.   A l'Elysée, on la présente volontiers comme un « symbole » de ces ministres venus de la société \\xadcivile pour « apporter leur savoir-faire et leurs compétences . « Agnès Buzyn est la ministre qui s'est le plus approprié le phrasé d'Emmanuel Macron, qui a parfaitement intégré le libérer et le protéger du programme, assure l'entourage du chef de l'Etat. En plus, elle a un regard très lucide sur elle-même, elle sait analyser ses forces et ses faiblesses, et les dépasser. »   « C'est quelqu'un d'une très grande honnêteté intellectuelle, qui ne se pousse pas du col mais ne s'excuse pas non plus de donner son avis », abonde Matignon. Un familier du ministère est plus nuancé : « Elle défend ses idées mais c'est une bonne élève. Elle a hyper intériorisé le cadre et la \\xadcontrainte, et n'essaye pas de l'élargir. » Spécialiste de la santé, elle l'est moins des questions sociales ou sociétales. Elle devra néanmoins monter au front prochainement. Sur le dossier explosif des retraites, la ministre est attendue au tournant. L'opposition politique et syndicale a déjà prévu d'en faire la « mère des batailles .   Corriger le tir Il lui faudra maîtriser un sujet complexe pour éviter certaines maladresses. En juillet dans \\xadl'Hémicycle, elle avait ainsi laissé entendre, avant de corriger le tir, que les femmes ayant travaillé n'auraient plus le droit aux \\xadpensions de réversion.Pour l'heure, c'est Jean-Paul Delevoye qui est en première ligne. A lui la préparation du dossier, à elle le portage politique.   « C'est lui le ministre des retraites, Buzyn, elle n'y connaît rien et n'a pas voix au chapitre », cingle le numéro un d'une confédération syndicale. Pour faire taire les mauvaises langues, la \\xadministre sera autour de la table, le 10 octobre, lors de la reprise de la concertation avec les partenaires sociaux.   Un autre bataille l'attend et non des moindres. La ministre de la santé aura à défendre dans les mois à venir le projet de loi \\xadbioéthique, qui devrait reprendre la promesse d'Emmanuel Macron d'ouvrir la procréation médicalement assistée (PMA) aux femmes célibataires et aux couples lesbiens. « Je ne veux pas d'une loi de combat mais que l'on se respecte, indique-t-elle. Il faut un débat apaisé, arrêter les affrontements stériles et ne pas humilier. » Face à La Manif pour tous qui fourbit déjà ses armes, Agnès Buzyn devra elle aussi affûter les siennes.  \",\n",
       " \" Un week-end et plus de 40 rencontres pour se parler d'amour... et d'autre chose Vaccination,  homéopathie : existe-t-il une vérité scientifique? \\n\\n Spécial,  mardi 25 septembre 2018 231 mots, p. SPA4 \\n\\n Le Monde   \\n\\n  Le retour fracassant du débat sur les vertus et le remboursement de l'homéopathie, ces dernières semaines, vient de le rappeler à point nommé : la notion de vérité scientifique est à manier avec prudence, en particulier en matière de santé. Quand des médecins se divisent sur des pratiques généralisées depuis de longues années, que doit penser le citoyen, qui peut-il croire?   Samedi 6 octobre, de 12 heures à 13 h 30. à l'Opéra Bastille (studio). Débat animé par Paul Benkimoun, journaliste au Monde. Avec : Marina Cavazzana   Pédiatre et professeure d'immunologie, elle dirige le département des biothérapies à l'hôpital Necker (AP-HP) université Paris-Descartes et dirige un laboratoire à l'Institut Imagine. Elle a reçu en 2016 le prix de l'Académie de médecine.   Bernard Bégaud   Professeur de pharmacologie à l'université de Bordeaux et ancien président de l'université Bordeaux-II, il est un expert reconnu de l'évaluation de l'impact des produits de santé sur les populations et des risques liés à leur utilisation.   Jean-Pierre Thierry   Il représente France Associations Santé (collectif des associations de patients) à la commission de la transparence de la Haute Autorité de santé. Cette commission évalue les médicaments ayant obtenu l'autorisation de mise sur le marché, donne un avis sur leur remboursement et contribue à leur bon usage en diffusant de l'information scientifique.  \",\n",
       " \" Homéopathie : entre médecins, la guerre au grand jour Rembourser ou pas, un débat récurrent La Haute Autorité de santé devra évaluer le bien-fondé de la prise en charge de l'homéopathie \\n\\n France,  vendredi 31 août 2018 572 mots, p. 11 \\n\\n Le Monde   \\n\\n  Avant la fin de février 2019, la Haute Autorité de santé (HAS) aura rendu son verdict : saisie par le ministère de la santé, elle va évaluer l'efficacitéet le bien-fondé de la prise en charge par l'Assurance-maladie de l'homéopathie. Ce débat, qui resurgit en France de façon récurrente, vient de refaire surface après qu'une tribune virulente de 124 professionnels de santé, publiée en mars par Le \\xadFigaro, a demandé, entre autres, l'arrêt du remboursement.   « Nous souhaitons recueillir l'avis de la commission de transparence [de la HAS, qui évalue les médicaments en vue de leur remboursement] quant au bien-fondé des conditions de prise en charge et du remboursement des médicaments homéopathiques », souligne le courrier de saisine adressé par le ministère et daté du 1er août, que l'AFP s'est procuré. Cet avis devra prendre en compte « leur efficacité et leurs effets indésirables, leur place dans la stratégie thérapeutique » et « l'intérêt pour la santé publique de ces produits . 620 millions d'euros en 2017 Si la grande majorité de ces \\xadproduits sont vendus sans ordonnance et sont non remboursés, tels Oscillococcinum, Cocculine (Boiron) ou encore L52 \\xad(Lehning)... une partie est prise en charge à hauteur de 30 % par l'Assurance-maladie. « Cela représente une trentaine de spécialités, sur environ 7 000 médicaments évalués par la Haute Autorité de santé », précisait en maiau Monde la docteure Anne d'Andon, chef du service évaluation du médicament de la HAS. Ce sont par exemple \\xadArnica, Calendula, Hamamélis...   Le marché de l'homéopathie représente environ 620 millions d'euros en 2017, selon le cabinet OpenHealth, qui s'appuie sur les ventes de plus de 10 700 pharmacies d'officines françaises. Dont environ la moitié remboursée par l'Assurance-maladie, ce qui représente près de 1 % du budget médicaments. Le sujet est sensible,notamment en France, pays dulaboratoire lyonnais Boiron, leader mondial de l'homéopathie.   En matière de remboursement, les médicaments homéopathiques ont un statut dérogatoire. Leur autorisation de mise sur le marché ne suit pas le même chemin que les autres médicaments. Ni même leur évaluation par la Haute Autorité de santé, qui ne peut se prononcer sur le service médical rendu de ces spécialités. Dans son dernier avis concernant un médicament homéopathique, l'Acidum phosphoricum (Boiron), en avril 2017, la HAS avait pour la première fois fait part de ses doutes : « La commission s'interroge sur la pertinence du maintien du taux de remboursement à 30 % des médicaments homéopathiques, compte tenu du taux de remboursement à 30 %, voire 15 % de médicaments ayant fait la preuve de leur efficacité. »   Interrogée fin mai sur France Inter, la ministre de la santé, Agnès Buzyn, avait affirmé que « l'homéopathie pourrait rentrer dans le droit commun et être évaluée scientifiquement. Si elle est utile, elle restera remboursée. Si elle est inutile, elle arrêtera de l'être .   Appréciée des Français 56 % déclarent l'utiliser pour se soigner , elle fait partie de l'arsenal thérapeutique. Pour certains, il n'existe aucune preuve formelle de son efficacité médicamenteuse. Mais, pour d'autres, la question du déremboursement va bien au-delà : le risque serait de voir des patients se tourner vers d'autres molécules comme les benzodiazépines des anxiolytiques fréquemment prescrits ,dont les effets secondaires sont démontrés.   Ce sujet est explosif depuis l'origine. Le seul ministre qui avait réduit le taux de remboursement de l'homéopathie est Jean-François Mattéi en 2003, ce qui avait alors suscité de vifs débats.  \",\n",
       " \" Les médecines alternatives doivent-elles être disqualifiées? Entretien | Des professionnels de santé ont récemment dénoncé l'inefficacité des thérapies non conventionnelles. Les médecins Bruno Falissard et Vincent Renard reviennent sur ce sujet explosif \\n\\n Science & Médecine,  mercredi 4 avril 2018 1474 mots, p. SCH8 \\n\\n Le Monde   \\n\\n  Une nouvelle fois, les médecines dites alternatives ou complémentaires, et en particulier l'homéopathie, reviennent dans le débat public. A l'origine de cet épisode, un texte signé par 124 professionnels de santé, publié dans le Figaro du 19 mars. Jugeant ces pratiques inefficaces, dangereuses et coûteuses pour les finances publiques, les signataires demandent au conseil de l'ordre des médecins et aux pouvoirs publics de « ne plus autoriser à faire état de leur titre les médecins ou professionnels de santé qui continuent à les promouvoir . Ils appellent aussi à ne plus rembourser les soins et médicaments de ces disciplines, et à ne plus reconnaître comme qualifications médicales les diplômes d'homéopathie, de mésothérapie ou d'acupuncture. Retour sur un sujet explosif avec Vincent Renard, professeur de médecine générale et président du Collège national des généralistes enseignants (CNGE), et Bruno Falissard, psychiatre et professeur de santé publique et de biostatistiques, qui a conduit plusieurs rapports d'expertise de soins non conventionnels.   Que vous inspire ce texte? Bruno Falissard De la tristesse, parce qu'il y a de l'agressivité, du discrédit dans cette tribune même si elle est sociologiquement intéressante. D'autant que c'est un sujet compliqué sur lequel nous-mêmes scientifiques ne sommes pas à l'aise. La médecine est complexe, elle fait appel à la science, mais aussi à l'humain, et doit prendre en compte la souffrance, la mort...   Vincent Renard Je suis partagé. En effet, les cliniciens, notamment en médecine générale, sont face à un paysage très complexifié avec la coexistence dans une même reconnaissance de professionnels qui ont des visions radicalement différentes. Il n'y a pas un jour où ça ne complexifie pas votre exercice quand vous \\xadessayez d'avoir une démarche rigoureuse. Les patients se tournent de plus en plus vers ces médecines que j'appelle perpendiculaires. Le paysage est aussi complexifié pour les tutelles. Je trouve donc assez salutaire que des professionnels, certes avec véhémence on peut discuter la méthode , s'emparent de ce sujet afin d'ouvrir le débat.   Il y a souvent un amalgame entre ces différentes médecines ou techniques, de quoi parle-t-on précisément? B. F. Il y a d'un côté la médecine enseignée dans les facultés médicales avec la kinésithérapie, les soins infirmiers... et de l'autre ce qui est en dehors, soit des techniques très hétérogènes. Cela va de la biologie totale (selon laquelle les maladies seraient causées par un conflit psychologique qui toucherait une zone précise du cerveau), qui est dangereuse, avec des gourous... jusqu'à l'homéopathie, l'hypnose. Les patients ne s'y retrouvent pas forcément.   V. R. Nos patients peuvent aller voir des \\xadhoméopathes, des étiothérapeutes [thérapie corporelle]... et même des voyants. En France, c'est la reconnaissance des diplômes [homéopathie, mésothérapie, ostéopathie et acupuncture] par l'ordre des médecins qui fixe le \\xadcurseur. D'où l'interpellation des signataires de la tribune. Les facteurs qui ont présidé au paysage actuel sont multiformes. Face à la difficulté de s'installer dans les années 1990, des médecins se sont tournés vers l'homéopathie, la meilleure manière d'avoir une reconnaissance et une viabilité économique.   Le conseil scientifique de l'Académie des sciences européennes pointait fin 2017 l'absence de preuves de l'efficacité de \\xadl'homéopathie. Partagez-vous ce constat? B. F. Pour les granules 30 CH, la dilution est telle que ce n'est que du sucre. Même en étant ouvert d'esprit, difficile d'y voir autre chose qu'un placebo. Mais peut-être que prendre des granules tous les jours, même si ça n'est pas \\xadefficace, cela rappelle que la santé est un bien fragile, qu'il faut faire attention à soi, moins manger de gras, de sucre, faire plus de sport...   V. R. D'accord, mais à ce moment-là on n'a pas besoin d'entourer cette démarche d'un \\xaddécorum. Et il faut être transparent avec le \\xadpatient. Les nombreuses études sur l'homéopathie n'ont pas démontré d'effet propre. De plus, il y a aussi une idée reçue que les homéopathes écoutent plus les patients mais ils n'ont pas le privilège de la relation. En France, la durée moyenne de consultation de médecine générale est de dix-sept minutes, et non dix comme c'est souvent dit.   Plus largement, que sait-on des effets des médecines complémentaires? B. F. Pour la plupart de ces médecines, les études internationales montrent que globalement ce n'est pas mieux qu'un placebo. S'agissant de l'acupuncture, les effets sont les mêmes, que l'on pique sur un méridien ou à côté. Mais certaines personnes souffrant d'acouphènes peuvent être soulagées alors qu'on ne sait pas les traiter de façon plus conventionnelle.   La comparaison avec le placebo est pour moi le problème essentiel. Un patient aurait tort de guérir sous placebo? On doit abandonner ce mot. Je préfère le terme de soin contextuel, qui est la relation avec le malade, la façon de faire un entretien, d'utiliser des gestes qui ont une valeur symbolique. On sait maintenant que l'efficacité d'un traitement quel qu'il soit varie selon que c'est un médecin femme ou homme, jeune ou vieux... Il faudrait tenir compte de ces facteurs humains. Or, le soin contextuel n'est pas systématiquement enseigné à la faculté. Et c'est un tort.   V. R. Ce qu'on appelle aujourd'hui placebo, le soin contextuel, la façon d'établir une relation avec le patient, est une notion très importante en médecine générale avec une approche \\xadcentrée sur le patient. Et il n'est pas nécessaire de l'entourer d'un rituel magique pour que cela fonctionne. D'autant plus que l'approche centrée sur le patient, et donc le soin contextuel, sont travaillés et enseignés dans le troisième cycle de médecine générale à la faculté.   Dans ce contexte, faut-il continuer à évaluer l'homéopathie, l'acupuncture...? B. F. En tout cas, il ne faut plus mener des \\xadessais comme cela a été fait jusqu'à présent, avec une comparaison à un placebo. Les essais cliniques sont très chers, jusqu'à 200 millions d'euros. Ils sont en plus mal adaptés à ces soins. Par exemple, lors d'une évaluation des effets de l'hypnose dans l'accouchement, les femmes avaient déclaré un même niveau de douleur avec cette approche que sans. Mais trois mois après, le vécu de l'accouchement était meilleur chez celles qui avaient eu de l'hypnose que dans l'autre groupe. Ces soins peuvent être utiles mais on ne sait pas toujours en quoi. Il faudrait faire pour commencer des études qualitatives pour comprendre, à l'échelle de chaque patient, ce que ces techniques leur apportent.   V. R. En médecine générale, les études qualitatives sont pertinentes pour répondre à certaines questions, mais cette méthodologie est très difficile à faire accepter aux pouvoirs \\xadpublics. Il y a aussi une réticence des hospitalo-universitaires. A chaque fois qu'une thèse d'exercice de médecine s'appuie sur une étude qualitative, il y a toujours un membre du jury pour demander si c'est bien représentatif, randomisé... Pour nous, ce type de \\xadrecherche est un combat permanent.   Faut-il dérembourser ces soins non conventionnels, ne plus reconnaître les formations, voire interdire des pratiques? B. F. Sur le principe, je suis favorable au \\xaddéremboursement de l'homéopathie. En effet, en France, la solidarité nationale prend traditionnellement en charge les médicaments ayant une efficacité substantielle pour traiter des maladies graves ou potentiellement graves. Le plus souvent, l'homéopathie n'entre pas dans cette catégorie. Mais alors il faut être juste et continuer à dérembourser toutes les molécules qui ne répondent pas à ces critères. De plus, un déremboursement des produits \\xadhoméopathiques pourrait induire un report de prescriptions vers des médicaments remboursés, pas beaucoup plus efficaces mais avec des effets indésirables plus importants.   Quant à l'enseignement, il doit aussi permettre de promouvoir des recherches pour comprendre ce qui peut faire la valeur de ces soins. Il est donc préférable qu'il soit délivré dans des diplômes universitaires [DU], donc des facultés de médecine, ce qui est également une garantie de sérieux.   V. R. Si le droit commun était appliqué au médicament homéopathique, le déremboursement serait immédiat, mais il ne s'applique pas pour des raisons politico-économiques. Avancer que cela ferait prendre le risque d'un report vers des médicaments avec plus de risques est un mauvais argument. Le principe de l'homéopathie est de répondre à tous les symptômes par des prescriptions. C'est justement contre ce mouvement d'ordonnance systématique qu'il faut aller. Quant aux DU, c'est un problème plus général. Récemment, le ministère de la santé s'est insurgé contre la multiplication des DU dont certains ne servent à rien et ne sont qu'une machine à faire entrer de l'argent dans les universités.   Aujourd'hui, l'enjeu n'est pas d'interdire ces approches mais de savoir ce que l'on légitime ou pas. A l'ère de la responsabilisation des \\xadpatients, de leur éducation, de leur autonomisation, il faut leur donner des repères pour qu'ils puissent faire un choix éclairé. Ils ont le droit de savoir que ce qui leur est préconisé a une efficacité plus ou moins reconnue, plus ou moins validée.  \",\n",
       " ' L\\'homéopathie renversée par Les #Nofakemeds? \\n\\n Science & Médecine,  mardi 25 décembre 2018 143 mots, p. SCH2 \\n\\n Le Monde   \\n\\n  L\\'homéopathie est-elle à un tournant de son histoire en France? La Haute Autorité de santé (HAS), saisie cet été par le ministère de la santé, devrait rendre son verdict au printemps 2019 sur le bien-fondé du remboursement des produits homéopathiques, actuellement pour certains d\\'entre eux à hauteur de 30 %. Son avis reste toutefois consultatif. La HAS souligne l\\'ampleur du travail. Elle rappelle qu\\'il existe plus de 1 000 souches de ces granules appréciés des Français. Le branle-bas de combat est venu de \" L\\'appel de 124 professionnels de la santé contre les \"médecines alternatives\" \", tribune publiée dans  Le Figaro  en mars, désormais signé par 3 300 personnes. Début décembre, 131 membres des académies de médecine, de pharmacie et des sciences, ont publié dans  L\\'Express  une tribune intitulée :  \" La collectivité n\\'a pas à prendre en charge l\\'homéopathie \". (CHASSENET/BSIP/AFP)  ',\n",
       " \" Homéopathie : entre médecins, la guerre au grand jour En Angleterre, les services de santé ne financent plus l'homéopathie \\n\\n France,  vendredi 31 août 2018 402 mots, p. 11 \\n\\n Le Monde   \\n\\n  à Londres - L'homéopathie est en Angleterre une pratique marginale, qui n'est plus financée par les services de santé publics (National Health Service, NHS) depuis novembre 2017. Après cette décision, l'Association homéopathique britannique (BHA) a porté le dossier devant les tribunaux. En mai, la Haute Cour de justice a rejeté sa demande. Le directeur du NHS pour l'Angleterre, Simon Stevens, regrettait à l'époque ce procès « coûteux et fallacieux . L'Irlande du Nord et le Pays de Galles ont également arrêté de financer l'homéopathie. L'Ecosse demeure la seule exception du Royaume-Uni.   Si la décision anglaise est symbolique, elle n'aura guère d'impact. L'homéopathie a de longue date mauvaise presse au Royaume-Uni et sa pratique est rare. Jusqu'au procès, le BHA ne revendiquait que 400 médecins du NHS la pratiquant, sur un total de 33 000. Seuls trois hôpitaux en dispensaient, à Londres, Bristol et Glasgow. En 2016-2017, les médicaments homéopathiques n'ont coûté aux services publics que 92 412 livres (102 000 euros), une goutte d'eau dans un budget total de plus de 17 milliards de livres de médicaments. Si l'homéopathie reste autorisée, elle est désormais cantonnée à la médecine privée, très minoritaire outre-Manche. Soutien du prince Charles La décision des services de santé britanniques s'appuie sur les nombreuses études scientifiques concluant à l'inefficacité de cette pratique. « Il n'y a pas de preuves de qualité que l'homéopathie est efficace pour aucun traitement de problème de santé », affirme le NHS. En 2010, le comité parlementaire sur la science et la technologie arrivait à la même conclusion. « Selon nous, les méta-analyses démontrent de \\xadfaçon concluante que les produits homéopathiques n'ont pas de meilleur effet que les placebos. » Bien sûr, le comité « ne doute pas que l'homéopathie permette à certains patients de se sentir mieux, mais la satisfaction des patients peut se produire par l'effet placebo . Il ajoute que cette opinion est \\xadgénéralisée parmi les scientifiques.   Dans ce contexte, le BHA en est réduit à vanter les mérites de l'homéopathie en s'appuyant sur les exemples des pays voisins, dont la France, l'Allemagne, les Pays-Bas, l'Italie, la Suisse et le Portugal. Et il cite un sondage qui date de 2008 indiquant que 15 % seulement de la population britannique fait confiance à l'homéopathie. Parmi ces partisans se trouve un certain prince Charles, fervent soutien de l'homéopathie, dont l'opinion n'a visiblement guère eu d'influence sur ses sujets.  \",\n",
       " \" Votre soirée télé mardi 15 janvier \\n\\n Supplément Télévision,  mardi 15 janvier 2019 200 mots, p. TEL21 \\n\\n Le Monde   \\n\\n  TF1 21.00 S.W.A.T.   Série. Avec Shemar Moore,   Alex Russell (EU, 2017). 23.35Blindspot   Série. Avec Jaimie Alexander, Audrey Esparza, Sullivan Stapleton (EU, 2017).   France 2 21.00 La Ve République, au coeur du pouvoir   Documentaire de Gabriel Le Bomin (Fr., 2018).   0.10 Garde nationale, deux fois citoyen   Documentaire de Jean-Marc Surcin (Fr., 2018).   France 3 21.00 Plus belle la vie   Feuilleton. Avec Stéphane Henon, Joakim Latzko (Fr., 2018).   22.45 Les Secrets de Plus belle la vie   Documentaire (Fr., 2018).   Canal+ 21.00 L'Echange des princesses   Film de Marc Dugain. Avec Lambert Wilson, Olivier Gourmet, Kacey Mottet Klein (Fr./Bel., 2017, 100 min).   22.40 Tchi tcha   Magazine.   France 5 20.50 Enquête de santé   Homéopathie, bientôt la fin?   Magazine présenté par Marina Carrère d'Encausse   et Philippe Charlier.   22.35 C dans l'air   Magazine présenté par Caroline Roux.   Arte 20.50 Les Archives secrètes   du ghetto de Varsovie   Documentaire de Roberta Grossman (EU/All., 2018).   22.20 Ma vie   dans l'Allemagne d'Hitler   Documentaire de Jérôme Prieur   (Fr., 2018).   M6 21.00 Patron incognito   Jean-Paul Mochet, DG de Franprix.   22.50 Patron incognito   Xavier Bornhauser, directeur des agences Demeco.  \",\n",
       " \" Homéopathie : les doyens des facultés de médecine veulent calmer le jeu Alors que cette pratique est jugée inefficace par de nombreux médecins, des universités estiment devoir préserver son enseignement \\n\\n France,  vendredi 7 septembre 2018 692 mots, p. 11 \\n\\n Le Monde   \\n\\n  Le président de la conférence des doyens des facultés de médecine, Jean Sibilia, veut apaiser le débat sur l'homéopathie, après la décision de la faculté de médecine de Lille, le 31 août, de suspendre son diplôme universitaire (DU) d'homéopathie, qui existait depuis une trentaine d'années. Une décision prise dans un débat extrêmement tendu depuis la publication d'une tribune signée par 124 professionnels de santé (3 337 aujourd'hui) dans \\xadLe Figaro le 18 mars, jugeant les médecines alternatives, dont l'homéopathie, inefficaces, dangereuses et coûteuses pour la Sécurité sociale. Un communiqué commun des doyens des facultés de médecine et de pharmacie devait être publié jeudi 6 septembre. Pour Jean Sibilia, « il n'est pas question de stigmatiser l'homéopathie, ni de la censurer. Ce sont souvent de très bons médecins. Il ne faut pas mélanger l'efficacité et donc le remboursement des médicaments homéopathiques, la pratique, appréciée des patients, et l'enseignement, poursuit-il. A charge pour nous de contrôler les contenus. Nous sommes garants de l'enseignement. » M. Sibilia va même plus loin : « Si l'homéopathie n'est pas enseignée dans les universités, elle le sera par des officines moins académiques, voire des industriels ... Yvon Berland, président de la commission Santé à la conférence des présidents d'université, va dans le même sens : « On préfère enseigner ce qu'est l'homéopathie, et ce qu'elle n'est pas, plutôt que de la laisser en jachère. » Pour lui, la décision de Lille est prématurée.   La faculté lilloise précise qu'elle rendra une décision définitive après l'avis de la Haute Autorité de santé (HAS), saisie par le ministère de la Santé, pour évaluer l'efficacité et le « bien-fondé » de l'homéopathie. Mais Didier Gosset, le doyen de la faculté de médecine de Lille, a voulu ouvrir la voie, et explique : « Ce qui est enseigné doit être fondé sur des preuves, sur la science. Or, aucune étude ne prouve l'efficacité de l'homéopathie. »   A ce jour, sur les milliers de DU existant en France, une vingtaine d'universités proposent des DU d'homéopathie. Certaines fa\\xadcultés comme Limoges ont décidé de ne pas suspendre leur diplôme. « Cette pratique médicale est reconnue par les instances ordinales, remboursée et doit être, dans un cadre universitaire, enseignée dans des facultés de médecine et pharmacie », souligne le professeur François Vincent, coordinateur de ce diplôme au CHU de Limoges.   Aucune autre faculté n'a, pour l'heure, suivi celle de Lille, mais toutes ne sont pas en phase avec le discours apaisant du président des doyens. Pour Jean-Luc Pellegrin, ancien doyen de la faculté de médecine de Bordeaux et directeur du collège santé de l'université bordelaise, la décision de Lille est justifiée.A Bordeaux, le DU d'homéopathie existait depuis 1981, mais la question s'est reposée en 2009, il a donc été supprimé cette année-là. « Il n'y avait pas d'universitaire enseignant, aucun ne pouvait se porter garant pour coordonner les enseignements », souligne Jean-Luc Pellegrin. « Le conseil de l'UFR n'a donc pas donné son accord, le contenu n'a pas été validé. »   « Chasse aux sorcières » Vincent Renard, professeur de médecine générale et président du collège national des généralistes enseignants, va plus loin. Il a saisi la conférence des doyens de médecine pour demander la suspension des DU d'homéopathie dans toutes les facultés de France. Pour lui, c'est clair, « cette formation n'a rien à faire à l'université .   De même, Frédéric Dardel, président de l'université Paris-Descartes, affiche son scepticisme à l'encontre des formations en homéopathie. Si on lui avait proposé un DU équivalent « j'aurais probablement émis un avis négatif . Il existe un diplôme inter-universitairepour les pharmaciens à l'université Paris-Descartes pour lequel « nous allons y réfléchir .   Au-delà, « il est indispensable que les facultés de médecine s'intéressent aux médecines alternatives », affirme Jean Sibilia. Un observatoire de ces médecines va être mis en place. Cela apaisera-t-il le débat? Pas sûr. Dans un communiqué le 3 septembre le syndicat national des médecins homéopathes français a regretté cette décision, et dénoncé « une chasse aux sorcières . Le collectif No fake med, qui regroupe de nombreux signataires de la tribune contre l'homéopathie, a fait « un classement des universités en fonction de leur porosité aux pseudo-sciences .  \",\n",
       " \" Santé L'homéopathie sème la discorde entre médecins \\n\\n A la Une,  vendredi 31 août 2018 109 mots, p. 1 \\n\\n Le Monde   \\n\\n  Le conflit virulent mais larvé entre professionnels de santé sur les bienfaits des médecines alternatives vire à la guerre ouverte. L'ordre des médecins commence actuellement l'audition de certains des signataires d'une tribune publiée dans Le Figaro qui critiquait violemment l'homéopathie, son « obscurantisme » et les « charlatans » qui la promeuvent. Le Syndicat des homéopathes a assigné les auteurs devant l'ordre pour non-confraternité et non-respect du code de déontologie. Au-delà du débat scientifique et éthique sur les bienfaits de cette médecine se pose la question de son remboursement par la Sécurité sociale. La ministre de la santé attend un rapport sur le sujet.  \"]"
      ]
     },
     "execution_count": 261,
     "metadata": {},
     "output_type": "execute_result"
    }
   ],
   "source": [
    "tous_articles"
   ]
  },
  {
   "cell_type": "code",
   "execution_count": 232,
   "metadata": {},
   "outputs": [],
   "source": [
    "articles = {}\n",
    "for fichier in os.listdir():\n",
    "    f = open(fichier,\"r\")\n",
    "    contenu = f.read()\n",
    "    articles[fichier] = contenu"
   ]
  },
  {
   "cell_type": "code",
   "execution_count": 238,
   "metadata": {},
   "outputs": [],
   "source": [
    "f = open(\"./0- Homéopathie Une réglementatio.txt\",\"r\")"
   ]
  },
  {
   "cell_type": "code",
   "execution_count": 241,
   "metadata": {},
   "outputs": [],
   "source": [
    "f = open(\"nouveau_fichier.txt\",\"w\")\n",
    "f.writelines([\"Nouvelle ligne\"])"
   ]
  },
  {
   "cell_type": "markdown",
   "metadata": {},
   "source": [
    "### Ouvrir et ferme des fichiers\n",
    "\n",
    "* lister les fichiers présents dans un répertoire sur l'ordinateur (librairie os)\n",
    "* ouvrir un fichier (notion d'itérateur/pointeur)\n",
    "* charger des éléments du fichier\n",
    "* écrire dans un fichier\n",
    "\n",
    "### Fonctions magic\n",
    "* cd\n",
    "* time\n",
    "* prun\n",
    "\n",
    "Exercice :\n",
    "* Construire le tableau des articles pour pouvoir les traiter"
   ]
  },
  {
   "cell_type": "code",
   "execution_count": null,
   "metadata": {},
   "outputs": [],
   "source": []
  },
  {
   "cell_type": "markdown",
   "metadata": {},
   "source": [
    "### Une fonction bien utile : les expressions régulières\n",
    "\n",
    "Idée : extraire des formes de données particulières dans un texte\n",
    "https://docs.python.org/2/library/re.html"
   ]
  },
  {
   "cell_type": "code",
   "execution_count": 269,
   "metadata": {},
   "outputs": [],
   "source": [
    "import regex"
   ]
  },
  {
   "cell_type": "code",
   "execution_count": 315,
   "metadata": {},
   "outputs": [],
   "source": [
    "texte = \"Il est né en 1967 zds sqddsq 1223 767 dsdq sqd 67 dans un petit village\""
   ]
  },
  {
   "cell_type": "code",
   "execution_count": 318,
   "metadata": {},
   "outputs": [],
   "source": [
    "x = regex.findall(r\"([1][9][0-9]{2})\",texte)\n",
    "\n"
   ]
  },
  {
   "cell_type": "code",
   "execution_count": 319,
   "metadata": {},
   "outputs": [
    {
     "data": {
      "text/plain": [
       "['1967']"
      ]
     },
     "execution_count": 319,
     "metadata": {},
     "output_type": "execute_result"
    }
   ],
   "source": []
  },
  {
   "cell_type": "markdown",
   "metadata": {},
   "source": [
    "## Exercice de fin\n",
    "\n",
    "Proposer une fonction pour extraire les dates"
   ]
  }
 ],
 "metadata": {
  "kernelspec": {
   "display_name": "Python 3",
   "language": "python",
   "name": "python3"
  },
  "language_info": {
   "codemirror_mode": {
    "name": "ipython",
    "version": 3
   },
   "file_extension": ".py",
   "mimetype": "text/x-python",
   "name": "python",
   "nbconvert_exporter": "python",
   "pygments_lexer": "ipython3",
   "version": "3.5.6"
  }
 },
 "nbformat": 4,
 "nbformat_minor": 2
}
