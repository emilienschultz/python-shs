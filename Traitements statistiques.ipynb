{
 "cells": [
  {
   "cell_type": "markdown",
   "metadata": {},
   "source": [
    "# Traitements statistiques\n",
    "__Durée : 1h30__\n",
    "\n",
    "Pandas et Matplotlib"
   ]
  },
  {
   "cell_type": "code",
   "execution_count": 12,
   "metadata": {},
   "outputs": [],
   "source": [
    "#Charger les librairies\n",
    "import pandas as pd\n",
    "import matplotlib.pyplot as plt\n",
    "import numpy as np\n",
    "import math\n",
    "%matplotlib inline"
   ]
  },
  {
   "cell_type": "code",
   "execution_count": 30,
   "metadata": {},
   "outputs": [],
   "source": [
    "corpus = pd.read_excel(\"corpus.xlsx\")"
   ]
  },
  {
   "cell_type": "markdown",
   "metadata": {},
   "source": [
    "La météo de Marseille en mars"
   ]
  },
  {
   "cell_type": "markdown",
   "metadata": {},
   "source": [
    "meteo = pd.read_csv(\"Données/export-marseille201903.csv\",sep=\",\")\n",
    "meteo = meteo.set_index(\"DATE\")"
   ]
  },
  {
   "cell_type": "code",
   "execution_count": 35,
   "metadata": {},
   "outputs": [],
   "source": [
    "\n",
    "import regex as re\n",
    "import datetime\n",
    "\n",
    "def reco_date(x):\n",
    "    mois = {\"janvier\":\"01\",\"février\":\"02\",\"mars\":\"03\",\n",
    "            \"avril\":\"04\",\"mai\":\"05\",\"juin\":\"06\",\"juillet\":\"07\",\n",
    "            \"août\":\"08\",\"septembre\":\"09\",\"octobre\":\"10\",\"novembre\":\"11\",\"décembre\":\"12\"}\n",
    "    t = re.findall(\"\\w+ \\w+ [0-9]{4}\",x)\n",
    "    if len(t) <1:\n",
    "        return None\n",
    "    t = t[0]\n",
    "    for i in mois:\n",
    "        if i in t:\n",
    "            t = t.replace(i,\"/%s/\"%mois[i]).replace(\" \",\"\")\n",
    "    return datetime.datetime.strptime(t,\"%d/%m/%Y\")"
   ]
  },
  {
   "cell_type": "code",
   "execution_count": 36,
   "metadata": {},
   "outputs": [],
   "source": [
    "corpus[\"Date\"] = corpus[\"Date\"].apply(reco_date)"
   ]
  },
  {
   "cell_type": "code",
   "execution_count": null,
   "metadata": {},
   "outputs": [],
   "source": []
  },
  {
   "cell_type": "markdown",
   "metadata": {},
   "source": [
    "## Visualiser\n",
    "* Différentes visualisations\n",
    "* Mettre un titre, légende ,couleur, taille\n",
    "* Sauvegarder\n",
    "* Plusieurs graphiques fig, ax_lst = plt.subplots(2, 2)"
   ]
  },
  {
   "cell_type": "markdown",
   "metadata": {},
   "source": [
    "## Calculer des statistiques\n",
    "\n",
    "* Indicateurs de position et de variance\n",
    "* Corrélations\n",
    "* Tableau croisé\n",
    "* Réaliser un test de kih2"
   ]
  },
  {
   "cell_type": "code",
   "execution_count": 27,
   "metadata": {},
   "outputs": [],
   "source": [
    "from scipy.stats import chi2_contingency"
   ]
  },
  {
   "cell_type": "markdown",
   "metadata": {},
   "source": [
    "## Aller vers des modèles\n",
    "* Régression linéaire (polyfit, poly1d)\n",
    "* Régression logistique\n",
    "* Classifier des données"
   ]
  }
 ],
 "metadata": {
  "kernelspec": {
   "display_name": "Python 3",
   "language": "python",
   "name": "python3"
  },
  "language_info": {
   "codemirror_mode": {
    "name": "ipython",
    "version": 3
   },
   "file_extension": ".py",
   "mimetype": "text/x-python",
   "name": "python",
   "nbconvert_exporter": "python",
   "pygments_lexer": "ipython3",
   "version": "3.5.6"
  }
 },
 "nbformat": 4,
 "nbformat_minor": 2
}
