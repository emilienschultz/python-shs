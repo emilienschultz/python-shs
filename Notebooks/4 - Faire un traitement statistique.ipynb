{
 "cells": [
  {
   "cell_type": "markdown",
   "metadata": {},
   "source": [
    "# Traitements statistiques\n",
    "__Durée : 1h30__\n",
    "\n",
    "Pandas et Matplotlib, puis aller vers des tests et des modèles"
   ]
  },
  {
   "cell_type": "code",
   "execution_count": 1,
   "metadata": {},
   "outputs": [],
   "source": [
    "#Charger les librairies\n",
    "import pandas as pd\n",
    "import matplotlib.pyplot as plt\n",
    "%matplotlib inline"
   ]
  },
  {
   "cell_type": "markdown",
   "metadata": {},
   "source": [
    "Charger le corpus mis en forme précédemment"
   ]
  },
  {
   "cell_type": "code",
   "execution_count": 2,
   "metadata": {},
   "outputs": [],
   "source": [
    "corpus = pd.read_excel(\"../Données/corpus.xlsx\")"
   ]
  },
  {
   "cell_type": "code",
   "execution_count": 6,
   "metadata": {
    "scrolled": true
   },
   "outputs": [
    {
     "data": {
      "text/html": [
       "<div>\n",
       "<style scoped>\n",
       "    .dataframe tbody tr th:only-of-type {\n",
       "        vertical-align: middle;\n",
       "    }\n",
       "\n",
       "    .dataframe tbody tr th {\n",
       "        vertical-align: top;\n",
       "    }\n",
       "\n",
       "    .dataframe thead th {\n",
       "        text-align: right;\n",
       "    }\n",
       "</style>\n",
       "<table border=\"1\" class=\"dataframe\">\n",
       "  <thead>\n",
       "    <tr style=\"text-align: right;\">\n",
       "      <th></th>\n",
       "      <th>Date_reco</th>\n",
       "      <th>Date</th>\n",
       "      <th>Titre</th>\n",
       "      <th>Journal</th>\n",
       "      <th>Contenu</th>\n",
       "      <th>Nombre de mots</th>\n",
       "      <th>freq-homeo</th>\n",
       "      <th>freq-alterna</th>\n",
       "      <th>freq-allopath</th>\n",
       "      <th>freq-nofakemed</th>\n",
       "      <th>Journal-reco</th>\n",
       "      <th>Annee</th>\n",
       "    </tr>\n",
       "  </thead>\n",
       "  <tbody>\n",
       "    <tr>\n",
       "      <th>0</th>\n",
       "      <td>2018-05-23</td>\n",
       "      <td>Science &amp; Médecine,  mercredi 23 mai 2018 246...</td>\n",
       "      <td>Homéopathie Une réglementation à haute diluti...</td>\n",
       "      <td>Le Monde</td>\n",
       "      <td>(Lyon; correspondant); - Quand on lui parle ...</td>\n",
       "      <td>2679</td>\n",
       "      <td>43</td>\n",
       "      <td>2</td>\n",
       "      <td>2</td>\n",
       "      <td>0</td>\n",
       "      <td>Le Monde</td>\n",
       "      <td>2018</td>\n",
       "    </tr>\n",
       "    <tr>\n",
       "      <th>1</th>\n",
       "      <td>2018-06-16</td>\n",
       "      <td>Événement,  samedi 16 juin 2018 1243 mots, p. 4</td>\n",
       "      <td>Principale «Réduire l'homéopathie à un effet ...</td>\n",
       "      <td>Libération, no. 11524</td>\n",
       "      <td>Le regard, au-dessus des petites lunettes ce...</td>\n",
       "      <td>1341</td>\n",
       "      <td>26</td>\n",
       "      <td>0</td>\n",
       "      <td>12</td>\n",
       "      <td>0</td>\n",
       "      <td>Libération</td>\n",
       "      <td>2018</td>\n",
       "    </tr>\n",
       "    <tr>\n",
       "      <th>2</th>\n",
       "      <td>2018-04-10</td>\n",
       "      <td>Sciences et éthique,  mardi 10 avril 2018 105...</td>\n",
       "      <td>Faut-il en finir avec l'homéopathie? Une trib...</td>\n",
       "      <td>La Croix, no. 41073</td>\n",
       "      <td>Faut-il se débarrasser de l'homéopathie? Voi...</td>\n",
       "      <td>1183</td>\n",
       "      <td>23</td>\n",
       "      <td>0</td>\n",
       "      <td>0</td>\n",
       "      <td>0</td>\n",
       "      <td>La Croix</td>\n",
       "      <td>2018</td>\n",
       "    </tr>\n",
       "  </tbody>\n",
       "</table>\n",
       "</div>"
      ],
      "text/plain": [
       "   Date_reco                                               Date  \\\n",
       "0 2018-05-23   Science & Médecine,  mercredi 23 mai 2018 246...   \n",
       "1 2018-06-16   Événement,  samedi 16 juin 2018 1243 mots, p. 4    \n",
       "2 2018-04-10   Sciences et éthique,  mardi 10 avril 2018 105...   \n",
       "\n",
       "                                               Titre  \\\n",
       "0   Homéopathie Une réglementation à haute diluti...   \n",
       "1   Principale «Réduire l'homéopathie à un effet ...   \n",
       "2   Faut-il en finir avec l'homéopathie? Une trib...   \n",
       "\n",
       "                     Journal  \\\n",
       "0                Le Monde      \n",
       "1   Libération, no. 11524      \n",
       "2     La Croix, no. 41073      \n",
       "\n",
       "                                             Contenu  Nombre de mots  \\\n",
       "0    (Lyon; correspondant); - Quand on lui parle ...            2679   \n",
       "1    Le regard, au-dessus des petites lunettes ce...            1341   \n",
       "2    Faut-il se débarrasser de l'homéopathie? Voi...            1183   \n",
       "\n",
       "   freq-homeo  freq-alterna  freq-allopath  freq-nofakemed Journal-reco  Annee  \n",
       "0          43             2              2               0     Le Monde   2018  \n",
       "1          26             0             12               0   Libération   2018  \n",
       "2          23             0              0               0     La Croix   2018  "
      ]
     },
     "execution_count": 6,
     "metadata": {},
     "output_type": "execute_result"
    }
   ],
   "source": [
    "corpus[0:3]"
   ]
  },
  {
   "cell_type": "markdown",
   "metadata": {},
   "source": [
    "Comme présenté précédemment, il est facile de faire un traitement statistique sur chaque série"
   ]
  },
  {
   "cell_type": "markdown",
   "metadata": {},
   "source": [
    "Possibiliter de traiter chaque colonne"
   ]
  },
  {
   "cell_type": "code",
   "execution_count": 24,
   "metadata": {},
   "outputs": [
    {
     "data": {
      "text/plain": [
       "495.5"
      ]
     },
     "execution_count": 24,
     "metadata": {},
     "output_type": "execute_result"
    }
   ],
   "source": [
    "corpus[\"Nombre de mots\"].median()"
   ]
  },
  {
   "cell_type": "markdown",
   "metadata": {},
   "source": [
    "Résumer l'information"
   ]
  },
  {
   "cell_type": "code",
   "execution_count": 23,
   "metadata": {},
   "outputs": [
    {
     "data": {
      "text/html": [
       "<div>\n",
       "<style scoped>\n",
       "    .dataframe tbody tr th:only-of-type {\n",
       "        vertical-align: middle;\n",
       "    }\n",
       "\n",
       "    .dataframe tbody tr th {\n",
       "        vertical-align: top;\n",
       "    }\n",
       "\n",
       "    .dataframe thead th {\n",
       "        text-align: right;\n",
       "    }\n",
       "</style>\n",
       "<table border=\"1\" class=\"dataframe\">\n",
       "  <thead>\n",
       "    <tr style=\"text-align: right;\">\n",
       "      <th></th>\n",
       "      <th>Nombre de mots</th>\n",
       "      <th>freq-homeo</th>\n",
       "      <th>freq-alterna</th>\n",
       "      <th>freq-allopath</th>\n",
       "      <th>freq-nofakemed</th>\n",
       "    </tr>\n",
       "  </thead>\n",
       "  <tbody>\n",
       "    <tr>\n",
       "      <th>count</th>\n",
       "      <td>50.000000</td>\n",
       "      <td>50.000000</td>\n",
       "      <td>50.000000</td>\n",
       "      <td>50.000000</td>\n",
       "      <td>50.000000</td>\n",
       "    </tr>\n",
       "    <tr>\n",
       "      <th>mean</th>\n",
       "      <td>686.580000</td>\n",
       "      <td>7.580000</td>\n",
       "      <td>0.520000</td>\n",
       "      <td>0.340000</td>\n",
       "      <td>0.360000</td>\n",
       "    </tr>\n",
       "    <tr>\n",
       "      <th>std</th>\n",
       "      <td>681.502335</td>\n",
       "      <td>7.961873</td>\n",
       "      <td>0.886175</td>\n",
       "      <td>1.733346</td>\n",
       "      <td>1.625812</td>\n",
       "    </tr>\n",
       "    <tr>\n",
       "      <th>min</th>\n",
       "      <td>23.000000</td>\n",
       "      <td>1.000000</td>\n",
       "      <td>0.000000</td>\n",
       "      <td>0.000000</td>\n",
       "      <td>0.000000</td>\n",
       "    </tr>\n",
       "    <tr>\n",
       "      <th>25%</th>\n",
       "      <td>195.000000</td>\n",
       "      <td>2.000000</td>\n",
       "      <td>0.000000</td>\n",
       "      <td>0.000000</td>\n",
       "      <td>0.000000</td>\n",
       "    </tr>\n",
       "    <tr>\n",
       "      <th>50%</th>\n",
       "      <td>495.500000</td>\n",
       "      <td>4.500000</td>\n",
       "      <td>0.000000</td>\n",
       "      <td>0.000000</td>\n",
       "      <td>0.000000</td>\n",
       "    </tr>\n",
       "    <tr>\n",
       "      <th>75%</th>\n",
       "      <td>897.750000</td>\n",
       "      <td>11.000000</td>\n",
       "      <td>1.000000</td>\n",
       "      <td>0.000000</td>\n",
       "      <td>0.000000</td>\n",
       "    </tr>\n",
       "    <tr>\n",
       "      <th>max</th>\n",
       "      <td>3089.000000</td>\n",
       "      <td>43.000000</td>\n",
       "      <td>3.000000</td>\n",
       "      <td>12.000000</td>\n",
       "      <td>11.000000</td>\n",
       "    </tr>\n",
       "  </tbody>\n",
       "</table>\n",
       "</div>"
      ],
      "text/plain": [
       "       Nombre de mots  freq-homeo  freq-alterna  freq-allopath  freq-nofakemed\n",
       "count       50.000000   50.000000     50.000000      50.000000       50.000000\n",
       "mean       686.580000    7.580000      0.520000       0.340000        0.360000\n",
       "std        681.502335    7.961873      0.886175       1.733346        1.625812\n",
       "min         23.000000    1.000000      0.000000       0.000000        0.000000\n",
       "25%        195.000000    2.000000      0.000000       0.000000        0.000000\n",
       "50%        495.500000    4.500000      0.000000       0.000000        0.000000\n",
       "75%        897.750000   11.000000      1.000000       0.000000        0.000000\n",
       "max       3089.000000   43.000000      3.000000      12.000000       11.000000"
      ]
     },
     "execution_count": 23,
     "metadata": {},
     "output_type": "execute_result"
    }
   ],
   "source": [
    "corpus[corpus.columns[-5:]].describe()"
   ]
  },
  {
   "cell_type": "markdown",
   "metadata": {},
   "source": [
    "Sauvegarder le résumé"
   ]
  },
  {
   "cell_type": "code",
   "execution_count": 26,
   "metadata": {},
   "outputs": [
    {
     "data": {
      "text/html": [
       "<div>\n",
       "<style scoped>\n",
       "    .dataframe tbody tr th:only-of-type {\n",
       "        vertical-align: middle;\n",
       "    }\n",
       "\n",
       "    .dataframe tbody tr th {\n",
       "        vertical-align: top;\n",
       "    }\n",
       "\n",
       "    .dataframe thead th {\n",
       "        text-align: right;\n",
       "    }\n",
       "</style>\n",
       "<table border=\"1\" class=\"dataframe\">\n",
       "  <thead>\n",
       "    <tr style=\"text-align: right;\">\n",
       "      <th></th>\n",
       "      <th>mean</th>\n",
       "      <th>median</th>\n",
       "      <th>std</th>\n",
       "    </tr>\n",
       "  </thead>\n",
       "  <tbody>\n",
       "    <tr>\n",
       "      <th>Nombre de mots</th>\n",
       "      <td>686.58</td>\n",
       "      <td>495.5</td>\n",
       "      <td>681.502335</td>\n",
       "    </tr>\n",
       "    <tr>\n",
       "      <th>freq-homeo</th>\n",
       "      <td>7.58</td>\n",
       "      <td>4.5</td>\n",
       "      <td>7.961873</td>\n",
       "    </tr>\n",
       "    <tr>\n",
       "      <th>freq-alterna</th>\n",
       "      <td>0.52</td>\n",
       "      <td>0.0</td>\n",
       "      <td>0.886175</td>\n",
       "    </tr>\n",
       "    <tr>\n",
       "      <th>freq-allopath</th>\n",
       "      <td>0.34</td>\n",
       "      <td>0.0</td>\n",
       "      <td>1.733346</td>\n",
       "    </tr>\n",
       "    <tr>\n",
       "      <th>freq-nofakemed</th>\n",
       "      <td>0.36</td>\n",
       "      <td>0.0</td>\n",
       "      <td>1.625812</td>\n",
       "    </tr>\n",
       "  </tbody>\n",
       "</table>\n",
       "</div>"
      ],
      "text/plain": [
       "                  mean  median         std\n",
       "Nombre de mots  686.58   495.5  681.502335\n",
       "freq-homeo        7.58     4.5    7.961873\n",
       "freq-alterna      0.52     0.0    0.886175\n",
       "freq-allopath     0.34     0.0    1.733346\n",
       "freq-nofakemed    0.36     0.0    1.625812"
      ]
     },
     "execution_count": 26,
     "metadata": {},
     "output_type": "execute_result"
    }
   ],
   "source": [
    "corpus[corpus.columns[-5:]].agg([\"mean\",\"median\",\"std\"]).T.to_excel(\"stats.xlsx\")"
   ]
  },
  {
   "cell_type": "markdown",
   "metadata": {},
   "source": [
    "## Visualiser\n",
    "* Différentes visualisations\n",
    "* Mettre un titre, légende ,couleur, taille\n",
    "* Sauvegarder\n",
    "* Plusieurs graphiques fig, ax_lst = plt.subplots(2, 2)"
   ]
  },
  {
   "cell_type": "markdown",
   "metadata": {},
   "source": [
    "D'abord de l'exploratoire"
   ]
  },
  {
   "cell_type": "code",
   "execution_count": 79,
   "metadata": {},
   "outputs": [
    {
     "data": {
      "text/plain": [
       "Text(0, 0.5, \"Nombre d'articles\")"
      ]
     },
     "execution_count": 79,
     "metadata": {},
     "output_type": "execute_result"
    },
    {
     "data": {
      "image/png": "[encoded data removed]",
      "text/plain": [
       "<Figure size 432x288 with 1 Axes>"
      ]
     },
     "metadata": {
      "needs_background": "light"
     },
     "output_type": "display_data"
    }
   ],
   "source": [
    "corpus[\"Nombre de mots\"].hist()\n",
    "plt.title(\"Nombre de mots\")\n",
    "plt.xlabel(\"Nombre de mots\")\n",
    "plt.ylabel(\"Nombre d'articles\")\n",
    "#plt.grid(False)\n",
    "#plt.savefig()\n"
   ]
  },
  {
   "cell_type": "markdown",
   "metadata": {},
   "source": [
    "On peut changer la couleur, le découpage, etc puis sauver la figure"
   ]
  },
  {
   "cell_type": "markdown",
   "metadata": {},
   "source": [
    "Voir l'évolution temporelle d'un des termes : fakemed"
   ]
  },
  {
   "cell_type": "code",
   "execution_count": 87,
   "metadata": {},
   "outputs": [
    {
     "data": {
      "text/plain": [
       "<matplotlib.axes._subplots.AxesSubplot at 0x7ffac371e860>"
      ]
     },
     "execution_count": 87,
     "metadata": {},
     "output_type": "execute_result"
    },
    {
     "data": {
      "image/png": "[encoded data removed]",
      "text/plain": [
       "<Figure size 432x288 with 1 Axes>"
      ]
     },
     "metadata": {
      "needs_background": "light"
     },
     "output_type": "display_data"
    }
   ],
   "source": [
    "corpus[[\"Date_reco\",\"freq-nofakemed\"]].set_index(\"Date_reco\").plot()"
   ]
  },
  {
   "cell_type": "code",
   "execution_count": 19,
   "metadata": {},
   "outputs": [
    {
     "data": {
      "text/plain": [
       "Text(0, 0.5, \"Nombre d'occurence de homéopathie\")"
      ]
     },
     "execution_count": 19,
     "metadata": {},
     "output_type": "execute_result"
    },
    {
     "data": {
      "image/png": "[encoded data removed]",
      "text/plain": [
       "<Figure size 432x288 with 1 Axes>"
      ]
     },
     "metadata": {
      "needs_background": "light"
     },
     "output_type": "display_data"
    }
   ],
   "source": [
    "corpus.plot(kind=\"scatter\", x=\"Nombre de mots\",y=\"freq-homeo\")\n",
    "plt.xlabel(\"Nombre de mots de l'article\")\n",
    "plt.ylabel(\"Nombre d'occurence de homéopathie\")"
   ]
  },
  {
   "cell_type": "markdown",
   "metadata": {},
   "source": [
    "En dernier recours, toutes les visualisations sont possibles...  :https://pandas.pydata.org/pandas-docs/stable/user_guide/visualization.html"
   ]
  },
  {
   "cell_type": "markdown",
   "metadata": {},
   "source": [
    "## Analyse bivariée"
   ]
  },
  {
   "cell_type": "markdown",
   "metadata": {},
   "source": [
    "Une opération souvent nécessaire en sociologie est le tableau croisé : fonction pandas pd.crosstab"
   ]
  },
  {
   "cell_type": "code",
   "execution_count": 7,
   "metadata": {},
   "outputs": [
    {
     "data": {
      "text/html": [
       "<div>\n",
       "<style scoped>\n",
       "    .dataframe tbody tr th:only-of-type {\n",
       "        vertical-align: middle;\n",
       "    }\n",
       "\n",
       "    .dataframe tbody tr th {\n",
       "        vertical-align: top;\n",
       "    }\n",
       "\n",
       "    .dataframe thead th {\n",
       "        text-align: right;\n",
       "    }\n",
       "</style>\n",
       "<table border=\"1\" class=\"dataframe\">\n",
       "  <thead>\n",
       "    <tr style=\"text-align: right;\">\n",
       "      <th>Annee</th>\n",
       "      <th>2017</th>\n",
       "      <th>2018</th>\n",
       "      <th>2019</th>\n",
       "    </tr>\n",
       "    <tr>\n",
       "      <th>Journal-reco</th>\n",
       "      <th></th>\n",
       "      <th></th>\n",
       "      <th></th>\n",
       "    </tr>\n",
       "  </thead>\n",
       "  <tbody>\n",
       "    <tr>\n",
       "      <th>La Croix</th>\n",
       "      <td>2</td>\n",
       "      <td>11</td>\n",
       "      <td>2</td>\n",
       "    </tr>\n",
       "    <tr>\n",
       "      <th>Le Monde</th>\n",
       "      <td>3</td>\n",
       "      <td>21</td>\n",
       "      <td>1</td>\n",
       "    </tr>\n",
       "    <tr>\n",
       "      <th>Libération</th>\n",
       "      <td>1</td>\n",
       "      <td>6</td>\n",
       "      <td>3</td>\n",
       "    </tr>\n",
       "  </tbody>\n",
       "</table>\n",
       "</div>"
      ],
      "text/plain": [
       "Annee         2017  2018  2019\n",
       "Journal-reco                  \n",
       "La Croix         2    11     2\n",
       "Le Monde         3    21     1\n",
       "Libération       1     6     3"
      ]
     },
     "execution_count": 7,
     "metadata": {},
     "output_type": "execute_result"
    }
   ],
   "source": [
    "pd.crosstab(corpus[\"Journal-reco\"],corpus[\"Annee\"])"
   ]
  },
  {
   "cell_type": "markdown",
   "metadata": {},
   "source": [
    "Avec une lecture en pourcentage par colonne : on applique une fonction"
   ]
  },
  {
   "cell_type": "code",
   "execution_count": 8,
   "metadata": {},
   "outputs": [
    {
     "data": {
      "text/html": [
       "<div>\n",
       "<style scoped>\n",
       "    .dataframe tbody tr th:only-of-type {\n",
       "        vertical-align: middle;\n",
       "    }\n",
       "\n",
       "    .dataframe tbody tr th {\n",
       "        vertical-align: top;\n",
       "    }\n",
       "\n",
       "    .dataframe thead th {\n",
       "        text-align: right;\n",
       "    }\n",
       "</style>\n",
       "<table border=\"1\" class=\"dataframe\">\n",
       "  <thead>\n",
       "    <tr style=\"text-align: right;\">\n",
       "      <th>Annee</th>\n",
       "      <th>2017</th>\n",
       "      <th>2018</th>\n",
       "      <th>2019</th>\n",
       "    </tr>\n",
       "    <tr>\n",
       "      <th>Journal-reco</th>\n",
       "      <th></th>\n",
       "      <th></th>\n",
       "      <th></th>\n",
       "    </tr>\n",
       "  </thead>\n",
       "  <tbody>\n",
       "    <tr>\n",
       "      <th>La Croix</th>\n",
       "      <td>33.333333</td>\n",
       "      <td>28.947368</td>\n",
       "      <td>33.333333</td>\n",
       "    </tr>\n",
       "    <tr>\n",
       "      <th>Le Monde</th>\n",
       "      <td>50.000000</td>\n",
       "      <td>55.263158</td>\n",
       "      <td>16.666667</td>\n",
       "    </tr>\n",
       "    <tr>\n",
       "      <th>Libération</th>\n",
       "      <td>16.666667</td>\n",
       "      <td>15.789474</td>\n",
       "      <td>50.000000</td>\n",
       "    </tr>\n",
       "  </tbody>\n",
       "</table>\n",
       "</div>"
      ],
      "text/plain": [
       "Annee              2017       2018       2019\n",
       "Journal-reco                                 \n",
       "La Croix      33.333333  28.947368  33.333333\n",
       "Le Monde      50.000000  55.263158  16.666667\n",
       "Libération    16.666667  15.789474  50.000000"
      ]
     },
     "execution_count": 8,
     "metadata": {},
     "output_type": "execute_result"
    }
   ],
   "source": [
    "pd.crosstab(corpus[\"Journal-reco\"],corpus[\"Annee\"]).apply(lambda x : 100*x/sum(x))"
   ]
  },
  {
   "cell_type": "markdown",
   "metadata": {},
   "source": [
    "Se poser la question des régularités observés : par exemple, est-ce qu'il y a une corrélation ?"
   ]
  },
  {
   "cell_type": "code",
   "execution_count": 28,
   "metadata": {},
   "outputs": [
    {
     "data": {
      "text/html": [
       "<div>\n",
       "<style scoped>\n",
       "    .dataframe tbody tr th:only-of-type {\n",
       "        vertical-align: middle;\n",
       "    }\n",
       "\n",
       "    .dataframe tbody tr th {\n",
       "        vertical-align: top;\n",
       "    }\n",
       "\n",
       "    .dataframe thead th {\n",
       "        text-align: right;\n",
       "    }\n",
       "</style>\n",
       "<table border=\"1\" class=\"dataframe\">\n",
       "  <thead>\n",
       "    <tr style=\"text-align: right;\">\n",
       "      <th></th>\n",
       "      <th>Nombre de mots</th>\n",
       "      <th>freq-homeo</th>\n",
       "      <th>freq-alterna</th>\n",
       "      <th>freq-allopath</th>\n",
       "      <th>freq-nofakemed</th>\n",
       "    </tr>\n",
       "  </thead>\n",
       "  <tbody>\n",
       "    <tr>\n",
       "      <th>Nombre de mots</th>\n",
       "      <td>1.000000</td>\n",
       "      <td>0.584875</td>\n",
       "      <td>0.454909</td>\n",
       "      <td>0.209720</td>\n",
       "      <td>0.456046</td>\n",
       "    </tr>\n",
       "    <tr>\n",
       "      <th>freq-homeo</th>\n",
       "      <td>0.584875</td>\n",
       "      <td>1.000000</td>\n",
       "      <td>0.268768</td>\n",
       "      <td>0.437926</td>\n",
       "      <td>0.166425</td>\n",
       "    </tr>\n",
       "    <tr>\n",
       "      <th>freq-alterna</th>\n",
       "      <td>0.454909</td>\n",
       "      <td>0.268768</td>\n",
       "      <td>1.000000</td>\n",
       "      <td>-0.037733</td>\n",
       "      <td>0.434013</td>\n",
       "    </tr>\n",
       "    <tr>\n",
       "      <th>freq-allopath</th>\n",
       "      <td>0.209720</td>\n",
       "      <td>0.437926</td>\n",
       "      <td>-0.037733</td>\n",
       "      <td>1.000000</td>\n",
       "      <td>-0.044320</td>\n",
       "    </tr>\n",
       "    <tr>\n",
       "      <th>freq-nofakemed</th>\n",
       "      <td>0.456046</td>\n",
       "      <td>0.166425</td>\n",
       "      <td>0.434013</td>\n",
       "      <td>-0.044320</td>\n",
       "      <td>1.000000</td>\n",
       "    </tr>\n",
       "  </tbody>\n",
       "</table>\n",
       "</div>"
      ],
      "text/plain": [
       "                Nombre de mots  freq-homeo  freq-alterna  freq-allopath  \\\n",
       "Nombre de mots        1.000000    0.584875      0.454909       0.209720   \n",
       "freq-homeo            0.584875    1.000000      0.268768       0.437926   \n",
       "freq-alterna          0.454909    0.268768      1.000000      -0.037733   \n",
       "freq-allopath         0.209720    0.437926     -0.037733       1.000000   \n",
       "freq-nofakemed        0.456046    0.166425      0.434013      -0.044320   \n",
       "\n",
       "                freq-nofakemed  \n",
       "Nombre de mots        0.456046  \n",
       "freq-homeo            0.166425  \n",
       "freq-alterna          0.434013  \n",
       "freq-allopath        -0.044320  \n",
       "freq-nofakemed        1.000000  "
      ]
     },
     "execution_count": 28,
     "metadata": {},
     "output_type": "execute_result"
    }
   ],
   "source": [
    "corpus[corpus.columns[-5:]].corr()"
   ]
  },
  {
   "cell_type": "markdown",
   "metadata": {},
   "source": [
    "### Aller plus loin : faire des tests statistiques"
   ]
  },
  {
   "cell_type": "markdown",
   "metadata": {},
   "source": [
    "Faire un test de khi2 sur le tableau : on utilise la librairie scipy"
   ]
  },
  {
   "cell_type": "code",
   "execution_count": 11,
   "metadata": {},
   "outputs": [],
   "source": [
    "from scipy.stats import chi2_contingency"
   ]
  },
  {
   "cell_type": "code",
   "execution_count": 9,
   "metadata": {},
   "outputs": [],
   "source": [
    "tableau = pd.crosstab(corpus[\"Journal-reco\"],corpus[\"Annee\"])"
   ]
  },
  {
   "cell_type": "code",
   "execution_count": 12,
   "metadata": {},
   "outputs": [
    {
     "data": {
      "text/plain": [
       "0.3225788433434356"
      ]
     },
     "execution_count": 12,
     "metadata": {},
     "output_type": "execute_result"
    }
   ],
   "source": [
    "p = chi2_contingency(tableau)\n",
    "p[1]"
   ]
  },
  {
   "cell_type": "markdown",
   "metadata": {},
   "source": [
    "Ce n'est pas significatif"
   ]
  },
  {
   "cell_type": "markdown",
   "metadata": {},
   "source": [
    "Faire une ANOVA, par exemple pour se demander si la taille des articles varie entre les journaux\n",
    "\n",
    "Pour plus d'info : https://pythonfordatascience.org/anova-python/"
   ]
  },
  {
   "cell_type": "code",
   "execution_count": 103,
   "metadata": {},
   "outputs": [
    {
     "data": {
      "text/html": [
       "<div>\n",
       "<style scoped>\n",
       "    .dataframe tbody tr th:only-of-type {\n",
       "        vertical-align: middle;\n",
       "    }\n",
       "\n",
       "    .dataframe tbody tr th {\n",
       "        vertical-align: top;\n",
       "    }\n",
       "\n",
       "    .dataframe thead th {\n",
       "        text-align: right;\n",
       "    }\n",
       "</style>\n",
       "<table border=\"1\" class=\"dataframe\">\n",
       "  <thead>\n",
       "    <tr style=\"text-align: right;\">\n",
       "      <th></th>\n",
       "      <th>count</th>\n",
       "      <th>mean</th>\n",
       "      <th>std</th>\n",
       "      <th>min</th>\n",
       "      <th>25%</th>\n",
       "      <th>50%</th>\n",
       "      <th>75%</th>\n",
       "      <th>max</th>\n",
       "    </tr>\n",
       "    <tr>\n",
       "      <th>Journal-reco</th>\n",
       "      <th></th>\n",
       "      <th></th>\n",
       "      <th></th>\n",
       "      <th></th>\n",
       "      <th></th>\n",
       "      <th></th>\n",
       "      <th></th>\n",
       "      <th></th>\n",
       "    </tr>\n",
       "  </thead>\n",
       "  <tbody>\n",
       "    <tr>\n",
       "      <th>La Croix</th>\n",
       "      <td>15.0</td>\n",
       "      <td>375.933333</td>\n",
       "      <td>298.828060</td>\n",
       "      <td>23.0</td>\n",
       "      <td>148.50</td>\n",
       "      <td>368.0</td>\n",
       "      <td>479.50</td>\n",
       "      <td>1183.0</td>\n",
       "    </tr>\n",
       "    <tr>\n",
       "      <th>Le Monde</th>\n",
       "      <td>25.0</td>\n",
       "      <td>819.640000</td>\n",
       "      <td>839.802253</td>\n",
       "      <td>43.0</td>\n",
       "      <td>152.00</td>\n",
       "      <td>600.0</td>\n",
       "      <td>937.00</td>\n",
       "      <td>3089.0</td>\n",
       "    </tr>\n",
       "    <tr>\n",
       "      <th>Libération</th>\n",
       "      <td>10.0</td>\n",
       "      <td>819.900000</td>\n",
       "      <td>528.450239</td>\n",
       "      <td>145.0</td>\n",
       "      <td>454.75</td>\n",
       "      <td>793.5</td>\n",
       "      <td>1015.25</td>\n",
       "      <td>1888.0</td>\n",
       "    </tr>\n",
       "  </tbody>\n",
       "</table>\n",
       "</div>"
      ],
      "text/plain": [
       "              count        mean         std    min     25%    50%      75%  \\\n",
       "Journal-reco                                                                 \n",
       "La Croix       15.0  375.933333  298.828060   23.0  148.50  368.0   479.50   \n",
       "Le Monde       25.0  819.640000  839.802253   43.0  152.00  600.0   937.00   \n",
       "Libération     10.0  819.900000  528.450239  145.0  454.75  793.5  1015.25   \n",
       "\n",
       "                 max  \n",
       "Journal-reco          \n",
       "La Croix      1183.0  \n",
       "Le Monde      3089.0  \n",
       "Libération    1888.0  "
      ]
     },
     "execution_count": 103,
     "metadata": {},
     "output_type": "execute_result"
    }
   ],
   "source": [
    "corpus.groupby(\"Journal-reco\")[\"Nombre de mots\"].describe()"
   ]
  },
  {
   "cell_type": "code",
   "execution_count": 104,
   "metadata": {},
   "outputs": [],
   "source": [
    "from scipy.stats import f_oneway"
   ]
  },
  {
   "cell_type": "code",
   "execution_count": 106,
   "metadata": {},
   "outputs": [
    {
     "data": {
      "text/plain": [
       "F_onewayResult(statistic=2.348742226503404, pvalue=0.10660277164869987)"
      ]
     },
     "execution_count": 106,
     "metadata": {},
     "output_type": "execute_result"
    }
   ],
   "source": [
    "f_oneway(corpus[corpus[\"Journal-reco\"]==\"Le Monde\"][\"Nombre de mots\"],\n",
    "        corpus[corpus[\"Journal-reco\"]==\"La Croix\"][\"Nombre de mots\"],\n",
    "        corpus[corpus[\"Journal-reco\"]==\"Libération\"][\"Nombre de mots\"])"
   ]
  },
  {
   "cell_type": "markdown",
   "metadata": {},
   "source": [
    "Il existe plusieurs façon de faire les tests, et de les paramétrer. Par exemple, une nouvelle librairie : \n",
    "https://researchpy.readthedocs.io"
   ]
  },
  {
   "cell_type": "markdown",
   "metadata": {},
   "source": [
    "## Aller vers des modèles\n",
    "\n",
    "Faire une régression linéaire : http://pythonfordatascience.org/linear-regression-python/"
   ]
  },
  {
   "cell_type": "code",
   "execution_count": 13,
   "metadata": {},
   "outputs": [
    {
     "data": {
      "text/plain": [
       "Text(0, 0.5, \"Nombre d'occurence de homéopathie\")"
      ]
     },
     "execution_count": 13,
     "metadata": {},
     "output_type": "execute_result"
    },
    {
     "data": {
      "image/png": "[encoded data removed]",
      "text/plain": [
       "<Figure size 432x288 with 1 Axes>"
      ]
     },
     "metadata": {
      "needs_background": "light"
     },
     "output_type": "display_data"
    }
   ],
   "source": [
    "ax = corpus.plot(kind=\"scatter\", x=\"Nombre de mots\",y=\"freq-homeo\")\n",
    "plt.xlabel(\"Nombre de mots de l'article\")\n",
    "plt.ylabel(\"Nombre d'occurence de homéopathie\")"
   ]
  },
  {
   "cell_type": "markdown",
   "metadata": {},
   "source": [
    "Librairie de modèles"
   ]
  },
  {
   "cell_type": "code",
   "execution_count": 14,
   "metadata": {},
   "outputs": [],
   "source": [
    "import statsmodels.formula.api as smf\n",
    "import statsmodels.stats.api as sms\n",
    "from scipy import stats\n",
    "from statsmodels.compat import lzip"
   ]
  },
  {
   "cell_type": "markdown",
   "metadata": {},
   "source": [
    "Initier un modèle"
   ]
  },
  {
   "cell_type": "code",
   "execution_count": 19,
   "metadata": {},
   "outputs": [],
   "source": [
    "#Les espaces et les tirets ne sont pas reconnus par la librairie de modèles\n",
    "corpus[\"nm\"] = corpus[\"Nombre de mots\"]\n",
    "corpus[\"fh\"] = corpus[\"freq-homeo\"]\n",
    "\n",
    "model = smf.ols(\"fh ~ nm\", data= corpus).fit()"
   ]
  },
  {
   "cell_type": "code",
   "execution_count": 20,
   "metadata": {},
   "outputs": [
    {
     "data": {
      "text/html": [
       "<table class=\"simpletable\">\n",
       "<caption>OLS Regression Results</caption>\n",
       "<tr>\n",
       "  <th>Dep. Variable:</th>           <td>fh</td>        <th>  R-squared:         </th> <td>   0.342</td>\n",
       "</tr>\n",
       "<tr>\n",
       "  <th>Model:</th>                   <td>OLS</td>       <th>  Adj. R-squared:    </th> <td>   0.328</td>\n",
       "</tr>\n",
       "<tr>\n",
       "  <th>Method:</th>             <td>Least Squares</td>  <th>  F-statistic:       </th> <td>   24.96</td>\n",
       "</tr>\n",
       "<tr>\n",
       "  <th>Date:</th>             <td>Sun, 14 Jul 2019</td> <th>  Prob (F-statistic):</th> <td>8.18e-06</td>\n",
       "</tr>\n",
       "<tr>\n",
       "  <th>Time:</th>                 <td>18:04:01</td>     <th>  Log-Likelihood:    </th> <td> -163.71</td>\n",
       "</tr>\n",
       "<tr>\n",
       "  <th>No. Observations:</th>      <td>    50</td>      <th>  AIC:               </th> <td>   331.4</td>\n",
       "</tr>\n",
       "<tr>\n",
       "  <th>Df Residuals:</th>          <td>    48</td>      <th>  BIC:               </th> <td>   335.2</td>\n",
       "</tr>\n",
       "<tr>\n",
       "  <th>Df Model:</th>              <td>     1</td>      <th>                     </th>     <td> </td>   \n",
       "</tr>\n",
       "<tr>\n",
       "  <th>Covariance Type:</th>      <td>nonrobust</td>    <th>                     </th>     <td> </td>   \n",
       "</tr>\n",
       "</table>\n",
       "<table class=\"simpletable\">\n",
       "<tr>\n",
       "      <td></td>         <th>coef</th>     <th>std err</th>      <th>t</th>      <th>P>|t|</th>  <th>[0.025</th>    <th>0.975]</th>  \n",
       "</tr>\n",
       "<tr>\n",
       "  <th>Intercept</th> <td>    2.8886</td> <td>    1.317</td> <td>    2.194</td> <td> 0.033</td> <td>    0.241</td> <td>    5.536</td>\n",
       "</tr>\n",
       "<tr>\n",
       "  <th>nm</th>        <td>    0.0068</td> <td>    0.001</td> <td>    4.996</td> <td> 0.000</td> <td>    0.004</td> <td>    0.010</td>\n",
       "</tr>\n",
       "</table>\n",
       "<table class=\"simpletable\">\n",
       "<tr>\n",
       "  <th>Omnibus:</th>       <td> 9.586</td> <th>  Durbin-Watson:     </th> <td>   0.649</td>\n",
       "</tr>\n",
       "<tr>\n",
       "  <th>Prob(Omnibus):</th> <td> 0.008</td> <th>  Jarque-Bera (JB):  </th> <td>  20.761</td>\n",
       "</tr>\n",
       "<tr>\n",
       "  <th>Skew:</th>          <td> 0.265</td> <th>  Prob(JB):          </th> <td>3.10e-05</td>\n",
       "</tr>\n",
       "<tr>\n",
       "  <th>Kurtosis:</th>      <td> 6.112</td> <th>  Cond. No.          </th> <td>1.37e+03</td>\n",
       "</tr>\n",
       "</table><br/><br/>Warnings:<br/>[1] Standard Errors assume that the covariance matrix of the errors is correctly specified.<br/>[2] The condition number is large, 1.37e+03. This might indicate that there are<br/>strong multicollinearity or other numerical problems."
      ],
      "text/plain": [
       "<class 'statsmodels.iolib.summary.Summary'>\n",
       "\"\"\"\n",
       "                            OLS Regression Results                            \n",
       "==============================================================================\n",
       "Dep. Variable:                     fh   R-squared:                       0.342\n",
       "Model:                            OLS   Adj. R-squared:                  0.328\n",
       "Method:                 Least Squares   F-statistic:                     24.96\n",
       "Date:                Sun, 14 Jul 2019   Prob (F-statistic):           8.18e-06\n",
       "Time:                        18:04:01   Log-Likelihood:                -163.71\n",
       "No. Observations:                  50   AIC:                             331.4\n",
       "Df Residuals:                      48   BIC:                             335.2\n",
       "Df Model:                           1                                         \n",
       "Covariance Type:            nonrobust                                         \n",
       "==============================================================================\n",
       "                 coef    std err          t      P>|t|      [0.025      0.975]\n",
       "------------------------------------------------------------------------------\n",
       "Intercept      2.8886      1.317      2.194      0.033       0.241       5.536\n",
       "nm             0.0068      0.001      4.996      0.000       0.004       0.010\n",
       "==============================================================================\n",
       "Omnibus:                        9.586   Durbin-Watson:                   0.649\n",
       "Prob(Omnibus):                  0.008   Jarque-Bera (JB):               20.761\n",
       "Skew:                           0.265   Prob(JB):                     3.10e-05\n",
       "Kurtosis:                       6.112   Cond. No.                     1.37e+03\n",
       "==============================================================================\n",
       "\n",
       "Warnings:\n",
       "[1] Standard Errors assume that the covariance matrix of the errors is correctly specified.\n",
       "[2] The condition number is large, 1.37e+03. This might indicate that there are\n",
       "strong multicollinearity or other numerical problems.\n",
       "\"\"\""
      ]
     },
     "execution_count": 20,
     "metadata": {},
     "output_type": "execute_result"
    }
   ],
   "source": [
    "model.summary()"
   ]
  }
 ],
 "metadata": {
  "kernelspec": {
   "display_name": "Python 3",
   "language": "python",
   "name": "python3"
  },
  "language_info": {
   "codemirror_mode": {
    "name": "ipython",
    "version": 3
   },
   "file_extension": ".py",
   "mimetype": "text/x-python",
   "name": "python",
   "nbconvert_exporter": "python",
   "pygments_lexer": "ipython3",
   "version": "3.5.6"
  }
 },
 "nbformat": 4,
 "nbformat_minor": 2
}
