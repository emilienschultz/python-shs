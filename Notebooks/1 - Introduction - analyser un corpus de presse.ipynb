{
 "cells": [
  {
   "cell_type": "markdown",
   "metadata": {},
   "source": [
    "# Ouverture de la formation\n",
    "\n",
    "__Durée : 30 min__\n",
    "\n",
    "__Objectif :__\n",
    " * Présenter ce qui est faisable\n",
    " * Montrer l'intérêt du script scientifique\n",
    " * Présenter l'étude de cas qui va guider la formation\n",
    " \n",
    "__Tour de table :__\n",
    " * Quelle est votre expérience perso et pro à la programmation ?\n",
    " * Un exemple d'utilisation à laquelle vous pensez dans votre quotidien ? Qu'est-ce que vous pourriez automatiser dans l'usage de votre ordinateur ou des données ?"
   ]
  },
  {
   "cell_type": "markdown",
   "metadata": {},
   "source": [
    "## Pourquoi Python ?\n",
    "* Organiser le flot des données : une \"colle\"\n",
    "* Un langage généraliste\n",
    "* Un langage pédagogique\n",
    "* Adapté au script scientifique\n",
    "* Une communauté scientifique qui développe beaucoup d'outils\n",
    "* Open Source\n",
    "* Plusieurs versions : actuellement 3.7\n",
    "* Tout une \"stack\" d'outils interdépendants qui permettent de gérer des données et des traitements spécifiques"
   ]
  },
  {
   "cell_type": "code",
   "execution_count": null,
   "metadata": {},
   "outputs": [],
   "source": [
    "from IPython.display import Image\n",
    "Image(\"./python-shs/scipy-stack.png\",width=800)"
   ]
  },
  {
   "cell_type": "markdown",
   "metadata": {},
   "source": [
    "Dans la formation, nous verrons :\n",
    "* Python\n",
    "* Jupyter\n",
    "* Pandas/Matplotlib/Scipy\n",
    "* Networkx"
   ]
  },
  {
   "cell_type": "markdown",
   "metadata": {},
   "source": [
    "## Cas d'étude : la couverture des débats sur l'homéopathie ces deux dernières années dans la presse\n",
    "\n",
    "Notre question sera : Comment traiter et analyser des données de presse.\n",
    "\n",
    "Si on décompose, cela signifie : \n",
    "* Récupérer les données\n",
    "* Les mettre en forme\n",
    "* Faire des traitements statistiques exploratoires\n",
    "* Faire des analyses avancées"
   ]
  },
  {
   "cell_type": "markdown",
   "metadata": {},
   "source": [
    "## Récupérer des données\n",
    "\n",
    " * Dans notre cas, utiliser le portail Europresse via un accès institutionnel http://paris-sorbonne.libguides.com/europresse_version-classique\n",
    "  * Requête : article du Monde des deux dernières années mentionnant homéopathie du 01/01/2017 à maintenant\n",
    "  * Extraction en format html\n",
    "  * Visualiser du html : le logiciel SublimeText\n",
    " * Dans d'autres cas : récupérer à la main pour stocker dans des fichiers .txt indépendants, faire un script de récuparation automatique, etc.\n"
   ]
  },
  {
   "cell_type": "markdown",
   "metadata": {},
   "source": [
    "## Charger les données\n",
    "\n",
    "Quand la quantité des données est raisonnable (souvent en SHS) il est possible de les charger entièrement dans la mémoire vive (sinon, Big Data, autres solutions ...)"
   ]
  },
  {
   "cell_type": "code",
   "execution_count": 184,
   "metadata": {},
   "outputs": [],
   "source": [
    "#Dans notre cas, les données sont dans un fichier .HTML téléchargé via l'interface\n",
    "f = open(\"./Downloads/biblioeuropresse20190418102533.HTML\",\"r\")\n",
    "fichier = f.read()\n",
    "f.close()"
   ]
  },
  {
   "cell_type": "markdown",
   "metadata": {},
   "source": [
    "Voir les 100 premières lettres des données \"brutes\""
   ]
  },
  {
   "cell_type": "code",
   "execution_count": 187,
   "metadata": {},
   "outputs": [
    {
     "data": {
      "text/plain": [
       "' <!DOCTYPE html> <html> <head> <meta charset=\"utf-8\"/> <title></title> <style type=\"text/css\">html,body{font-family:Arial,\\'tahoma\\';font-size:11px;background-color:#fff;margin:5px auto;width:95%}section{text-align:justify;line-height:16px}a{color:inherit;*color:#000}em{font-style:normal}mark{background-color:#fbf592;color:#000}.DocText{font-size:12px;line-height:18px;color:#333;margin-top:20px}a:hover{text-decoration:underline}li{list-style-type:none}.stubs{color:inherit;text-decoration:none}.no-transcription{color:#999;font-style:italic}.img-container{min-height:75px}.clearfix{*clear:left}pre{font-size:1em;font-family:Arial,\\'tahoma\\';white-space:pre-wrap;word-wrap:break-word}.emptyTranscript{display:none}.transcripts{margin:25px 0 60px}.transcript{position:relative;margin:0.15em}.transcript>.time{color:#036;margin-right:10px;text-decoration:underline;width:55px;position:absolute}.transcript>.value{margin:0;margin-left:70px;position:relative;display:inline-block;text-align:justify;line-h'"
      ]
     },
     "execution_count": 187,
     "metadata": {},
     "output_type": "execute_result"
    }
   ],
   "source": [
    "fichier[0:1000]"
   ]
  },
  {
   "cell_type": "markdown",
   "metadata": {},
   "source": [
    "Comprendre la structure des données : le document est en html ,ce qui signifie que l'on peut le lire avec les balises de description. En regardant la structure du document (où sont les articles, comment ils sont organisés) on se rend compte que chaque article est par exemple entre une balise < article>< /article> ce qui va nous permettre de séparer le fichier en articles. Pareil, le titre est entre des balises bien particulière."
   ]
  },
  {
   "cell_type": "markdown",
   "metadata": {},
   "source": [
    "## Mettre en forme les données\n",
    "\n",
    "On utilise la librairie Beautifulsoup qui permet de chercher dans un document html des balises particulières"
   ]
  },
  {
   "cell_type": "code",
   "execution_count": 1,
   "metadata": {},
   "outputs": [],
   "source": [
    "import pandas as pd\n",
    "import bs4 as bs\n",
    "\n",
    "#Une fonction qui extrait les informations d'un fichier .html d'Europresse\n",
    "def extract(file):    \n",
    "    #On utilise BeautifulSoup pour lire le fichier\n",
    "    corpus_html = bs.BeautifulSoup(open(file),\"lxml\")\n",
    "    \n",
    "    corpus = [] #tableau que l'on va remplir avec les données\n",
    "    \n",
    "    # On fait une boucle sur chaque article du corpus entre des balises articles\n",
    "    for i in corpus_html.find_all(\"article\"):\n",
    "        \n",
    "        #on regarde s'il y a un titre dans l'article\n",
    "        try:\n",
    "            titre = i.find(\"div\",{\"class\":\"titreArticle\"}).text \n",
    "        except:\n",
    "            titre = None #sinon on renvoie rien\n",
    "            \n",
    "        #Pareil pour la date/header\n",
    "        try:\n",
    "            header = i.find(\"span\",{\"class\":\"DocHeader\"}).text\n",
    "        except:\n",
    "            header = None\n",
    "        \n",
    "        #Le nom de la publicatoin\n",
    "        try:\n",
    "            publication = i.find(\"span\",{\"class\":\"DocPublicationName\"}).text\n",
    "        except:\n",
    "            publication = None\n",
    "         \n",
    "        #le contenu\n",
    "        try:\n",
    "            text = i.find(\"div\",{\"class\":\"DocText clearfix\"}).text\n",
    "        except:\n",
    "            text = None\n",
    "            \n",
    "        #On ajoute ces éléments au corpus\n",
    "        corpus.append([header,titre,publication,text])\n",
    "        \n",
    "    return corpus #On renvoie les informations"
   ]
  },
  {
   "cell_type": "code",
   "execution_count": 6,
   "metadata": {},
   "outputs": [],
   "source": [
    "#On extrait les données du fichier téléchargé\n",
    "corpus = extract(\"./../../../../Downloads/biblioeuropresse20190418102533.HTML\")\n",
    "\n",
    "#On le met sous un format Pandas\n",
    "corpus = pd.DataFrame(corpus)\n",
    "\n",
    "#On le met en forme\n",
    "corpus.columns = [\"Date\",\"Titre\",\"Journal\",\"Contenu\"]"
   ]
  },
  {
   "cell_type": "markdown",
   "metadata": {},
   "source": [
    "Regarder le corpus"
   ]
  },
  {
   "cell_type": "code",
   "execution_count": 7,
   "metadata": {
    "scrolled": true
   },
   "outputs": [
    {
     "data": {
      "text/html": [
       "<div>\n",
       "<style scoped>\n",
       "    .dataframe tbody tr th:only-of-type {\n",
       "        vertical-align: middle;\n",
       "    }\n",
       "\n",
       "    .dataframe tbody tr th {\n",
       "        vertical-align: top;\n",
       "    }\n",
       "\n",
       "    .dataframe thead th {\n",
       "        text-align: right;\n",
       "    }\n",
       "</style>\n",
       "<table border=\"1\" class=\"dataframe\">\n",
       "  <thead>\n",
       "    <tr style=\"text-align: right;\">\n",
       "      <th></th>\n",
       "      <th>Date</th>\n",
       "      <th>Titre</th>\n",
       "      <th>Journal</th>\n",
       "      <th>Contenu</th>\n",
       "    </tr>\n",
       "  </thead>\n",
       "  <tbody>\n",
       "    <tr>\n",
       "      <th>0</th>\n",
       "      <td>Science &amp; Médecine,  mercredi 23 mai 2018 246...</td>\n",
       "      <td>Homéopathie Une réglementation à haute diluti...</td>\n",
       "      <td>Le Monde</td>\n",
       "      <td>(Lyon; correspondant); - Quand on lui parle ...</td>\n",
       "    </tr>\n",
       "    <tr>\n",
       "      <th>1</th>\n",
       "      <td>Événement,  samedi 16 juin 2018 1243 mots, p. 4</td>\n",
       "      <td>Principale «Réduire l'homéopathie à un effet ...</td>\n",
       "      <td>Libération, no. 11524</td>\n",
       "      <td>Le regard, au-dessus des petites lunettes ce...</td>\n",
       "    </tr>\n",
       "    <tr>\n",
       "      <th>2</th>\n",
       "      <td>Sciences et éthique,  mardi 10 avril 2018 105...</td>\n",
       "      <td>Faut-il en finir avec l'homéopathie? Une trib...</td>\n",
       "      <td>La Croix, no. 41073</td>\n",
       "      <td>Faut-il se débarrasser de l'homéopathie? Voi...</td>\n",
       "    </tr>\n",
       "    <tr>\n",
       "      <th>3</th>\n",
       "      <td>Science &amp; Médecine,  mercredi 28 novembre 201...</td>\n",
       "      <td>Nofakemed, symptôme d'un malaise médical Nofa...</td>\n",
       "      <td>Le Monde</td>\n",
       "      <td>Les médecines complémentaires et en particul...</td>\n",
       "    </tr>\n",
       "    <tr>\n",
       "      <th>4</th>\n",
       "      <td>Événement,  samedi 16 juin 2018 972 mots, p. 2</td>\n",
       "      <td>Homéopathie Principale Homéopathie : la guégu...</td>\n",
       "      <td>Libération, no. 11524</td>\n",
       "      <td>Agnès Buzyn, la ministre de la Santé, s'est ...</td>\n",
       "    </tr>\n",
       "  </tbody>\n",
       "</table>\n",
       "</div>"
      ],
      "text/plain": [
       "                                                Date  \\\n",
       "0   Science & Médecine,  mercredi 23 mai 2018 246...   \n",
       "1   Événement,  samedi 16 juin 2018 1243 mots, p. 4    \n",
       "2   Sciences et éthique,  mardi 10 avril 2018 105...   \n",
       "3   Science & Médecine,  mercredi 28 novembre 201...   \n",
       "4    Événement,  samedi 16 juin 2018 972 mots, p. 2    \n",
       "\n",
       "                                               Titre  \\\n",
       "0   Homéopathie Une réglementation à haute diluti...   \n",
       "1   Principale «Réduire l'homéopathie à un effet ...   \n",
       "2   Faut-il en finir avec l'homéopathie? Une trib...   \n",
       "3   Nofakemed, symptôme d'un malaise médical Nofa...   \n",
       "4   Homéopathie Principale Homéopathie : la guégu...   \n",
       "\n",
       "                     Journal  \\\n",
       "0                Le Monde      \n",
       "1   Libération, no. 11524      \n",
       "2     La Croix, no. 41073      \n",
       "3                Le Monde      \n",
       "4   Libération, no. 11524      \n",
       "\n",
       "                                             Contenu  \n",
       "0    (Lyon; correspondant); - Quand on lui parle ...  \n",
       "1    Le regard, au-dessus des petites lunettes ce...  \n",
       "2    Faut-il se débarrasser de l'homéopathie? Voi...  \n",
       "3    Les médecines complémentaires et en particul...  \n",
       "4    Agnès Buzyn, la ministre de la Santé, s'est ...  "
      ]
     },
     "execution_count": 7,
     "metadata": {},
     "output_type": "execute_result"
    }
   ],
   "source": [
    "corpus[0:5]"
   ]
  },
  {
   "cell_type": "code",
   "execution_count": 192,
   "metadata": {},
   "outputs": [],
   "source": [
    "#On le sauvegarde\n",
    "corpus.to_excel(\"./Downloads/base.xlsx\")"
   ]
  },
  {
   "cell_type": "markdown",
   "metadata": {},
   "source": [
    "Par contre les dates ne sont pas dans un format très utilisable"
   ]
  },
  {
   "cell_type": "markdown",
   "metadata": {},
   "source": [
    "### Recoder les dates\n",
    "\n",
    "Pour cela, on utilise deux librairies : les expressions régulières regex, et la mise en forme de dates de datetime\n",
    "\n",
    "On va chercher dans chaque élément de la colonne Date les motifs qui ressemblent à *mot mot quatre-chiffres* avec une expression régulière, puis remplacer le mois en toute lettre par le mois en chiffre"
   ]
  },
  {
   "cell_type": "code",
   "execution_count": 8,
   "metadata": {},
   "outputs": [],
   "source": [
    "import regex as re\n",
    "import datetime\n",
    "\n",
    "def reco_date(x):\n",
    "    #conversion lettres/chiffres\n",
    "    mois = {\"janvier\":\"01\",\"février\":\"02\",\"mars\":\"03\",\n",
    "            \"avril\":\"04\",\"mai\":\"05\",\"juin\":\"06\",\"juillet\":\"07\",\n",
    "            \"août\":\"08\",\"septembre\":\"09\",\"octobre\":\"10\",\"novembre\":\"11\",\"décembre\":\"12\"}\n",
    "    \n",
    "    #Trouver le motif\n",
    "    t = re.findall(\"\\w+ \\w+ [0-9]{4}\",x)\n",
    "    \n",
    "    #Si pas trouvé, renvoyer rien\n",
    "    if len(t) <1:\n",
    "        return None\n",
    "    #Sinon prendre le premier élément\n",
    "    t = t[0]\n",
    "    \n",
    "    #Remplacer le mois pour une mise en forme\n",
    "    for i in mois:\n",
    "        if i in t:\n",
    "            t = t.replace(i,\"/%s/\"%mois[i]).replace(\" \",\"\")\n",
    "\n",
    "    #Mettre sous la forme d'un objet datetime \n",
    "    t = datetime.datetime.strptime(t,\"%d/%m/%Y\")\n",
    "            \n",
    "    return t"
   ]
  },
  {
   "cell_type": "code",
   "execution_count": 9,
   "metadata": {},
   "outputs": [],
   "source": [
    "#Recoder la date dans le corpus\n",
    "corpus[\"Date_reco\"] = corpus[\"Date\"].apply(reco_date)\n",
    "#Dire à Pandas que c'est une colonne date\n",
    "corpus[\"Date_reco\"] = pd.to_datetime(corpus[\"Date_reco\"])\n",
    "#La passer en index\n",
    "corpus = corpus.set_index(\"Date_reco\")"
   ]
  },
  {
   "cell_type": "markdown",
   "metadata": {},
   "source": [
    "Le nouveau corpus"
   ]
  },
  {
   "cell_type": "code",
   "execution_count": 10,
   "metadata": {},
   "outputs": [
    {
     "data": {
      "text/html": [
       "<div>\n",
       "<style scoped>\n",
       "    .dataframe tbody tr th:only-of-type {\n",
       "        vertical-align: middle;\n",
       "    }\n",
       "\n",
       "    .dataframe tbody tr th {\n",
       "        vertical-align: top;\n",
       "    }\n",
       "\n",
       "    .dataframe thead th {\n",
       "        text-align: right;\n",
       "    }\n",
       "</style>\n",
       "<table border=\"1\" class=\"dataframe\">\n",
       "  <thead>\n",
       "    <tr style=\"text-align: right;\">\n",
       "      <th></th>\n",
       "      <th>Date</th>\n",
       "      <th>Titre</th>\n",
       "      <th>Journal</th>\n",
       "      <th>Contenu</th>\n",
       "    </tr>\n",
       "    <tr>\n",
       "      <th>Date_reco</th>\n",
       "      <th></th>\n",
       "      <th></th>\n",
       "      <th></th>\n",
       "      <th></th>\n",
       "    </tr>\n",
       "  </thead>\n",
       "  <tbody>\n",
       "    <tr>\n",
       "      <th>2018-05-23</th>\n",
       "      <td>Science &amp; Médecine,  mercredi 23 mai 2018 246...</td>\n",
       "      <td>Homéopathie Une réglementation à haute diluti...</td>\n",
       "      <td>Le Monde</td>\n",
       "      <td>(Lyon; correspondant); - Quand on lui parle ...</td>\n",
       "    </tr>\n",
       "    <tr>\n",
       "      <th>2018-06-16</th>\n",
       "      <td>Événement,  samedi 16 juin 2018 1243 mots, p. 4</td>\n",
       "      <td>Principale «Réduire l'homéopathie à un effet ...</td>\n",
       "      <td>Libération, no. 11524</td>\n",
       "      <td>Le regard, au-dessus des petites lunettes ce...</td>\n",
       "    </tr>\n",
       "    <tr>\n",
       "      <th>2018-04-10</th>\n",
       "      <td>Sciences et éthique,  mardi 10 avril 2018 105...</td>\n",
       "      <td>Faut-il en finir avec l'homéopathie? Une trib...</td>\n",
       "      <td>La Croix, no. 41073</td>\n",
       "      <td>Faut-il se débarrasser de l'homéopathie? Voi...</td>\n",
       "    </tr>\n",
       "    <tr>\n",
       "      <th>2018-11-28</th>\n",
       "      <td>Science &amp; Médecine,  mercredi 28 novembre 201...</td>\n",
       "      <td>Nofakemed, symptôme d'un malaise médical Nofa...</td>\n",
       "      <td>Le Monde</td>\n",
       "      <td>Les médecines complémentaires et en particul...</td>\n",
       "    </tr>\n",
       "    <tr>\n",
       "      <th>2018-06-16</th>\n",
       "      <td>Événement,  samedi 16 juin 2018 972 mots, p. 2</td>\n",
       "      <td>Homéopathie Principale Homéopathie : la guégu...</td>\n",
       "      <td>Libération, no. 11524</td>\n",
       "      <td>Agnès Buzyn, la ministre de la Santé, s'est ...</td>\n",
       "    </tr>\n",
       "  </tbody>\n",
       "</table>\n",
       "</div>"
      ],
      "text/plain": [
       "                                                         Date  \\\n",
       "Date_reco                                                       \n",
       "2018-05-23   Science & Médecine,  mercredi 23 mai 2018 246...   \n",
       "2018-06-16   Événement,  samedi 16 juin 2018 1243 mots, p. 4    \n",
       "2018-04-10   Sciences et éthique,  mardi 10 avril 2018 105...   \n",
       "2018-11-28   Science & Médecine,  mercredi 28 novembre 201...   \n",
       "2018-06-16    Événement,  samedi 16 juin 2018 972 mots, p. 2    \n",
       "\n",
       "                                                        Titre  \\\n",
       "Date_reco                                                       \n",
       "2018-05-23   Homéopathie Une réglementation à haute diluti...   \n",
       "2018-06-16   Principale «Réduire l'homéopathie à un effet ...   \n",
       "2018-04-10   Faut-il en finir avec l'homéopathie? Une trib...   \n",
       "2018-11-28   Nofakemed, symptôme d'un malaise médical Nofa...   \n",
       "2018-06-16   Homéopathie Principale Homéopathie : la guégu...   \n",
       "\n",
       "                              Journal  \\\n",
       "Date_reco                               \n",
       "2018-05-23                Le Monde      \n",
       "2018-06-16   Libération, no. 11524      \n",
       "2018-04-10     La Croix, no. 41073      \n",
       "2018-11-28                Le Monde      \n",
       "2018-06-16   Libération, no. 11524      \n",
       "\n",
       "                                                      Contenu  \n",
       "Date_reco                                                      \n",
       "2018-05-23    (Lyon; correspondant); - Quand on lui parle ...  \n",
       "2018-06-16    Le regard, au-dessus des petites lunettes ce...  \n",
       "2018-04-10    Faut-il se débarrasser de l'homéopathie? Voi...  \n",
       "2018-11-28    Les médecines complémentaires et en particul...  \n",
       "2018-06-16    Agnès Buzyn, la ministre de la Santé, s'est ...  "
      ]
     },
     "execution_count": 10,
     "metadata": {},
     "output_type": "execute_result"
    }
   ],
   "source": [
    "corpus[0:5]"
   ]
  },
  {
   "cell_type": "markdown",
   "metadata": {},
   "source": [
    "Le sauvegarder"
   ]
  },
  {
   "cell_type": "code",
   "execution_count": 11,
   "metadata": {},
   "outputs": [],
   "source": [
    "corpus.to_excel(\"./../Données/corpus-mis-en-forme.xlsx\")"
   ]
  },
  {
   "cell_type": "markdown",
   "metadata": {},
   "source": [
    "### Visualiser l'évolution dans le temps"
   ]
  },
  {
   "cell_type": "code",
   "execution_count": 196,
   "metadata": {},
   "outputs": [
    {
     "data": {
      "text/plain": [
       "<matplotlib.axes._subplots.AxesSubplot at 0x7f0c1bf72668>"
      ]
     },
     "execution_count": 196,
     "metadata": {},
     "output_type": "execute_result"
    },
    {
     "data": {
      "image/png": "[encoded data removed]",
      "text/plain": [
       "<Figure size 432x288 with 1 Axes>"
      ]
     },
     "metadata": {
      "needs_background": "light"
     },
     "output_type": "display_data"
    }
   ],
   "source": [
    "corpus[\"num\"] = 1 #Colonne du nombre d'article par ligne (=1 au début)\n",
    "#regrouper par tranche de deux mois, additionner, et visualiser\n",
    "corpus[\"num\"].resample(\"2M\").sum().plot(style=\"o:\",title=\"évolution dans le temps\")"
   ]
  },
  {
   "cell_type": "markdown",
   "metadata": {},
   "source": [
    "### Passer sous un autre format (Iramuteq) pour traiter des données"
   ]
  },
  {
   "cell_type": "code",
   "execution_count": 159,
   "metadata": {},
   "outputs": [],
   "source": [
    "with open(\"./iramuteq-corpus.txt\",\"w\") as f: #Ouvrir un fichier\n",
    "    for i,j in corpus.iterrows():\n",
    "        f.write(\"**** *date_%d *journal_%s \\n\\n %s \\n %s \\n\\n\" % (i.year,j[\"Journal\"],j[\"Titre\"],j[\"Contenu\"].replace(\"*\",\"\")))"
   ]
  },
  {
   "cell_type": "markdown",
   "metadata": {},
   "source": [
    "## Avant de commencer :\n",
    "\n",
    "* Il y a toujours plusieurs manières de faire quelque chose\n",
    "* Programmer c'est un aller retour entre des idées, des exemples, et la documentation\n",
    "* Il vaut mieux faire un premier code moche et l'améliorer que de ne rien faire :)"
   ]
  }
 ],
 "metadata": {
  "kernelspec": {
   "display_name": "Python 3",
   "language": "python",
   "name": "python3"
  },
  "language_info": {
   "codemirror_mode": {
    "name": "ipython",
    "version": 3
   },
   "file_extension": ".py",
   "mimetype": "text/x-python",
   "name": "python",
   "nbconvert_exporter": "python",
   "pygments_lexer": "ipython3",
   "version": "3.5.6"
  }
 },
 "nbformat": 4,
 "nbformat_minor": 2
}
