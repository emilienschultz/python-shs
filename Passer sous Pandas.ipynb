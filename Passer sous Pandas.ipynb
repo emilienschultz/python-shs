{
 "cells": [
  {
   "cell_type": "markdown",
   "metadata": {},
   "source": [
    "# Pandas, une librairie \"structurante\"\n",
    "__Durée : 1h__"
   ]
  },
  {
   "cell_type": "markdown",
   "metadata": {},
   "source": [
    "## Pourquoi utiliser Pandas\n",
    " * Construit sur les librairies de la stack Scipy\n",
    " * Manipulation \"facile\" de tableaux : un \"Excel\" en Python"
   ]
  },
  {
   "cell_type": "code",
   "execution_count": 9,
   "metadata": {},
   "outputs": [],
   "source": [
    "import pandas as pd"
   ]
  },
  {
   "cell_type": "markdown",
   "metadata": {},
   "source": [
    "## Bases de Pandas\n",
    "* Le format DataSerie\n",
    " * Créer une DataSerie avec les dates\n",
    " * Ajouter/supprimer un élément\n",
    "* Le format DataFrame\n",
    " * Créer une nouvelle série avec les titres\n",
    " * Créer un DataFrame avec les deux ensembles\n",
    " * Ajouter une colonne\n",
    " * Sélectionner un élément particulier\n",
    " * Faire un masque de sélection\n",
    " * Faire une boucle sur le tableau"
   ]
  },
  {
   "cell_type": "markdown",
   "metadata": {},
   "source": [
    "## Travailler sur un Dataframe"
   ]
  },
  {
   "cell_type": "markdown",
   "metadata": {},
   "source": [
    "* Charger un fichier excel\n",
    " * Charger la base de données complètes base.xlsx\n",
    " * Joindre la série des dates recodées\n",
    " * Apprendre à recoder des colonnes\n",
    " * Grouper les données"
   ]
  },
  {
   "cell_type": "code",
   "execution_count": 23,
   "metadata": {},
   "outputs": [],
   "source": [
    "corpus = pd.read_excel(\"./Données/base.xlsx\")"
   ]
  },
  {
   "cell_type": "markdown",
   "metadata": {},
   "source": [
    "##  Ajouter des données\n",
    " * Nombre de mots par texte\n",
    " * Que faire des données manquantes ?\n",
    " * Faire une fonction pour calculer la fréquence d'un mot\n",
    " * Calculer la fréquence de certains mots dans les textes (4 ou 5 jugés pertinents)\n",
    " * Sauvegarder le corpus"
   ]
  },
  {
   "cell_type": "code",
   "execution_count": null,
   "metadata": {},
   "outputs": [],
   "source": [
    "words = []\n",
    "for i in list(corpus[\"Contenu\"]):\n",
    "    words += i.lower().split(\" \")\n",
    "x = pd.Series([i for i in words if len(i)>5])\n",
    "x.value_counts()"
   ]
  }
 ],
 "metadata": {
  "kernelspec": {
   "display_name": "Python 3",
   "language": "python",
   "name": "python3"
  },
  "language_info": {
   "codemirror_mode": {
    "name": "ipython",
    "version": 3
   },
   "file_extension": ".py",
   "mimetype": "text/x-python",
   "name": "python",
   "nbconvert_exporter": "python",
   "pygments_lexer": "ipython3",
   "version": "3.5.6"
  }
 },
 "nbformat": 4,
 "nbformat_minor": 2
}
