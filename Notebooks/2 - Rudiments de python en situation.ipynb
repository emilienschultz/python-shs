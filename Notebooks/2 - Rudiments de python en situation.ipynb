{
 "cells": [
  {
   "cell_type": "markdown",
   "metadata": {},
   "source": [
    "# Se familiariser à Python dans un notebook Jupyter"
   ]
  },
  {
   "cell_type": "markdown",
   "metadata": {},
   "source": [
    "## Pourquoi Python ?\n",
    "* Organiser le flot des données : une \"colle\"\n",
    "* Un langage généraliste\n",
    "* Un langage pédagogique\n",
    "* Adapté au script scientifique\n",
    "* Une communauté scientifique qui développe beaucoup d'outils\n",
    "* Open Source\n",
    "* Plusieurs versions : actuellement 3.7\n",
    "* Tout une \"stack\" d'outils interdépendants qui permettent de gérer des données et des traitements spécifiques"
   ]
  },
  {
   "cell_type": "code",
   "execution_count": 3,
   "metadata": {},
   "outputs": [
    {
     "data": {
      "text/plain": [
       "2"
      ]
     },
     "execution_count": 3,
     "metadata": {},
     "output_type": "execute_result"
    }
   ],
   "source": [
    "1+1"
   ]
  },
  {
   "cell_type": "code",
   "execution_count": null,
   "metadata": {},
   "outputs": [],
   "source": []
  },
  {
   "cell_type": "markdown",
   "metadata": {},
   "source": [
    "## Quelques mots sur le Notebook Jupyter\n",
    "\n",
    "* Pourquoi ? Parce que c'est adapté au code scientifique\n",
    "* Ecrire du code dans une cellule : créer une cellule (raccourci : b), supprimer une cellule (d), la déplacer, etc.\n",
    "* Exécuter du code (ctrl+enter) : essayez de faire un calcul (1+1 ?)\n",
    "* C'est quoi une variable ? Exécutez nouvelle_variable = 10\n",
    "* Persistence de l'environnement :\n",
    "* Accéder à l'aide des fonctions et à l'auto-complétion\n",
    "* Les autres raccourcis\n",
    "* Les cellules peuvent aussi être transformées en cellule de texte avec même du $\\int_{-\\infty}^{+\\infty}Late.dx$\n",
    "* Et puis la possibilité d'inclure des widgets :"
   ]
  },
  {
   "cell_type": "code",
   "execution_count": 5,
   "metadata": {},
   "outputs": [],
   "source": [
    "import ipywidgets as widgets\n",
    "a = widgets.IntSlider()"
   ]
  },
  {
   "cell_type": "code",
   "execution_count": 6,
   "metadata": {},
   "outputs": [
    {
     "data": {
      "application/vnd.jupyter.widget-view+json": {
       "model_id": "edb18caa0359433b8773911360c60a57",
       "version_major": 2,
       "version_minor": 0
      },
      "text/plain": [
       "IntSlider(value=0)"
      ]
     },
     "metadata": {},
     "output_type": "display_data"
    }
   ],
   "source": [
    "a"
   ]
  },
  {
   "cell_type": "code",
   "execution_count": 7,
   "metadata": {},
   "outputs": [
    {
     "data": {
      "text/plain": [
       "56"
      ]
     },
     "execution_count": 7,
     "metadata": {},
     "output_type": "execute_result"
    }
   ],
   "source": [
    "a.value"
   ]
  },
  {
   "cell_type": "markdown",
   "metadata": {},
   "source": [
    "## En dehors de Jupyter\n",
    "\n",
    "Python c'est un langage de programmation : on peut faire des scripts, les appelers sur des serveurs, etc. Lancez un terminal pour vérifier que vous pouvez aussi faire du code."
   ]
  },
  {
   "cell_type": "markdown",
   "metadata": {},
   "source": [
    "# Guide de survie en Python\n",
    "\n",
    "Python est un langage de programmation : tout est possible, par contre il faut trouver comment le faire.\n",
    "- il y a une syntaxe de base\n",
    "- il y a des fonctions directement disponible\n",
    "- il y a des librairies spécialisées qui regroupent des fonctions "
   ]
  },
  {
   "cell_type": "markdown",
   "metadata": {},
   "source": [
    "### Les variables et les types\n",
    "* En python, tout est un objet (une instance de classe)\n",
    "* Définir une variable : une référence à un objet ou à une valeur (majuscule et minuscule, pas d'espaces dans les noms)\n",
    "* Afficher une variable\n",
    "* Les types d'objet\n",
    "  * Int\n",
    "  * Float\n",
    "  * String\n",
    "   * Le problème de l'encodage\n",
    "  * List / Tuples\n",
    "\n",
    "   * Sélectionner une partie de la liste\n",
    "   * ajouter/supprimer\n",
    "  * Dictionnary\n",
    "* Convertir les types\n",
    "* Lire les messages d'erreur\n",
    "* Commenter un code\n",
    "* Manipuler des variables : ajouter, opérations mathématiques, comparer...\n"
   ]
  },
  {
   "cell_type": "code",
   "execution_count": 8,
   "metadata": {},
   "outputs": [],
   "source": [
    "une_variable = 1"
   ]
  },
  {
   "cell_type": "markdown",
   "metadata": {},
   "source": [
    "Et afficher le contenu d'une variable"
   ]
  },
  {
   "cell_type": "code",
   "execution_count": 10,
   "metadata": {},
   "outputs": [
    {
     "data": {
      "text/plain": [
       "1"
      ]
     },
     "execution_count": 10,
     "metadata": {},
     "output_type": "execute_result"
    }
   ],
   "source": [
    "une_variable"
   ]
  },
  {
   "cell_type": "markdown",
   "metadata": {},
   "source": [
    "Connaitre son type ?"
   ]
  },
  {
   "cell_type": "code",
   "execution_count": 11,
   "metadata": {},
   "outputs": [
    {
     "data": {
      "text/plain": [
       "int"
      ]
     },
     "execution_count": 11,
     "metadata": {},
     "output_type": "execute_result"
    }
   ],
   "source": [
    "type(une_variable)"
   ]
  },
  {
   "cell_type": "markdown",
   "metadata": {},
   "source": [
    "C'est un entier (type int)"
   ]
  },
  {
   "cell_type": "markdown",
   "metadata": {},
   "source": [
    "On peut l'utiliser dans des opérations"
   ]
  },
  {
   "cell_type": "code",
   "execution_count": 12,
   "metadata": {},
   "outputs": [
    {
     "data": {
      "text/plain": [
       "2"
      ]
     },
     "execution_count": 12,
     "metadata": {},
     "output_type": "execute_result"
    }
   ],
   "source": [
    "une_variable + 1"
   ]
  },
  {
   "cell_type": "code",
   "execution_count": 13,
   "metadata": {},
   "outputs": [],
   "source": [
    "une_variable = 1.6"
   ]
  },
  {
   "cell_type": "code",
   "execution_count": 14,
   "metadata": {},
   "outputs": [
    {
     "data": {
      "text/plain": [
       "1.6"
      ]
     },
     "execution_count": 14,
     "metadata": {},
     "output_type": "execute_result"
    }
   ],
   "source": [
    "une_variable"
   ]
  },
  {
   "cell_type": "markdown",
   "metadata": {},
   "source": [
    "On change la valeur de la variable"
   ]
  },
  {
   "cell_type": "code",
   "execution_count": null,
   "metadata": {},
   "outputs": [],
   "source": [
    "une_variable"
   ]
  },
  {
   "cell_type": "code",
   "execution_count": null,
   "metadata": {},
   "outputs": [],
   "source": [
    "type(une_variable)"
   ]
  },
  {
   "cell_type": "markdown",
   "metadata": {},
   "source": [
    "Attention à définir une variable avant de l'utiliser"
   ]
  },
  {
   "cell_type": "code",
   "execution_count": 15,
   "metadata": {},
   "outputs": [
    {
     "ename": "NameError",
     "evalue": "name 'variable' is not defined",
     "output_type": "error",
     "traceback": [
      "\u001b[0;31m---------------------------------------------------------------------------\u001b[0m",
      "\u001b[0;31mNameError\u001b[0m                                 Traceback (most recent call last)",
      "\u001b[0;32m<ipython-input-15-1748287bc46a>\u001b[0m in \u001b[0;36m<module>\u001b[0;34m()\u001b[0m\n\u001b[0;32m----> 1\u001b[0;31m \u001b[0mvariable\u001b[0m\u001b[0;34m\u001b[0m\u001b[0m\n\u001b[0m",
      "\u001b[0;31mNameError\u001b[0m: name 'variable' is not defined"
     ]
    }
   ],
   "source": [
    "variable"
   ]
  },
  {
   "cell_type": "markdown",
   "metadata": {},
   "source": [
    "La variable est un nombre décimal"
   ]
  },
  {
   "cell_type": "markdown",
   "metadata": {},
   "source": [
    "Les chaines de caractère"
   ]
  },
  {
   "cell_type": "code",
   "execution_count": 16,
   "metadata": {},
   "outputs": [],
   "source": [
    "une_autre_variable = \"C'est du texte\""
   ]
  },
  {
   "cell_type": "code",
   "execution_count": 17,
   "metadata": {},
   "outputs": [
    {
     "data": {
      "text/plain": [
       "\"C'est du texte\""
      ]
     },
     "execution_count": 17,
     "metadata": {},
     "output_type": "execute_result"
    }
   ],
   "source": [
    "une_autre_variable"
   ]
  },
  {
   "cell_type": "markdown",
   "metadata": {},
   "source": [
    "Attention aux erreurs de guillemets (\\\\' pour les échapper):"
   ]
  },
  {
   "cell_type": "code",
   "execution_count": 18,
   "metadata": {},
   "outputs": [
    {
     "ename": "SyntaxError",
     "evalue": "invalid syntax (<ipython-input-18-193d890169f8>, line 1)",
     "output_type": "error",
     "traceback": [
      "\u001b[0;36m  File \u001b[0;32m\"<ipython-input-18-193d890169f8>\"\u001b[0;36m, line \u001b[0;32m1\u001b[0m\n\u001b[0;31m    une_autre_variable = 'C'est du texte'\u001b[0m\n\u001b[0m                              ^\u001b[0m\n\u001b[0;31mSyntaxError\u001b[0m\u001b[0;31m:\u001b[0m invalid syntax\n"
     ]
    }
   ],
   "source": [
    "une_autre_variable = 'C'est du texte'"
   ]
  },
  {
   "cell_type": "markdown",
   "metadata": {},
   "source": [
    "Ajouter du texte : "
   ]
  },
  {
   "cell_type": "code",
   "execution_count": 19,
   "metadata": {
    "scrolled": true
   },
   "outputs": [
    {
     "data": {
      "text/plain": [
       "'ajouterdutexte'"
      ]
     },
     "execution_count": 19,
     "metadata": {},
     "output_type": "execute_result"
    }
   ],
   "source": [
    "\"ajouter\" + \"du\" + \"texte\""
   ]
  },
  {
   "cell_type": "markdown",
   "metadata": {},
   "source": [
    "Les tableaux (listes)"
   ]
  },
  {
   "cell_type": "code",
   "execution_count": 20,
   "metadata": {},
   "outputs": [],
   "source": [
    "un_tableau = [10,23,43,79,65,7,9]"
   ]
  },
  {
   "cell_type": "code",
   "execution_count": 23,
   "metadata": {},
   "outputs": [
    {
     "data": {
      "text/plain": [
       "[10, 23, 43, 79, 65, 7, 9]"
      ]
     },
     "execution_count": 23,
     "metadata": {},
     "output_type": "execute_result"
    }
   ],
   "source": [
    "un_tableau"
   ]
  },
  {
   "cell_type": "markdown",
   "metadata": {},
   "source": [
    "Sélectionner le troisième élément (ça  commence à 0...)"
   ]
  },
  {
   "cell_type": "code",
   "execution_count": null,
   "metadata": {},
   "outputs": [],
   "source": [
    "un_tableau[2]"
   ]
  },
  {
   "cell_type": "markdown",
   "metadata": {},
   "source": [
    "Ajouter un élément"
   ]
  },
  {
   "cell_type": "code",
   "execution_count": 24,
   "metadata": {},
   "outputs": [],
   "source": [
    "un_tableau.append(76)"
   ]
  },
  {
   "cell_type": "markdown",
   "metadata": {},
   "source": [
    "Un dictionnaire : un tableau dont on définit l'index"
   ]
  },
  {
   "cell_type": "code",
   "execution_count": 25,
   "metadata": {},
   "outputs": [],
   "source": [
    "un_dictionnaire = {\"python\":\"bien\",\"R\":\"bien aussi\"}"
   ]
  },
  {
   "cell_type": "code",
   "execution_count": 26,
   "metadata": {},
   "outputs": [
    {
     "data": {
      "text/plain": [
       "{'R': 'bien aussi', 'python': 'bien'}"
      ]
     },
     "execution_count": 26,
     "metadata": {},
     "output_type": "execute_result"
    }
   ],
   "source": [
    "un_dictionnaire"
   ]
  },
  {
   "cell_type": "code",
   "execution_count": 27,
   "metadata": {},
   "outputs": [
    {
     "data": {
      "text/plain": [
       "'bien aussi'"
      ]
     },
     "execution_count": 27,
     "metadata": {},
     "output_type": "execute_result"
    }
   ],
   "source": [
    "un_dictionnaire[\"R\"]"
   ]
  },
  {
   "cell_type": "markdown",
   "metadata": {},
   "source": [
    "Dans certain cas il est possible convertir des types"
   ]
  },
  {
   "cell_type": "code",
   "execution_count": 28,
   "metadata": {},
   "outputs": [],
   "source": [
    "nombre_en_texte = \"3.5\""
   ]
  },
  {
   "cell_type": "code",
   "execution_count": 29,
   "metadata": {},
   "outputs": [
    {
     "data": {
      "text/plain": [
       "3.5"
      ]
     },
     "execution_count": 29,
     "metadata": {},
     "output_type": "execute_result"
    }
   ],
   "source": [
    "float(nombre_en_texte)"
   ]
  },
  {
   "cell_type": "markdown",
   "metadata": {},
   "source": [
    "Ecrire un commentaire dans un code"
   ]
  },
  {
   "cell_type": "code",
   "execution_count": null,
   "metadata": {},
   "outputs": [],
   "source": [
    "#Le # permet d'écrire des commentaires qui ne seront pas exécutés"
   ]
  },
  {
   "cell_type": "markdown",
   "metadata": {},
   "source": [
    "Comparer des variables == != >= <"
   ]
  },
  {
   "cell_type": "code",
   "execution_count": 31,
   "metadata": {},
   "outputs": [],
   "source": [
    "age_de_julien = 35"
   ]
  },
  {
   "cell_type": "code",
   "execution_count": 32,
   "metadata": {},
   "outputs": [
    {
     "data": {
      "text/plain": [
       "True"
      ]
     },
     "execution_count": 32,
     "metadata": {},
     "output_type": "execute_result"
    }
   ],
   "source": [
    "#Est-ce que julien est majeur ?\n",
    "age_de_julien >=18"
   ]
  },
  {
   "cell_type": "markdown",
   "metadata": {},
   "source": [
    "Le type boolean peut prendre deux valeurs : True ou False"
   ]
  },
  {
   "cell_type": "code",
   "execution_count": null,
   "metadata": {},
   "outputs": [],
   "source": [
    "age_de_julien == 30"
   ]
  },
  {
   "cell_type": "code",
   "execution_count": null,
   "metadata": {},
   "outputs": [],
   "source": [
    "type(age_de_julien) == int"
   ]
  },
  {
   "cell_type": "markdown",
   "metadata": {},
   "source": [
    "Exercice : \n",
    "* Construire une liste avec les ages des personnes dans la salle\n",
    "* Construire un dictionnaire avec les prénoms en index et les ages en valeur"
   ]
  },
  {
   "cell_type": "markdown",
   "metadata": {},
   "source": [
    "### Structure d'un programme\n",
    "* Exemple de la condition if\n",
    "* L'indendation\n",
    "* Boucle : le cas de for\n",
    " * continue, break\n",
    "* C'est quoi une fonction ?\n",
    "* Définir une fonction\n",
    " * Pourquoi ?\n",
    " * def\n",
    " * environnement local des variables\n",
    " * retourner des valeurs\n",
    " * Les librairies : plein de fonctions déjà faites (ex. math)\n",
    " * Petit point sur le nom des variables, dir(__builtins__)\n",
    "* Liste comprehension : un usage rapide des fonctions\n",
    "* Pourquoi je ne vais pas traiter des classes"
   ]
  },
  {
   "cell_type": "markdown",
   "metadata": {},
   "source": [
    "On veut afficher si Julien est majeur ou mineur (on utilise la commande print() pour afficher quelque chose)"
   ]
  },
  {
   "cell_type": "code",
   "execution_count": null,
   "metadata": {},
   "outputs": [],
   "source": [
    "age_de_julien = 35"
   ]
  },
  {
   "cell_type": "markdown",
   "metadata": {},
   "source": [
    "Pour cela on utilise la condition if : SI quelquechose ALORS ... (et else, SINON)\n",
    "* on vérifie si l'âge est inférieur à 18, dans ce cas on affiche mineur. Sinon on affiche majeur.\n",
    "* on fait une indentation à l'intérieur d'un bloc (TOUJOURS en Python).\n",
    "* On oublie pas les deux points \":\""
   ]
  },
  {
   "cell_type": "code",
   "execution_count": 33,
   "metadata": {
    "scrolled": true
   },
   "outputs": [
    {
     "name": "stdout",
     "output_type": "stream",
     "text": [
      "majeur.e\n"
     ]
    }
   ],
   "source": [
    "if age_de_julien < 18:\n",
    "    print(\"mineur.e\")\n",
    "else:\n",
    "    print(\"majeur.e\")"
   ]
  },
  {
   "cell_type": "markdown",
   "metadata": {},
   "source": [
    "Maitenant on veut faire ça pour une liste d'âges : on veut donc faire une boucle\n",
    "* on utilise la boucle *for* qui va passer sur chaque élément d'un ensemble\n",
    "* remarquer que la variable age peut être remplacer par n'importe quoi : i, z, ou autre (elle ne vaut qu'à l'intérieur de la boucle)"
   ]
  },
  {
   "cell_type": "code",
   "execution_count": 34,
   "metadata": {},
   "outputs": [
    {
     "name": "stdout",
     "output_type": "stream",
     "text": [
      "mineur.e\n",
      "majeur.e\n",
      "majeur.e\n",
      "majeur.e\n",
      "majeur.e\n"
     ]
    }
   ],
   "source": [
    "ages = [16,32,76,32,23] #on définit une liste\n",
    "\n",
    "for age in ages: #on fait une boucle sur la liste\n",
    "    if age< 18:\n",
    "        print(\"mineur.e\")\n",
    "    else:\n",
    "        print(\"majeur.e\")"
   ]
  },
  {
   "cell_type": "markdown",
   "metadata": {},
   "source": [
    "On veut aller plus loin maintenant et recoder en fait l'âge des gens (souvent en sociologie, on préfère des variables qualtitatives)"
   ]
  },
  {
   "cell_type": "code",
   "execution_count": null,
   "metadata": {},
   "outputs": [],
   "source": [
    "ages_reco = [] #une liste vide pour démarrer\n",
    "\n",
    "for age in ages: #on fait une boucle sur la liste\n",
    "    if age< 18:\n",
    "        ages_reco.append(\"mineur.e\") #au lieu d'afficher, on ajoute au tableau\n",
    "    else:\n",
    "        ages_reco.append(\"majeur.e\")\n",
    "        \n",
    "ages_reco #on affiche"
   ]
  },
  {
   "cell_type": "markdown",
   "metadata": {},
   "source": [
    "Mais en fait on voudrait fabriquer une règle qui prend l'âge en entrée et ressort le code \"mineur.e\" ou \"majeur.e\". \n",
    "\n",
    "On va faire une **fonction** : une fonction est une entité qui prend une ou plusieurs entrées, les transforme de la manière dont on veut, et donne des sorties. C'est une boîte dans laquelle on met ce qu'on veut. Là on veut mettre un recodage\n",
    "\n",
    "Plusieurs facon de l'écrire ..."
   ]
  },
  {
   "cell_type": "code",
   "execution_count": 35,
   "metadata": {},
   "outputs": [],
   "source": [
    "def recodage_age(age_en_entree):\n",
    "    if type(age_en_entree) != int: #on vérifie que c'est un nombre, sinon on retourne problème\n",
    "        return \"Problème\"\n",
    "    if age_en_entree<18:\n",
    "        return \"mineur.e\"\n",
    "    else:\n",
    "        return \"majeur.e\""
   ]
  },
  {
   "cell_type": "code",
   "execution_count": 36,
   "metadata": {},
   "outputs": [
    {
     "data": {
      "text/plain": [
       "'majeur.e'"
      ]
     },
     "execution_count": 36,
     "metadata": {},
     "output_type": "execute_result"
    }
   ],
   "source": [
    "recodage_age(38)"
   ]
  },
  {
   "cell_type": "code",
   "execution_count": 37,
   "metadata": {},
   "outputs": [
    {
     "data": {
      "text/plain": [
       "'Problème'"
      ]
     },
     "execution_count": 37,
     "metadata": {},
     "output_type": "execute_result"
    }
   ],
   "source": [
    "recodage_age(\"vingt\")"
   ]
  },
  {
   "cell_type": "markdown",
   "metadata": {},
   "source": [
    "Il y a plein de fonctions déjà existantes dans python, par exemple les fonctions mathématiques"
   ]
  },
  {
   "cell_type": "code",
   "execution_count": null,
   "metadata": {},
   "outputs": [],
   "source": [
    "round(1.54) #arrondir"
   ]
  },
  {
   "cell_type": "markdown",
   "metadata": {},
   "source": [
    "Ces fonctions sont réunies dans les librairies, par exemple la librairie mathématique : math. Il faut les charger"
   ]
  },
  {
   "cell_type": "code",
   "execution_count": null,
   "metadata": {},
   "outputs": [],
   "source": [
    "import math\n",
    "math.sqrt(4) #racine carrée"
   ]
  },
  {
   "cell_type": "markdown",
   "metadata": {},
   "source": [
    "Exercice : \n",
    "* Construire une fonction qui calcule le nombre de mots dans les titres (indice : regarder la méthode split() des chaînes de caractère)"
   ]
  },
  {
   "cell_type": "code",
   "execution_count": null,
   "metadata": {},
   "outputs": [],
   "source": [
    "def compter_mots(titre):\n",
    "    decoupe = titre.split(\" \") #découper en mots\n",
    "    nombre_mots = len(decoupe) #compter le nombre de mots\n",
    "    return nombre_mots #retourner le nombre de mots"
   ]
  },
  {
   "cell_type": "code",
   "execution_count": null,
   "metadata": {},
   "outputs": [],
   "source": [
    "compter_mots(\"chaine de caractère\")"
   ]
  },
  {
   "cell_type": "markdown",
   "metadata": {},
   "source": [
    "### Ouvrir et ferme des fichiers\n",
    "\n",
    "* se déplacer dans l'ordinateur\n",
    "* lister les fichiers présents dans un répertoire sur l'ordinateur (librairie os)\n",
    "* ouvrir un fichier (notion d'itérateur/pointeur)\n",
    "* charger des éléments du fichier\n",
    "* écrire dans un fichier\n",
    "\n",
    "### Fonctions magic\n",
    "* cd\n",
    "* time\n",
    "* prun"
   ]
  },
  {
   "cell_type": "markdown",
   "metadata": {},
   "source": [
    "Le Notebook (ou la console) travaille à partir d'un répertoire. Pour connaître le répertoire en cours :"
   ]
  },
  {
   "cell_type": "code",
   "execution_count": null,
   "metadata": {},
   "outputs": [],
   "source": [
    "cd ."
   ]
  },
  {
   "cell_type": "markdown",
   "metadata": {},
   "source": [
    "Pour aller vers un répertoire (ici, revenir en arrière et aller dans Données"
   ]
  },
  {
   "cell_type": "code",
   "execution_count": null,
   "metadata": {},
   "outputs": [],
   "source": [
    "cd \"../Données/\""
   ]
  },
  {
   "cell_type": "markdown",
   "metadata": {},
   "source": [
    "Souvent, nous avons besoin de lire ou d'écrire dans des fichirs. Par exemple, ceux dans lesquels il y a des articles de presse."
   ]
  },
  {
   "cell_type": "markdown",
   "metadata": {},
   "source": [
    "Pour avoir l'ensemble des fichiers présents dans un dossier, on utilise une fonction de la librairie os"
   ]
  },
  {
   "cell_type": "code",
   "execution_count": null,
   "metadata": {
    "scrolled": true
   },
   "outputs": [],
   "source": [
    "import os\n",
    "\n",
    "os.listdir()"
   ]
  },
  {
   "cell_type": "markdown",
   "metadata": {},
   "source": [
    "Pour lire un fichier, la fonction open avec le mode lecture \"r\""
   ]
  },
  {
   "cell_type": "code",
   "execution_count": null,
   "metadata": {},
   "outputs": [],
   "source": [
    "f= open(\"../Données/test.txt\",\"r\")\n",
    "f.read()"
   ]
  },
  {
   "cell_type": "markdown",
   "metadata": {},
   "source": [
    "Pour faire une boucle sur tous les fichiers dans un dossier, lire le contenu et l'inscrire dans un corpus"
   ]
  },
  {
   "cell_type": "markdown",
   "metadata": {},
   "source": [
    "Pour écrire : le mode écriture \"w\""
   ]
  },
  {
   "cell_type": "code",
   "execution_count": null,
   "metadata": {},
   "outputs": [],
   "source": [
    "with open(\"../Données/test.txt\",\"w\") as f:\n",
    "    f.writelines([\"Rajouter cette ligne\",\"Et celle là\"])"
   ]
  },
  {
   "cell_type": "markdown",
   "metadata": {},
   "source": [
    "Exercice :\n",
    "* Construire le tableau des articles pour pouvoir les traiter"
   ]
  },
  {
   "cell_type": "code",
   "execution_count": null,
   "metadata": {},
   "outputs": [],
   "source": [
    "import os\n",
    "\n",
    "corpus = []\n",
    "\n",
    "for fichier in os.listdir():\n",
    "    f = open(fichier,\"r\")\n",
    "    contenu = f.read()\n",
    "    corpus.append(contenu)"
   ]
  },
  {
   "cell_type": "markdown",
   "metadata": {},
   "source": [
    "### Une fonction bien utile : les expressions régulières\n",
    "\n",
    "Reconnaître des motifs dans un texte : les expressions régulières\n",
    "https://docs.python.org/2/library/re.html"
   ]
  },
  {
   "cell_type": "markdown",
   "metadata": {},
   "source": [
    "Par exemple, reconnaître une année de quatre chiffre peut se faire en définissant un masque qui dit : trouve quatre chiffres de 0 à 9, ce qui s'écrit [0-9]{*}"
   ]
  },
  {
   "cell_type": "code",
   "execution_count": null,
   "metadata": {},
   "outputs": [],
   "source": [
    "import regex\n",
    "texte = \"Il est né en 1967 zds sqddsq 1223 767 dsdq sqd 67 dans un petit village\"\n",
    "x = regex.findall(r\"([0-9]{4})\",texte)\n",
    "print(x)"
   ]
  },
  {
   "cell_type": "markdown",
   "metadata": {},
   "source": [
    "Si on voulait contraindre le fait que ça commence par 19, on modifie :"
   ]
  },
  {
   "cell_type": "code",
   "execution_count": null,
   "metadata": {},
   "outputs": [],
   "source": [
    "import regex\n",
    "texte = \"Il est né en 1967 zds sqddsq 1223 767 dsdq sqd 67 dans un petit village\"\n",
    "x = regex.findall(r\"(19[0-9]{2})\",texte)\n",
    "print(x)"
   ]
  }
 ],
 "metadata": {
  "kernelspec": {
   "display_name": "Python 3",
   "language": "python",
   "name": "python3"
  },
  "language_info": {
   "codemirror_mode": {
    "name": "ipython",
    "version": 3
   },
   "file_extension": ".py",
   "mimetype": "text/x-python",
   "name": "python",
   "nbconvert_exporter": "python",
   "pygments_lexer": "ipython3",
   "version": "3.5.6"
  }
 },
 "nbformat": 4,
 "nbformat_minor": 2
}
