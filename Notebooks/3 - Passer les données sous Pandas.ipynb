{
 "cells": [
  {
   "cell_type": "markdown",
   "metadata": {},
   "source": [
    "# Pandas, une librairie \"structurante\"\n",
    "__Durée : 1h__"
   ]
  },
  {
   "cell_type": "markdown",
   "metadata": {},
   "source": [
    "## Pourquoi utiliser Pandas\n",
    " * Construit sur les librairies de la stack Scipy : bonne compatibilité avec l'ensemble des autres outils\n",
    " * Manipulation \"facile\" de tableaux : un \"Excel\" en Python\n",
    " * Fonctionne comme une base de données pour des jeux de données de tailles \"raisonnables\" (sinon passer avec des requêtes sur une vraie base de données, ou Dask)\n",
    " * Permet de faire plein d'opérations utiles en analyse des données : regrouper, filtrer, afficher, calculer..."
   ]
  },
  {
   "cell_type": "markdown",
   "metadata": {},
   "source": [
    "## Charger la librairie"
   ]
  },
  {
   "cell_type": "code",
   "execution_count": 1,
   "metadata": {},
   "outputs": [],
   "source": [
    "import pandas as pd"
   ]
  },
  {
   "cell_type": "markdown",
   "metadata": {},
   "source": [
    "## Bases de Pandas\n",
    "\n",
    "De nouveaux \"types\" d'objet : la série (colonne) et le tableau (assemblage de colonnes)\n",
    "\n",
    "* Le format DataSerie\n",
    " * Créer une DataSerie avec les dates\n",
    " * Ajouter/supprimer un élément\n",
    "* Le format DataFrame\n",
    " * Créer une nouvelle série avec les titres\n",
    " * Créer un DataFrame avec les deux ensembles\n",
    " * Ajouter une colonne\n",
    " * Sélectionner un élément particulier\n",
    " * Faire un masque de sélection\n",
    " * Faire une boucle sur le tableau"
   ]
  },
  {
   "cell_type": "markdown",
   "metadata": {},
   "source": [
    "Créer une série Pandas avec des âges : envelopper des données existantes"
   ]
  },
  {
   "cell_type": "code",
   "execution_count": 53,
   "metadata": {},
   "outputs": [],
   "source": [
    "ages = pd.Series([32,43,12,32,32,87,20,20,20])"
   ]
  },
  {
   "cell_type": "code",
   "execution_count": 33,
   "metadata": {},
   "outputs": [
    {
     "data": {
      "text/plain": [
       "pandas.core.series.Series"
      ]
     },
     "execution_count": 33,
     "metadata": {},
     "output_type": "execute_result"
    }
   ],
   "source": [
    "type(ages)"
   ]
  },
  {
   "cell_type": "markdown",
   "metadata": {},
   "source": [
    "On peut maintenant facilement manipuler cette série\n",
    "\n",
    "(remarque : il est bien de manipuler des types de données homogènes)"
   ]
  },
  {
   "cell_type": "code",
   "execution_count": 34,
   "metadata": {},
   "outputs": [
    {
     "data": {
      "text/plain": [
       "0    32\n",
       "1    43\n",
       "2    12\n",
       "3    32\n",
       "4    32\n",
       "5    87\n",
       "6    20\n",
       "7    20\n",
       "8    20\n",
       "dtype: int64"
      ]
     },
     "execution_count": 34,
     "metadata": {},
     "output_type": "execute_result"
    }
   ],
   "source": [
    "ages"
   ]
  },
  {
   "cell_type": "code",
   "execution_count": 35,
   "metadata": {},
   "outputs": [
    {
     "data": {
      "text/plain": [
       "array([32, 43, 12, 87, 20])"
      ]
     },
     "execution_count": 35,
     "metadata": {},
     "output_type": "execute_result"
    }
   ],
   "source": [
    "ages.unique() #les différentes valeurs"
   ]
  },
  {
   "cell_type": "code",
   "execution_count": 36,
   "metadata": {},
   "outputs": [
    {
     "data": {
      "text/plain": [
       "20    3\n",
       "32    3\n",
       "12    1\n",
       "43    1\n",
       "87    1\n",
       "dtype: int64"
      ]
     },
     "execution_count": 36,
     "metadata": {},
     "output_type": "execute_result"
    }
   ],
   "source": [
    "ages.value_counts() #la fréquence"
   ]
  },
  {
   "cell_type": "code",
   "execution_count": 37,
   "metadata": {},
   "outputs": [
    {
     "data": {
      "text/plain": [
       "33.111111111111114"
      ]
     },
     "execution_count": 37,
     "metadata": {},
     "output_type": "execute_result"
    }
   ],
   "source": [
    "ages.mean() #la moyenne des ages"
   ]
  },
  {
   "cell_type": "code",
   "execution_count": 38,
   "metadata": {},
   "outputs": [
    {
     "data": {
      "text/plain": [
       "32.0"
      ]
     },
     "execution_count": 38,
     "metadata": {},
     "output_type": "execute_result"
    }
   ],
   "source": [
    "ages.median()"
   ]
  },
  {
   "cell_type": "markdown",
   "metadata": {},
   "source": [
    "On peut appliquer une fonction sur chaque cellule (la fonction de recodage définie dans le module précédent)"
   ]
  },
  {
   "cell_type": "code",
   "execution_count": 48,
   "metadata": {},
   "outputs": [],
   "source": [
    "def recodage_age(age_en_entree):\n",
    "    if type(age_en_entree) != int: #on vérifie que c'est un nombre, sinon on retourne problème\n",
    "        return \"Problème\"\n",
    "    if age_en_entree<18:\n",
    "        return \"mineur.e\"\n",
    "    else:\n",
    "        return \"majeur.e\""
   ]
  },
  {
   "cell_type": "code",
   "execution_count": 54,
   "metadata": {},
   "outputs": [
    {
     "data": {
      "text/plain": [
       "0    majeur.e\n",
       "1    majeur.e\n",
       "2    mineur.e\n",
       "3    majeur.e\n",
       "4    majeur.e\n",
       "5    majeur.e\n",
       "6    majeur.e\n",
       "7    majeur.e\n",
       "8    majeur.e\n",
       "dtype: object"
      ]
     },
     "execution_count": 54,
     "metadata": {},
     "output_type": "execute_result"
    }
   ],
   "source": [
    "ages.apply(recodage_age)"
   ]
  },
  {
   "cell_type": "markdown",
   "metadata": {},
   "source": [
    "Et stocker sous une nouvelle série"
   ]
  },
  {
   "cell_type": "code",
   "execution_count": 55,
   "metadata": {},
   "outputs": [],
   "source": [
    "ages_reco = ages.apply(recodage_age)"
   ]
  },
  {
   "cell_type": "markdown",
   "metadata": {},
   "source": [
    "Et recompter"
   ]
  },
  {
   "cell_type": "code",
   "execution_count": 56,
   "metadata": {},
   "outputs": [
    {
     "data": {
      "text/plain": [
       "majeur.e    8\n",
       "mineur.e    1\n",
       "dtype: int64"
      ]
     },
     "execution_count": 56,
     "metadata": {},
     "output_type": "execute_result"
    }
   ],
   "source": [
    "ages_reco.value_counts()"
   ]
  },
  {
   "cell_type": "markdown",
   "metadata": {},
   "source": [
    "### Les DataFrames : un tableau"
   ]
  },
  {
   "cell_type": "markdown",
   "metadata": {},
   "source": [
    "Un ensemble de séries"
   ]
  },
  {
   "cell_type": "code",
   "execution_count": 67,
   "metadata": {},
   "outputs": [],
   "source": [
    "df = pd.DataFrame()"
   ]
  },
  {
   "cell_type": "code",
   "execution_count": 59,
   "metadata": {},
   "outputs": [
    {
     "data": {
      "text/plain": [
       "pandas.core.frame.DataFrame"
      ]
     },
     "execution_count": 59,
     "metadata": {},
     "output_type": "execute_result"
    }
   ],
   "source": [
    "type(df)"
   ]
  },
  {
   "cell_type": "markdown",
   "metadata": {},
   "source": [
    "On transforme la série des âges en DataFrame"
   ]
  },
  {
   "cell_type": "code",
   "execution_count": 57,
   "metadata": {},
   "outputs": [],
   "source": [
    "ages = pd.DataFrame(ages)"
   ]
  },
  {
   "cell_type": "code",
   "execution_count": 58,
   "metadata": {},
   "outputs": [
    {
     "data": {
      "text/html": [
       "<div>\n",
       "<style scoped>\n",
       "    .dataframe tbody tr th:only-of-type {\n",
       "        vertical-align: middle;\n",
       "    }\n",
       "\n",
       "    .dataframe tbody tr th {\n",
       "        vertical-align: top;\n",
       "    }\n",
       "\n",
       "    .dataframe thead th {\n",
       "        text-align: right;\n",
       "    }\n",
       "</style>\n",
       "<table border=\"1\" class=\"dataframe\">\n",
       "  <thead>\n",
       "    <tr style=\"text-align: right;\">\n",
       "      <th></th>\n",
       "      <th>0</th>\n",
       "    </tr>\n",
       "  </thead>\n",
       "  <tbody>\n",
       "    <tr>\n",
       "      <th>0</th>\n",
       "      <td>32</td>\n",
       "    </tr>\n",
       "    <tr>\n",
       "      <th>1</th>\n",
       "      <td>43</td>\n",
       "    </tr>\n",
       "    <tr>\n",
       "      <th>2</th>\n",
       "      <td>12</td>\n",
       "    </tr>\n",
       "    <tr>\n",
       "      <th>3</th>\n",
       "      <td>32</td>\n",
       "    </tr>\n",
       "    <tr>\n",
       "      <th>4</th>\n",
       "      <td>32</td>\n",
       "    </tr>\n",
       "    <tr>\n",
       "      <th>5</th>\n",
       "      <td>87</td>\n",
       "    </tr>\n",
       "    <tr>\n",
       "      <th>6</th>\n",
       "      <td>20</td>\n",
       "    </tr>\n",
       "    <tr>\n",
       "      <th>7</th>\n",
       "      <td>20</td>\n",
       "    </tr>\n",
       "    <tr>\n",
       "      <th>8</th>\n",
       "      <td>20</td>\n",
       "    </tr>\n",
       "  </tbody>\n",
       "</table>\n",
       "</div>"
      ],
      "text/plain": [
       "    0\n",
       "0  32\n",
       "1  43\n",
       "2  12\n",
       "3  32\n",
       "4  32\n",
       "5  87\n",
       "6  20\n",
       "7  20\n",
       "8  20"
      ]
     },
     "execution_count": 58,
     "metadata": {},
     "output_type": "execute_result"
    }
   ],
   "source": [
    "ages"
   ]
  },
  {
   "cell_type": "code",
   "execution_count": 59,
   "metadata": {},
   "outputs": [],
   "source": [
    "ages.columns  = [\"Ages\"] #On donne un nom à la colonne"
   ]
  },
  {
   "cell_type": "code",
   "execution_count": 60,
   "metadata": {},
   "outputs": [
    {
     "data": {
      "text/html": [
       "<div>\n",
       "<style scoped>\n",
       "    .dataframe tbody tr th:only-of-type {\n",
       "        vertical-align: middle;\n",
       "    }\n",
       "\n",
       "    .dataframe tbody tr th {\n",
       "        vertical-align: top;\n",
       "    }\n",
       "\n",
       "    .dataframe thead th {\n",
       "        text-align: right;\n",
       "    }\n",
       "</style>\n",
       "<table border=\"1\" class=\"dataframe\">\n",
       "  <thead>\n",
       "    <tr style=\"text-align: right;\">\n",
       "      <th></th>\n",
       "      <th>Ages</th>\n",
       "    </tr>\n",
       "  </thead>\n",
       "  <tbody>\n",
       "    <tr>\n",
       "      <th>0</th>\n",
       "      <td>32</td>\n",
       "    </tr>\n",
       "    <tr>\n",
       "      <th>1</th>\n",
       "      <td>43</td>\n",
       "    </tr>\n",
       "    <tr>\n",
       "      <th>2</th>\n",
       "      <td>12</td>\n",
       "    </tr>\n",
       "    <tr>\n",
       "      <th>3</th>\n",
       "      <td>32</td>\n",
       "    </tr>\n",
       "    <tr>\n",
       "      <th>4</th>\n",
       "      <td>32</td>\n",
       "    </tr>\n",
       "    <tr>\n",
       "      <th>5</th>\n",
       "      <td>87</td>\n",
       "    </tr>\n",
       "    <tr>\n",
       "      <th>6</th>\n",
       "      <td>20</td>\n",
       "    </tr>\n",
       "    <tr>\n",
       "      <th>7</th>\n",
       "      <td>20</td>\n",
       "    </tr>\n",
       "    <tr>\n",
       "      <th>8</th>\n",
       "      <td>20</td>\n",
       "    </tr>\n",
       "  </tbody>\n",
       "</table>\n",
       "</div>"
      ],
      "text/plain": [
       "   Ages\n",
       "0    32\n",
       "1    43\n",
       "2    12\n",
       "3    32\n",
       "4    32\n",
       "5    87\n",
       "6    20\n",
       "7    20\n",
       "8    20"
      ]
     },
     "execution_count": 60,
     "metadata": {},
     "output_type": "execute_result"
    }
   ],
   "source": [
    "ages"
   ]
  },
  {
   "cell_type": "markdown",
   "metadata": {},
   "source": [
    "On crée une nouvelle colonne avec l'âge recodé"
   ]
  },
  {
   "cell_type": "code",
   "execution_count": 61,
   "metadata": {},
   "outputs": [],
   "source": [
    "ages[\"Ages recodés\"] = ages_reco"
   ]
  },
  {
   "cell_type": "code",
   "execution_count": 62,
   "metadata": {},
   "outputs": [
    {
     "data": {
      "text/html": [
       "<div>\n",
       "<style scoped>\n",
       "    .dataframe tbody tr th:only-of-type {\n",
       "        vertical-align: middle;\n",
       "    }\n",
       "\n",
       "    .dataframe tbody tr th {\n",
       "        vertical-align: top;\n",
       "    }\n",
       "\n",
       "    .dataframe thead th {\n",
       "        text-align: right;\n",
       "    }\n",
       "</style>\n",
       "<table border=\"1\" class=\"dataframe\">\n",
       "  <thead>\n",
       "    <tr style=\"text-align: right;\">\n",
       "      <th></th>\n",
       "      <th>Ages</th>\n",
       "      <th>Ages recodés</th>\n",
       "    </tr>\n",
       "  </thead>\n",
       "  <tbody>\n",
       "    <tr>\n",
       "      <th>0</th>\n",
       "      <td>32</td>\n",
       "      <td>majeur.e</td>\n",
       "    </tr>\n",
       "    <tr>\n",
       "      <th>1</th>\n",
       "      <td>43</td>\n",
       "      <td>majeur.e</td>\n",
       "    </tr>\n",
       "    <tr>\n",
       "      <th>2</th>\n",
       "      <td>12</td>\n",
       "      <td>mineur.e</td>\n",
       "    </tr>\n",
       "    <tr>\n",
       "      <th>3</th>\n",
       "      <td>32</td>\n",
       "      <td>majeur.e</td>\n",
       "    </tr>\n",
       "    <tr>\n",
       "      <th>4</th>\n",
       "      <td>32</td>\n",
       "      <td>majeur.e</td>\n",
       "    </tr>\n",
       "    <tr>\n",
       "      <th>5</th>\n",
       "      <td>87</td>\n",
       "      <td>majeur.e</td>\n",
       "    </tr>\n",
       "    <tr>\n",
       "      <th>6</th>\n",
       "      <td>20</td>\n",
       "      <td>majeur.e</td>\n",
       "    </tr>\n",
       "    <tr>\n",
       "      <th>7</th>\n",
       "      <td>20</td>\n",
       "      <td>majeur.e</td>\n",
       "    </tr>\n",
       "    <tr>\n",
       "      <th>8</th>\n",
       "      <td>20</td>\n",
       "      <td>majeur.e</td>\n",
       "    </tr>\n",
       "  </tbody>\n",
       "</table>\n",
       "</div>"
      ],
      "text/plain": [
       "   Ages Ages recodés\n",
       "0    32     majeur.e\n",
       "1    43     majeur.e\n",
       "2    12     mineur.e\n",
       "3    32     majeur.e\n",
       "4    32     majeur.e\n",
       "5    87     majeur.e\n",
       "6    20     majeur.e\n",
       "7    20     majeur.e\n",
       "8    20     majeur.e"
      ]
     },
     "execution_count": 62,
     "metadata": {},
     "output_type": "execute_result"
    }
   ],
   "source": [
    "ages"
   ]
  },
  {
   "cell_type": "code",
   "execution_count": 71,
   "metadata": {},
   "outputs": [
    {
     "data": {
      "text/plain": [
       "Index(['Ages', 'Ages recodés'], dtype='object')"
      ]
     },
     "execution_count": 71,
     "metadata": {},
     "output_type": "execute_result"
    }
   ],
   "source": [
    "ages.columns"
   ]
  },
  {
   "cell_type": "code",
   "execution_count": 72,
   "metadata": {},
   "outputs": [
    {
     "data": {
      "text/plain": [
       "RangeIndex(start=0, stop=9, step=1)"
      ]
     },
     "execution_count": 72,
     "metadata": {},
     "output_type": "execute_result"
    }
   ],
   "source": [
    "ages.index"
   ]
  },
  {
   "cell_type": "markdown",
   "metadata": {},
   "source": [
    "Accéder aux données"
   ]
  },
  {
   "cell_type": "code",
   "execution_count": 64,
   "metadata": {},
   "outputs": [
    {
     "data": {
      "text/plain": [
       "Ages                  12\n",
       "Ages recodés    mineur.e\n",
       "Name: 2, dtype: object"
      ]
     },
     "execution_count": 64,
     "metadata": {},
     "output_type": "execute_result"
    }
   ],
   "source": [
    "ages.loc[2] #Accéder à la deuxième ligne"
   ]
  },
  {
   "cell_type": "code",
   "execution_count": 65,
   "metadata": {},
   "outputs": [
    {
     "data": {
      "text/html": [
       "<div>\n",
       "<style scoped>\n",
       "    .dataframe tbody tr th:only-of-type {\n",
       "        vertical-align: middle;\n",
       "    }\n",
       "\n",
       "    .dataframe tbody tr th {\n",
       "        vertical-align: top;\n",
       "    }\n",
       "\n",
       "    .dataframe thead th {\n",
       "        text-align: right;\n",
       "    }\n",
       "</style>\n",
       "<table border=\"1\" class=\"dataframe\">\n",
       "  <thead>\n",
       "    <tr style=\"text-align: right;\">\n",
       "      <th></th>\n",
       "      <th>Ages</th>\n",
       "      <th>Ages recodés</th>\n",
       "    </tr>\n",
       "  </thead>\n",
       "  <tbody>\n",
       "    <tr>\n",
       "      <th>2</th>\n",
       "      <td>12</td>\n",
       "      <td>mineur.e</td>\n",
       "    </tr>\n",
       "    <tr>\n",
       "      <th>3</th>\n",
       "      <td>32</td>\n",
       "      <td>majeur.e</td>\n",
       "    </tr>\n",
       "    <tr>\n",
       "      <th>4</th>\n",
       "      <td>32</td>\n",
       "      <td>majeur.e</td>\n",
       "    </tr>\n",
       "  </tbody>\n",
       "</table>\n",
       "</div>"
      ],
      "text/plain": [
       "   Ages Ages recodés\n",
       "2    12     mineur.e\n",
       "3    32     majeur.e\n",
       "4    32     majeur.e"
      ]
     },
     "execution_count": 65,
     "metadata": {},
     "output_type": "execute_result"
    }
   ],
   "source": [
    "ages.loc[2:4] #Aux lignes de 2 à 4"
   ]
  },
  {
   "cell_type": "code",
   "execution_count": 38,
   "metadata": {},
   "outputs": [
    {
     "data": {
      "text/plain": [
       "Ages                  20\n",
       "Ages recodés    majeur.e\n",
       "Name: 8, dtype: object"
      ]
     },
     "execution_count": 38,
     "metadata": {},
     "output_type": "execute_result"
    }
   ],
   "source": [
    "ages.iloc[-1] #Accéder à la dernière ligne"
   ]
  },
  {
   "cell_type": "markdown",
   "metadata": {},
   "source": [
    "Ajouter une ligne à la fin : on rajoute un index en plus, et on met les valeurs"
   ]
  },
  {
   "cell_type": "code",
   "execution_count": 79,
   "metadata": {},
   "outputs": [],
   "source": [
    "ages.loc[ages.index[-1]+1] = [None,\"mineur.e\"]"
   ]
  },
  {
   "cell_type": "code",
   "execution_count": 80,
   "metadata": {},
   "outputs": [
    {
     "data": {
      "text/html": [
       "<div>\n",
       "<style scoped>\n",
       "    .dataframe tbody tr th:only-of-type {\n",
       "        vertical-align: middle;\n",
       "    }\n",
       "\n",
       "    .dataframe tbody tr th {\n",
       "        vertical-align: top;\n",
       "    }\n",
       "\n",
       "    .dataframe thead th {\n",
       "        text-align: right;\n",
       "    }\n",
       "</style>\n",
       "<table border=\"1\" class=\"dataframe\">\n",
       "  <thead>\n",
       "    <tr style=\"text-align: right;\">\n",
       "      <th></th>\n",
       "      <th>Ages</th>\n",
       "      <th>Ages recodés</th>\n",
       "    </tr>\n",
       "  </thead>\n",
       "  <tbody>\n",
       "    <tr>\n",
       "      <th>0</th>\n",
       "      <td>32</td>\n",
       "      <td>majeur.e</td>\n",
       "    </tr>\n",
       "    <tr>\n",
       "      <th>1</th>\n",
       "      <td>43</td>\n",
       "      <td>majeur.e</td>\n",
       "    </tr>\n",
       "    <tr>\n",
       "      <th>2</th>\n",
       "      <td>12</td>\n",
       "      <td>mineur.e</td>\n",
       "    </tr>\n",
       "    <tr>\n",
       "      <th>3</th>\n",
       "      <td>32</td>\n",
       "      <td>majeur.e</td>\n",
       "    </tr>\n",
       "    <tr>\n",
       "      <th>4</th>\n",
       "      <td>32</td>\n",
       "      <td>majeur.e</td>\n",
       "    </tr>\n",
       "    <tr>\n",
       "      <th>5</th>\n",
       "      <td>87</td>\n",
       "      <td>majeur.e</td>\n",
       "    </tr>\n",
       "    <tr>\n",
       "      <th>6</th>\n",
       "      <td>20</td>\n",
       "      <td>majeur.e</td>\n",
       "    </tr>\n",
       "    <tr>\n",
       "      <th>7</th>\n",
       "      <td>20</td>\n",
       "      <td>majeur.e</td>\n",
       "    </tr>\n",
       "    <tr>\n",
       "      <th>8</th>\n",
       "      <td>20</td>\n",
       "      <td>majeur.e</td>\n",
       "    </tr>\n",
       "    <tr>\n",
       "      <th>9</th>\n",
       "      <td>None</td>\n",
       "      <td>mineur.e</td>\n",
       "    </tr>\n",
       "  </tbody>\n",
       "</table>\n",
       "</div>"
      ],
      "text/plain": [
       "   Ages Ages recodés\n",
       "0    32     majeur.e\n",
       "1    43     majeur.e\n",
       "2    12     mineur.e\n",
       "3    32     majeur.e\n",
       "4    32     majeur.e\n",
       "5    87     majeur.e\n",
       "6    20     majeur.e\n",
       "7    20     majeur.e\n",
       "8    20     majeur.e\n",
       "9  None     mineur.e"
      ]
     },
     "execution_count": 80,
     "metadata": {},
     "output_type": "execute_result"
    }
   ],
   "source": [
    "ages"
   ]
  },
  {
   "cell_type": "markdown",
   "metadata": {},
   "source": [
    "Faire une boucle sur le tableau pour afficher"
   ]
  },
  {
   "cell_type": "code",
   "execution_count": 83,
   "metadata": {},
   "outputs": [
    {
     "name": "stdout",
     "output_type": "stream",
     "text": [
      "La ligne 0 correspond à une personne de 32 années, donc c'est un.e majeur.e\n",
      "La ligne 1 correspond à une personne de 43 années, donc c'est un.e majeur.e\n",
      "La ligne 2 correspond à une personne de 12 années, donc c'est un.e mineur.e\n",
      "La ligne 3 correspond à une personne de 32 années, donc c'est un.e majeur.e\n",
      "La ligne 4 correspond à une personne de 32 années, donc c'est un.e majeur.e\n",
      "La ligne 5 correspond à une personne de 87 années, donc c'est un.e majeur.e\n",
      "La ligne 6 correspond à une personne de 20 années, donc c'est un.e majeur.e\n",
      "La ligne 7 correspond à une personne de 20 années, donc c'est un.e majeur.e\n",
      "La ligne 8 correspond à une personne de 20 années, donc c'est un.e majeur.e\n"
     ]
    },
    {
     "ename": "TypeError",
     "evalue": "%d format: a number is required, not NoneType",
     "output_type": "error",
     "traceback": [
      "\u001b[0;31m---------------------------------------------------------------------------\u001b[0m",
      "\u001b[0;31mTypeError\u001b[0m                                 Traceback (most recent call last)",
      "\u001b[0;32m<ipython-input-83-886c234d02c3>\u001b[0m in \u001b[0;36m<module>\u001b[0;34m()\u001b[0m\n\u001b[1;32m      1\u001b[0m \u001b[0;32mfor\u001b[0m \u001b[0mindex\u001b[0m\u001b[0;34m,\u001b[0m\u001b[0mcontenu\u001b[0m \u001b[0;32min\u001b[0m \u001b[0mages\u001b[0m\u001b[0;34m.\u001b[0m\u001b[0miterrows\u001b[0m\u001b[0;34m(\u001b[0m\u001b[0;34m)\u001b[0m\u001b[0;34m:\u001b[0m\u001b[0;34m\u001b[0m\u001b[0m\n\u001b[0;32m----> 2\u001b[0;31m     \u001b[0mprint\u001b[0m\u001b[0;34m(\u001b[0m\u001b[0;34m\"La ligne %d correspond à une personne de %d années, donc c'est un.e %s\"\u001b[0m \u001b[0;34m%\u001b[0m \u001b[0;34m(\u001b[0m\u001b[0mindex\u001b[0m\u001b[0;34m,\u001b[0m \u001b[0mcontenu\u001b[0m\u001b[0;34m[\u001b[0m\u001b[0;36m0\u001b[0m\u001b[0;34m]\u001b[0m\u001b[0;34m,\u001b[0m\u001b[0mcontenu\u001b[0m\u001b[0;34m[\u001b[0m\u001b[0;36m1\u001b[0m\u001b[0;34m]\u001b[0m\u001b[0;34m)\u001b[0m\u001b[0;34m)\u001b[0m\u001b[0;34m\u001b[0m\u001b[0m\n\u001b[0m",
      "\u001b[0;31mTypeError\u001b[0m: %d format: a number is required, not NoneType"
     ]
    }
   ],
   "source": [
    "for index,contenu in ages.iterrows():\n",
    "    print(\"La ligne %d correspond à une personne de %d années, donc c'est un.e %s\" % (index, contenu[0],contenu[1]))"
   ]
  },
  {
   "cell_type": "markdown",
   "metadata": {},
   "source": [
    "Chercher les lignes où il y a une valeur nulle"
   ]
  },
  {
   "cell_type": "code",
   "execution_count": 81,
   "metadata": {},
   "outputs": [
    {
     "data": {
      "text/html": [
       "<div>\n",
       "<style scoped>\n",
       "    .dataframe tbody tr th:only-of-type {\n",
       "        vertical-align: middle;\n",
       "    }\n",
       "\n",
       "    .dataframe tbody tr th {\n",
       "        vertical-align: top;\n",
       "    }\n",
       "\n",
       "    .dataframe thead th {\n",
       "        text-align: right;\n",
       "    }\n",
       "</style>\n",
       "<table border=\"1\" class=\"dataframe\">\n",
       "  <thead>\n",
       "    <tr style=\"text-align: right;\">\n",
       "      <th></th>\n",
       "      <th>Ages</th>\n",
       "      <th>Ages recodés</th>\n",
       "    </tr>\n",
       "  </thead>\n",
       "  <tbody>\n",
       "    <tr>\n",
       "      <th>9</th>\n",
       "      <td>None</td>\n",
       "      <td>mineur.e</td>\n",
       "    </tr>\n",
       "  </tbody>\n",
       "</table>\n",
       "</div>"
      ],
      "text/plain": [
       "   Ages Ages recodés\n",
       "9  None     mineur.e"
      ]
     },
     "execution_count": 81,
     "metadata": {},
     "output_type": "execute_result"
    }
   ],
   "source": [
    "ages[pd.isnull(ages[\"Ages\"])]"
   ]
  },
  {
   "cell_type": "markdown",
   "metadata": {},
   "source": [
    "Ou avec une condition"
   ]
  },
  {
   "cell_type": "code",
   "execution_count": 57,
   "metadata": {},
   "outputs": [
    {
     "data": {
      "text/html": [
       "<div>\n",
       "<style scoped>\n",
       "    .dataframe tbody tr th:only-of-type {\n",
       "        vertical-align: middle;\n",
       "    }\n",
       "\n",
       "    .dataframe tbody tr th {\n",
       "        vertical-align: top;\n",
       "    }\n",
       "\n",
       "    .dataframe thead th {\n",
       "        text-align: right;\n",
       "    }\n",
       "</style>\n",
       "<table border=\"1\" class=\"dataframe\">\n",
       "  <thead>\n",
       "    <tr style=\"text-align: right;\">\n",
       "      <th></th>\n",
       "      <th>Ages</th>\n",
       "      <th>Ages recodés</th>\n",
       "    </tr>\n",
       "  </thead>\n",
       "  <tbody>\n",
       "    <tr>\n",
       "      <th>2</th>\n",
       "      <td>12</td>\n",
       "      <td>mineur.e</td>\n",
       "    </tr>\n",
       "    <tr>\n",
       "      <th>9</th>\n",
       "      <td>None</td>\n",
       "      <td>mineur.e</td>\n",
       "    </tr>\n",
       "  </tbody>\n",
       "</table>\n",
       "</div>"
      ],
      "text/plain": [
       "   Ages Ages recodés\n",
       "2    12     mineur.e\n",
       "9  None     mineur.e"
      ]
     },
     "execution_count": 57,
     "metadata": {},
     "output_type": "execute_result"
    }
   ],
   "source": [
    "ages[ages[\"Ages recodés\"]==\"mineur.e\"]"
   ]
  },
  {
   "cell_type": "markdown",
   "metadata": {},
   "source": [
    "Se débarasser des valeurs nulles"
   ]
  },
  {
   "cell_type": "code",
   "execution_count": 82,
   "metadata": {},
   "outputs": [
    {
     "data": {
      "text/html": [
       "<div>\n",
       "<style scoped>\n",
       "    .dataframe tbody tr th:only-of-type {\n",
       "        vertical-align: middle;\n",
       "    }\n",
       "\n",
       "    .dataframe tbody tr th {\n",
       "        vertical-align: top;\n",
       "    }\n",
       "\n",
       "    .dataframe thead th {\n",
       "        text-align: right;\n",
       "    }\n",
       "</style>\n",
       "<table border=\"1\" class=\"dataframe\">\n",
       "  <thead>\n",
       "    <tr style=\"text-align: right;\">\n",
       "      <th></th>\n",
       "      <th>Ages</th>\n",
       "      <th>Ages recodés</th>\n",
       "    </tr>\n",
       "  </thead>\n",
       "  <tbody>\n",
       "    <tr>\n",
       "      <th>0</th>\n",
       "      <td>32</td>\n",
       "      <td>majeur.e</td>\n",
       "    </tr>\n",
       "    <tr>\n",
       "      <th>1</th>\n",
       "      <td>43</td>\n",
       "      <td>majeur.e</td>\n",
       "    </tr>\n",
       "    <tr>\n",
       "      <th>2</th>\n",
       "      <td>12</td>\n",
       "      <td>mineur.e</td>\n",
       "    </tr>\n",
       "    <tr>\n",
       "      <th>3</th>\n",
       "      <td>32</td>\n",
       "      <td>majeur.e</td>\n",
       "    </tr>\n",
       "    <tr>\n",
       "      <th>4</th>\n",
       "      <td>32</td>\n",
       "      <td>majeur.e</td>\n",
       "    </tr>\n",
       "    <tr>\n",
       "      <th>5</th>\n",
       "      <td>87</td>\n",
       "      <td>majeur.e</td>\n",
       "    </tr>\n",
       "    <tr>\n",
       "      <th>6</th>\n",
       "      <td>20</td>\n",
       "      <td>majeur.e</td>\n",
       "    </tr>\n",
       "    <tr>\n",
       "      <th>7</th>\n",
       "      <td>20</td>\n",
       "      <td>majeur.e</td>\n",
       "    </tr>\n",
       "    <tr>\n",
       "      <th>8</th>\n",
       "      <td>20</td>\n",
       "      <td>majeur.e</td>\n",
       "    </tr>\n",
       "  </tbody>\n",
       "</table>\n",
       "</div>"
      ],
      "text/plain": [
       "  Ages Ages recodés\n",
       "0   32     majeur.e\n",
       "1   43     majeur.e\n",
       "2   12     mineur.e\n",
       "3   32     majeur.e\n",
       "4   32     majeur.e\n",
       "5   87     majeur.e\n",
       "6   20     majeur.e\n",
       "7   20     majeur.e\n",
       "8   20     majeur.e"
      ]
     },
     "execution_count": 82,
     "metadata": {},
     "output_type": "execute_result"
    }
   ],
   "source": [
    "ages.dropna()"
   ]
  },
  {
   "cell_type": "markdown",
   "metadata": {},
   "source": [
    "Il y a une erreur car une valeur est nulle ; penser à utiliser .dropna() pour supprimer toutes les lignes manquantes"
   ]
  },
  {
   "cell_type": "markdown",
   "metadata": {},
   "source": [
    "## Travailler sur un Dataframe"
   ]
  },
  {
   "cell_type": "markdown",
   "metadata": {},
   "source": [
    "* Charger un fichier excel\n",
    " * Charger la base de données complètes base.xlsx\n",
    " * Recoder des colonnes\n",
    " * Grouper les données"
   ]
  },
  {
   "cell_type": "markdown",
   "metadata": {},
   "source": [
    "Pour charger, plusieurs fonctions suivant le type de fichier"
   ]
  },
  {
   "cell_type": "code",
   "execution_count": 84,
   "metadata": {},
   "outputs": [],
   "source": [
    "corpus = pd.read_excel(\"./../Données/corpus-mis-en-forme.xlsx\")"
   ]
  },
  {
   "cell_type": "code",
   "execution_count": 85,
   "metadata": {},
   "outputs": [
    {
     "data": {
      "text/html": [
       "<div>\n",
       "<style scoped>\n",
       "    .dataframe tbody tr th:only-of-type {\n",
       "        vertical-align: middle;\n",
       "    }\n",
       "\n",
       "    .dataframe tbody tr th {\n",
       "        vertical-align: top;\n",
       "    }\n",
       "\n",
       "    .dataframe thead th {\n",
       "        text-align: right;\n",
       "    }\n",
       "</style>\n",
       "<table border=\"1\" class=\"dataframe\">\n",
       "  <thead>\n",
       "    <tr style=\"text-align: right;\">\n",
       "      <th></th>\n",
       "      <th>Date_reco</th>\n",
       "      <th>Date</th>\n",
       "      <th>Titre</th>\n",
       "      <th>Journal</th>\n",
       "      <th>Contenu</th>\n",
       "    </tr>\n",
       "  </thead>\n",
       "  <tbody>\n",
       "    <tr>\n",
       "      <th>0</th>\n",
       "      <td>2018-05-23</td>\n",
       "      <td>Science &amp; Médecine,  mercredi 23 mai 2018 246...</td>\n",
       "      <td>Homéopathie Une réglementation à haute diluti...</td>\n",
       "      <td>Le Monde</td>\n",
       "      <td>(Lyon; correspondant); - Quand on lui parle ...</td>\n",
       "    </tr>\n",
       "    <tr>\n",
       "      <th>1</th>\n",
       "      <td>2018-06-16</td>\n",
       "      <td>Événement,  samedi 16 juin 2018 1243 mots, p. 4</td>\n",
       "      <td>Principale «Réduire l'homéopathie à un effet ...</td>\n",
       "      <td>Libération, no. 11524</td>\n",
       "      <td>Le regard, au-dessus des petites lunettes ce...</td>\n",
       "    </tr>\n",
       "    <tr>\n",
       "      <th>2</th>\n",
       "      <td>2018-04-10</td>\n",
       "      <td>Sciences et éthique,  mardi 10 avril 2018 105...</td>\n",
       "      <td>Faut-il en finir avec l'homéopathie? Une trib...</td>\n",
       "      <td>La Croix, no. 41073</td>\n",
       "      <td>Faut-il se débarrasser de l'homéopathie? Voi...</td>\n",
       "    </tr>\n",
       "  </tbody>\n",
       "</table>\n",
       "</div>"
      ],
      "text/plain": [
       "   Date_reco                                               Date  \\\n",
       "0 2018-05-23   Science & Médecine,  mercredi 23 mai 2018 246...   \n",
       "1 2018-06-16   Événement,  samedi 16 juin 2018 1243 mots, p. 4    \n",
       "2 2018-04-10   Sciences et éthique,  mardi 10 avril 2018 105...   \n",
       "\n",
       "                                               Titre  \\\n",
       "0   Homéopathie Une réglementation à haute diluti...   \n",
       "1   Principale «Réduire l'homéopathie à un effet ...   \n",
       "2   Faut-il en finir avec l'homéopathie? Une trib...   \n",
       "\n",
       "                     Journal  \\\n",
       "0                Le Monde      \n",
       "1   Libération, no. 11524      \n",
       "2     La Croix, no. 41073      \n",
       "\n",
       "                                             Contenu  \n",
       "0    (Lyon; correspondant); - Quand on lui parle ...  \n",
       "1    Le regard, au-dessus des petites lunettes ce...  \n",
       "2    Faut-il se débarrasser de l'homéopathie? Voi...  "
      ]
     },
     "execution_count": 85,
     "metadata": {},
     "output_type": "execute_result"
    }
   ],
   "source": [
    "corpus[0:3]"
   ]
  },
  {
   "cell_type": "markdown",
   "metadata": {},
   "source": [
    "Créer une nouvelle colonne année"
   ]
  },
  {
   "cell_type": "markdown",
   "metadata": {},
   "source": [
    "Un nouveau type de données : les temps"
   ]
  },
  {
   "cell_type": "code",
   "execution_count": 87,
   "metadata": {},
   "outputs": [
    {
     "data": {
      "text/plain": [
       "pandas._libs.tslibs.timestamps.Timestamp"
      ]
     },
     "execution_count": 87,
     "metadata": {},
     "output_type": "execute_result"
    }
   ],
   "source": [
    "type(corpus[\"Date_reco\"].loc[0])"
   ]
  },
  {
   "cell_type": "code",
   "execution_count": 88,
   "metadata": {},
   "outputs": [
    {
     "data": {
      "text/plain": [
       "2018"
      ]
     },
     "execution_count": 88,
     "metadata": {},
     "output_type": "execute_result"
    }
   ],
   "source": [
    "corpus[\"Date_reco\"].loc[0].year"
   ]
  },
  {
   "cell_type": "markdown",
   "metadata": {},
   "source": [
    "Définir une fonction"
   ]
  },
  {
   "cell_type": "code",
   "execution_count": 89,
   "metadata": {},
   "outputs": [],
   "source": [
    "def get_year(x):\n",
    "    return x.year"
   ]
  },
  {
   "cell_type": "code",
   "execution_count": null,
   "metadata": {},
   "outputs": [],
   "source": [
    "corpus[\"Date_reco\"].apply(get_year)"
   ]
  },
  {
   "cell_type": "markdown",
   "metadata": {},
   "source": [
    "Une autre façon de faire"
   ]
  },
  {
   "cell_type": "code",
   "execution_count": 69,
   "metadata": {},
   "outputs": [],
   "source": [
    "corpus[\"Annee\"] = corpus[\"Date_reco\"].apply(lambda valeur : valeur.year)"
   ]
  },
  {
   "cell_type": "markdown",
   "metadata": {},
   "source": [
    "Mettre la date en index"
   ]
  },
  {
   "cell_type": "code",
   "execution_count": 70,
   "metadata": {},
   "outputs": [],
   "source": [
    "corpus = corpus.set_index(\"Date_reco\")"
   ]
  },
  {
   "cell_type": "markdown",
   "metadata": {},
   "source": [
    "Grouper par une colonne, puis compter le nombre d'éléments"
   ]
  },
  {
   "cell_type": "code",
   "execution_count": 82,
   "metadata": {},
   "outputs": [
    {
     "data": {
      "text/plain": [
       "Annee\n",
       "2017     6\n",
       "2018    38\n",
       "2019     6\n",
       "Name: Titre, dtype: int64"
      ]
     },
     "execution_count": 82,
     "metadata": {},
     "output_type": "execute_result"
    }
   ],
   "source": [
    "corpus.groupby(\"Annee\")[\"Titre\"].count()"
   ]
  },
  {
   "cell_type": "markdown",
   "metadata": {},
   "source": [
    "##  Ajouter des données à son tableau : aller vers le traitement de données\n",
    "\n",
    "Enrichir son jeu de données\n",
    "\n",
    " * Nombre de mots par texte\n",
    " * Faire une fonction pour calculer la fréquence d'un mot\n",
    " * Calculer la fréquence de certains mots dans les textes (4 ou 5 jugés pertinents)\n",
    " * Sauvegarder le corpus"
   ]
  },
  {
   "cell_type": "markdown",
   "metadata": {},
   "source": [
    "Compter le nombre de mots par article\n",
    "* définir une fonction qui découpe par mots\n",
    "* la tester\n",
    "* l'appliquer sur l'ensemble des éléments"
   ]
  },
  {
   "cell_type": "code",
   "execution_count": 71,
   "metadata": {},
   "outputs": [],
   "source": [
    "def compter_nombre_mots(texte):\n",
    "    texte = texte.replace(\"'\",' ') # il y a des apostrophes à gérer\n",
    "    texte = texte.replace(\"  \",\" \") # il y a de temps en temps deux espaces à la suite\n",
    "    mots = texte.split(\" \")\n",
    "    return len(mots)"
   ]
  },
  {
   "cell_type": "code",
   "execution_count": 72,
   "metadata": {},
   "outputs": [],
   "source": [
    "corpus[\"Nombre de mots\"] = corpus[\"Contenu\"].apply(compter_nombre_mots)"
   ]
  },
  {
   "cell_type": "code",
   "execution_count": 73,
   "metadata": {},
   "outputs": [
    {
     "data": {
      "text/html": [
       "<div>\n",
       "<style scoped>\n",
       "    .dataframe tbody tr th:only-of-type {\n",
       "        vertical-align: middle;\n",
       "    }\n",
       "\n",
       "    .dataframe tbody tr th {\n",
       "        vertical-align: top;\n",
       "    }\n",
       "\n",
       "    .dataframe thead th {\n",
       "        text-align: right;\n",
       "    }\n",
       "</style>\n",
       "<table border=\"1\" class=\"dataframe\">\n",
       "  <thead>\n",
       "    <tr style=\"text-align: right;\">\n",
       "      <th></th>\n",
       "      <th>Date</th>\n",
       "      <th>Titre</th>\n",
       "      <th>Journal</th>\n",
       "      <th>Contenu</th>\n",
       "      <th>Annee</th>\n",
       "      <th>Nombre de mots</th>\n",
       "    </tr>\n",
       "    <tr>\n",
       "      <th>Date_reco</th>\n",
       "      <th></th>\n",
       "      <th></th>\n",
       "      <th></th>\n",
       "      <th></th>\n",
       "      <th></th>\n",
       "      <th></th>\n",
       "    </tr>\n",
       "  </thead>\n",
       "  <tbody>\n",
       "    <tr>\n",
       "      <th>2018-05-23</th>\n",
       "      <td>Science &amp; Médecine,  mercredi 23 mai 2018 246...</td>\n",
       "      <td>Homéopathie Une réglementation à haute diluti...</td>\n",
       "      <td>Le Monde</td>\n",
       "      <td>(Lyon; correspondant); - Quand on lui parle ...</td>\n",
       "      <td>2018</td>\n",
       "      <td>2679</td>\n",
       "    </tr>\n",
       "    <tr>\n",
       "      <th>2018-06-16</th>\n",
       "      <td>Événement,  samedi 16 juin 2018 1243 mots, p. 4</td>\n",
       "      <td>Principale «Réduire l'homéopathie à un effet ...</td>\n",
       "      <td>Libération, no. 11524</td>\n",
       "      <td>Le regard, au-dessus des petites lunettes ce...</td>\n",
       "      <td>2018</td>\n",
       "      <td>1341</td>\n",
       "    </tr>\n",
       "  </tbody>\n",
       "</table>\n",
       "</div>"
      ],
      "text/plain": [
       "                                                         Date  \\\n",
       "Date_reco                                                       \n",
       "2018-05-23   Science & Médecine,  mercredi 23 mai 2018 246...   \n",
       "2018-06-16   Événement,  samedi 16 juin 2018 1243 mots, p. 4    \n",
       "\n",
       "                                                        Titre  \\\n",
       "Date_reco                                                       \n",
       "2018-05-23   Homéopathie Une réglementation à haute diluti...   \n",
       "2018-06-16   Principale «Réduire l'homéopathie à un effet ...   \n",
       "\n",
       "                              Journal  \\\n",
       "Date_reco                               \n",
       "2018-05-23                Le Monde      \n",
       "2018-06-16   Libération, no. 11524      \n",
       "\n",
       "                                                      Contenu  Annee  \\\n",
       "Date_reco                                                              \n",
       "2018-05-23    (Lyon; correspondant); - Quand on lui parle ...   2018   \n",
       "2018-06-16    Le regard, au-dessus des petites lunettes ce...   2018   \n",
       "\n",
       "            Nombre de mots  \n",
       "Date_reco                   \n",
       "2018-05-23            2679  \n",
       "2018-06-16            1341  "
      ]
     },
     "execution_count": 73,
     "metadata": {},
     "output_type": "execute_result"
    }
   ],
   "source": [
    "corpus[0:2]"
   ]
  },
  {
   "cell_type": "markdown",
   "metadata": {},
   "source": [
    "### Chercher des mots \"signifiants\" spécifiques :\n",
    " * homéopath..\n",
    " * alterna...\n",
    " * allopath..\n",
    " * nofakemed\n",
    " * remboursement"
   ]
  },
  {
   "cell_type": "markdown",
   "metadata": {},
   "source": [
    "Une fonction pour chercher un mot dans un texte"
   ]
  },
  {
   "cell_type": "code",
   "execution_count": 122,
   "metadata": {},
   "outputs": [],
   "source": [
    "def frequence_homeo(texte):\n",
    "    mot = \"homeopath\"\n",
    "    \n",
    "    #règles de nettoyage du texte\n",
    "    texte = texte.replace(\"é\",\"e\") #virer les accents\n",
    "    texte = texte.lower() #mettre en minuscule\n",
    "    \n",
    "    #calcul des fréquences\n",
    "    frequence = len(texte.split(mot))-1\n",
    "    return frequence"
   ]
  },
  {
   "cell_type": "markdown",
   "metadata": {},
   "source": [
    "Tester"
   ]
  },
  {
   "cell_type": "code",
   "execution_count": 121,
   "metadata": {},
   "outputs": [
    {
     "data": {
      "text/plain": [
       "2"
      ]
     },
     "execution_count": 121,
     "metadata": {},
     "output_type": "execute_result"
    }
   ],
   "source": [
    "frequence_homeo(\"il y avait un homéopathe caché derrière le rideau homéopathique\")"
   ]
  },
  {
   "cell_type": "markdown",
   "metadata": {},
   "source": [
    "Appliquer au corpus"
   ]
  },
  {
   "cell_type": "code",
   "execution_count": 125,
   "metadata": {},
   "outputs": [],
   "source": [
    "corpus[\"freq-homeo\"] = corpus[\"Contenu\"].apply(frequence_homeo)"
   ]
  },
  {
   "cell_type": "markdown",
   "metadata": {},
   "source": [
    "Définir une fonction générique qui prend un mot quelconque pour le chercher"
   ]
  },
  {
   "cell_type": "code",
   "execution_count": 74,
   "metadata": {},
   "outputs": [],
   "source": [
    "def freq_mot(texte,mot):\n",
    "    \n",
    "    #règles de nettoyage du texte\n",
    "    texte = texte.replace(\"é\",\"e\") #virer les accents\n",
    "    texte = texte.lower() #mettre en minuscule\n",
    "    \n",
    "    #calcul des fréquences\n",
    "    frequence = len(texte.split(mot))-1\n",
    "    return frequence"
   ]
  },
  {
   "cell_type": "markdown",
   "metadata": {},
   "source": [
    "L'appliquer pour différents mots"
   ]
  },
  {
   "cell_type": "code",
   "execution_count": 76,
   "metadata": {},
   "outputs": [],
   "source": [
    "corpus[\"freq-homeo\"] = corpus[\"Contenu\"].apply(lambda contenu : freq_mot(contenu,\"homeopath\"))\n",
    "corpus[\"freq-alterna\"] = corpus[\"Contenu\"].apply(lambda contenu : freq_mot(contenu,\"alterna\"))\n",
    "corpus[\"freq-allopath\"] = corpus[\"Contenu\"].apply(lambda contenu : freq_mot(contenu,\"allopath\"))\n",
    "corpus[\"freq-nofakemed\"] = corpus[\"Contenu\"].apply(lambda contenu : freq_mot(contenu,\"nofakemed\"))"
   ]
  },
  {
   "cell_type": "code",
   "execution_count": 77,
   "metadata": {},
   "outputs": [
    {
     "data": {
      "text/html": [
       "<div>\n",
       "<style scoped>\n",
       "    .dataframe tbody tr th:only-of-type {\n",
       "        vertical-align: middle;\n",
       "    }\n",
       "\n",
       "    .dataframe tbody tr th {\n",
       "        vertical-align: top;\n",
       "    }\n",
       "\n",
       "    .dataframe thead th {\n",
       "        text-align: right;\n",
       "    }\n",
       "</style>\n",
       "<table border=\"1\" class=\"dataframe\">\n",
       "  <thead>\n",
       "    <tr style=\"text-align: right;\">\n",
       "      <th></th>\n",
       "      <th>Date</th>\n",
       "      <th>Titre</th>\n",
       "      <th>Journal</th>\n",
       "      <th>Contenu</th>\n",
       "      <th>Annee</th>\n",
       "      <th>Nombre de mots</th>\n",
       "      <th>freq-homeo</th>\n",
       "      <th>freq-alterna</th>\n",
       "      <th>freq-allopath</th>\n",
       "      <th>freq-nofakemed</th>\n",
       "    </tr>\n",
       "    <tr>\n",
       "      <th>Date_reco</th>\n",
       "      <th></th>\n",
       "      <th></th>\n",
       "      <th></th>\n",
       "      <th></th>\n",
       "      <th></th>\n",
       "      <th></th>\n",
       "      <th></th>\n",
       "      <th></th>\n",
       "      <th></th>\n",
       "      <th></th>\n",
       "    </tr>\n",
       "  </thead>\n",
       "  <tbody>\n",
       "    <tr>\n",
       "      <th>2018-05-23</th>\n",
       "      <td>Science &amp; Médecine,  mercredi 23 mai 2018 246...</td>\n",
       "      <td>Homéopathie Une réglementation à haute diluti...</td>\n",
       "      <td>Le Monde</td>\n",
       "      <td>(Lyon; correspondant); - Quand on lui parle ...</td>\n",
       "      <td>2018</td>\n",
       "      <td>2679</td>\n",
       "      <td>43</td>\n",
       "      <td>2</td>\n",
       "      <td>2</td>\n",
       "      <td>0</td>\n",
       "    </tr>\n",
       "    <tr>\n",
       "      <th>2018-06-16</th>\n",
       "      <td>Événement,  samedi 16 juin 2018 1243 mots, p. 4</td>\n",
       "      <td>Principale «Réduire l'homéopathie à un effet ...</td>\n",
       "      <td>Libération, no. 11524</td>\n",
       "      <td>Le regard, au-dessus des petites lunettes ce...</td>\n",
       "      <td>2018</td>\n",
       "      <td>1341</td>\n",
       "      <td>26</td>\n",
       "      <td>0</td>\n",
       "      <td>12</td>\n",
       "      <td>0</td>\n",
       "    </tr>\n",
       "  </tbody>\n",
       "</table>\n",
       "</div>"
      ],
      "text/plain": [
       "                                                         Date  \\\n",
       "Date_reco                                                       \n",
       "2018-05-23   Science & Médecine,  mercredi 23 mai 2018 246...   \n",
       "2018-06-16   Événement,  samedi 16 juin 2018 1243 mots, p. 4    \n",
       "\n",
       "                                                        Titre  \\\n",
       "Date_reco                                                       \n",
       "2018-05-23   Homéopathie Une réglementation à haute diluti...   \n",
       "2018-06-16   Principale «Réduire l'homéopathie à un effet ...   \n",
       "\n",
       "                              Journal  \\\n",
       "Date_reco                               \n",
       "2018-05-23                Le Monde      \n",
       "2018-06-16   Libération, no. 11524      \n",
       "\n",
       "                                                      Contenu  Annee  \\\n",
       "Date_reco                                                              \n",
       "2018-05-23    (Lyon; correspondant); - Quand on lui parle ...   2018   \n",
       "2018-06-16    Le regard, au-dessus des petites lunettes ce...   2018   \n",
       "\n",
       "            Nombre de mots  freq-homeo  freq-alterna  freq-allopath  \\\n",
       "Date_reco                                                             \n",
       "2018-05-23            2679          43             2              2   \n",
       "2018-06-16            1341          26             0             12   \n",
       "\n",
       "            freq-nofakemed  \n",
       "Date_reco                   \n",
       "2018-05-23               0  \n",
       "2018-06-16               0  "
      ]
     },
     "execution_count": 77,
     "metadata": {},
     "output_type": "execute_result"
    }
   ],
   "source": [
    "corpus[0:2]"
   ]
  },
  {
   "cell_type": "markdown",
   "metadata": {},
   "source": [
    "Sauvegarder le corpus complété en format Excel"
   ]
  },
  {
   "cell_type": "code",
   "execution_count": 134,
   "metadata": {},
   "outputs": [],
   "source": [
    "corpus.to_excel(\"corpus.xlsx\")"
   ]
  },
  {
   "cell_type": "markdown",
   "metadata": {},
   "source": [
    "### En résumé"
   ]
  },
  {
   "cell_type": "markdown",
   "metadata": {},
   "source": [
    "Avec la librairie Pandas :\n",
    "- construire un dataframe / charger un fichier (différents formats possibles, y compris des bases de données)\n",
    "- le mettre en forme, ajouter des informatoins\n",
    "- le sauvegarder sous un format"
   ]
  },
  {
   "cell_type": "markdown",
   "metadata": {},
   "source": [
    "## Et maintenant : il faut l'analyser :)"
   ]
  }
 ],
 "metadata": {
  "kernelspec": {
   "display_name": "Python 3",
   "language": "python",
   "name": "python3"
  },
  "language_info": {
   "codemirror_mode": {
    "name": "ipython",
    "version": 3
   },
   "file_extension": ".py",
   "mimetype": "text/x-python",
   "name": "python",
   "nbconvert_exporter": "python",
   "pygments_lexer": "ipython3",
   "version": "3.5.6"
  }
 },
 "nbformat": 4,
 "nbformat_minor": 2
}
