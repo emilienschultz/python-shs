{
 "cells": [
  {
   "cell_type": "markdown",
   "metadata": {},
   "source": [
    "# Traitements statistiques\n",
    "__Durée : 1h30__\n",
    "\n",
    "Pandas et Matplotlib, puis aller vers des tests et des modèles"
   ]
  },
  {
   "cell_type": "code",
   "execution_count": 2,
   "metadata": {},
   "outputs": [],
   "source": [
    "#Charger les librairies\n",
    "import pandas as pd\n",
    "import matplotlib.pyplot as plt\n",
    "%matplotlib inline"
   ]
  },
  {
   "cell_type": "markdown",
   "metadata": {},
   "source": [
    "Charger le corpus mis en forme précédemment"
   ]
  },
  {
   "cell_type": "code",
   "execution_count": 90,
   "metadata": {},
   "outputs": [],
   "source": [
    "corpus = pd.read_excel(\"../Données/corpus.xlsx\")"
   ]
  },
  {
   "cell_type": "code",
   "execution_count": 91,
   "metadata": {
    "scrolled": true
   },
   "outputs": [
    {
     "data": {
      "text/html": [
       "<div>\n",
       "<style scoped>\n",
       "    .dataframe tbody tr th:only-of-type {\n",
       "        vertical-align: middle;\n",
       "    }\n",
       "\n",
       "    .dataframe tbody tr th {\n",
       "        vertical-align: top;\n",
       "    }\n",
       "\n",
       "    .dataframe thead th {\n",
       "        text-align: right;\n",
       "    }\n",
       "</style>\n",
       "<table border=\"1\" class=\"dataframe\">\n",
       "  <thead>\n",
       "    <tr style=\"text-align: right;\">\n",
       "      <th></th>\n",
       "      <th>Date_reco</th>\n",
       "      <th>Date</th>\n",
       "      <th>Titre</th>\n",
       "      <th>Journal</th>\n",
       "      <th>Contenu</th>\n",
       "      <th>Nombre de mots</th>\n",
       "      <th>freq-homeo</th>\n",
       "      <th>freq-alterna</th>\n",
       "      <th>freq-allopath</th>\n",
       "      <th>freq-nofakemed</th>\n",
       "      <th>Journal-reco</th>\n",
       "    </tr>\n",
       "  </thead>\n",
       "  <tbody>\n",
       "    <tr>\n",
       "      <th>0</th>\n",
       "      <td>2018-05-23</td>\n",
       "      <td>Science &amp; Médecine,  mercredi 23 mai 2018 246...</td>\n",
       "      <td>Homéopathie Une réglementation à haute diluti...</td>\n",
       "      <td>Le Monde</td>\n",
       "      <td>(Lyon; correspondant); - Quand on lui parle ...</td>\n",
       "      <td>2679</td>\n",
       "      <td>43</td>\n",
       "      <td>2</td>\n",
       "      <td>2</td>\n",
       "      <td>0</td>\n",
       "      <td>Le Monde</td>\n",
       "    </tr>\n",
       "    <tr>\n",
       "      <th>1</th>\n",
       "      <td>2018-06-16</td>\n",
       "      <td>Événement,  samedi 16 juin 2018 1243 mots, p. 4</td>\n",
       "      <td>Principale «Réduire l'homéopathie à un effet ...</td>\n",
       "      <td>Libération, no. 11524</td>\n",
       "      <td>Le regard, au-dessus des petites lunettes ce...</td>\n",
       "      <td>1341</td>\n",
       "      <td>26</td>\n",
       "      <td>0</td>\n",
       "      <td>12</td>\n",
       "      <td>0</td>\n",
       "      <td>Libération</td>\n",
       "    </tr>\n",
       "    <tr>\n",
       "      <th>2</th>\n",
       "      <td>2018-04-10</td>\n",
       "      <td>Sciences et éthique,  mardi 10 avril 2018 105...</td>\n",
       "      <td>Faut-il en finir avec l'homéopathie? Une trib...</td>\n",
       "      <td>La Croix, no. 41073</td>\n",
       "      <td>Faut-il se débarrasser de l'homéopathie? Voi...</td>\n",
       "      <td>1183</td>\n",
       "      <td>23</td>\n",
       "      <td>0</td>\n",
       "      <td>0</td>\n",
       "      <td>0</td>\n",
       "      <td>La Croix</td>\n",
       "    </tr>\n",
       "  </tbody>\n",
       "</table>\n",
       "</div>"
      ],
      "text/plain": [
       "   Date_reco                                               Date  \\\n",
       "0 2018-05-23   Science & Médecine,  mercredi 23 mai 2018 246...   \n",
       "1 2018-06-16   Événement,  samedi 16 juin 2018 1243 mots, p. 4    \n",
       "2 2018-04-10   Sciences et éthique,  mardi 10 avril 2018 105...   \n",
       "\n",
       "                                               Titre  \\\n",
       "0   Homéopathie Une réglementation à haute diluti...   \n",
       "1   Principale «Réduire l'homéopathie à un effet ...   \n",
       "2   Faut-il en finir avec l'homéopathie? Une trib...   \n",
       "\n",
       "                     Journal  \\\n",
       "0                Le Monde      \n",
       "1   Libération, no. 11524      \n",
       "2     La Croix, no. 41073      \n",
       "\n",
       "                                             Contenu  Nombre de mots  \\\n",
       "0    (Lyon; correspondant); - Quand on lui parle ...            2679   \n",
       "1    Le regard, au-dessus des petites lunettes ce...            1341   \n",
       "2    Faut-il se débarrasser de l'homéopathie? Voi...            1183   \n",
       "\n",
       "   freq-homeo  freq-alterna  freq-allopath  freq-nofakemed Journal-reco  \n",
       "0          43             2              2               0     Le Monde  \n",
       "1          26             0             12               0   Libération  \n",
       "2          23             0              0               0     La Croix  "
      ]
     },
     "execution_count": 91,
     "metadata": {},
     "output_type": "execute_result"
    }
   ],
   "source": [
    "corpus[0:3]"
   ]
  },
  {
   "cell_type": "markdown",
   "metadata": {},
   "source": [
    "Possibiliter de traiter chaque colonne"
   ]
  },
  {
   "cell_type": "code",
   "execution_count": 24,
   "metadata": {},
   "outputs": [
    {
     "data": {
      "text/plain": [
       "495.5"
      ]
     },
     "execution_count": 24,
     "metadata": {},
     "output_type": "execute_result"
    }
   ],
   "source": [
    "corpus[\"Nombre de mots\"].median()"
   ]
  },
  {
   "cell_type": "markdown",
   "metadata": {},
   "source": [
    "Résumer l'information"
   ]
  },
  {
   "cell_type": "code",
   "execution_count": 23,
   "metadata": {},
   "outputs": [
    {
     "data": {
      "text/html": [
       "<div>\n",
       "<style scoped>\n",
       "    .dataframe tbody tr th:only-of-type {\n",
       "        vertical-align: middle;\n",
       "    }\n",
       "\n",
       "    .dataframe tbody tr th {\n",
       "        vertical-align: top;\n",
       "    }\n",
       "\n",
       "    .dataframe thead th {\n",
       "        text-align: right;\n",
       "    }\n",
       "</style>\n",
       "<table border=\"1\" class=\"dataframe\">\n",
       "  <thead>\n",
       "    <tr style=\"text-align: right;\">\n",
       "      <th></th>\n",
       "      <th>Nombre de mots</th>\n",
       "      <th>freq-homeo</th>\n",
       "      <th>freq-alterna</th>\n",
       "      <th>freq-allopath</th>\n",
       "      <th>freq-nofakemed</th>\n",
       "    </tr>\n",
       "  </thead>\n",
       "  <tbody>\n",
       "    <tr>\n",
       "      <th>count</th>\n",
       "      <td>50.000000</td>\n",
       "      <td>50.000000</td>\n",
       "      <td>50.000000</td>\n",
       "      <td>50.000000</td>\n",
       "      <td>50.000000</td>\n",
       "    </tr>\n",
       "    <tr>\n",
       "      <th>mean</th>\n",
       "      <td>686.580000</td>\n",
       "      <td>7.580000</td>\n",
       "      <td>0.520000</td>\n",
       "      <td>0.340000</td>\n",
       "      <td>0.360000</td>\n",
       "    </tr>\n",
       "    <tr>\n",
       "      <th>std</th>\n",
       "      <td>681.502335</td>\n",
       "      <td>7.961873</td>\n",
       "      <td>0.886175</td>\n",
       "      <td>1.733346</td>\n",
       "      <td>1.625812</td>\n",
       "    </tr>\n",
       "    <tr>\n",
       "      <th>min</th>\n",
       "      <td>23.000000</td>\n",
       "      <td>1.000000</td>\n",
       "      <td>0.000000</td>\n",
       "      <td>0.000000</td>\n",
       "      <td>0.000000</td>\n",
       "    </tr>\n",
       "    <tr>\n",
       "      <th>25%</th>\n",
       "      <td>195.000000</td>\n",
       "      <td>2.000000</td>\n",
       "      <td>0.000000</td>\n",
       "      <td>0.000000</td>\n",
       "      <td>0.000000</td>\n",
       "    </tr>\n",
       "    <tr>\n",
       "      <th>50%</th>\n",
       "      <td>495.500000</td>\n",
       "      <td>4.500000</td>\n",
       "      <td>0.000000</td>\n",
       "      <td>0.000000</td>\n",
       "      <td>0.000000</td>\n",
       "    </tr>\n",
       "    <tr>\n",
       "      <th>75%</th>\n",
       "      <td>897.750000</td>\n",
       "      <td>11.000000</td>\n",
       "      <td>1.000000</td>\n",
       "      <td>0.000000</td>\n",
       "      <td>0.000000</td>\n",
       "    </tr>\n",
       "    <tr>\n",
       "      <th>max</th>\n",
       "      <td>3089.000000</td>\n",
       "      <td>43.000000</td>\n",
       "      <td>3.000000</td>\n",
       "      <td>12.000000</td>\n",
       "      <td>11.000000</td>\n",
       "    </tr>\n",
       "  </tbody>\n",
       "</table>\n",
       "</div>"
      ],
      "text/plain": [
       "       Nombre de mots  freq-homeo  freq-alterna  freq-allopath  freq-nofakemed\n",
       "count       50.000000   50.000000     50.000000      50.000000       50.000000\n",
       "mean       686.580000    7.580000      0.520000       0.340000        0.360000\n",
       "std        681.502335    7.961873      0.886175       1.733346        1.625812\n",
       "min         23.000000    1.000000      0.000000       0.000000        0.000000\n",
       "25%        195.000000    2.000000      0.000000       0.000000        0.000000\n",
       "50%        495.500000    4.500000      0.000000       0.000000        0.000000\n",
       "75%        897.750000   11.000000      1.000000       0.000000        0.000000\n",
       "max       3089.000000   43.000000      3.000000      12.000000       11.000000"
      ]
     },
     "execution_count": 23,
     "metadata": {},
     "output_type": "execute_result"
    }
   ],
   "source": [
    "corpus[corpus.columns[-5:]].describe()"
   ]
  },
  {
   "cell_type": "markdown",
   "metadata": {},
   "source": [
    "Sauvegarder le résumé"
   ]
  },
  {
   "cell_type": "code",
   "execution_count": 26,
   "metadata": {},
   "outputs": [
    {
     "data": {
      "text/html": [
       "<div>\n",
       "<style scoped>\n",
       "    .dataframe tbody tr th:only-of-type {\n",
       "        vertical-align: middle;\n",
       "    }\n",
       "\n",
       "    .dataframe tbody tr th {\n",
       "        vertical-align: top;\n",
       "    }\n",
       "\n",
       "    .dataframe thead th {\n",
       "        text-align: right;\n",
       "    }\n",
       "</style>\n",
       "<table border=\"1\" class=\"dataframe\">\n",
       "  <thead>\n",
       "    <tr style=\"text-align: right;\">\n",
       "      <th></th>\n",
       "      <th>mean</th>\n",
       "      <th>median</th>\n",
       "      <th>std</th>\n",
       "    </tr>\n",
       "  </thead>\n",
       "  <tbody>\n",
       "    <tr>\n",
       "      <th>Nombre de mots</th>\n",
       "      <td>686.58</td>\n",
       "      <td>495.5</td>\n",
       "      <td>681.502335</td>\n",
       "    </tr>\n",
       "    <tr>\n",
       "      <th>freq-homeo</th>\n",
       "      <td>7.58</td>\n",
       "      <td>4.5</td>\n",
       "      <td>7.961873</td>\n",
       "    </tr>\n",
       "    <tr>\n",
       "      <th>freq-alterna</th>\n",
       "      <td>0.52</td>\n",
       "      <td>0.0</td>\n",
       "      <td>0.886175</td>\n",
       "    </tr>\n",
       "    <tr>\n",
       "      <th>freq-allopath</th>\n",
       "      <td>0.34</td>\n",
       "      <td>0.0</td>\n",
       "      <td>1.733346</td>\n",
       "    </tr>\n",
       "    <tr>\n",
       "      <th>freq-nofakemed</th>\n",
       "      <td>0.36</td>\n",
       "      <td>0.0</td>\n",
       "      <td>1.625812</td>\n",
       "    </tr>\n",
       "  </tbody>\n",
       "</table>\n",
       "</div>"
      ],
      "text/plain": [
       "                  mean  median         std\n",
       "Nombre de mots  686.58   495.5  681.502335\n",
       "freq-homeo        7.58     4.5    7.961873\n",
       "freq-alterna      0.52     0.0    0.886175\n",
       "freq-allopath     0.34     0.0    1.733346\n",
       "freq-nofakemed    0.36     0.0    1.625812"
      ]
     },
     "execution_count": 26,
     "metadata": {},
     "output_type": "execute_result"
    }
   ],
   "source": [
    "corpus[corpus.columns[-5:]].agg([\"mean\",\"median\",\"std\"]).T.to_excel(\"stats.xlsx\")"
   ]
  },
  {
   "cell_type": "markdown",
   "metadata": {},
   "source": [
    "## Visualiser\n",
    "* Différentes visualisations\n",
    "* Mettre un titre, légende ,couleur, taille\n",
    "* Sauvegarder\n",
    "* Plusieurs graphiques fig, ax_lst = plt.subplots(2, 2)"
   ]
  },
  {
   "cell_type": "markdown",
   "metadata": {},
   "source": [
    "D'abord de l'exploratoire"
   ]
  },
  {
   "cell_type": "code",
   "execution_count": 79,
   "metadata": {},
   "outputs": [
    {
     "data": {
      "text/plain": [
       "Text(0, 0.5, \"Nombre d'articles\")"
      ]
     },
     "execution_count": 79,
     "metadata": {},
     "output_type": "execute_result"
    },
    {
     "data": {
      "image/png": "[encoded data removed]",
      "text/plain": [
       "<Figure size 432x288 with 1 Axes>"
      ]
     },
     "metadata": {
      "needs_background": "light"
     },
     "output_type": "display_data"
    }
   ],
   "source": [
    "corpus[\"Nombre de mots\"].hist()\n",
    "plt.title(\"Nombre de mots\")\n",
    "plt.xlabel(\"Nombre de mots\")\n",
    "plt.ylabel(\"Nombre d'articles\")\n",
    "#plt.grid(False)\n",
    "#plt.savefig()\n"
   ]
  },
  {
   "cell_type": "markdown",
   "metadata": {},
   "source": [
    "On peut changer la couleur, le découpage, etc"
   ]
  },
  {
   "cell_type": "markdown",
   "metadata": {},
   "source": [
    "Voir l'évolution temporelle d'un des termes : fakemed"
   ]
  },
  {
   "cell_type": "code",
   "execution_count": 87,
   "metadata": {},
   "outputs": [
    {
     "data": {
      "text/plain": [
       "<matplotlib.axes._subplots.AxesSubplot at 0x7ffac371e860>"
      ]
     },
     "execution_count": 87,
     "metadata": {},
     "output_type": "execute_result"
    },
    {
     "data": {
      "image/png": "[encoded data removed]",
      "text/plain": [
       "<Figure size 432x288 with 1 Axes>"
      ]
     },
     "metadata": {
      "needs_background": "light"
     },
     "output_type": "display_data"
    }
   ],
   "source": [
    "corpus[[\"Date_reco\",\"freq-nofakemed\"]].set_index(\"Date_reco\").plot()"
   ]
  },
  {
   "cell_type": "code",
   "execution_count": 19,
   "metadata": {},
   "outputs": [
    {
     "data": {
      "text/plain": [
       "Text(0, 0.5, \"Nombre d'occurence de homéopathie\")"
      ]
     },
     "execution_count": 19,
     "metadata": {},
     "output_type": "execute_result"
    },
    {
     "data": {
      "image/png": "[encoded data removed]",
      "text/plain": [
       "<Figure size 432x288 with 1 Axes>"
      ]
     },
     "metadata": {
      "needs_background": "light"
     },
     "output_type": "display_data"
    }
   ],
   "source": [
    "corpus.plot(kind=\"scatter\", x=\"Nombre de mots\",y=\"freq-homeo\")\n",
    "plt.xlabel(\"Nombre de mots de l'article\")\n",
    "plt.ylabel(\"Nombre d'occurence de homéopathie\")"
   ]
  },
  {
   "cell_type": "markdown",
   "metadata": {},
   "source": [
    "En dernier recours, toutes les visualisations sont possibles..."
   ]
  },
  {
   "cell_type": "markdown",
   "metadata": {},
   "source": [
    "Se poser la question des régularités observés : par exemple, est-ce qu'il y a une corrélation ?"
   ]
  },
  {
   "cell_type": "code",
   "execution_count": 28,
   "metadata": {},
   "outputs": [
    {
     "data": {
      "text/html": [
       "<div>\n",
       "<style scoped>\n",
       "    .dataframe tbody tr th:only-of-type {\n",
       "        vertical-align: middle;\n",
       "    }\n",
       "\n",
       "    .dataframe tbody tr th {\n",
       "        vertical-align: top;\n",
       "    }\n",
       "\n",
       "    .dataframe thead th {\n",
       "        text-align: right;\n",
       "    }\n",
       "</style>\n",
       "<table border=\"1\" class=\"dataframe\">\n",
       "  <thead>\n",
       "    <tr style=\"text-align: right;\">\n",
       "      <th></th>\n",
       "      <th>Nombre de mots</th>\n",
       "      <th>freq-homeo</th>\n",
       "      <th>freq-alterna</th>\n",
       "      <th>freq-allopath</th>\n",
       "      <th>freq-nofakemed</th>\n",
       "    </tr>\n",
       "  </thead>\n",
       "  <tbody>\n",
       "    <tr>\n",
       "      <th>Nombre de mots</th>\n",
       "      <td>1.000000</td>\n",
       "      <td>0.584875</td>\n",
       "      <td>0.454909</td>\n",
       "      <td>0.209720</td>\n",
       "      <td>0.456046</td>\n",
       "    </tr>\n",
       "    <tr>\n",
       "      <th>freq-homeo</th>\n",
       "      <td>0.584875</td>\n",
       "      <td>1.000000</td>\n",
       "      <td>0.268768</td>\n",
       "      <td>0.437926</td>\n",
       "      <td>0.166425</td>\n",
       "    </tr>\n",
       "    <tr>\n",
       "      <th>freq-alterna</th>\n",
       "      <td>0.454909</td>\n",
       "      <td>0.268768</td>\n",
       "      <td>1.000000</td>\n",
       "      <td>-0.037733</td>\n",
       "      <td>0.434013</td>\n",
       "    </tr>\n",
       "    <tr>\n",
       "      <th>freq-allopath</th>\n",
       "      <td>0.209720</td>\n",
       "      <td>0.437926</td>\n",
       "      <td>-0.037733</td>\n",
       "      <td>1.000000</td>\n",
       "      <td>-0.044320</td>\n",
       "    </tr>\n",
       "    <tr>\n",
       "      <th>freq-nofakemed</th>\n",
       "      <td>0.456046</td>\n",
       "      <td>0.166425</td>\n",
       "      <td>0.434013</td>\n",
       "      <td>-0.044320</td>\n",
       "      <td>1.000000</td>\n",
       "    </tr>\n",
       "  </tbody>\n",
       "</table>\n",
       "</div>"
      ],
      "text/plain": [
       "                Nombre de mots  freq-homeo  freq-alterna  freq-allopath  \\\n",
       "Nombre de mots        1.000000    0.584875      0.454909       0.209720   \n",
       "freq-homeo            0.584875    1.000000      0.268768       0.437926   \n",
       "freq-alterna          0.454909    0.268768      1.000000      -0.037733   \n",
       "freq-allopath         0.209720    0.437926     -0.037733       1.000000   \n",
       "freq-nofakemed        0.456046    0.166425      0.434013      -0.044320   \n",
       "\n",
       "                freq-nofakemed  \n",
       "Nombre de mots        0.456046  \n",
       "freq-homeo            0.166425  \n",
       "freq-alterna          0.434013  \n",
       "freq-allopath        -0.044320  \n",
       "freq-nofakemed        1.000000  "
      ]
     },
     "execution_count": 28,
     "metadata": {},
     "output_type": "execute_result"
    }
   ],
   "source": [
    "corpus[corpus.columns[-5:]].corr()"
   ]
  },
  {
   "cell_type": "code",
   "execution_count": 33,
   "metadata": {},
   "outputs": [],
   "source": [
    "ss_corpus = corpus[corpus.columns[-4:]]"
   ]
  },
  {
   "cell_type": "code",
   "execution_count": 37,
   "metadata": {},
   "outputs": [],
   "source": [
    "def reco(x):\n",
    "    if x==0:\n",
    "        return 0\n",
    "    return 1\n",
    "ss_corpus = ss_corpus.applymap(reco)"
   ]
  },
  {
   "cell_type": "code",
   "execution_count": 38,
   "metadata": {},
   "outputs": [
    {
     "data": {
      "text/html": [
       "<div>\n",
       "<style scoped>\n",
       "    .dataframe tbody tr th:only-of-type {\n",
       "        vertical-align: middle;\n",
       "    }\n",
       "\n",
       "    .dataframe tbody tr th {\n",
       "        vertical-align: top;\n",
       "    }\n",
       "\n",
       "    .dataframe thead th {\n",
       "        text-align: right;\n",
       "    }\n",
       "</style>\n",
       "<table border=\"1\" class=\"dataframe\">\n",
       "  <thead>\n",
       "    <tr style=\"text-align: right;\">\n",
       "      <th>freq-nofakemed</th>\n",
       "      <th>0</th>\n",
       "      <th>1</th>\n",
       "    </tr>\n",
       "    <tr>\n",
       "      <th>freq-allopath</th>\n",
       "      <th></th>\n",
       "      <th></th>\n",
       "    </tr>\n",
       "  </thead>\n",
       "  <tbody>\n",
       "    <tr>\n",
       "      <th>0</th>\n",
       "      <td>41</td>\n",
       "      <td>5</td>\n",
       "    </tr>\n",
       "    <tr>\n",
       "      <th>1</th>\n",
       "      <td>4</td>\n",
       "      <td>0</td>\n",
       "    </tr>\n",
       "  </tbody>\n",
       "</table>\n",
       "</div>"
      ],
      "text/plain": [
       "freq-nofakemed   0  1\n",
       "freq-allopath        \n",
       "0               41  5\n",
       "1                4  0"
      ]
     },
     "execution_count": 38,
     "metadata": {},
     "output_type": "execute_result"
    }
   ],
   "source": [
    "pd.crosstab(ss_corpus[\"freq-allopath\"],ss_corpus[\"freq-nofakemed\"])"
   ]
  },
  {
   "cell_type": "markdown",
   "metadata": {},
   "source": [
    "Faire un test de khi2 sur le tableau"
   ]
  },
  {
   "cell_type": "code",
   "execution_count": 39,
   "metadata": {},
   "outputs": [],
   "source": [
    "from scipy.stats import chi2_contingency"
   ]
  },
  {
   "cell_type": "code",
   "execution_count": 110,
   "metadata": {},
   "outputs": [
    {
     "data": {
      "text/plain": [
       "0.8620525004159771"
      ]
     },
     "execution_count": 110,
     "metadata": {},
     "output_type": "execute_result"
    }
   ],
   "source": [
    "p = chi2_contingency(pd.crosstab(ss_corpus[\"freq-allopath\"],ss_corpus[\"freq-nofakemed\"]))\n",
    "p[1]"
   ]
  },
  {
   "cell_type": "markdown",
   "metadata": {},
   "source": [
    "Faire une ANOVA, par exemple pour se demander si la taille des articles varie entre les journaux\n",
    "\n",
    "Pour plus d'info : https://pythonfordatascience.org/anova-python/"
   ]
  },
  {
   "cell_type": "code",
   "execution_count": 103,
   "metadata": {},
   "outputs": [
    {
     "data": {
      "text/html": [
       "<div>\n",
       "<style scoped>\n",
       "    .dataframe tbody tr th:only-of-type {\n",
       "        vertical-align: middle;\n",
       "    }\n",
       "\n",
       "    .dataframe tbody tr th {\n",
       "        vertical-align: top;\n",
       "    }\n",
       "\n",
       "    .dataframe thead th {\n",
       "        text-align: right;\n",
       "    }\n",
       "</style>\n",
       "<table border=\"1\" class=\"dataframe\">\n",
       "  <thead>\n",
       "    <tr style=\"text-align: right;\">\n",
       "      <th></th>\n",
       "      <th>count</th>\n",
       "      <th>mean</th>\n",
       "      <th>std</th>\n",
       "      <th>min</th>\n",
       "      <th>25%</th>\n",
       "      <th>50%</th>\n",
       "      <th>75%</th>\n",
       "      <th>max</th>\n",
       "    </tr>\n",
       "    <tr>\n",
       "      <th>Journal-reco</th>\n",
       "      <th></th>\n",
       "      <th></th>\n",
       "      <th></th>\n",
       "      <th></th>\n",
       "      <th></th>\n",
       "      <th></th>\n",
       "      <th></th>\n",
       "      <th></th>\n",
       "    </tr>\n",
       "  </thead>\n",
       "  <tbody>\n",
       "    <tr>\n",
       "      <th>La Croix</th>\n",
       "      <td>15.0</td>\n",
       "      <td>375.933333</td>\n",
       "      <td>298.828060</td>\n",
       "      <td>23.0</td>\n",
       "      <td>148.50</td>\n",
       "      <td>368.0</td>\n",
       "      <td>479.50</td>\n",
       "      <td>1183.0</td>\n",
       "    </tr>\n",
       "    <tr>\n",
       "      <th>Le Monde</th>\n",
       "      <td>25.0</td>\n",
       "      <td>819.640000</td>\n",
       "      <td>839.802253</td>\n",
       "      <td>43.0</td>\n",
       "      <td>152.00</td>\n",
       "      <td>600.0</td>\n",
       "      <td>937.00</td>\n",
       "      <td>3089.0</td>\n",
       "    </tr>\n",
       "    <tr>\n",
       "      <th>Libération</th>\n",
       "      <td>10.0</td>\n",
       "      <td>819.900000</td>\n",
       "      <td>528.450239</td>\n",
       "      <td>145.0</td>\n",
       "      <td>454.75</td>\n",
       "      <td>793.5</td>\n",
       "      <td>1015.25</td>\n",
       "      <td>1888.0</td>\n",
       "    </tr>\n",
       "  </tbody>\n",
       "</table>\n",
       "</div>"
      ],
      "text/plain": [
       "              count        mean         std    min     25%    50%      75%  \\\n",
       "Journal-reco                                                                 \n",
       "La Croix       15.0  375.933333  298.828060   23.0  148.50  368.0   479.50   \n",
       "Le Monde       25.0  819.640000  839.802253   43.0  152.00  600.0   937.00   \n",
       "Libération     10.0  819.900000  528.450239  145.0  454.75  793.5  1015.25   \n",
       "\n",
       "                 max  \n",
       "Journal-reco          \n",
       "La Croix      1183.0  \n",
       "Le Monde      3089.0  \n",
       "Libération    1888.0  "
      ]
     },
     "execution_count": 103,
     "metadata": {},
     "output_type": "execute_result"
    }
   ],
   "source": [
    "corpus.groupby(\"Journal-reco\")[\"Nombre de mots\"].describe()"
   ]
  },
  {
   "cell_type": "code",
   "execution_count": 104,
   "metadata": {},
   "outputs": [],
   "source": [
    "from scipy.stats import f_oneway"
   ]
  },
  {
   "cell_type": "code",
   "execution_count": 106,
   "metadata": {},
   "outputs": [
    {
     "data": {
      "text/plain": [
       "F_onewayResult(statistic=2.348742226503404, pvalue=0.10660277164869987)"
      ]
     },
     "execution_count": 106,
     "metadata": {},
     "output_type": "execute_result"
    }
   ],
   "source": [
    "f_oneway(corpus[corpus[\"Journal-reco\"]==\"Le Monde\"][\"Nombre de mots\"],\n",
    "        corpus[corpus[\"Journal-reco\"]==\"La Croix\"][\"Nombre de mots\"],\n",
    "        corpus[corpus[\"Journal-reco\"]==\"Libération\"][\"Nombre de mots\"])"
   ]
  },
  {
   "cell_type": "markdown",
   "metadata": {},
   "source": [
    "Il existe plusieurs façon de faire les tests, et de les paramétrer. Par exemple, une nouvelle librairie : \n",
    "https://researchpy.readthedocs.io"
   ]
  },
  {
   "cell_type": "markdown",
   "metadata": {},
   "source": [
    "## Aller vers des modèles\n",
    "* Régression linéaire (polyfit, poly1d)"
   ]
  },
  {
   "cell_type": "code",
   "execution_count": 41,
   "metadata": {},
   "outputs": [
    {
     "data": {
      "text/plain": [
       "Text(0, 0.5, \"Nombre d'occurence de homéopathie\")"
      ]
     },
     "execution_count": 41,
     "metadata": {},
     "output_type": "execute_result"
    },
    {
     "data": {
      "image/png": "[encoded data removed]",
      "text/plain": [
       "<Figure size 432x288 with 1 Axes>"
      ]
     },
     "metadata": {
      "needs_background": "light"
     },
     "output_type": "display_data"
    }
   ],
   "source": [
    "ax = corpus.plot(kind=\"scatter\", x=\"Nombre de mots\",y=\"freq-homeo\")\n",
    "plt.xlabel(\"Nombre de mots de l'article\")\n",
    "plt.ylabel(\"Nombre d'occurence de homéopathie\")"
   ]
  },
  {
   "cell_type": "markdown",
   "metadata": {},
   "source": [
    "Librairie de modèles"
   ]
  },
  {
   "cell_type": "code",
   "execution_count": 64,
   "metadata": {},
   "outputs": [],
   "source": [
    "from sklearn.linear_model import LinearRegression\n",
    "from sklearn.preprocessing import normalize"
   ]
  },
  {
   "cell_type": "markdown",
   "metadata": {},
   "source": [
    "Initier un modèle"
   ]
  },
  {
   "cell_type": "code",
   "execution_count": 53,
   "metadata": {},
   "outputs": [],
   "source": [
    "model = LinearRegression()"
   ]
  },
  {
   "cell_type": "markdown",
   "metadata": {},
   "source": [
    "Mettre en forme les données"
   ]
  },
  {
   "cell_type": "code",
   "execution_count": 107,
   "metadata": {},
   "outputs": [],
   "source": [
    "X = np.array(corpus[\"Nombre de mots\"]).reshape((-1, 1))\n",
    "Y = np.array(corpus[\"freq-homeo\"]).reshape((-1, 1))"
   ]
  },
  {
   "cell_type": "markdown",
   "metadata": {},
   "source": [
    "Adapter le modèle aux données"
   ]
  },
  {
   "cell_type": "code",
   "execution_count": null,
   "metadata": {},
   "outputs": [],
   "source": [
    "model.fit(X,Y)"
   ]
  },
  {
   "cell_type": "markdown",
   "metadata": {},
   "source": [
    "Résultat du modèle"
   ]
  },
  {
   "cell_type": "code",
   "execution_count": 74,
   "metadata": {},
   "outputs": [
    {
     "data": {
      "text/plain": [
       "array([[0.006833]])"
      ]
     },
     "execution_count": 74,
     "metadata": {},
     "output_type": "execute_result"
    }
   ],
   "source": [
    "model.coef_"
   ]
  },
  {
   "cell_type": "markdown",
   "metadata": {},
   "source": [
    "Représenter la droite de régression prédite"
   ]
  },
  {
   "cell_type": "code",
   "execution_count": 108,
   "metadata": {},
   "outputs": [
    {
     "data": {
      "text/plain": [
       "[<matplotlib.lines.Line2D at 0x7ffac35c9550>]"
      ]
     },
     "execution_count": 108,
     "metadata": {},
     "output_type": "execute_result"
    },
    {
     "data": {
      "image/png": "[encoded data removed]",
      "text/plain": [
       "<Figure size 432x288 with 1 Axes>"
      ]
     },
     "metadata": {
      "needs_background": "light"
     },
     "output_type": "display_data"
    }
   ],
   "source": [
    "ax = corpus.plot(kind=\"scatter\", x=\"Nombre de mots\",y=\"freq-homeo\")\n",
    "\n",
    "Y_pred = model.predict(X)\n",
    "ax.plot(X,Y_pred)"
   ]
  },
  {
   "cell_type": "markdown",
   "metadata": {},
   "source": [
    "Des régressions de polynomes"
   ]
  },
  {
   "cell_type": "code",
   "execution_count": 77,
   "metadata": {},
   "outputs": [
    {
     "data": {
      "text/plain": [
       "(0, 40)"
      ]
     },
     "execution_count": 77,
     "metadata": {},
     "output_type": "execute_result"
    },
    {
     "data": {
      "image/png": "[encoded data removed]",
      "text/plain": [
       "<Figure size 432x288 with 1 Axes>"
      ]
     },
     "metadata": {
      "needs_background": "light"
     },
     "output_type": "display_data"
    }
   ],
   "source": [
    "import numpy as np\n",
    "param_droite = np.polyfit(corpus[\"Nombre de mots\"],corpus[\"freq-homeo\"],deg=2)\n",
    "def parabole(x,a,b,c):\n",
    "    y = a*x**2+b*x+c\n",
    "    return y\n",
    "\n",
    "ax = corpus.plot(kind=\"scatter\", x=\"Nombre de mots\",y=\"freq-homeo\")\n",
    "X = np.linspace(0,10000,1000)\n",
    "ax.plot(X,parabole(X,param_droite[0],param_droite[1],param_droite[2]),\".\",color=\"red\")\n",
    "plt.xlim(0,2000)\n",
    "plt.ylim(0,40)"
   ]
  },
  {
   "cell_type": "markdown",
   "metadata": {},
   "source": [
    "## Aller plus loin : les autres formes de régressions"
   ]
  }
 ],
 "metadata": {
  "kernelspec": {
   "display_name": "Python 3",
   "language": "python",
   "name": "python3"
  },
  "language_info": {
   "codemirror_mode": {
    "name": "ipython",
    "version": 3
   },
   "file_extension": ".py",
   "mimetype": "text/x-python",
   "name": "python",
   "nbconvert_exporter": "python",
   "pygments_lexer": "ipython3",
   "version": "3.5.6"
  }
 },
 "nbformat": 4,
 "nbformat_minor": 2
}
