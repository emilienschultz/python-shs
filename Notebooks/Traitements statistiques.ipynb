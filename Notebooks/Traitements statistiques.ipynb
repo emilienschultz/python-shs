{
 "cells": [
  {
   "cell_type": "markdown",
   "metadata": {},
   "source": [
    "# Traitements statistiques\n",
    "__Durée : 1h30__\n",
    "\n",
    "Pandas et Matplotlib"
   ]
  },
  {
   "cell_type": "code",
   "execution_count": 12,
   "metadata": {},
   "outputs": [],
   "source": [
    "#Charger les librairies\n",
    "import pandas as pd\n",
    "import matplotlib.pyplot as plt\n",
    "%matplotlib inline"
   ]
  },
  {
   "cell_type": "code",
   "execution_count": 30,
   "metadata": {},
   "outputs": [],
   "source": [
    "corpus = pd.read_excel(\"corpus.xlsx\")"
   ]
  },
  {
   "cell_type": "markdown",
   "metadata": {},
   "source": [
    "La météo de Marseille en mars"
   ]
  },
  {
   "cell_type": "markdown",
   "metadata": {},
   "source": [
    "meteo = pd.read_csv(\"Données/export-marseille201903.csv\",sep=\",\")\n",
    "meteo = meteo.set_index(\"DATE\")"
   ]
  },
  {
   "cell_type": "code",
   "execution_count": 35,
   "metadata": {},
   "outputs": [],
   "source": [
    "\n",
    "import regex as re\n",
    "import datetime\n",
    "\n",
    "def reco_date(x):\n",
    "    mois = {\"janvier\":\"01\",\"février\":\"02\",\"mars\":\"03\",\n",
    "            \"avril\":\"04\",\"mai\":\"05\",\"juin\":\"06\",\"juillet\":\"07\",\n",
    "            \"août\":\"08\",\"septembre\":\"09\",\"octobre\":\"10\",\"novembre\":\"11\",\"décembre\":\"12\"}\n",
    "    t = re.findall(\"\\w+ \\w+ [0-9]{4}\",x)\n",
    "    if len(t) <1:\n",
    "        return None\n",
    "    t = t[0]\n",
    "    for i in mois:\n",
    "        if i in t:\n",
    "            t = t.replace(i,\"/%s/\"%mois[i]).replace(\" \",\"\")\n",
    "    return datetime.datetime.strptime(t,\"%d/%m/%Y\")"
   ]
  },
  {
   "cell_type": "code",
   "execution_count": 36,
   "metadata": {},
   "outputs": [],
   "source": [
    "corpus[\"Date\"] = corpus[\"Date\"].apply(reco_date)"
   ]
  },
  {
   "cell_type": "code",
   "execution_count": 41,
   "metadata": {},
   "outputs": [
    {
     "data": {
      "text/html": [
       "<div>\n",
       "<style scoped>\n",
       "    .dataframe tbody tr th:only-of-type {\n",
       "        vertical-align: middle;\n",
       "    }\n",
       "\n",
       "    .dataframe tbody tr th {\n",
       "        vertical-align: top;\n",
       "    }\n",
       "\n",
       "    .dataframe thead th {\n",
       "        text-align: right;\n",
       "    }\n",
       "</style>\n",
       "<table border=\"1\" class=\"dataframe\">\n",
       "  <thead>\n",
       "    <tr style=\"text-align: right;\">\n",
       "      <th></th>\n",
       "      <th>Date</th>\n",
       "      <th>Titre</th>\n",
       "      <th>Journal</th>\n",
       "      <th>Contenu</th>\n",
       "      <th>Nombre de mots</th>\n",
       "      <th>Nombre de mots v2</th>\n",
       "      <th>freq-homeo</th>\n",
       "      <th>freq-alterna</th>\n",
       "      <th>freq-allopath</th>\n",
       "      <th>freq-nofakemed</th>\n",
       "    </tr>\n",
       "  </thead>\n",
       "  <tbody>\n",
       "    <tr>\n",
       "      <th>0</th>\n",
       "      <td>2018-05-23</td>\n",
       "      <td>Homéopathie Une réglementation à haute diluti...</td>\n",
       "      <td>Le Monde</td>\n",
       "      <td>(Lyon; correspondant); - Quand on lui parle ...</td>\n",
       "      <td>2546</td>\n",
       "      <td>2679</td>\n",
       "      <td>43</td>\n",
       "      <td>2</td>\n",
       "      <td>2</td>\n",
       "      <td>0</td>\n",
       "    </tr>\n",
       "    <tr>\n",
       "      <th>1</th>\n",
       "      <td>2018-11-28</td>\n",
       "      <td>Nofakemed, symptôme d'un malaise médical Nofa...</td>\n",
       "      <td>Le Monde</td>\n",
       "      <td>Les médecines complémentaires et en particul...</td>\n",
       "      <td>2446</td>\n",
       "      <td>2545</td>\n",
       "      <td>17</td>\n",
       "      <td>3</td>\n",
       "      <td>0</td>\n",
       "      <td>6</td>\n",
       "    </tr>\n",
       "    <tr>\n",
       "      <th>2</th>\n",
       "      <td>2018-09-07</td>\n",
       "      <td>Homéopathie : les doyens des facultés de méde...</td>\n",
       "      <td>Le Monde</td>\n",
       "      <td>Le président de la conférence des doyens des...</td>\n",
       "      <td>710</td>\n",
       "      <td>748</td>\n",
       "      <td>15</td>\n",
       "      <td>2</td>\n",
       "      <td>0</td>\n",
       "      <td>0</td>\n",
       "    </tr>\n",
       "  </tbody>\n",
       "</table>\n",
       "</div>"
      ],
      "text/plain": [
       "        Date                                              Titre       Journal  \\\n",
       "0 2018-05-23   Homéopathie Une réglementation à haute diluti...   Le Monde      \n",
       "1 2018-11-28   Nofakemed, symptôme d'un malaise médical Nofa...   Le Monde      \n",
       "2 2018-09-07   Homéopathie : les doyens des facultés de méde...   Le Monde      \n",
       "\n",
       "                                             Contenu  Nombre de mots  \\\n",
       "0    (Lyon; correspondant); - Quand on lui parle ...            2546   \n",
       "1    Les médecines complémentaires et en particul...            2446   \n",
       "2    Le président de la conférence des doyens des...             710   \n",
       "\n",
       "   Nombre de mots v2  freq-homeo  freq-alterna  freq-allopath  freq-nofakemed  \n",
       "0               2679          43             2              2               0  \n",
       "1               2545          17             3              0               6  \n",
       "2                748          15             2              0               0  "
      ]
     },
     "execution_count": 41,
     "metadata": {},
     "output_type": "execute_result"
    }
   ],
   "source": [
    "corpus[0:3]"
   ]
  },
  {
   "cell_type": "code",
   "execution_count": 50,
   "metadata": {},
   "outputs": [
    {
     "data": {
      "text/plain": [
       "<matplotlib.axes._subplots.AxesSubplot at 0x7fa0b6144ac8>"
      ]
     },
     "execution_count": 50,
     "metadata": {},
     "output_type": "execute_result"
    },
    {
     "data": {
      "image/png": "[encoded data removed]",
      "text/plain": [
       "<Figure size 432x288 with 1 Axes>"
      ]
     },
     "metadata": {
      "needs_background": "light"
     },
     "output_type": "display_data"
    }
   ],
   "source": [
    "corpus[\"Nombre de mots v2\"].hist(bins=30)"
   ]
  },
  {
   "cell_type": "code",
   "execution_count": 57,
   "metadata": {},
   "outputs": [
    {
     "data": {
      "text/plain": [
       "array([[<matplotlib.axes._subplots.AxesSubplot object at 0x7fa0b5db7e80>,\n",
       "        <matplotlib.axes._subplots.AxesSubplot object at 0x7fa0b5ddfda0>],\n",
       "       [<matplotlib.axes._subplots.AxesSubplot object at 0x7fa0b5d7b320>,\n",
       "        <matplotlib.axes._subplots.AxesSubplot object at 0x7fa0b5d93898>]],\n",
       "      dtype=object)"
      ]
     },
     "execution_count": 57,
     "metadata": {},
     "output_type": "execute_result"
    },
    {
     "data": {
      "image/png": "[encoded data removed]",
      "text/plain": [
       "<Figure size 432x288 with 4 Axes>"
      ]
     },
     "metadata": {
      "needs_background": "light"
     },
     "output_type": "display_data"
    }
   ],
   "source": [
    "corpus[[\"freq-homeo\",\"freq-allopath\",\"freq-alterna\"]].hist()"
   ]
  },
  {
   "cell_type": "code",
   "execution_count": 73,
   "metadata": {},
   "outputs": [
    {
     "data": {
      "image/png": "[encoded data removed]",
      "text/plain": [
       "<Figure size 360x216 with 1 Axes>"
      ]
     },
     "metadata": {
      "needs_background": "light"
     },
     "output_type": "display_data"
    }
   ],
   "source": [
    "corpus[\"freq-homeo\"].hist(bins=10,color=\"orange\",figsize=(5,3))\n",
    "plt.title(\"Fréquence du mot homéopathie\")\n",
    "plt.xlabel(\"Nombre d'occurence dans un article\")\n",
    "plt.ylabel(\"Fréquence par article\")\n",
    "plt.grid(False)\n",
    "plt.savefig(\"histo-homéo.pdf\")\n"
   ]
  },
  {
   "cell_type": "code",
   "execution_count": 79,
   "metadata": {},
   "outputs": [
    {
     "data": {
      "text/plain": [
       "(736695.0, 737150.0)"
      ]
     },
     "execution_count": 79,
     "metadata": {},
     "output_type": "execute_result"
    },
    {
     "data": {
      "image/png": "[encoded data removed]",
      "text/plain": [
       "<Figure size 432x288 with 1 Axes>"
      ]
     },
     "metadata": {
      "needs_background": "light"
     },
     "output_type": "display_data"
    }
   ],
   "source": [
    "corpus[[\"Date\",\"freq-nofakemed\"]].set_index(\"Date\").plot()\n",
    "plt.xlim([\"01/01/2018\",\"04/01/2019\"])"
   ]
  },
  {
   "cell_type": "code",
   "execution_count": 88,
   "metadata": {},
   "outputs": [
    {
     "data": {
      "text/plain": [
       "Text(0, 0.5, \"Nombre d'occurence de homéopathie\")"
      ]
     },
     "execution_count": 88,
     "metadata": {},
     "output_type": "execute_result"
    },
    {
     "data": {
      "image/png": "[encoded data removed]",
      "text/plain": [
       "<Figure size 432x288 with 1 Axes>"
      ]
     },
     "metadata": {
      "needs_background": "light"
     },
     "output_type": "display_data"
    }
   ],
   "source": [
    "corpus.plot(kind=\"scatter\", x=\"Nombre de mots\",y=\"freq-homeo\")\n",
    "plt.xlabel(\"Nombre de mots de l'article\")\n",
    "plt.ylabel(\"Nombre d'occurence de homéopathie\")"
   ]
  },
  {
   "cell_type": "markdown",
   "metadata": {},
   "source": [
    "## Visualiser\n",
    "* Différentes visualisations\n",
    "* Mettre un titre, légende ,couleur, taille\n",
    "* Sauvegarder\n",
    "* Plusieurs graphiques fig, ax_lst = plt.subplots(2, 2)"
   ]
  },
  {
   "cell_type": "code",
   "execution_count": 103,
   "metadata": {},
   "outputs": [
    {
     "data": {
      "text/html": [
       "<div>\n",
       "<style scoped>\n",
       "    .dataframe tbody tr th:only-of-type {\n",
       "        vertical-align: middle;\n",
       "    }\n",
       "\n",
       "    .dataframe tbody tr th {\n",
       "        vertical-align: top;\n",
       "    }\n",
       "\n",
       "    .dataframe thead th {\n",
       "        text-align: right;\n",
       "    }\n",
       "</style>\n",
       "<table border=\"1\" class=\"dataframe\">\n",
       "  <thead>\n",
       "    <tr style=\"text-align: right;\">\n",
       "      <th></th>\n",
       "      <th>Nombre de mots v2</th>\n",
       "      <th>freq-homeo</th>\n",
       "      <th>freq-alterna</th>\n",
       "      <th>freq-allopath</th>\n",
       "      <th>freq-nofakemed</th>\n",
       "    </tr>\n",
       "  </thead>\n",
       "  <tbody>\n",
       "    <tr>\n",
       "      <th>mean</th>\n",
       "      <td>805.921053</td>\n",
       "      <td>5.526316</td>\n",
       "      <td>0.552632</td>\n",
       "      <td>0.157895</td>\n",
       "      <td>0.289474</td>\n",
       "    </tr>\n",
       "    <tr>\n",
       "      <th>median</th>\n",
       "      <td>597.500000</td>\n",
       "      <td>1.500000</td>\n",
       "      <td>0.000000</td>\n",
       "      <td>0.000000</td>\n",
       "      <td>0.000000</td>\n",
       "    </tr>\n",
       "    <tr>\n",
       "      <th>std</th>\n",
       "      <td>778.113741</td>\n",
       "      <td>8.046274</td>\n",
       "      <td>0.891321</td>\n",
       "      <td>0.494637</td>\n",
       "      <td>1.088214</td>\n",
       "    </tr>\n",
       "  </tbody>\n",
       "</table>\n",
       "</div>"
      ],
      "text/plain": [
       "        Nombre de mots v2  freq-homeo  freq-alterna  freq-allopath  \\\n",
       "mean           805.921053    5.526316      0.552632       0.157895   \n",
       "median         597.500000    1.500000      0.000000       0.000000   \n",
       "std            778.113741    8.046274      0.891321       0.494637   \n",
       "\n",
       "        freq-nofakemed  \n",
       "mean          0.289474  \n",
       "median        0.000000  \n",
       "std           1.088214  "
      ]
     },
     "execution_count": 103,
     "metadata": {},
     "output_type": "execute_result"
    }
   ],
   "source": [
    "corpus[corpus.columns[-5:]].agg([\"mean\",\"median\",\"std\"]).T.to_excel(\"stats.xlsx\")\n",
    "corpus[corpus.columns[-5:]].agg([\"mean\",\"median\",\"std\"])"
   ]
  },
  {
   "cell_type": "code",
   "execution_count": 100,
   "metadata": {},
   "outputs": [
    {
     "data": {
      "text/plain": [
       "805.921052631579"
      ]
     },
     "execution_count": 100,
     "metadata": {},
     "output_type": "execute_result"
    }
   ],
   "source": [
    "corpus[\"Nombre de mots v2\"].mean()"
   ]
  },
  {
   "cell_type": "code",
   "execution_count": 105,
   "metadata": {},
   "outputs": [
    {
     "data": {
      "text/html": [
       "<div>\n",
       "<style scoped>\n",
       "    .dataframe tbody tr th:only-of-type {\n",
       "        vertical-align: middle;\n",
       "    }\n",
       "\n",
       "    .dataframe tbody tr th {\n",
       "        vertical-align: top;\n",
       "    }\n",
       "\n",
       "    .dataframe thead th {\n",
       "        text-align: right;\n",
       "    }\n",
       "</style>\n",
       "<table border=\"1\" class=\"dataframe\">\n",
       "  <thead>\n",
       "    <tr style=\"text-align: right;\">\n",
       "      <th></th>\n",
       "      <th>Nombre de mots v2</th>\n",
       "      <th>freq-homeo</th>\n",
       "      <th>freq-alterna</th>\n",
       "      <th>freq-allopath</th>\n",
       "      <th>freq-nofakemed</th>\n",
       "    </tr>\n",
       "  </thead>\n",
       "  <tbody>\n",
       "    <tr>\n",
       "      <th>Nombre de mots v2</th>\n",
       "      <td>1.000000</td>\n",
       "      <td>0.503581</td>\n",
       "      <td>0.406357</td>\n",
       "      <td>0.292224</td>\n",
       "      <td>0.436703</td>\n",
       "    </tr>\n",
       "    <tr>\n",
       "      <th>freq-homeo</th>\n",
       "      <td>0.503581</td>\n",
       "      <td>1.000000</td>\n",
       "      <td>0.538698</td>\n",
       "      <td>0.548977</td>\n",
       "      <td>0.170416</td>\n",
       "    </tr>\n",
       "    <tr>\n",
       "      <th>freq-alterna</th>\n",
       "      <td>0.406357</td>\n",
       "      <td>0.538698</td>\n",
       "      <td>1.000000</td>\n",
       "      <td>0.164549</td>\n",
       "      <td>0.360038</td>\n",
       "    </tr>\n",
       "    <tr>\n",
       "      <th>freq-allopath</th>\n",
       "      <td>0.292224</td>\n",
       "      <td>0.548977</td>\n",
       "      <td>0.164549</td>\n",
       "      <td>1.000000</td>\n",
       "      <td>-0.087208</td>\n",
       "    </tr>\n",
       "    <tr>\n",
       "      <th>freq-nofakemed</th>\n",
       "      <td>0.436703</td>\n",
       "      <td>0.170416</td>\n",
       "      <td>0.360038</td>\n",
       "      <td>-0.087208</td>\n",
       "      <td>1.000000</td>\n",
       "    </tr>\n",
       "  </tbody>\n",
       "</table>\n",
       "</div>"
      ],
      "text/plain": [
       "                   Nombre de mots v2  freq-homeo  freq-alterna  freq-allopath  \\\n",
       "Nombre de mots v2           1.000000    0.503581      0.406357       0.292224   \n",
       "freq-homeo                  0.503581    1.000000      0.538698       0.548977   \n",
       "freq-alterna                0.406357    0.538698      1.000000       0.164549   \n",
       "freq-allopath               0.292224    0.548977      0.164549       1.000000   \n",
       "freq-nofakemed              0.436703    0.170416      0.360038      -0.087208   \n",
       "\n",
       "                   freq-nofakemed  \n",
       "Nombre de mots v2        0.436703  \n",
       "freq-homeo               0.170416  \n",
       "freq-alterna             0.360038  \n",
       "freq-allopath           -0.087208  \n",
       "freq-nofakemed           1.000000  "
      ]
     },
     "execution_count": 105,
     "metadata": {},
     "output_type": "execute_result"
    }
   ],
   "source": [
    "corpus[corpus.columns[-5:]].corr()"
   ]
  },
  {
   "cell_type": "code",
   "execution_count": 117,
   "metadata": {},
   "outputs": [],
   "source": [
    "ss_corpus = corpus[corpus.columns[-4:]] != 0"
   ]
  },
  {
   "cell_type": "code",
   "execution_count": 118,
   "metadata": {},
   "outputs": [
    {
     "data": {
      "text/html": [
       "<div>\n",
       "<style scoped>\n",
       "    .dataframe tbody tr th:only-of-type {\n",
       "        vertical-align: middle;\n",
       "    }\n",
       "\n",
       "    .dataframe tbody tr th {\n",
       "        vertical-align: top;\n",
       "    }\n",
       "\n",
       "    .dataframe thead th {\n",
       "        text-align: right;\n",
       "    }\n",
       "</style>\n",
       "<table border=\"1\" class=\"dataframe\">\n",
       "  <thead>\n",
       "    <tr style=\"text-align: right;\">\n",
       "      <th></th>\n",
       "      <th>freq-homeo</th>\n",
       "      <th>freq-alterna</th>\n",
       "      <th>freq-allopath</th>\n",
       "      <th>freq-nofakemed</th>\n",
       "    </tr>\n",
       "  </thead>\n",
       "  <tbody>\n",
       "    <tr>\n",
       "      <th>0</th>\n",
       "      <td>True</td>\n",
       "      <td>True</td>\n",
       "      <td>True</td>\n",
       "      <td>False</td>\n",
       "    </tr>\n",
       "    <tr>\n",
       "      <th>1</th>\n",
       "      <td>True</td>\n",
       "      <td>True</td>\n",
       "      <td>False</td>\n",
       "      <td>True</td>\n",
       "    </tr>\n",
       "    <tr>\n",
       "      <th>2</th>\n",
       "      <td>True</td>\n",
       "      <td>True</td>\n",
       "      <td>False</td>\n",
       "      <td>False</td>\n",
       "    </tr>\n",
       "    <tr>\n",
       "      <th>3</th>\n",
       "      <td>True</td>\n",
       "      <td>False</td>\n",
       "      <td>False</td>\n",
       "      <td>False</td>\n",
       "    </tr>\n",
       "    <tr>\n",
       "      <th>4</th>\n",
       "      <td>True</td>\n",
       "      <td>True</td>\n",
       "      <td>False</td>\n",
       "      <td>False</td>\n",
       "    </tr>\n",
       "  </tbody>\n",
       "</table>\n",
       "</div>"
      ],
      "text/plain": [
       "   freq-homeo  freq-alterna  freq-allopath  freq-nofakemed\n",
       "0        True          True           True           False\n",
       "1        True          True          False            True\n",
       "2        True          True          False           False\n",
       "3        True         False          False           False\n",
       "4        True          True          False           False"
      ]
     },
     "execution_count": 118,
     "metadata": {},
     "output_type": "execute_result"
    }
   ],
   "source": [
    "ss_corpus[0:5]"
   ]
  },
  {
   "cell_type": "code",
   "execution_count": 112,
   "metadata": {},
   "outputs": [
    {
     "data": {
      "text/html": [
       "<div>\n",
       "<style scoped>\n",
       "    .dataframe tbody tr th:only-of-type {\n",
       "        vertical-align: middle;\n",
       "    }\n",
       "\n",
       "    .dataframe tbody tr th {\n",
       "        vertical-align: top;\n",
       "    }\n",
       "\n",
       "    .dataframe thead th {\n",
       "        text-align: right;\n",
       "    }\n",
       "</style>\n",
       "<table border=\"1\" class=\"dataframe\">\n",
       "  <thead>\n",
       "    <tr style=\"text-align: right;\">\n",
       "      <th>freq-nofakemed</th>\n",
       "      <th>False</th>\n",
       "      <th>True</th>\n",
       "    </tr>\n",
       "    <tr>\n",
       "      <th>freq-allopath</th>\n",
       "      <th></th>\n",
       "      <th></th>\n",
       "    </tr>\n",
       "  </thead>\n",
       "  <tbody>\n",
       "    <tr>\n",
       "      <th>False</th>\n",
       "      <td>30</td>\n",
       "      <td>4</td>\n",
       "    </tr>\n",
       "    <tr>\n",
       "      <th>True</th>\n",
       "      <td>4</td>\n",
       "      <td>0</td>\n",
       "    </tr>\n",
       "  </tbody>\n",
       "</table>\n",
       "</div>"
      ],
      "text/plain": [
       "freq-nofakemed  False  True \n",
       "freq-allopath               \n",
       "False              30      4\n",
       "True                4      0"
      ]
     },
     "execution_count": 112,
     "metadata": {},
     "output_type": "execute_result"
    }
   ],
   "source": [
    "pd.crosstab(ss_corpus[\"freq-allopath\"],ss_corpus[\"freq-nofakemed\"])"
   ]
  },
  {
   "cell_type": "code",
   "execution_count": 119,
   "metadata": {},
   "outputs": [],
   "source": [
    "from scipy.stats import chi2_contingency"
   ]
  },
  {
   "cell_type": "code",
   "execution_count": 125,
   "metadata": {},
   "outputs": [],
   "source": [
    "p = chi2_contingency(pd.crosstab(ss_corpus[\"freq-allopath\"],ss_corpus[\"freq-nofakemed\"]))\n",
    "p[1]"
   ]
  },
  {
   "cell_type": "markdown",
   "metadata": {},
   "source": [
    "## Calculer des statistiques\n",
    "\n",
    "* Indicateurs de position et de variance\n",
    "* Corrélations\n",
    "* Tableau croisé\n",
    "* Réaliser un test de kih2"
   ]
  },
  {
   "cell_type": "code",
   "execution_count": 140,
   "metadata": {},
   "outputs": [
    {
     "data": {
      "text/plain": [
       "Text(0, 0.5, \"Nombre d'occurence de homéopathie\")"
      ]
     },
     "execution_count": 140,
     "metadata": {},
     "output_type": "execute_result"
    },
    {
     "data": {
      "image/png": "[encoded data removed]",
      "text/plain": [
       "<Figure size 432x288 with 1 Axes>"
      ]
     },
     "metadata": {
      "needs_background": "light"
     },
     "output_type": "display_data"
    }
   ],
   "source": [
    "ax = corpus.plot(kind=\"scatter\", x=\"Nombre de mots\",y=\"freq-homeo\")\n",
    "plt.xlabel(\"Nombre de mots de l'article\")\n",
    "plt.ylabel(\"Nombre d'occurence de homéopathie\")"
   ]
  },
  {
   "cell_type": "code",
   "execution_count": 129,
   "metadata": {},
   "outputs": [],
   "source": [
    "import numpy as np"
   ]
  },
  {
   "cell_type": "code",
   "execution_count": 146,
   "metadata": {},
   "outputs": [],
   "source": [
    "param_droite = np.polyfit(corpus[\"Nombre de mots v2\"],corpus[\"freq-homeo\"],deg=2)"
   ]
  },
  {
   "cell_type": "code",
   "execution_count": 147,
   "metadata": {},
   "outputs": [
    {
     "data": {
      "text/plain": [
       "array([5.43470993e-07, 3.77940283e-03, 1.80703506e+00])"
      ]
     },
     "execution_count": 147,
     "metadata": {},
     "output_type": "execute_result"
    }
   ],
   "source": [
    "param_droite"
   ]
  },
  {
   "cell_type": "code",
   "execution_count": 142,
   "metadata": {},
   "outputs": [],
   "source": [
    "def droite(x,a,b):\n",
    "    y = a*x+b\n",
    "    return y"
   ]
  },
  {
   "cell_type": "code",
   "execution_count": 148,
   "metadata": {},
   "outputs": [],
   "source": [
    "def parabole(x,a,b,c):\n",
    "    y = a*x**2+b*x+c\n",
    "    return y"
   ]
  },
  {
   "cell_type": "code",
   "execution_count": 157,
   "metadata": {},
   "outputs": [
    {
     "data": {
      "text/plain": [
       "[<matplotlib.lines.Line2D at 0x7fa0b53eb518>]"
      ]
     },
     "execution_count": 157,
     "metadata": {},
     "output_type": "execute_result"
    },
    {
     "data": {
      "image/png": "[encoded data removed]",
      "text/plain": [
       "<Figure size 432x288 with 1 Axes>"
      ]
     },
     "metadata": {
      "needs_background": "light"
     },
     "output_type": "display_data"
    }
   ],
   "source": [
    "ax = corpus.plot(kind=\"scatter\", x=\"Nombre de mots\",y=\"freq-homeo\")\n",
    "X = np.linspace(0,10000,1000)\n",
    "ax.plot(X,parabole(X,param_droite[0],param_droite[1],param_droite[2]),\".\",color=\"red\")"
   ]
  },
  {
   "cell_type": "code",
   "execution_count": 151,
   "metadata": {},
   "outputs": [
    {
     "data": {
      "text/plain": [
       "[<matplotlib.lines.Line2D at 0x7fa0b55814e0>]"
      ]
     },
     "execution_count": 151,
     "metadata": {},
     "output_type": "execute_result"
    },
    {
     "data": {
      "image/png": "[encoded data removed]",
      "text/plain": [
       "<Figure size 432x288 with 1 Axes>"
      ]
     },
     "metadata": {
      "needs_background": "light"
     },
     "output_type": "display_data"
    }
   ],
   "source": [
    "ax = corpus.plot(kind=\"scatter\", x=\"Nombre de mots\",y=\"freq-homeo\")\n",
    "ax.plot(corpus[\"Nombre de mots v2\"],parabole(corpus[\"Nombre de mots v2\"],param_droite[0],param_droite[1],param_droite[2]),\"o\")"
   ]
  },
  {
   "cell_type": "code",
   "execution_count": 160,
   "metadata": {},
   "outputs": [],
   "source": [
    "from sklearn.linear_model import LinearRegression"
   ]
  },
  {
   "cell_type": "code",
   "execution_count": 163,
   "metadata": {},
   "outputs": [],
   "source": [
    "modele = LinearRegression()"
   ]
  },
  {
   "cell_type": "code",
   "execution_count": 177,
   "metadata": {},
   "outputs": [
    {
     "data": {
      "text/plain": [
       "LinearRegression(copy_X=True, fit_intercept=True, n_jobs=None,\n",
       "         normalize=False)"
      ]
     },
     "execution_count": 177,
     "metadata": {},
     "output_type": "execute_result"
    }
   ],
   "source": [
    "X = np.array(corpus[\"Nombre de mots v2\"]).reshape((-1, 1))\n",
    "Y = np.array(corpus[\"freq-homeo\"]).reshape((-1, 1))\n",
    "\n",
    "modele.fit(X,Y)"
   ]
  },
  {
   "cell_type": "code",
   "execution_count": 183,
   "metadata": {},
   "outputs": [
    {
     "data": {
      "text/plain": [
       "array([[0.0052074]])"
      ]
     },
     "execution_count": 183,
     "metadata": {},
     "output_type": "execute_result"
    }
   ],
   "source": [
    "modele.coef_"
   ]
  },
  {
   "cell_type": "code",
   "execution_count": 178,
   "metadata": {},
   "outputs": [],
   "source": [
    "Y_pred = modele.predict(X)"
   ]
  },
  {
   "cell_type": "code",
   "execution_count": 179,
   "metadata": {},
   "outputs": [
    {
     "data": {
      "text/plain": [
       "[<matplotlib.lines.Line2D at 0x7fa0b2112198>]"
      ]
     },
     "execution_count": 179,
     "metadata": {},
     "output_type": "execute_result"
    },
    {
     "data": {
      "image/png": "[encoded data removed]",
      "text/plain": [
       "<Figure size 432x288 with 1 Axes>"
      ]
     },
     "metadata": {
      "needs_background": "light"
     },
     "output_type": "display_data"
    }
   ],
   "source": [
    "ax = corpus.plot(kind=\"scatter\", x=\"Nombre de mots\",y=\"freq-homeo\")\n",
    "ax.plot(X,Y_pred)"
   ]
  },
  {
   "cell_type": "markdown",
   "metadata": {},
   "source": [
    "## Aller vers des modèles\n",
    "* Régression linéaire (polyfit, poly1d)\n",
    "* Régression logistique\n",
    "* Classifier des données"
   ]
  }
 ],
 "metadata": {
  "kernelspec": {
   "display_name": "Python 3",
   "language": "python",
   "name": "python3"
  },
  "language_info": {
   "codemirror_mode": {
    "name": "ipython",
    "version": 3
   },
   "file_extension": ".py",
   "mimetype": "text/x-python",
   "name": "python",
   "nbconvert_exporter": "python",
   "pygments_lexer": "ipython3",
   "version": "3.5.6"
  }
 },
 "nbformat": 4,
 "nbformat_minor": 2
}
